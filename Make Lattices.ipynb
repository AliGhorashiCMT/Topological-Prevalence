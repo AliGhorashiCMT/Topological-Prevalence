{
 "cells": [
  {
   "cell_type": "code",
   "execution_count": 2,
   "id": "172865cf",
   "metadata": {},
   "outputs": [],
   "source": [
    "using Crystalline\n",
    "using MPBUtils\n",
    "using Crystalline: TEST_αβγs\n",
    "using Crystalline: TEST_αβγ\n",
    "using Brillouin \n",
    "using Crystalline: dot\n",
    "using Crystalline: norm"
   ]
  },
  {
   "cell_type": "code",
   "execution_count": 4,
   "id": "bab62c96",
   "metadata": {},
   "outputs": [
    {
     "name": "stdout",
     "output_type": "stream",
     "text": [
      "search: \u001b[0m\u001b[1mn\u001b[22m\u001b[0m\u001b[1mo\u001b[22m\u001b[0m\u001b[1mr\u001b[22m\u001b[0m\u001b[1mm\u001b[22m\u001b[0m\u001b[1ms\u001b[22m\u001b[0m\u001b[1mc\u001b[22m\u001b[0m\u001b[1ma\u001b[22m\u001b[0m\u001b[1ml\u001b[22m\u001b[0m\u001b[1me\u001b[22m\u001b[0m\u001b[1m!\u001b[22m \u001b[0m\u001b[1mn\u001b[22m\u001b[0m\u001b[1mo\u001b[22m\u001b[0m\u001b[1mr\u001b[22m\u001b[0m\u001b[1mm\u001b[22m\u001b[0m\u001b[1ms\u001b[22m\u001b[0m\u001b[1mc\u001b[22m\u001b[0m\u001b[1ma\u001b[22m\u001b[0m\u001b[1ml\u001b[22m\u001b[0m\u001b[1me\u001b[22m\n",
      "\n"
     ]
    },
    {
     "data": {
      "text/latex": [
       "\\begin{verbatim}\n",
       "normscale!(flat::ModulatedFourierLattice, expon::Real, Gs::Union{ReciprocalBasis, Nothing} = nothing) --> ModulatedFourierLattice\n",
       "\\end{verbatim}\n",
       "In-place equivalent of \\texttt{normscale}: changes \\texttt{flat}.\n",
       "\n"
      ],
      "text/markdown": [
       "```\n",
       "normscale!(flat::ModulatedFourierLattice, expon::Real, Gs::Union{ReciprocalBasis, Nothing} = nothing) --> ModulatedFourierLattice\n",
       "```\n",
       "\n",
       "In-place equivalent of `normscale`: changes `flat`.\n"
      ],
      "text/plain": [
       "\u001b[36m  normscale!(flat::ModulatedFourierLattice, expon::Real, Gs::Union{ReciprocalBasis, Nothing} = nothing) --> ModulatedFourierLattice\u001b[39m\n",
       "\n",
       "  In-place equivalent of \u001b[36mnormscale\u001b[39m: changes \u001b[36mflat\u001b[39m."
      ]
     },
     "execution_count": 4,
     "metadata": {},
     "output_type": "execute_result"
    }
   ],
   "source": [
    "?normscale!"
   ]
  },
  {
   "cell_type": "code",
   "execution_count": 1,
   "id": "8db81087",
   "metadata": {},
   "outputs": [],
   "source": [
    "using Pkg; \n",
    "Pkg.activate(\"/home/gridsan/aligho/Github_Projects/Crystalline.jl\")"
   ]
  },
  {
   "cell_type": "code",
   "execution_count": 3,
   "id": "646bf53d",
   "metadata": {},
   "outputs": [
    {
     "data": {
      "text/plain": [
       "has_inversion (generic function with 1 method)"
      ]
     },
     "execution_count": 3,
     "metadata": {},
     "output_type": "execute_result"
    }
   ],
   "source": [
    "write_dir = (@__DIR__)\n",
    "if !isdefined(Main, :INVERSION_PLANEGROUPS)\n",
    "    const INVERSION_PLANEGROUPS = Bool[0, 1, 0, 0, 0, 1, 1, 1, 1, 1, 1, 1, 0, 0, 0, 1, 1]\n",
    "end\n",
    "has_inversion(sgnum) = INVERSION_PLANEGROUPS[sgnum]\n"
   ]
  },
  {
   "cell_type": "code",
   "execution_count": 4,
   "id": "d8049098",
   "metadata": {},
   "outputs": [
    {
     "data": {
      "text/plain": [
       "my_normscale! (generic function with 1 method)"
      ]
     },
     "execution_count": 4,
     "metadata": {},
     "output_type": "execute_result"
    }
   ],
   "source": [
    "# Code from before normscale was introduced into Crystalline\n",
    "function my_normscale!(flat::ModulatedFourierLattice, expon::Real, Gs::ReciprocalBasis{D}) where D\n",
    "    if !iszero(expon)\n",
    "        orbits = getorbits(flat)\n",
    "        @inbounds for i in eachindex(orbits)\n",
    "            rescale_factor = norm(sum(Gs.*first(orbits[i])))^expon\n",
    "            rescale_factor == zero(rescale_factor) && continue # for G = [0,0,0] case\n",
    "            flat.orbitcoefs[i] ./= rescale_factor\n",
    "        end\n",
    "    end\n",
    "    return flat\n",
    "end"
   ]
  },
  {
   "cell_type": "code",
   "execution_count": 5,
   "id": "f0b914e0",
   "metadata": {},
   "outputs": [
    {
     "data": {
      "text/plain": [
       "2-element ReciprocalBasis{2} with indices SOneTo(2):\n",
       " [6.283185307179586, 3.6275987284684335]\n",
       " [-0.0, 7.2551974569368705]"
      ]
     },
     "execution_count": 5,
     "metadata": {},
     "output_type": "execute_result"
    }
   ],
   "source": [
    "Gs = reciprocalbasis(directbasis(17, 2))"
   ]
  },
  {
   "cell_type": "code",
   "execution_count": 6,
   "id": "8a56f5a8",
   "metadata": {},
   "outputs": [
    {
     "data": {
      "text/plain": [
       "make_planegroup_lattice (generic function with 1 method)"
      ]
     },
     "execution_count": 6,
     "metadata": {},
     "output_type": "execute_result"
    }
   ],
   "source": [
    "function make_planegroup_lattice(sgnum, ::Val{D}, cntr::Char, Gs::ReciprocalBasis{D};\n",
    "                maxGs=ntuple(_->6, Val(D)), expon::Real=1.25) where D\n",
    "    flat = my_normscale!(modulate(levelsetlattice(sgnum, D, maxGs)), expon, Gs)\n",
    "    deleteat!(flat.orbits, 1), deleteat!(flat.orbitcoefs, 1) # trivial constant G=0 term\n",
    "    map!(flat.orbitcoefs, flat.orbitcoefs) do coefs\n",
    "        if has_inversion(sgnum)\n",
    "            map!(x -> round(real(x), digits=4), coefs, coefs)\n",
    "        else\n",
    "            map!(x -> round(x, digits=4), coefs, coefs) \n",
    "        end\n",
    "    end\n",
    "    pflat = primitivize(flat, cntr)\n",
    "    return pflat\n",
    "end "
   ]
  },
  {
   "cell_type": "code",
   "execution_count": null,
   "id": "0010dbcd",
   "metadata": {
    "scrolled": true
   },
   "outputs": [
    {
     "name": "stdout",
     "output_type": "stream",
     "text": [
      "2\n",
      "10\n",
      "20\n",
      "30\n",
      "40\n",
      "50\n",
      "60\n",
      "70\n",
      "80\n"
     ]
    }
   ],
   "source": [
    "D=2\n",
    "epsout = 1.0\n",
    "has_tr = true; res = 64; nbands = 40; interpolatekvs = 10\n",
    "write_to_file = true \n",
    "\n",
    "sgnums = [2, 6, 9, 10, 11, 12, 13, 14, 15, 16, 17]  # Only look at three spacegroups- ones with nontrivial stable topology\n",
    "for sgnum in sgnums\n",
    "    println(sgnum)\n",
    "    cntr = centering(sgnum, D)\n",
    "    brs  = bandreps(sgnum, D, timereversal=has_tr)\n",
    "    lgs  = Crystalline.matching_littlegroups(brs, Val(D))\n",
    "    plgs = primitivize.(lgs, #=modw=# false)\n",
    "    kvs = brs.kvs\n",
    "    converted_kvs = [convert(Vector{Real}, kv(TEST_αβγs[2])) for kv in kvs]\n",
    "    ids = 1:1000\n",
    "    for id in ids\n",
    "        (iszero(id%10) &&  println(id))\n",
    "        Rs = directbasis(sgnum, Val(D))\n",
    "        Gs = reciprocalbasis(Rs)\n",
    "        #println(Gs)\n",
    "        pRs = primitivize(Rs, cntr)\n",
    "        kpaths = interpolate(irrfbz_path(sgnum, pRs, 2), 30).kpaths\n",
    "        allkpaths = Vector{Vector{Float64}}()\n",
    "        for kpath in kpaths\n",
    "            for k in kpath\n",
    "                push!(allkpaths, k)\n",
    "            end\n",
    "        end\n",
    "        pflat = make_planegroup_lattice(sgnum, Val(D), cntr, Gs)\n",
    "        \n",
    "        filling = rand(0.25:0.05:0.75)\n",
    "        \n",
    "        for (dielectric_enum, epsin) in enumerate((16))#enumerate((8, 12, 16))\n",
    "            for runtype in [\"te\", \"tm\"]\n",
    "                filename = mpb_calcname(D, sgnum, id, res, runtype)\n",
    "                filepath_dispersion = joinpath(write_dir, \"dispersions/input/\"*filename*\".sh\")\n",
    "                filepath_symeig = joinpath(write_dir, \"symeigs/input/\"*filename*\".sh\")\n",
    "                write_to_file || continue\n",
    "                open(filepath_dispersion, \"w\") do io\n",
    "                    prepare_mpbcalc!(io, sgnum, pflat, pRs, filling, epsin, epsout, runtype; #Test that what we're giving to prepare_mpbcalc! is correct\n",
    "                                        res=res, kvecs=allkpaths, id = id, nbands=nbands)\n",
    "                    αβγ = length(TEST_αβγ) == D ? TEST_αβγ : TEST_αβγ[1:D]\t\n",
    "                    test_kvs = (map(lg->kvec(lg)(αβγ), lgs))\n",
    "                end\n",
    "                open(filepath_symeig, \"w\") do io\n",
    "                    prepare_mpbcalc!(io, sgnum, pflat, pRs, filling, epsin, epsout, runtype;\n",
    "                                        res=res, lgs=plgs, id = id, nbands=nbands)\n",
    "                    αβγ = length(TEST_αβγ) == D ? TEST_αβγ : TEST_αβγ[1:D]\t\n",
    "                    test_kvs = (map(lg->kvec(lg)(αβγ), lgs))\n",
    "                end\n",
    "            end\n",
    "        end\n",
    "    end\n",
    "end"
   ]
  },
  {
   "cell_type": "code",
   "execution_count": 11,
   "id": "195255af",
   "metadata": {},
   "outputs": [
    {
     "ename": "LoadError",
     "evalue": "UndefVarError: sgnum not defined",
     "output_type": "error",
     "traceback": [
      "UndefVarError: sgnum not defined",
      "",
      "Stacktrace:",
      " [1] top-level scope",
      "   @ In[11]:6",
      " [2] eval",
      "   @ ./boot.jl:360 [inlined]",
      " [3] include_string(mapexpr::typeof(REPL.softscope), mod::Module, code::String, filename::String)",
      "   @ Base ./loading.jl:1094"
     ]
    }
   ],
   "source": [
    "D=2\n",
    "epsout = 1.0\n",
    "has_tr = true; res = 64; nbands = 40; interpolatekvs = 10\n",
    "write_to_file = true \n",
    "\n",
    "cntr = centering(sgnum, D)\n",
    "brs  = bandreps(sgnum, D, timereversal=has_tr)\n",
    "lgs  = Crystalline.matching_littlegroups(brs, Val(D))\n",
    "plgs = primitivize.(lgs, #=modw=# false)\n",
    "kvs = brs.kvs\n",
    "converted_kvs = [convert(Vector{Real}, kv(TEST_αβγs[2])) for kv in kvs]\n",
    "ids = 1:1000\n",
    "for id in ids\n",
    "    (iszero(id%10) &&  println(id))\n",
    "    Rs = directbasis(sgnum, Val(D))\n",
    "    Gs = reciprocalbasis(Rs)\n",
    "    #println(Gs)\n",
    "    pRs = primitivize(Rs, cntr)\n",
    "    kpaths = interpolate(irrfbz_path(sgnum, pRs, 2), 30).kpaths\n",
    "    allkpaths = Vector{Vector{Float64}}()\n",
    "    for kpath in kpaths\n",
    "        for k in kpath\n",
    "            push!(allkpaths, k)\n",
    "        end\n",
    "    end\n",
    "    pflat = make_planegroup_lattice(sgnum, Val(D), cntr, Gs)\n",
    "\n",
    "    filling = rand(0.25:0.05:0.75)\n",
    "\n",
    "    for (dielectric_enum, epsin) in enumerate((8, 12, 16))\n",
    "        for runtype in [\"te\", \"tm\"]\n",
    "            filename = mpb_calcname(D, sgnum, id, res, runtype)\n",
    "            filepath_dispersion = joinpath(write_dir, \"dispersions/input/\"*filename*\".sh\")\n",
    "            filepath_symeig = joinpath(write_dir, \"symeigs/input/\"*filename*\".sh\")\n",
    "            write_to_file || continue\n",
    "            open(filepath_dispersion, \"w\") do io\n",
    "                prepare_mpbcalc!(io, sgnum, pflat, pRs, filling, epsin, epsout, runtype; #Test that what we're giving to prepare_mpbcalc! is correct\n",
    "                                    res=res, kvecs=allkpaths, id = id + (dielectric_enum-1)*1000, nbands=nbands)\n",
    "                αβγ = length(TEST_αβγ) == D ? TEST_αβγ : TEST_αβγ[1:D]\t\n",
    "                test_kvs = (map(lg->kvec(lg)(αβγ), lgs))\n",
    "            end\n",
    "            open(filepath_symeig, \"w\") do io\n",
    "                prepare_mpbcalc!(io, sgnum, pflat, pRs, filling, epsin, epsout, runtype;\n",
    "                                    res=res, lgs=plgs, id = id + (dielectric_enum-1)*1000, nbands=nbands)\n",
    "                αβγ = length(TEST_αβγ) == D ? TEST_αβγ : TEST_αβγ[1:D]\t\n",
    "                test_kvs = (map(lg->kvec(lg)(αβγ), lgs))\n",
    "            end\n",
    "        end\n",
    "    end\n",
    "end\n"
   ]
  },
  {
   "cell_type": "code",
   "execution_count": 5,
   "id": "b190e8af",
   "metadata": {},
   "outputs": [
    {
     "name": "stdout",
     "output_type": "stream",
     "text": [
      "search: \u001b[0m\u001b[1mp\u001b[22m\u001b[0m\u001b[1mr\u001b[22m\u001b[0m\u001b[1me\u001b[22m\u001b[0m\u001b[1mp\u001b[22m\u001b[0m\u001b[1ma\u001b[22m\u001b[0m\u001b[1mr\u001b[22m\u001b[0m\u001b[1me\u001b[22m\u001b[0m\u001b[1m_\u001b[22m\u001b[0m\u001b[1mm\u001b[22m\u001b[0m\u001b[1mp\u001b[22m\u001b[0m\u001b[1mb\u001b[22m\u001b[0m\u001b[1mc\u001b[22m\u001b[0m\u001b[1ma\u001b[22m\u001b[0m\u001b[1ml\u001b[22m\u001b[0m\u001b[1mc\u001b[22m\u001b[0m\u001b[1m!\u001b[22m \u001b[0m\u001b[1mp\u001b[22m\u001b[0m\u001b[1mr\u001b[22m\u001b[0m\u001b[1me\u001b[22m\u001b[0m\u001b[1mp\u001b[22m\u001b[0m\u001b[1ma\u001b[22m\u001b[0m\u001b[1mr\u001b[22m\u001b[0m\u001b[1me\u001b[22m\u001b[0m\u001b[1m_\u001b[22m\u001b[0m\u001b[1mm\u001b[22m\u001b[0m\u001b[1mp\u001b[22m\u001b[0m\u001b[1mb\u001b[22m\u001b[0m\u001b[1mc\u001b[22m\u001b[0m\u001b[1ma\u001b[22m\u001b[0m\u001b[1ml\u001b[22m\u001b[0m\u001b[1mc\u001b[22m\n",
      "\n"
     ]
    },
    {
     "data": {
      "text/latex": [
       "\\begin{verbatim}\n",
       "prepare_mpbcalc!(...)\n",
       "\\end{verbatim}\n",
       "Formats a set of parameters that uniquely specify an MPB calculation, given a  space group number \\texttt{sgnum}, a Fourier lattice \\texttt{flat}, a DirectBasis \\texttt{Rs}, a filling fraction \\texttt{filling} for \\texttt{flat}, interior and exterior (above, below the contour) permittivities \\texttt{εin} and \\texttt{εout}, as well as a list of k-vectors \\texttt{kvecs}, an  identifying tag \\texttt{id} (to label the calculation for book-keeping purposes), a  resolution for the MPB calculation \\texttt{res}, and a selection of calculation type \\texttt{runtype} (\"all\", \"te\", or \"tm\"). The results are written to requested IO \\texttt{io}.\n",
       "\n",
       "Our preferred choice is to write these parameters to a bash file, with a name generated by the \\texttt{mpb\\_calcname(...)} method.\n",
       "\n",
       "The options are expected to be fed to the \\texttt{fourier-lattice.ctl} file, e.g. through a bash script of the following kind:\n",
       "\n",
       "\\begin{verbatim}\n",
       "    IFS=$'\\n'; # stop command-substitutions from word-splitting at space\n",
       "\n",
       "    PATH_TO_MPB_EXECUTABLE \\\n",
       "        (cat ${calcname}.sh)\n",
       "        ctl/fourier-lattice.ctl 2>&1 | tee logs/${calcname}.log\n",
       "        \n",
       "    unset IFS; # restore usual command-substitution word-splitting practice\n",
       "\\end{verbatim}\n",
       "where \\texttt{PATH\\_TO\\_MPB\\_EXECUTABLE} is the path to the MPB executable. Locally, in \\texttt{mpb-ctl} we have a file \\texttt{run-fourier-lattice.sh} which performs the  above, with \\texttt{calcname} specified as an input parameter (assumed to be a subfolder \\texttt{/input/}).\n",
       "\n"
      ],
      "text/markdown": [
       "```\n",
       "prepare_mpbcalc!(...)\n",
       "```\n",
       "\n",
       "Formats a set of parameters that uniquely specify an MPB calculation, given a  space group number `sgnum`, a Fourier lattice `flat`, a DirectBasis `Rs`, a filling fraction `filling` for `flat`, interior and exterior (above, below the contour) permittivities `εin` and `εout`, as well as a list of k-vectors `kvecs`, an  identifying tag `id` (to label the calculation for book-keeping purposes), a  resolution for the MPB calculation `res`, and a selection of calculation type `runtype` (\"all\", \"te\", or \"tm\"). The results are written to requested IO `io`.\n",
       "\n",
       "Our preferred choice is to write these parameters to a bash file, with a name generated by the `mpb_calcname(...)` method.\n",
       "\n",
       "The options are expected to be fed to the `fourier-lattice.ctl` file, e.g. through a bash script of the following kind:\n",
       "\n",
       "```sh\n",
       "    IFS=$'\\n'; # stop command-substitutions from word-splitting at space\n",
       "\n",
       "    PATH_TO_MPB_EXECUTABLE \\\n",
       "        (cat ${calcname}.sh)\n",
       "        ctl/fourier-lattice.ctl 2>&1 | tee logs/${calcname}.log\n",
       "        \n",
       "    unset IFS; # restore usual command-substitution word-splitting practice\n",
       "```\n",
       "\n",
       "where `PATH_TO_MPB_EXECUTABLE` is the path to the MPB executable. Locally, in `mpb-ctl` we have a file `run-fourier-lattice.sh` which performs the  above, with `calcname` specified as an input parameter (assumed to be a subfolder `/input/`).\n"
      ],
      "text/plain": [
       "\u001b[36m  prepare_mpbcalc!(...)\u001b[39m\n",
       "\n",
       "  Formats a set of parameters that uniquely specify an MPB calculation, given\n",
       "  a space group number \u001b[36msgnum\u001b[39m, a Fourier lattice \u001b[36mflat\u001b[39m, a DirectBasis \u001b[36mRs\u001b[39m, a\n",
       "  filling fraction \u001b[36mfilling\u001b[39m for \u001b[36mflat\u001b[39m, interior and exterior (above, below the\n",
       "  contour) permittivities \u001b[36mεin\u001b[39m and \u001b[36mεout\u001b[39m, as well as a list of k-vectors \u001b[36mkvecs\u001b[39m,\n",
       "  an identifying tag \u001b[36mid\u001b[39m (to label the calculation for book-keeping purposes),\n",
       "  a resolution for the MPB calculation \u001b[36mres\u001b[39m, and a selection of calculation\n",
       "  type \u001b[36mruntype\u001b[39m (\"all\", \"te\", or \"tm\"). The results are written to requested IO\n",
       "  \u001b[36mio\u001b[39m.\n",
       "\n",
       "  Our preferred choice is to write these parameters to a bash file, with a\n",
       "  name generated by the \u001b[36mmpb_calcname(...)\u001b[39m method.\n",
       "\n",
       "  The options are expected to be fed to the \u001b[36mfourier-lattice.ctl\u001b[39m file, e.g.\n",
       "  through a bash script of the following kind:\n",
       "\n",
       "\u001b[36m      IFS=$'\\n'; # stop command-substitutions from word-splitting at space\u001b[39m\n",
       "\u001b[36m  \u001b[39m\n",
       "\u001b[36m      PATH_TO_MPB_EXECUTABLE \\\u001b[39m\n",
       "\u001b[36m          (cat ${calcname}.sh)\u001b[39m\n",
       "\u001b[36m          ctl/fourier-lattice.ctl 2>&1 | tee logs/${calcname}.log\u001b[39m\n",
       "\u001b[36m          \u001b[39m\n",
       "\u001b[36m      unset IFS; # restore usual command-substitution word-splitting practice\u001b[39m\n",
       "\n",
       "  where \u001b[36mPATH_TO_MPB_EXECUTABLE\u001b[39m is the path to the MPB executable. Locally, in\n",
       "  \u001b[36mmpb-ctl\u001b[39m we have a file \u001b[36mrun-fourier-lattice.sh\u001b[39m which performs the above, with\n",
       "  \u001b[36mcalcname\u001b[39m specified as an input parameter (assumed to be a subfolder\n",
       "  \u001b[36m/input/\u001b[39m)."
      ]
     },
     "execution_count": 5,
     "metadata": {},
     "output_type": "execute_result"
    }
   ],
   "source": [
    "?prepare_mpbcalc!"
   ]
  },
  {
   "cell_type": "code",
   "execution_count": 10,
   "id": "403f60a0",
   "metadata": {},
   "outputs": [
    {
     "data": {
      "text/html": [
       "# 5 methods for generic function <b>prepare_mpbcalc!</b>:<ul><li> prepare_mpbcalc!(io::<b>IO</b>, sgnum::<b>Integer</b>, flat::<b>Crystalline.AbstractFourierLattice{D}</b>, Rs::<b>AbstractVector{var\"#s13\"} where var\"#s13\"<:(AbstractVector{T} where T)</b>)<i> where D</i> in MPBUtils at <a href=\"file:///home/gridsan/aligho/.julia/packages/MPBUtils/64Wit/src/export2mpb.jl\" target=\"_blank\">/home/gridsan/aligho/.julia/packages/MPBUtils/64Wit/src/export2mpb.jl:107</a></li> <li> prepare_mpbcalc!(io::<b>IO</b>, sgnum::<b>Integer</b>, flat::<b>Crystalline.AbstractFourierLattice{D}</b>, Rs::<b>AbstractVector{var\"#s14\"} where var\"#s14\"<:(AbstractVector{T} where T)</b>, filling::<b>Union{Nothing, Real}</b>)<i> where D</i> in MPBUtils at <a href=\"file:///home/gridsan/aligho/.julia/packages/MPBUtils/64Wit/src/export2mpb.jl\" target=\"_blank\">/home/gridsan/aligho/.julia/packages/MPBUtils/64Wit/src/export2mpb.jl:107</a></li> <li> prepare_mpbcalc!(io::<b>IO</b>, sgnum::<b>Integer</b>, flat::<b>Crystalline.AbstractFourierLattice{D}</b>, Rs::<b>AbstractVector{var\"#s15\"} where var\"#s15\"<:(AbstractVector{T} where T)</b>, filling::<b>Union{Nothing, Real}</b>, εin::<b>Real</b>)<i> where D</i> in MPBUtils at <a href=\"file:///home/gridsan/aligho/.julia/packages/MPBUtils/64Wit/src/export2mpb.jl\" target=\"_blank\">/home/gridsan/aligho/.julia/packages/MPBUtils/64Wit/src/export2mpb.jl:107</a></li> <li> prepare_mpbcalc!(io::<b>IO</b>, sgnum::<b>Integer</b>, flat::<b>Crystalline.AbstractFourierLattice{D}</b>, Rs::<b>AbstractVector{var\"#s16\"} where var\"#s16\"<:(AbstractVector{T} where T)</b>, filling::<b>Union{Nothing, Real}</b>, εin::<b>Real</b>, εout::<b>Real</b>)<i> where D</i> in MPBUtils at <a href=\"file:///home/gridsan/aligho/.julia/packages/MPBUtils/64Wit/src/export2mpb.jl\" target=\"_blank\">/home/gridsan/aligho/.julia/packages/MPBUtils/64Wit/src/export2mpb.jl:107</a></li> <li> prepare_mpbcalc!(io::<b>IO</b>, sgnum::<b>Integer</b>, flat::<b>Crystalline.AbstractFourierLattice{D}</b>, Rs::<b>AbstractVector{var\"#s17\"} where var\"#s17\"<:(AbstractVector{T} where T)</b>, filling::<b>Union{Nothing, Real}</b>, εin::<b>Real</b>, εout::<b>Real</b>, runtype::<b>String</b>; <i>id, res, kvecs, lgs, nbands, isoval</i>)<i> where D</i> in MPBUtils at <a href=\"file:///home/gridsan/aligho/.julia/packages/MPBUtils/64Wit/src/export2mpb.jl\" target=\"_blank\">/home/gridsan/aligho/.julia/packages/MPBUtils/64Wit/src/export2mpb.jl:107</a></li> </ul>"
      ],
      "text/plain": [
       "# 5 methods for generic function \"prepare_mpbcalc!\":\n",
       "[1] prepare_mpbcalc!(io::IO, sgnum::Integer, flat::Crystalline.AbstractFourierLattice{D}, Rs::AbstractVector{var\"#s13\"} where var\"#s13\"<:(AbstractVector{T} where T)) where D in MPBUtils at /home/gridsan/aligho/.julia/packages/MPBUtils/64Wit/src/export2mpb.jl:107\n",
       "[2] prepare_mpbcalc!(io::IO, sgnum::Integer, flat::Crystalline.AbstractFourierLattice{D}, Rs::AbstractVector{var\"#s14\"} where var\"#s14\"<:(AbstractVector{T} where T), filling::Union{Nothing, Real}) where D in MPBUtils at /home/gridsan/aligho/.julia/packages/MPBUtils/64Wit/src/export2mpb.jl:107\n",
       "[3] prepare_mpbcalc!(io::IO, sgnum::Integer, flat::Crystalline.AbstractFourierLattice{D}, Rs::AbstractVector{var\"#s15\"} where var\"#s15\"<:(AbstractVector{T} where T), filling::Union{Nothing, Real}, εin::Real) where D in MPBUtils at /home/gridsan/aligho/.julia/packages/MPBUtils/64Wit/src/export2mpb.jl:107\n",
       "[4] prepare_mpbcalc!(io::IO, sgnum::Integer, flat::Crystalline.AbstractFourierLattice{D}, Rs::AbstractVector{var\"#s16\"} where var\"#s16\"<:(AbstractVector{T} where T), filling::Union{Nothing, Real}, εin::Real, εout::Real) where D in MPBUtils at /home/gridsan/aligho/.julia/packages/MPBUtils/64Wit/src/export2mpb.jl:107\n",
       "[5] prepare_mpbcalc!(io::IO, sgnum::Integer, flat::Crystalline.AbstractFourierLattice{D}, Rs::AbstractVector{var\"#s17\"} where var\"#s17\"<:(AbstractVector{T} where T), filling::Union{Nothing, Real}, εin::Real, εout::Real, runtype::String; id, res, kvecs, lgs, nbands, isoval) where D in MPBUtils at /home/gridsan/aligho/.julia/packages/MPBUtils/64Wit/src/export2mpb.jl:107"
      ]
     },
     "execution_count": 10,
     "metadata": {},
     "output_type": "execute_result"
    }
   ],
   "source": [
    "methods(prepare_mpbcalc!)"
   ]
  },
  {
   "cell_type": "code",
   "execution_count": 1,
   "id": "42670734",
   "metadata": {},
   "outputs": [
    {
     "data": {
      "text/plain": [
       "1×2 transpose(::Vector{Int64}) with eltype Int64:\n",
       " 0  1"
      ]
     },
     "execution_count": 1,
     "metadata": {},
     "output_type": "execute_result"
    }
   ],
   "source": [
    "transpose([0, 1])"
   ]
  },
  {
   "cell_type": "code",
   "execution_count": 2,
   "id": "c2d49d33",
   "metadata": {},
   "outputs": [
    {
     "data": {
      "text/plain": [
       "1×2 Matrix{Int64}:\n",
       " 0  1"
      ]
     },
     "execution_count": 2,
     "metadata": {},
     "output_type": "execute_result"
    }
   ],
   "source": [
    "norm(first(orbits[i])'*Gs)"
   ]
  },
  {
   "cell_type": "code",
   "execution_count": null,
   "id": "84efb38f",
   "metadata": {},
   "outputs": [],
   "source": []
  }
 ],
 "metadata": {
  "kernelspec": {
   "display_name": "Julia MyKernel 1.6.1",
   "language": "julia",
   "name": "julia-mykernel-1.6"
  },
  "language_info": {
   "file_extension": ".jl",
   "mimetype": "application/julia",
   "name": "julia",
   "version": "1.6.1"
  },
  "latex_envs": {
   "LaTeX_envs_menu_present": true,
   "autoclose": false,
   "autocomplete": true,
   "bibliofile": "biblio.bib",
   "cite_by": "apalike",
   "current_citInitial": 1,
   "eqLabelWithNumbers": true,
   "eqNumInitial": 1,
   "hotkeys": {
    "equation": "Ctrl-E",
    "itemize": "Ctrl-I"
   },
   "labels_anchors": false,
   "latex_user_defs": false,
   "report_style_numbering": false,
   "user_envs_cfg": false
  },
  "toc": {
   "base_numbering": 1,
   "nav_menu": {},
   "number_sections": true,
   "sideBar": true,
   "skip_h1_title": false,
   "title_cell": "Table of Contents",
   "title_sidebar": "Contents",
   "toc_cell": false,
   "toc_position": {},
   "toc_section_display": true,
   "toc_window_display": false
  },
  "varInspector": {
   "cols": {
    "lenName": 16,
    "lenType": 16,
    "lenVar": 40
   },
   "kernels_config": {
    "python": {
     "delete_cmd_postfix": "",
     "delete_cmd_prefix": "del ",
     "library": "var_list.py",
     "varRefreshCmd": "print(var_dic_list())"
    },
    "r": {
     "delete_cmd_postfix": ") ",
     "delete_cmd_prefix": "rm(",
     "library": "var_list.r",
     "varRefreshCmd": "cat(var_dic_list()) "
    }
   },
   "types_to_exclude": [
    "module",
    "function",
    "builtin_function_or_method",
    "instance",
    "_Feature"
   ],
   "window_display": false
  }
 },
 "nbformat": 4,
 "nbformat_minor": 5
}
