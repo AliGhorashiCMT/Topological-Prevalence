{
 "cells": [
  {
   "cell_type": "code",
   "execution_count": 1,
   "id": "55218ca8",
   "metadata": {},
   "outputs": [
    {
     "data": {
      "text/plain": [
       "\"/home/gridsan/aligho/.local/lib/python3.8/site-packages/PyNormaliz-2.15-py3.8-linux-x86_64.egg/\""
      ]
     },
     "execution_count": 1,
     "metadata": {},
     "output_type": "execute_result"
    }
   ],
   "source": [
    "ENV[\"PYTHONPATH\"]=\"/home/gridsan/aligho/.local/lib/python3.8/site-packages/PyNormaliz-2.15-py3.8-linux-x86_64.egg/\""
   ]
  },
  {
   "cell_type": "code",
   "execution_count": 1,
   "id": "cd83d8df",
   "metadata": {},
   "outputs": [
    {
     "name": "stdout",
     "output_type": "stream",
     "text": [
      "1.7.2\n"
     ]
    }
   ],
   "source": [
    "println(VERSION)"
   ]
  },
  {
   "cell_type": "code",
   "execution_count": 2,
   "id": "8ef1fbbb",
   "metadata": {},
   "outputs": [],
   "source": [
    "using HDF5"
   ]
  },
  {
   "cell_type": "code",
   "execution_count": 2,
   "id": "7f717a56",
   "metadata": {},
   "outputs": [
    {
     "data": {
      "text/plain": [
       "analyze_symmetry_data (generic function with 1 method)"
      ]
     },
     "execution_count": 2,
     "metadata": {},
     "output_type": "execute_result"
    }
   ],
   "source": [
    "analyze_symmetry_data"
   ]
  },
  {
   "cell_type": "code",
   "execution_count": 35,
   "id": "96ada2cf",
   "metadata": {},
   "outputs": [],
   "source": [
    "using Crystalline, MPBUtils, SymmetryBases, PyPlot, LinearAlgebra\n",
    "using MPBUtils: parse_sgnum, parse_dim\n"
   ]
  },
  {
   "cell_type": "code",
   "execution_count": 4,
   "id": "54d5b571",
   "metadata": {},
   "outputs": [
    {
     "data": {
      "text/plain": [
       "label_topology_and_hoti (generic function with 1 method)"
      ]
     },
     "execution_count": 4,
     "metadata": {},
     "output_type": "execute_result"
    }
   ],
   "source": [
    "function findpolarizations(calcname::AbstractString, bands::UnitRange{Int64}=1:1, dir=\"./\")\n",
    "    #=readlines(dir*calcname*\"-symeigs.out\")\n",
    "    symeigs = readdlm(dir*calcname*\"-symeigs.out\", ',')\n",
    "    [round.(real.(parse.(ComplexF64, symeig[3:end]))) for symeig in eachrow(symeigs)]\n",
    "    #readlines(dir*calcname*\"-dispersion.out\")\n",
    "    #readdlm(dir*calcname*\"-dispersion.out\", ',')\n",
    "    #kvs = KVec.([a[2:3] for a in eachrow(readdlm(dir*calcname*\"-dispersion.out\", ','))])\n",
    "    =#\n",
    "    println(\"Supplied space group is: \", parse_sgnum(calcname))\n",
    "    mults = extract_multiplicities(dir*calcname, bands)\n",
    "    if parse_sgnum(calcname) == 2\n",
    "        Y₁ = round(Integer, mults[\"Y\"][1])\n",
    "        Γ₁ = round(Integer, mults[\"Γ\"][1])\n",
    "        A₁ = round(Integer, mults[\"A\"][1])\n",
    "        B₁ = round(Integer, mults[\"B\"][1])\n",
    "    # P₁₂ = mod(X₁ - Γ₁ - Γ₂, 2)//2\n",
    "        return [mod(Y₁-Γ₁ + A₁-Γ₁, 2), mod(B₁-Γ₁ + A₁-Γ₁, 2)]\n",
    "    elseif parse_sgnum(calcname) == 10\n",
    "        X₁ = round(Integer, mults[\"X\"][1])\n",
    "        Γ₁ = round(Integer, mults[\"Γ\"][1])\n",
    "        Γ₂ = round(Integer, mults[\"Γ\"][2])\n",
    "        P₁₂ = mod(X₁ - Γ₁ - Γ₂, 2)\n",
    "        return [P₁₂, P₁₂]    \n",
    "    elseif parse_sgnum(calcname) == 16\n",
    "        return 0, 0\n",
    "    else \n",
    "        throw(DomainError(parse_sgnum(calcname), \"Not a topological spacegroup\"))\n",
    "    end\n",
    "end\n",
    "\n",
    "function findcharges(calcname::AbstractString, bands::UnitRange{Int64}=1:1, dir=\"./\")\n",
    "    mults = extract_multiplicities(dir*calcname, bands)\n",
    "    sgnum = parse_sgnum(calcname) == 2\n",
    "    if sgnum == 2 \n",
    "        Y₁ = round(Integer, mults[\"Y\"][1])\n",
    "        Γ₁ = round(Integer, mults[\"Γ\"][1])\n",
    "        A₁ = round(Integer, mults[\"A\"][1])\n",
    "        B₁ = round(Integer, mults[\"B\"][1])\n",
    "        mod((B₁-Γ₁) - (Y₁-Γ₁) + (A₁-Γ₁), 2)\n",
    "    elseif sgnum == 10\n",
    "        X₁ = round(Integer, mults[\"X\"][1])\n",
    "        Γ₁ = round(Integer, mults[\"Γ\"][1])\n",
    "        Γ₂ = round(Integer, mults[\"Γ\"][2])\n",
    "        mod((X₁-Γ₁-Γ₂) + 2(M₁-Γ₁) + 3(M₃-Γ₃Γ₄), 4)\n",
    "\n",
    "    elseif sgnum == 16\n",
    "\n",
    "    else\n",
    "        throw(DomainError(sgnum, \"Not a topological spacegroup\"))\n",
    "    end\n",
    "end\n",
    "\n",
    "function topologicalsgs()\n",
    "    pgnums = (2, 6, 10)\n",
    "    for pgnum in pgnums\n",
    "        lgirsd = get_lgirreps(pgnum, 2)\n",
    "        pgnum_kvecs = filter(isspecial, kvec.(group.(first.([lgir for (klab, lgir) in lgirsd ]))))\n",
    "        println(\"Plane group \", pgnum)\n",
    "        println(\"   \", pgnum_kvecs)\n",
    "    end\n",
    "end\n",
    "\n",
    "function bulk_polarization_pg2(n::Vector{<:Integer}, irlabs::Vector{<:AbstractString}) # plane group 2\n",
    "    Y₁, Γ₁, A₁, B₁ = get_mult.(Ref(n), Ref(irlabs), [\"Y₁\", \"Γ₁\", \"A₁\", \"B₁\"])\n",
    "    return [mod(Y₁-Γ₁ + A₁-Γ₁, 2)//2, mod(B₁-Γ₁ + A₁-Γ₁, 2)//2]\n",
    "end\n",
    "\n",
    "function bulk_polarization_pg10(n::Vector{<:Integer}, irlabs::Vector{<:AbstractString}) # plane group 10\n",
    "    X₁, Γ₁, Γ₂ = get_mult.(Ref(n), Ref(irlabs), [\"X₁\", \"Γ₁\", \"Γ₂\"])\n",
    "    P₁₂ = mod(X₁ - Γ₁ - Γ₂, 2)//2\n",
    "    return [P₁₂, P₁₂]\n",
    "end\n",
    "\n",
    "function bulk_polarization_pg16(n::Vector{<:Integer}, irlabs::Vector{<:AbstractString})\n",
    "    return [0//1, 0//1]\n",
    "end\n",
    "\n",
    "function bulk_polarization_pg16()\n",
    "    return [0//1, 0//1]\n",
    "end\n",
    "\n",
    "function bulk_polarization(n::Vector{<:Integer}, sb::SymBasis)\n",
    "    irlabs = sb.irlabs\n",
    "    pgnum  = sb.sgnum\n",
    "    pgnum == 2  && return bulk_polarization_pg2(n, irlabs)\n",
    "    pgnum == 10 && return bulk_polarization_pg10(n, irlabs)\n",
    "    pgnum == 16 && return bulk_polarization_pg16(n, irlabs)\n",
    "    throw(DomainError(pgnum, \"unsupported plane group number\"))\n",
    "end\n",
    "\n",
    "function corner_charge_pg2(n::Vector{<:Integer}, irlabs::Vector{<:AbstractString})\n",
    "    Y₁, Γ₁, A₁, B₁ = get_mult.(Ref(n), Ref(irlabs), [\"Y₁\", \"Γ₁\", \"A₁\", \"B₁\"])\n",
    "    return mod(-(B₁-Γ₁) - (Y₁-Γ₁) + (A₁-Γ₁), 2) // 4\n",
    "end\n",
    "\n",
    "function corner_charge_pg10(n::Vector{<:Integer}, irlabs::Vector{<:AbstractString})\n",
    "    X₁, Γ₁, Γ₂, Γ₃Γ₄, M₁, M₃ = get_mult.(Ref(n), Ref(irlabs), [\"X₁\", \"Γ₁\", \"Γ₂\", \"Γ₃Γ₄\", \"M₁\", \"M₃M₄\"])\n",
    "    return mod((X₁-Γ₁-Γ₂) + 2(M₁-Γ₁) + 3(M₃-Γ₃Γ₄), 4) // 4\n",
    "end\n",
    "\n",
    "function corner_charge_pg16(n::Vector{<:Integer}, irlabs::Vector{<:AbstractString})\n",
    "    M₁, K₁, Γ₁, Γ₂, Γ₃Γ₅ = get_mult.(Ref(n), Ref(irlabs), [\"M₁\", \"K₁\", \"Γ₁\", \"Γ₂\", \"Γ₃Γ₅\"])\n",
    "    return mod(6*(M₁-Γ₁-Γ₃Γ₅) + 4*(K₁-Γ₁-Γ₂), 24) // 24\n",
    "end\n",
    "\n",
    "function corner_charge(n::Vector{<:Integer}, sb::SymBasis)\n",
    "    irlabs = sb.irlabs\n",
    "    pgnum  = sb.sgnum\n",
    "    pgnum == 2  && return corner_charge_pg2(n, irlabs)\n",
    "    pgnum == 10 && return corner_charge_pg10(n, irlabs)\n",
    "    pgnum == 16 && return corner_charge_pg16(n, irlabs)\n",
    "    throw(DomainError(pgnum, \"unsupported plane group number\"))\n",
    "end\n",
    "\n",
    "function corner_charge(n::Vector{<:Integer}, brs::BandRepSet)\n",
    "    irlabs = brs.irlabs\n",
    "    pgnum  = brs.sgnum\n",
    "    pgnum == 2  && return corner_charge_pg2(n, irlabs)\n",
    "    pgnum == 10 && return corner_charge_pg10(n, irlabs)\n",
    "    pgnum == 16 && return corner_charge_pg16(n, irlabs)\n",
    "    throw(DomainError(pgnum, \"unsupported plane group number\"))\n",
    "end\n",
    "\n",
    "function get_mult(n::Vector{<:Integer}, irlabs::Vector{<:AbstractString}, lab::AbstractString)\n",
    "    idx = findfirst(==(lab), irlabs)\n",
    "    idx === nothing && throw(DomainError(lab, \"non-featured irrep requested\"))\n",
    "    return n[idx]\n",
    "end\n",
    "\n",
    "\n",
    "function find_hoti(calcname::AbstractString, has_tr::Bool=true, dir=\"./\")\n",
    "    sgnum = parse_sgnum(calcname)\n",
    "    D = parse_dim(calcname)\n",
    "    sb, brs = compatibility_basis(sgnum, D)\n",
    "    mode = contains(calcname, \"te\") ? \"te\" : \"tm\"\n",
    "    brsmat= matrix(brs, true)\n",
    "    F = smith(brsmat)\n",
    "    bandirsd, lgirsd = mode == \"tm\" ? extract_individual_multiplicities(calcname, timereversal=has_tr, dir = dir, atol=2e-2) : extract_individual_multiplicities(calcname, timereversal=has_tr, latestarts = Dict{String, Int}(), dir = dir,atol=2e-2)\n",
    "    if has_tr\n",
    "        mode == \"tm\" && pushfirst!(bandirsd[\"Γ\"], 1:1=>[1, zeros(length(realify(get_lgirreps(sgnum, D)[\"Γ\"]))-1)...])\n",
    "    else \n",
    "        mode == \"tm\" && pushfirst!(bandirsd[\"Γ\"], 1:1=>[1, zeros(length(get_lgirreps(sgnum, D)[\"Γ\"])-1)...])\n",
    "    end\n",
    "    bands, nds = collect_separable(bandirsd, lgirsd, latestarts = Dict{String, Int}())\n",
    "    isempty(bands) && error(\"   ... found no isolatable band candidates ...\")\n",
    "    permd = Dict(klab => Vector{Int}(undef, length(lgirsd[klab])) for klab in sb.klabs)\n",
    "    for klab in sb.klabs\n",
    "        lgirs = lgirsd[klab]\n",
    "        for (i, lgir) in enumerate(lgirs)\n",
    "            irlab = formatirreplabel(label(lgir))\n",
    "            j = findfirst(==(irlab), sb.irlabs)\n",
    "            j === nothing && error(\"Could not find irrep label $irlab\")\n",
    "            permd[klab][i] = j\n",
    "        end\n",
    "    end\n",
    "    μs = length.(bands)\n",
    "    ns = [Vector{Integer}(undef, length(first(sb))) for _ in 1:length(bands)]\n",
    "    for (b, (nd, μ)) in enumerate(zip(nds, μs))\n",
    "        for (klab, nᵏ) in nd\n",
    "            permᵏ = permd[klab]\n",
    "            ns[b][permᵏ] .= nᵏ\n",
    "        end\n",
    "        ns[b][end] = μ\n",
    "    end\n",
    "    println(ns)\n",
    "    polarizations = bulk_polarization.(ns, Ref(sb))\n",
    "    corner_charges = corner_charge.(ns, Ref(sb))\n",
    "    return bands, [float.(pol) for pol in polarizations], [float.(charge) for charge in corner_charges]\n",
    "end\n",
    "\n",
    "function find_hoti_bands(calcname::AbstractString)\n",
    "    b, p, q = find_hoti(calcname)\n",
    "    relevant_bands1 = (iszero).(p)\n",
    "    relevant_bands2 = (!iszero).(q)\n",
    "    relevant_bands = relevant_bands1 .& relevant_bands2\n",
    "    return b[relevant_bands], p[relevant_bands], q[relevant_bands]\n",
    "end\n",
    "\n",
    "function extract_gaps(calcname::AbstractString, whichgap::Tuple{<:Integer, <:Integer}=(1, 2))\n",
    "    #By default we look at the fundamental gap, though this can be modified by changing whichgap\n",
    "    band1, band2 = whichgap\n",
    "    bandsathighk = [parse.(Float64, split(line, \",\"))[6:end] for line in readlines(calcname)]\n",
    "    #println(bandsathighk)\n",
    "    min_band2 = minimum([bands[band2] for bands in bandsathighk])\n",
    "    #println(min_band2)\n",
    "    max_band1 = maximum([bands[band1] for bands in bandsathighk])\n",
    "\n",
    "    return min_band2-max_band1\n",
    "end\n",
    "\n",
    "\n",
    "function label_topology_and_hoti(calcname::AbstractString)\n",
    "\n",
    "    topologies_and_sets = label_topologies(calcname, true, \"./\", printisbandstruct=false, verbose=true)\n",
    "    hoti_charges = find_hoti(calcname)[3]\n",
    "    for (i, (s, t)) in enumerate(topologies_and_sets[1:end-1])\n",
    "        #println(extract_gaps(calcname*\"-dispersion.out\", (s[end],topologies_and_sets[i+1][1][1]) ))\n",
    "    end\n",
    "\n",
    "    return [[tands..., c ] for (tands, c) in zip(topologies_and_sets, hoti_charges)]\n",
    "end"
   ]
  },
  {
   "cell_type": "code",
   "execution_count": 4,
   "id": "8466fe7a",
   "metadata": {},
   "outputs": [
    {
     "data": {
      "text/plain": [
       "Dict{String, Vector{Pair{UnitRange{Int64}, Vector{Int64}}}} with 3 entries:\n",
       "  \"M\" => [1:1=>[0, 1, 0, 0], 2:2=>[0, 0, 1, 0], 3:3=>[0, 1, 0, 0], 4:4=>[0, 0, …\n",
       "  \"Γ\" => [2:2=>[0, 1, 0, 0, 0, 0], 3:3=>[0, 0, 1, 0, 0, 0], 4:5=>[0, 0, 0, 0, 0…\n",
       "  \"K\" => [1:1=>[0, 1, 0], 2:3=>[0, 0, 1], 4:4=>[0, 1, 0], 5:6=>[0, 0, 1], 7:7=>…"
      ]
     },
     "execution_count": 4,
     "metadata": {},
     "output_type": "execute_result"
    }
   ],
   "source": [
    "symeigsd, lgd = read_symdata(\"dim2-sg17-240-res64-te\", dir=\"./symeigs/output\")\n",
    "    lgirsd = pick_lgirreps(lgd)\n",
    "\n",
    "    # determine how we can consistently group up irreps and bands across distinct k-points\n",
    "    bandirsd = MPBUtils.find_individual_multiplicities(symeigsd, lgirsd, atol=1e-2)\n"
   ]
  },
  {
   "cell_type": "code",
   "execution_count": 61,
   "id": "29ab90f9",
   "metadata": {},
   "outputs": [
    {
     "data": {
      "text/plain": [
       "(:cdml, :g, :matrices, :translations, :reality, :iscorep)"
      ]
     },
     "execution_count": 61,
     "metadata": {},
     "output_type": "execute_result"
    }
   ],
   "source": [
    "fieldnames(typeof(first(first(lgirsd)[2])))"
   ]
  },
  {
   "cell_type": "code",
   "execution_count": 115,
   "id": "8a22f093",
   "metadata": {},
   "outputs": [
    {
     "data": {
      "text/plain": [
       "find_mintoposet (generic function with 2 methods)"
      ]
     },
     "execution_count": 115,
     "metadata": {},
     "output_type": "execute_result"
    }
   ],
   "source": [
    "function label_topologies(symeigsd::Dict{String, Vector{Vector{ComplexF64}}}, lgirsd::Dict{String, Vector{LGIrrep{D}}}, sgnum::Integer, has_tr::Bool=true; verbose::Bool=false, printisbandstruct::Bool=false, atol::Real=1e-2) where D\n",
    "    brs = bandreps(sgnum, D)\n",
    "    bandirsd = MPBUtils.find_individual_multiplicities(symeigsd, lgirsd; atol, latestarts = Dict{String, Int}())\n",
    "    bands, ns = extract_candidate_symmetryvectors(bandirsd, lgirsd, brs; latestarts = Dict{String, Int}() )\n",
    "    verbose && println(\"bands: \", bands, \"\\nns:\", ns)\n",
    "    band_topologies = Vector{Pair{UnitRange{Int}, TopologyKind}}()\n",
    "    minband = 1\n",
    "    for (indx, band) in enumerate(bands)\n",
    "        minimum(band) == minband || continue\n",
    "        new_bands, new_ns = find_mintoposet(bands, ns, indx, brs)\n",
    "        verbose && println(new_bands, \"   \", new_ns)\n",
    "        printisbandstruct && println(isbandstruct(new_ns, brs))\n",
    "        !isnothing(new_ns) && push!(band_topologies, new_bands => calc_detailed_topology(new_ns, brs))\n",
    "        minband = maximum(new_bands) + 1\n",
    "    end\n",
    "    return band_topologies\n",
    "end\n",
    "\n",
    "function find_mintoposet(bands::Vector{<:UnitRange{<:Integer}}, ns::Vector{<:Vector{<:Integer}}, idx::Integer, brs::BandRepSet)\n",
    "    nprime = ns[idx]\n",
    "    bandsprime = minimum(bands[idx]):maximum(bands[idx])\n",
    "    for (band, n) in zip(bands[idx+1:end], ns[idx+1:end])\n",
    "        isbandstruct(nprime, brs) && break\n",
    "        nprime = nprime + n\n",
    "        bandsprime = minimum(bands[idx]):maximum(band)\n",
    "    end\n",
    "    isbandstruct(nprime, brs) ? (bandsprime, nprime) : (bandsprime, nothing)\n",
    "end\n"
   ]
  },
  {
   "cell_type": "code",
   "execution_count": 116,
   "id": "0e14d190",
   "metadata": {},
   "outputs": [
    {
     "name": "stdout",
     "output_type": "stream",
     "text": [
      "bands: UnitRange{Int64}[1:1, 2:3, 4:7, 8:9, 10:11, 12:13, 14:19, 20:20, 21:22, 23:25, 26:28, 29:31, 32:37]\n",
      "ns:[[0, 1, 0, 0, 0, 1, 0, 0, 0, 0, 0, 1, 0, 1], [0, 1, 1, 0, 0, 1, 1, 0, 0, 0, 0, 0, 1, 2], [0, 1, 1, 2, 0, 0, 0, 0, 1, 1, 0, 2, 1, 4], [0, 1, 1, 0, 0, 2, 0, 0, 0, 0, 0, 0, 1, 2], [1, 0, 0, 1, 0, 0, 0, 0, 0, 1, 0, 0, 1, 2], [0, 1, 1, 0, 0, 0, 0, 0, 1, 0, 0, 0, 1, 2], [2, 2, 1, 1, 0, 0, 1, 1, 1, 1, 1, 1, 2, 6], [0, 0, 1, 0, 0, 1, 0, 0, 0, 0, 1, 0, 0, 1], [0, 1, 0, 1, 0, 0, 0, 0, 1, 0, 0, 2, 0, 2], [1, 1, 0, 1, 0, 0, 1, 0, 0, 1, 0, 1, 1, 3], [0, 1, 1, 1, 0, 0, 0, 1, 1, 0, 1, 0, 1, 3], [1, 0, 1, 1, 0, 0, 1, 0, 0, 1, 0, 1, 1, 3], [2, 1, 2, 1, 1, 0, 0, 1, 1, 1, 2, 0, 2, 6]]\n",
      "1:1   [0, 1, 0, 0, 0, 1, 0, 0, 0, 0, 0, 1, 0, 1]\n",
      "2:3   [0, 1, 1, 0, 0, 1, 1, 0, 0, 0, 0, 0, 1, 2]\n",
      "4:9   [0, 2, 2, 2, 0, 2, 0, 0, 1, 1, 0, 2, 2, 6]\n",
      "10:13   [1, 1, 1, 1, 0, 0, 0, 0, 1, 1, 0, 0, 2, 4]\n",
      "14:19   [2, 2, 1, 1, 0, 0, 1, 1, 1, 1, 1, 1, 2, 6]\n",
      "20:22   [0, 1, 1, 1, 0, 1, 0, 0, 1, 0, 1, 2, 0, 3]\n",
      "23:37   [4, 3, 4, 4, 1, 0, 2, 2, 2, 3, 3, 2, 5, 15]\n"
     ]
    },
    {
     "data": {
      "text/plain": [
       "7-element Vector{Pair{UnitRange{Int64}, TopologyKind}}:\n",
       "   1:1 => TRIVIAL\n",
       "   2:3 => TRIVIAL\n",
       "   4:9 => TRIVIAL\n",
       " 10:13 => TRIVIAL\n",
       " 14:19 => TRIVIAL\n",
       " 20:22 => FRAGILE\n",
       " 23:37 => TRIVIAL"
      ]
     },
     "execution_count": 116,
     "metadata": {},
     "output_type": "execute_result"
    }
   ],
   "source": [
    "label_topologies(symeigsd, lgirsd, 17, atol=1e-3, verbose=true)"
   ]
  },
  {
   "cell_type": "code",
   "execution_count": 67,
   "id": "91950030",
   "metadata": {},
   "outputs": [
    {
     "data": {
      "text/html": [
       "# 3 methods for generic function <b>isbandstruct</b>:<ul><li> isbandstruct(n::<b>AbstractVector{<:Integer}</b>, F::<b>Smith</b>; <i>allow_nonphysical</i>) in SymmetryBases at <a href=\"file:///home/gridsan/aligho/.julia/packages/SymmetryBases/EvH2o/src/symvec.jl\" target=\"_blank\">/home/gridsan/aligho/.julia/packages/SymmetryBases/EvH2o/src/symvec.jl:248</a></li> <li> isbandstruct(n::<b>AbstractVector{<:Integer}</b>, B::<b>Matrix{<:Integer}</b>; <i>kws...</i>) in SymmetryBases at <a href=\"file:///home/gridsan/aligho/.julia/packages/SymmetryBases/EvH2o/src/symvec.jl\" target=\"_blank\">/home/gridsan/aligho/.julia/packages/SymmetryBases/EvH2o/src/symvec.jl:262</a></li> <li> isbandstruct(n::<b>AbstractVector{<:Integer}</b>, BRS::<b>BandRepSet</b>; <i>kws...</i>) in SymmetryBases at <a href=\"file:///home/gridsan/aligho/.julia/packages/SymmetryBases/EvH2o/src/symvec.jl\" target=\"_blank\">/home/gridsan/aligho/.julia/packages/SymmetryBases/EvH2o/src/symvec.jl:263</a></li> </ul>"
      ],
      "text/plain": [
       "# 3 methods for generic function \"isbandstruct\":\n",
       "[1] isbandstruct(n::AbstractVector{<:Integer}, F::Smith; allow_nonphysical) in SymmetryBases at /home/gridsan/aligho/.julia/packages/SymmetryBases/EvH2o/src/symvec.jl:248\n",
       "[2] isbandstruct(n::AbstractVector{<:Integer}, B::Matrix{<:Integer}; kws...) in SymmetryBases at /home/gridsan/aligho/.julia/packages/SymmetryBases/EvH2o/src/symvec.jl:262\n",
       "[3] isbandstruct(n::AbstractVector{<:Integer}, BRS::BandRepSet; kws...) in SymmetryBases at /home/gridsan/aligho/.julia/packages/SymmetryBases/EvH2o/src/symvec.jl:263"
      ]
     },
     "execution_count": 67,
     "metadata": {},
     "output_type": "execute_result"
    }
   ],
   "source": [
    "methods(isbandstruct)"
   ]
  },
  {
   "cell_type": "code",
   "execution_count": 5,
   "id": "5cc415a3",
   "metadata": {},
   "outputs": [
    {
     "data": {
      "text/plain": [
       "find_mintoposet (generic function with 1 method)"
      ]
     },
     "execution_count": 5,
     "metadata": {},
     "output_type": "execute_result"
    }
   ],
   "source": [
    "function label_topologies(calcname::AbstractString, has_tr::Bool=true, dir=\"./\"; verbose::Bool=false, printisbandstruct::Bool=false, atol=1e-2)\n",
    "    sgnum = parse_sgnum(calcname)\n",
    "    D = parse_dim(calcname)\n",
    "    brs = bandreps(sgnum, D)\n",
    "    mode = contains(calcname, \"te\") ? \"te\" : \"tm\"\n",
    "    brsmat= matrix(brs, true)\n",
    "    F = smith(brsmat)\n",
    "    bandirsd, lgirsd = mode == \"tm\" ? extract_individual_multiplicities(calcname, timereversal=has_tr, dir = dir, atol=atol) : extract_individual_multiplicities(calcname, timereversal=has_tr, latestarts = Dict{String, Int}(), dir = dir,atol=atol)\n",
    "    if has_tr\n",
    "        mode == \"tm\" && pushfirst!(bandirsd[\"Γ\"], 1:1=>[1, zeros(length(realify(get_lgirreps(sgnum, D)[\"Γ\"]))-1)...])\n",
    "    else \n",
    "        mode == \"tm\" && pushfirst!(bandirsd[\"Γ\"], 1:1=>[1, zeros(length(get_lgirreps(sgnum, D)[\"Γ\"])-1)...])\n",
    "    end\n",
    "    bands, nds = collect_separable(bandirsd, lgirsd, latestarts = Dict{String, Int}())\n",
    "    isempty(bands) && error(\"   ... found no isolatable band candidates ...\")\n",
    "    bands, ns = extract_candidate_symmetryvectors(bandirsd, lgirsd, brs; latestarts = Dict{String, Int}() )\n",
    "    minband = 1\n",
    "    verbose && println(\"bands: \", bands)\n",
    "    verbose && println(\"ns: \", ns)\n",
    "    returnbands = []\n",
    "    for (indx, band) in enumerate(bands)\n",
    "        #println(indx)\n",
    "        minimum(band) == minband || continue\n",
    "        a, b = find_mintoposet(bands, ns, indx, F )\n",
    "        verbose && println(a, \"   \", b)\n",
    "        printisbandstruct && println(isbandstruct(b, F))\n",
    "        !isnothing(b) && push!(returnbands, [a, calc_detailed_topology(b, brs)])\n",
    "        minband = maximum(a) + 1\n",
    "    end\n",
    "    return returnbands\n",
    "end\n",
    "\n",
    "function label_corner(calcname::AbstractString, has_tr::Bool=true, dir=\"./\"; verbose::Bool=false, printisbandstruct::Bool=false, atol=1e-2)\n",
    "    sgnum = parse_sgnum(calcname)\n",
    "    D = parse_dim(calcname)\n",
    "    brs = bandreps(sgnum, D)\n",
    "    irlabs = brs.irlabs\n",
    "    mode = contains(calcname, \"te\") ? \"te\" : \"tm\"\n",
    "    brsmat= matrix(brs, true)\n",
    "    F = smith(brsmat)\n",
    "    bandirsd, lgirsd = mode == \"tm\" ? extract_individual_multiplicities(calcname, timereversal=has_tr, dir = dir, atol=atol) : extract_individual_multiplicities(calcname, timereversal=has_tr, latestarts = Dict{String, Int}(), dir = dir,atol=atol)\n",
    "    if has_tr\n",
    "        mode == \"tm\" && pushfirst!(bandirsd[\"Γ\"], 1:1=>[1, zeros(length(realify(get_lgirreps(sgnum, D)[\"Γ\"]))-1)...])\n",
    "    else \n",
    "        mode == \"tm\" && pushfirst!(bandirsd[\"Γ\"], 1:1=>[1, zeros(length(get_lgirreps(sgnum, D)[\"Γ\"])-1)...])\n",
    "    end\n",
    "    bands, nds = collect_separable(bandirsd, lgirsd, latestarts = Dict{String, Int}())\n",
    "    isempty(bands) && error(\"   ... found no isolatable band candidates ...\")\n",
    "    bands, ns = extract_candidate_symmetryvectors(bandirsd, lgirsd, brs; latestarts = Dict{String, Int}() )\n",
    "    minband = 1\n",
    "    verbose && println(\"bands: \", bands)\n",
    "    verbose && println(\"ns: \", ns)\n",
    "    returnbands = []\n",
    "    for (indx, band) in enumerate(bands)\n",
    "        #println(indx)\n",
    "        minimum(band) == minband || continue\n",
    "        a, b = find_mintoposet(bands, ns, indx, F )\n",
    "        verbose && println(a, \"   \", b)\n",
    "        printisbandstruct && println(isbandstruct(b, F))\n",
    "        !isnothing(b) && push!(returnbands, [a, corner_charge(b, brs)])\n",
    "        minband = maximum(a) + 1\n",
    "    end\n",
    "    return returnbands\n",
    "end\n",
    "\n",
    "\n",
    "\n",
    "function find_mintoposet(bands::Vector{<:UnitRange{<:Integer}}, ns::Vector{<:Vector{<:Integer}}, idx::Integer, F::Smith{Int64,Array{Int64,2}})\n",
    "    nprime = ns[idx]\n",
    "    bandsprime = minimum(bands[idx]):maximum(bands[idx])\n",
    "    for (band, n) in zip(bands[idx+1:end], ns[idx+1:end])\n",
    "        isbandstruct(nprime, F) && break\n",
    "        nprime = nprime + n\n",
    "        bandsprime = minimum(bands[idx]):maximum(band)\n",
    "    end\n",
    "    isbandstruct(nprime, F) ? (bandsprime, nprime) : (bandsprime, nothing)\n",
    "end\n"
   ]
  },
  {
   "cell_type": "code",
   "execution_count": 6,
   "id": "0d99bf6b",
   "metadata": {},
   "outputs": [],
   "source": [
    "bandirsd, lgirsd = extract_individual_multiplicities(\"dim2-sg16-2-res64-te\", timereversal=true, dir = \"./symeigs/output\", atol=2e-2, latestarts = Dict{String, Int}());"
   ]
  },
  {
   "cell_type": "code",
   "execution_count": 7,
   "id": "262365e1",
   "metadata": {},
   "outputs": [
    {
     "name": "stdout",
     "output_type": "stream",
     "text": [
      "1,\"+x,+y\",0.9999999999999999+0.0i,0.9999999999999993+0.0i,0.9999999999999983+0.0i,1.000000000000001+0.0i,0.9999999999999993+0.0i,1.0000000000000016+0.0i,1.000000000000004+0.0i,1.000000000000002+0.0i,1.0000000000000027+0.0i,1.0000000000000016+0.0i,1.000000000000003+0.0i,0.9999999999999992+0.0i,0.9999999999999974+0.0i,1.000000000000001+0.0i,1.0000000000000027+0.0i,1.0+0.0i,1.0000000000000002+0.0i,1.0000000000000036+0.0i,1.0000000000000002+0.0i,0.999999999999999+0.0i,0.9999999999999989+0.0i,0.9999999999999988+0.0i,1.0000000000000016+0.0i,0.9999999999999954+0.0i,1.0000000000000009+0.0i,0.9999999999999996+0.0i,1.0000000000000002+0.0i,0.999999999999996+0.0i,1.0000000000000009+0.0i,0.9999999999999978+0.0i,1.0000000000000007+0.0i,1.0000000000000002+0.0i,1.0000000000000018+0.0i,1.0000000000000002+0.0i,0.9999999999999966+0.0i,1.0000000000000024+0.0i,0.9999999999999977+0.0i,0.9999999999999993+0.0i,1.0000000000000002+0.0i,0.9999999999999977+0.0i\n",
      "1,\"-x,-y\",-0.9999995293261047+3.482284795060437e-18i,-0.9999995293440836+3.3881317890172014e-18i,0.9999994353896209-4.4238942648316005e-18i,0.9999994353015561-4.830754629644383e-18i,0.9999978389284869-4.1724842981746835e-18i,0.9999978387755756-3.356473932613572e-18i,-0.9999971998774339+2.5413105999997146e-18i,-0.99999412502605+2.5806976320470396e-18i,-0.9999976386073114+3.312534098474755e-18i,-0.9999802453475795+2.912946305607539e-18i,0.9999748922315495-3.3008873954500084e-18i,0.9999951241564572-3.204855035055052e-18i,0.9999948296247527-2.208638409965588e-18i,0.9999948859488944-6.657678965418801e-18i,-0.9999948197888562+4.066605179767896e-18i,-0.9999947969068511+3.909692326289037e-18i,0.9999932352602148-3.8455295805345235e-18i,0.9999931150758676-3.336568658353096e-18i,-0.9999959250658915+2.2370140136986072e-18i,-0.9999936661776375+1.8406025943835946e-18i,0.999989803357469-2.1789922568116876e-18i,0.9999921678888111-4.229659022114349e-18i,-0.9999906932870705+2.4182790644110275e-18i,-0.9999907339413255+2.4894298319803887e-18i,0.9999924039037852-2.791820594150174e-18i,0.9999924500947085-2.4808006838302355e-18i,-0.99999180951318+3.218831078684748e-18i,-0.9999917962531047+3.3928963493455068e-18i,0.9999830744089547-4.1500379250724445e-18i,0.9999675893868335-3.585702223964267e-18i,-0.9999737947415741+2.822737296724956e-18i,-0.9999891534023582+3.694334199449631e-18i,0.9999940870306807-3.800425076093232e-18i,0.9999941209511486-4.866839556686396e-18i,-0.9999887509530653+4.296998141421066e-18i,-0.9999887387410326+4.422359017614702e-18i,0.9999878804744218-1.253397003699551e-18i,0.9999876409439784-1.3044307387716225e-18i,-0.9999872672189941+1.196010521523072e-18i,-0.9999867354166404+1.3423354631612525e-18i\n",
      "1,\"-y,+x\",1.644448890121085e-11+3.278595754820719e-6i,5.256826712825298e-11-3.278527476075974e-6i,-0.39559045076464633+3.067923667308461e-12i,0.39559045071660487+4.214179134484878e-13i,0.6791144893405726+2.100931961547184e-11i,-0.6791144020914737-1.7742885036886043e-10i,-1.3413461879542081e-7-0.11304574318911373i,7.910665237947006e-7+0.11304551476780142i,3.713624674089931e-10-0.7358916301885413i,1.914170826964674e-6+0.7358851211421429i,0.2548942839899882+6.7466440397820995e-6i,-0.2548969201798708+9.255116855395157e-10i,0.7773524546830772-4.434062873439211e-9i,-0.7773524813964177-9.038040895238615e-10i,7.004867195630805e-11-0.48759777479708993i,1.0922971269677263e-8+0.4875977572578137i,0.3334576742804499-3.989813163359285e-9i,-0.33345755207741207+2.836438672830582e-8i,-1.1911741367453025e-7+0.009000740018624796i,1.1848916501678788e-6-0.00900100390167316i,0.8582891337121598+2.438549340935023e-7i,-0.8582902257159933-2.6682691767105322e-8i,8.509136968566191e-9-0.7423304462296786i,4.119202043906459e-9+0.742330490619544i,0.2342162869556087-2.2233584911713904e-8i,-0.23421641015557954-5.010533448378523e-10i,8.91939408097622e-9-0.28526017717233754i,-1.5573359229991397e-10+0.28525961400708266i,-0.09602541765303049-9.484064198590085e-7i,0.09602473556766196+5.271825993860017e-6i,1.3026038380384957e-6+0.44432358746465966i,-5.973457557343372e-7-0.4443272961170429i,0.33660072376833905-1.1610401768766211e-8i,-0.3366007477907872-2.885780824786566e-9i,1.5335748476001855e-7-0.18997366235960864i,-1.3769462636733295e-7+0.18997366485251588i,0.40390495097064183+2.088734988768824e-9i,-0.4039031313178667-1.5646541315707634e-7i,5.394620351804495e-8+0.19427377229749976i,-2.1213505410361283e-7-0.19427375897310684i\n",
      "1,\"+y,-x\",1.6444637315147495e-11-3.2785957548199418e-6i,5.256816303849167e-11+3.278527476075582e-6i,-0.39559045076464716-3.0679331384073606e-12i,0.3955904507166067-4.214027380062048e-13i,0.6791144893405717-2.1009298472682444e-11i,-0.6791144020914738+1.7742880741497265e-10i,-1.3413461868464563e-7+0.11304574318911373i,7.910665236712166e-7-0.11304551476780117i,3.7136249089213453e-10+0.7358916301885425i,1.914170827015723e-6-0.7358851211421444i,0.2548942839899886-6.746644039739209e-6i,-0.25489692017987153-9.255117067695495e-10i,0.7773524546830791+4.434062856528622e-9i,-0.7773524813964175+9.038041098170769e-10i,7.00485983635445e-11+0.48759777479708916i,1.0922971175676935e-8-0.48759775725781296i,0.3334576742804518+3.989813114590516e-9i,-0.33345755207741173-2.8364386811901196e-8i,-1.1911741365197885e-7-0.009000740018624824i,1.1848916501199164e-6+0.009001003901673134i,0.8582891337121583-2.43854934085045e-7i,-0.8582902257159927+2.6682691755873666e-8i,8.50913694879983e-9+0.7423304462296787i,4.1192020792107925e-9-0.7423304906195453i,0.23421628695560845+2.2233584898911424e-8i,-0.23421641015557984+5.010533521083596e-10i,8.91939408043073e-9+0.28526017717233754i,-1.557336515541038e-10-0.2852596140070829i,-0.09602541765303058+9.484064198532398e-7i,0.09602473556766136-5.271825993728045e-6i,1.3026038378355636e-6-0.4443235874646614i,-5.973457559248823e-7+0.4443272961170429i,0.33660072376833994+1.1610401901187954e-8i,-0.3366007477907863+2.885780781001739e-9i,1.5335748480211947e-7+0.18997366235960866i,-1.376946263145052e-7-0.18997366485251513i,0.40390495097064216-2.0887350023861493e-9i,-0.40390313131786654+1.5646541316447327e-7i,5.394620350259168e-8-0.19427377229749945i,-2.1213505409575236e-7+0.19427375897310706i\n",
      "1,\"-x+0.5,+y+0.5\",-2.903523064069335e-17+3.278631099456732e-6i,7.306717961252408e-17-3.278581003254919e-6i,-8.277205960569023e-18-0.10990592792711186i,-2.937748489094329e-17+0.10990592792205994i,1.3744803635095532e-17+0.7301009657223545i,-1.1041921500407059e-17-0.7301009487592449i,-2.5800411815129175e-17-0.11304543072438365i,-3.907574743920901e-18+0.11304381697228663i,1.0472037733494366e-16+0.7358917322440541i,-1.0672615135404184e-16-0.7358934546279611i,-2.5425387977732333e-17-0.9612798565607334i,-1.4576166472825627e-17+0.9612831839356023i,8.276189521032318e-17-0.1061926780462614i,-5.348843655321456e-17+0.10619267317985681i,2.607082708354011e-17-0.4875977758257068i,-1.2456466522321741e-17+0.4875977548840978i,3.8963515573697816e-19-0.3804070273738641i,2.1287632030395076e-17+0.38040696734645413i,-8.782037597132586e-18+0.009001166229570281i,2.86398780125624e-17-0.009000909321253683i,1.6674351786469255e-16+0.05577124504746309i,-4.126744519022951e-17-0.055771087861591295i,5.773376568485311e-18+0.7423300829563128i,-6.393404685875459e-18-0.742330432017387i,9.452040658410737e-18-0.14321592419241116i,-1.0054281083908545e-17+0.14321589463921733i,1.98029950320951e-17-0.28526021066279406i,4.521038355969828e-18+0.2852592605553506i,-6.160470625380526e-18-0.8575543586827941i,8.762555839345737e-18+0.8575434104202183i,-1.1901151722101821e-16-0.4443131635652468i,1.0296193693644373e-16+0.444325079108988i,1.066583887182615e-17-0.6498435543769597i,-1.0252486793566051e-17+0.6498435769227844i,3.939719644269202e-17-0.18997366176249764i,1.905485318143274e-17+0.18997364251361556i,6.980398518322689e-18-0.15203529661058895i,-3.808551298430953e-18+0.15203396334206962i,-3.357977416094948e-17-0.19427387108860572i,-3.333244054035123e-17+0.19427374660816754i\n",
      "1,\"+x+0.5,-y+0.5\",5.827692556227993e-17-3.2785918157185875e-6i,-5.306047315661432e-17+3.278474864384987e-6i,-3.751985379422127e-18-0.10990592791060289i,-3.479113715464154e-17+0.10990592789624627i,3.669177320916178e-17+0.7301009660851002i,-6.467350662170759e-17-0.7301009489968976i,4.59875362888041e-17+0.11304605595217239i,-2.2454419915237875e-17-0.11304721301557992i,-1.845176572298768e-17-0.7358915287827339i,8.561470217667566e-17+0.7358767877441685i,-4.260999241162758e-18-0.9612670125276942i,-1.8592373192231892e-18+0.9612828809550709i,-5.3417285785645197e-17-0.10619266979107457i,7.582638943820497e-17+0.10619267686176041i,-1.7199003993998568e-17+0.4875977759680551i,2.6431663119070442e-17-0.48759776037590064i,1.5875091497440097e-17-0.38040702481631933i,-4.892462303340839e-18+0.3804070211806828i,1.2512370696840525e-17-0.009001241159599441i,-2.6955976513420854e-17+0.00900108712794762i,8.021063197319322e-17+0.05577076431192628i,-9.100521985300203e-18-0.05577103562526984i,-3.14757443199698e-18-0.7423300111944321i,8.699028368301664e-18+0.7423303920942779i,7.860465750519907e-18-0.14321587359883756i,2.2400633323087227e-17+0.1432158864043883i,2.0210841396198047e-17+0.2852601946214039i,-2.5846151594280907e-17-0.2852592525438528i,-6.002075464243972e-18-0.8575562823151326i,2.2578933758484257e-17+0.8575539416970767i,8.763402872292991e-17+0.4443296017929335i,-1.3359064830915923e-16-0.4443282263793292i,2.6725583551767684e-17-0.6498435193796458i,1.1384122811097797e-17+0.6498435774913975i,-3.3976185580264495e-17+0.1899737310306879i,-2.5912431922403556e-17-0.1899736888670137i,1.5371795108093432e-18-0.1520352622423377i,1.6897777902131258e-18+0.15203421473965475i,8.721051224930276e-18+0.19427366534549975i,3.245830253878479e-18-0.19427366494978496i\n",
      "1,\"-y+0.5,-x+0.5\",0.9999995293581625-1.4533666594697143e-16i,0.9999995294033117-1.4030338441614956e-16i,-0.9118266545869802+1.2175484517893808e-16i,0.9118266545860086-1.2755582972754796e-16i,-0.07585445142192637-1.7508171019746388e-18i,0.07585458532029977-2.809777692631965e-17i,0.9999976088978368-1.3457235949502697e-16i,0.999995866478767-1.3571352463321532e-16i,-0.9999977069968248+1.3470481427215386e-16i,-0.9999911340411726+1.3881091236308749e-16i,-0.10468205614997438+1.6300302036961756e-17i,0.10467735993919977-9.307536837609154e-17i,0.6200315527208254-6.400265652748219e-17i,-0.6200315744113926+1.1957225303210056e-16i,0.9999948202540185-1.3103726748966114e-16i,0.9999948065789501-1.2759661965791418e-16i,0.8626034270752764-7.394597629530042e-17i,-0.8626031371886675+9.973897657214112e-17i,0.9999955769997247-1.4104369121204982e-16i,0.9999951869945549-1.3085981408721137e-16i,0.5101158321576027-6.68715571198325e-17i,-0.5101151931148646+7.564851251928156e-17i,-0.9999901316198213+1.4477953002591491e-16i,-0.9999906163333133+1.3131149440633472e-16i,0.9615702300655177-1.2342625294210763e-16i,-0.9615702401948619+1.3791919842786552e-16i,0.9999912596914856-1.3573088880863404e-16i,0.9999863488183994-1.2589291876363056e-16i,0.5053274837940648-7.679539512986389e-17i,-0.505334802818859+7.628378722972229e-17i,-0.9999825176017783+1.4251837557321956e-16i,-0.999989612054343+1.3431147334727264e-16i,0.6814650541903902-1.275360568021855e-16i,-0.6814650654922424+1.007901444596837e-16i,0.9999888949713536-1.3248018811530884e-16i,0.9999889437381422-1.4329171665406273e-16i,-0.9020664431212566+1.2202526044734902e-16i,0.9020657118578185-1.2754839171947988e-16i,-0.9999873202307265+1.2901921149282777e-16i,-0.999986931842723+1.4090329550104242e-16i\n",
      "1,\"+y+0.5,+x+0.5\",-0.9999999998044289-1.2615976019820496e-16i,-0.9999999998337687-1.256828090977778e-16i,-0.9118271693138604-1.0953928012077138e-16i,0.9118271693538738+1.0556817790580641e-16i,-0.07585461586931269-3.4586896335234846e-17i,0.07585474838451814-1.931658636213432e-17i,-0.9999995900812598-1.2335507322321683e-16i,-0.9999982572886966-1.2313228949601853e-16i,0.999999928709026+1.2479219386520446e-16i,0.9999891106314227+1.2337343249691244e-16i,-0.10466866322348593-5.709679690851788e-17i,0.10467734936455034-1.5998758307739225e-17i,0.6200347368985685+9.108314688414942e-17i,-0.6200347437596176-1.1335841933104301e-16i,-0.9999999951064376-1.2292291023064666e-16i,-0.9999999711472632-1.2338157526286241e-16i,0.8626092484556018+1.421837975590541e-16i,-0.8626087862394736-1.3510260212000816e-16i,-0.9999991689877991-1.2335941674861334e-16i,-0.9999979879909034-1.2355553134568232e-16i,0.5101171143469269+6.225014535961304e-17i,-0.5101193018585823-5.938039773431547e-17i,0.9999992346393118+1.2382319375701467e-16i,0.9999997494463883+1.2315684352532156e-16i,0.9615773602345276+1.251384241658638e-16i,-0.9615774794334795-1.1508700181815223e-16i,-0.999999413080754-1.2284581038011182e-16i,-0.9999944905393685-1.225242290277308e-16i,0.5053377455198519+5.328260754703176e-17i,-0.5053225531454718-6.990901726868642e-17i,0.9999806700883392+1.2382292905921866e-16i,0.9999980578694607+1.249155750913971e-16i,0.6814690145107468+1.2103084376727247e-16i,-0.6814690682905185-1.1413260744483344e-16i,-0.999999767232481-1.2402443025643658e-16i,-0.9999997200227463-1.2442670473193336e-16i,-0.902077339091337-1.1243742981958157e-16i,0.9020762455155709+1.0867813878098938e-16i,0.9999998365074303+1.231574721825871e-16i,0.9999991985640646+1.2351002648582455e-16i\n",
      "2,\"+x,+y\",1.0000000000000007+0.0i,1.0000000000000009+0.0i,1.0000000000000009+0.0i,0.9999999999999992+0.0i,1.0000000000000018+0.0i,1.0000000000000013+0.0i,1.0000000000000036+0.0i,1.0000000000000038+0.0i,0.999999999999999+0.0i,1.0000000000000018+0.0i,0.9999999999999978+0.0i,1.0000000000000018+0.0i,1.0000000000000004+0.0i,0.9999999999999993+0.0i,0.9999999999999993+0.0i,1.000000000000001+0.0i,0.9999999999999997+0.0i,0.9999999999999986+0.0i,1.0000000000000027+0.0i,0.9999999999999974+0.0i,1.000000000000001+0.0i,0.9999999999999977+0.0i,0.999999999999998+0.0i,0.9999999999999993+0.0i,1.0000000000000016+0.0i,1.000000000000001+0.0i,0.999999999999998+0.0i,0.9999999999999998+0.0i,1.0000000000000013+0.0i,1.0000000000000002+0.0i,0.9999999999999986+0.0i,1.0000000000000024+0.0i,1.0000000000000018+0.0i,1.0000000000000002+0.0i,1.0000000000000009+0.0i,0.9999999999999974+0.0i,0.9999999999999998+0.0i,1.0000000000000009+0.0i,1.0000000000000029+0.0i,0.999999999999999+0.0i\n",
      "2,\"-x,-y\",1.8909466443871187e-4-9.134403303190375e-18i,-1.890946644388896e-4-8.904010341537205e-18i,-2.451166975600322e-4+9.622294280808852e-18i,2.451166973249178e-4-1.1655173354219173e-17i,8.862931190851863e-5-2.116227115420144e-17i,-8.862931006023571e-5+3.190264892538597e-17i,-0.0032187404008970476-1.4365678785432934e-18i,0.003218740301953039-4.336808689942018e-18i,-6.278844194048617e-4-1.4568966692773966e-18i,6.278844605696477e-4-4.438452643612534e-18i,-4.264030089641582e-4+1.576158908250802e-17i,4.26403066163607e-4-3.1082721032443805e-17i,0.0038732300794220636-3.5101045334218206e-18i,-0.003873230076715503-5.407458335271453e-18i,0.0011188327300544051+3.1509625637859973e-18i,-0.001118832718952721-6.559423143537302e-18i,0.01532169163702523-1.0028870095490916e-18i,-0.015321690008092671+2.3852447794681098e-18i,0.0088919455877157-2.7159264420761886e-17i,-0.008891906308355905-2.528901567322439e-17i,0.07423417278086601+7.745269269693322e-18i,-0.07423421336981355-2.6834003769016235e-18i,0.0018565103044116181+1.353558649712372e-17i,-0.0018565107206469154-9.893344823930228e-19i,-0.0021499797932034033-1.1279726000348704e-17i,0.002149979325117448-1.409293417641705e-17i,-0.001205727518964837-3.333921680392926e-18i,0.0012057275246143027+1.1519648082658485e-18i,-0.07001249749175097-2.2185486954484634e-17i,0.07001249599723335+1.486712229020748e-17i,-5.809565078685663e-4-1.2197274440461925e-18i,5.809576283789756e-4+1.1817803680091998e-17i,0.07470479275415402+5.692061405548898e-18i,-0.07470479258397075+1.734723475976807e-18i,3.39026945799741e-4-2.647824993116943e-18i,-3.390263675089718e-4-1.650020181251377e-18i,0.0035440537407949784-5.719166459861036e-18i,-0.0035440469919293966-6.572975670693371e-19i,-0.0010425341161390256-1.6479873021779667e-17i,0.0010425169119735753-1.0164395367051604e-17i\n",
      "2,\"-x+0.5,+y+0.5\",-6.121045708461146e-17+0.9999998920709413i,6.12683746167412e-17-0.9999998920910407i,-6.123935050340794e-17+0.9999998954985971i,6.127556116190306e-17-0.999999895505173i,-6.137483607029923e-17+0.9999994648097753i,6.133475751525981e-17-0.9999994650342495i,-6.124911123463607e-17+0.999994309668786i,6.161979402817823e-17-0.9999943097446405i,-6.108489272198714e-17+0.9999992818202728i,6.089049866059228e-17-0.9999992819107129i,-6.135493741348365e-17+0.9999990083315841i,6.125297582245792e-17-0.9999990085939789i,6.081519213762545e-17-0.9999905774829955i,-6.100140703712339e-17+0.999990577004944i,6.123934388596304e-17-0.9999974885084015i,-6.11154653174271e-17+0.9999974879176704i,6.125826977837825e-17-0.9998753658121943i,-6.06818638577717e-17+0.9998753683330515i,-6.067466407772004e-17+0.9996910970610394i,6.288372600415926e-17-0.9996910897344929i,-6.389974202439079e-17+0.9949940362980708i,5.871886500250986e-17-0.9949940465745324i,-6.13744985806093e-17+0.9999958801204161i,6.110364656083494e-17-0.9999958801326987i,-6.163718467337655e-17+0.9999858296382976i,6.126703127542642e-17-0.9999858299696293i,-6.15444610354318e-17+0.999996272785767i,6.1110753696658e-17-0.999996273121425i,-6.635105537374474e-17+0.9968580586770984i,6.106514626640427e-17-0.9968580622509506i,-6.149416845418858e-17+0.9999977758355842i,6.105286428866909e-17-0.9999977746710409i,5.865194939967677e-17-0.9971998999646029i,-6.100331286125471e-17+0.99719990004384i,-6.064200036969155e-17+0.9999975797093646i,6.142015895042223e-17-0.9999975779473178i,-6.0751955834157e-17+0.9999694143770023i,6.107552242000814e-17-0.99996941561106i,-6.130146845868822e-17+0.9999424552528065i,6.151068559666004e-17-0.9999425162522176i\n",
      "2,\"+x+0.5,-y+0.5\",-8.146442002256949e-5-2.303929616531697e-17i,8.146442002774969e-5-2.0491421059976034e-17i,1.3194626500082272e-4-6.331740687315346e-17i,-1.319462650194044e-4-2.347297703431117e-17i,4.9644800682885974e-5-4.9737774662772516e-18i,-4.9644800715690415e-5-6.009190541000908e-17i,-7.945951168813477e-6+9.215718466126788e-18i,7.945951308611807e-6+5.027987574901527e-17i,3.195854657561761e-4-1.214306433183765e-17i,-3.1958546560035384e-4+7.318364664277155e-19i,1.6817771834660614e-4+3.31494814237443e-17i,-1.681777185385471e-4+5.926181312169987e-17i,-0.0011470901576480213+7.470152968425126e-17i,0.001147090157261492+6.681395887941921e-18i,-2.197932863675484e-4+3.060160631840336e-17i,2.1979328683053965e-4+5.2922618544448685e-17i,0.0030379263952472427+1.566672139241554e-17i,-0.0030379263920084793+2.0599841277224584e-18i,0.02313954652668586-8.039359108980015e-17i,-0.023139546546941635-2.482822974991805e-17i,-0.06684983465887379-1.2817302557852073e-17i,0.06684983467667353+1.0113573390216346e-17i,4.2785212462799314e-4+2.2849560785132006e-17i,-4.2785212514106076e-4-3.496552006265752e-18i,-0.0044038288928172666-1.2966888576337182e-16i,0.0044038288910580705-2.7752187483839896e-17i,0.0015801789057955519-2.8853330315270487e-17i,-0.0015801789075223264-2.5817564232311074e-17i,-0.03692381020071165+8.1938579185592e-17i,0.03692381020316746+1.2278589603398338e-17i,0.0013630070323923502+1.9895109865109006e-17i,-0.0013630070288183558-1.0950441942103595e-16i,0.002937712600649639-4.3042826247674526e-17i,-0.0029377126000333983-1.0408340855860843e-17i,0.0015379795806360968+1.9325903724554117e-17i,-0.001537979580537133-6.715277205832093e-17i,0.006434583901286853-1.3742262536253769e-17i,-0.006434583916515637-1.168227840853131e-17i,0.009686899794131225+5.0415401020575956e-17i,-0.009686899826928302+1.3422422895370545e-16i\n",
      "3,\"+x,+y\",1.0+0.0i,1.000000000000001+0.0i,1.0000000000000007+0.0i,0.9999999999999983+0.0i,0.9999999999999989+0.0i,1.0000000000000027+0.0i,1.0000000000000002+0.0i,1.0000000000000022+0.0i,0.9999999999999991+0.0i,1.0000000000000009+0.0i,1.0000000000000004+0.0i,0.9999999999999976+0.0i,0.9999999999999974+0.0i,1.0000000000000018+0.0i,0.9999999999999947+0.0i,0.9999999999999989+0.0i,1.000000000000001+0.0i,0.9999999999999983+0.0i,1.0000000000000002+0.0i,0.999999999999998+0.0i,0.9999999999999966+0.0i,1.0000000000000029+0.0i,1.0000000000000018+0.0i,0.9999999999999989+0.0i,1.0000000000000033+0.0i,1.000000000000001+0.0i,1.000000000000002+0.0i,1.000000000000001+0.0i,1.0000000000000016+0.0i,1.0000000000000033+0.0i,1.000000000000005+0.0i,0.9999999999999998+0.0i,1.000000000000001+0.0i,0.9999999999999972+0.0i,0.9999999999999972+0.0i,1.0000000000000016+0.0i,1.0000000000000007+0.0i,0.9999999999999988+0.0i,0.9999999999999983+0.0i,1.0+0.0i\n",
      "3,\"-x,-y\",-1.0+0.0i,-0.9999996087664622-3.5998900258307764e-21i,-0.9999996086730398+2.779326858178173e-22i,0.9999996824114904+0.0i,0.9999992354689607+4.235164736271502e-21i,0.9999994806582257+4.362219678359647e-20i,-0.9999992592583495+3.3616620094155045e-20i,-0.9999992628199035-2.4352197233561135e-20i,0.9999967767046178+1.3552527156068805e-20i,0.9999983820558663-1.810532924756067e-20i,-0.9991103735317136+2.3924445595197713e-18i,-0.9999988593015753+2.117582368135751e-22i,0.9991112046532798-1.3984513959168499e-18i,0.9999975982439964-4.2359588296595526e-19i,0.9999967746553801-1.5246593050577406e-20i,-0.9999958053488647+2.117582368135751e-21i,-0.9999958218901085-1.1858461261560205e-20i,-0.9999957325550907-3.197549375884984e-20i,-0.999995481455635-1.1858461261560205e-19i,0.9999977473668491+3.705769144237564e-22i,0.999992656341852+6.776263578034403e-21i,0.9999951990490497+1.503483481376383e-20i,0.9999972207236396+9.754113783225302e-21i,-0.999995832416917+8.449153648861646e-20i,-0.9999958882047658-1.3446648037662018e-20i,0.9999973828125258-3.000349517852342e-20i,0.9999962312585954+3.2081372877256625e-20i,-0.9999928121102486+1.214962883717887e-20i,-0.9999927479930935-1.7364175418713157e-20i,-0.9999955115860149-2.7486219138402046e-19i,-0.9999071155642965-1.435720845596039e-19i,0.9999038216214697+2.0117032497289633e-19i,0.999994734302432+1.6728900708272432e-20i,0.999996069976364+3.7767081535701116e-19i,0.9999982438358541+5.802175688691957e-20i,0.9999952585686539-1.6305384234645282e-20i,-0.9999966978146206+1.2705494208814505e-20i,-0.999996654325306+2.159934015498466e-20i,-0.9999914111231009-3.959879028413854e-20i,0.9999474298934334+9.656175598699024e-20i\n",
      "3,\"-y,+x\",-6.123233995737448e-17+0.0i,-5.219729942328497e-8+0.16635082385520802i,5.22988525611898e-8-0.16635082384106206i,-0.9999998411925564-3.8847325633338385e-12i,0.9999996176125193-2.246010407467306e-11i,-0.9999997397009971-2.7062736209630124e-10i,-5.22493997755089e-9-0.08738522677647133i,1.034760547579739e-8+0.08738522629336122i,0.9999983880609672+1.0377610297257137e-10i,-0.9999989087062633-2.9497945682814226e-10i,4.44257141675215e-4+0.022822984577754116i,-1.9897133174116187e-8-0.02283311665443657i,0.9995555947585302+1.0126178470674916e-5i,0.9999985260256076+6.899695702564564e-9i,0.9999983833301149+2.113437501221884e-10i,-2.4646645128002364e-7+0.06330554215695915i,2.2785393135888853e-7-0.06330554350158789i,2.2880867674640116e-7+0.8073807256593512i,-9.389191675640801e-8-0.8073806269045294i,-0.9999988712048204+7.050410749773665e-10i,-0.9999954274269353-3.015124999672497e-9i,0.9999966898064715-8.064734871815343e-8i,-0.99999855574654-1.152909256992371e-8i,1.9696304883364197e-7+0.6300877483377432i,-1.857209219458916e-7-0.63008776329938i,-0.9999986541583447+1.2159186353436835e-9i,0.9999981123310869-1.387590389064448e-10i,1.5101818671069141e-6-0.6478190873374523i,-1.529893605023013e-6+0.6478190605348183i,8.710922804024482e-7-0.1742084238730535i,4.525148200686975e-5+0.17420166161207543i,0.9999518375139345+6.761093536126888e-6i,-0.9999973523898632-7.854642468536937e-8i,0.9999980171241148+1.2495191031198077e-7i,0.9999991152740494-4.138693124629628e-9i,-0.999997626246211+5.882869823291065e-10i,7.511292230994587e-9+0.006070551588154463i,-3.7799844828891776e-8-0.006070552697184846i,-5.692245493546158e-7-5.570193219379993e-4i,0.9999713535098871+9.500676190421268e-9i\n",
      "3,\"+y,-x\",6.123233995737448e-17+0.0i,-5.219729941361524e-8-0.1663508238552081i,5.2298852474721286e-8+0.16635082384106242i,-0.9999998411925576+3.884732452875448e-12i,0.9999996176125208+2.246010441308919e-11i,-0.9999997397009999+2.706273624458082e-10i,-5.224939992221501e-9+0.08738522677647156i,1.0347605445947948e-8-0.08738522629336093i,0.999998388060966-1.037761029972412e-10i,-0.9999989087062636+2.949794566901156e-10i,4.4425714167520167e-4-0.02282298457775417i,-1.9897133080976445e-8+0.02283311665443651i,0.9995555947585332-1.0126178470657413e-5i,0.9999985260256105-6.899695702904985e-9i,0.9999983833301187-2.1134375013023522e-10i,-2.464664514577515e-7-0.06330554215695904i,2.2785393133348432e-7+0.06330554350158787i,2.2880867669427814e-7-0.8073807256593514i,-9.389191672973664e-8+0.807380626904531i,-0.9999988712048212-7.050410752538169e-10i,-0.9999954274269367+3.0151249996901524e-9i,0.9999966898064719+8.064734871839759e-8i,-0.9999985557465394+1.1529092569574533e-8i,1.969630487095652e-7-0.6300877483377424i,-1.8572092198529557e-7+0.630087763299381i,-0.9999986541583442-1.2159186354810948e-9i,0.9999981123310889+1.3875903871464478e-10i,1.5101818670697616e-6+0.647819087337452i,-1.5298936050351349e-6-0.6478190605348176i,8.710922805827239e-7+0.1742084238730541i,4.525148200689314e-5-0.17420166161207515i,0.9999518375139335-6.7610935361260036e-6i,-0.999997352389865+7.854642468548256e-8i,0.9999980171241121-1.2495191031156837e-7i,0.999999115274046+4.138693124397065e-9i,-0.9999976262462111-5.882869828259972e-10i,7.51129214504446e-9-0.006070551588154469i,-3.7799844802925133e-8+0.006070552697184861i,-5.69224549347162e-7+5.570193219379988e-4i,0.9999713535098865-9.500676191412005e-9i\n",
      "3,\"-x+0.5,+y+0.5\",-1.0-0.0i,0.9071283739121951+3.698145847712275e-18i,-0.9071281035357218-4.614635496641428e-18i,-0.9999998414157785-2.482865326639168e-19i,-0.9999996188397123-3.4458359085489006e-19i,-0.9999997523902845-1.0460856898590609e-19i,0.9753072748375055-8.860388144753609e-18i,-0.9753073620930741+3.059483005482533e-18i,0.9999983900153506+4.563390003332543e-20i,0.9999991959049388+2.263827900435126e-19i,0.9983188846906055+5.20289987850954e-19i,-0.9983177606885214-1.4844252400631613e-19i,0.9999988251421253-1.3303711227812855e-19i,0.9999991072319829-6.657149569826767e-20i,-0.9999983861316398-1.1011428314305904e-19i,0.9816396343117405-9.740878893424454e-20i,-0.9816370000152018+1.2874900798265365e-18i,-0.11851339287243909-3.97089045672816e-17i,0.11851268997300991+1.8892222855559915e-17i,-0.9999988889307208+1.5511290846594375e-20i,0.9999962610678805-2.3505164286306834e-20i,0.9999977626995377+1.164670302474663e-19i,-0.999998541232313-1.5147331377071043e-20i,-0.3179722998880637-1.7914746834428452e-18i,0.3179718942008868-3.976650280769489e-17i,-0.9999986635686113+4.855169692604498e-19i,-0.999998113048279+5.389247126905486e-20i,0.23045877208798227-7.565444174991234e-17i,-0.23045455962550995+1.4724820755068757e-17i,-0.9630013038363342-3.1035287187397564e-18i,0.9630016993255417-4.845028458294598e-19i,0.9999958057434563-9.558237414172745e-20i,0.9999974879713999-3.901645513290121e-20i,-0.9999992032052664-1.9317645153318387e-19i,-0.9999992008479839+3.6496532114819666e-19i,-0.9999988520811184-1.1996104115489029e-19i,-0.9994646044291982+8.893845946170154e-20i,0.9994653614546691-8.830318475126081e-20i,0.9999958136542623+2.2234614865425384e-20i,0.9999507526536228+2.694358865656726e-19i\n",
      "3,\"+x+0.5,-y+0.5\",1.0-0.0i,-0.9071281034847906-2.059137094775204e-18i,0.9071283737946384+9.103486600615593e-18i,-0.9999998409902822+1.7988862217313203e-19i,-0.999999616620401+2.185609701712112e-19i,-0.9999997282527945-1.4717197458543468e-20i,-0.9753073548770824+5.417199214164878e-18i,0.975307271100562+5.421010862427522e-20i,0.999998386635169-2.2764010457459322e-20i,0.9999991822628159+2.7396221887756277e-20i,-0.9974299774174082-9.281787036012623e-18i,0.9983180966621685-1.7073007843094491e-18i,0.9991123788731171+1.7693247718721453e-17i,0.9999984909824915-9.612500462356224e-20i,-0.9999983792318906-1.0206747014414319e-19i,-0.9816369500472559+2.3217173084240372e-18i,0.9816396009515251-2.9929909191230702e-18i,0.11851270985632187-1.5795470400398193e-17i,-0.11851318304680872+1.473159701864679e-17i,-0.9999988562115827+1.9778219318387913e-19i,0.999996225969266+1.6210093028079173e-19i,0.9999974287637647-9.804406364468526e-20i,-0.9999984296497904+1.3759322309207062e-20i,0.31797185228486397+7.309894334804612e-19i,-0.31797238895865876+4.637505386217294e-18i,-0.9999986358852959-2.085686283715706e-19i,-0.9999981011928414+3.8360004598779127e-19i,-0.23045454018278835+1.1351512042628506e-16i,0.23045879163282942-4.107432167825553e-17i,0.9629984611351625+2.405573570202213e-18i,-0.9629121424129699-3.869246503057644e-18i,0.9999078587556138-1.021098217915059e-18i,0.9999972247988854+1.5828928201814738e-20i,-0.9999968667269408+3.674005408715528e-20i,-0.9999990429619704-1.222903817598396e-19i,-0.9999964063499832+7.123547086408666e-19i,0.9994653559551568-6.291337215731316e-19i,-0.9994645344273558+3.1763735522036263e-21i,-0.9999922044667187-8.898081110906425e-19i,0.9999966769148668-3.392962523794511e-19i\n",
      "3,\"-y+0.5,-x+0.5\",-6.123233995737448e-17-0.0i,0.3865815726276777+9.930614273609417e-18i,-0.3865815725583624-8.639736061993863e-19i,0.9999996826009705+2.558568896300021e-19i,-0.9999992364821162-2.685094442796132e-19i,0.9999994914592673-1.011145580784821e-19i,-0.20282674960250985-5.886878983417387e-19i,0.20282675066193154-2.197203465177655e-18i,0.9999967796572997-1.2705494208814505e-20i,-0.999998129801209+5.759824041329242e-20i,0.053701180111686904+9.622294280808852e-19i,-0.05328054970987064+5.574535584117364e-19i,0.9995787973489582-2.0297874031528426e-17i,0.9999976497410269+2.254166430880507e-19i,-0.9999967750495972+5.505714157152952e-20i,0.1799287057067973-3.0103550945417834e-18i,-0.17992870668592237+7.995991022080595e-19i,0.5780011887270522-1.5707378973883745e-17i,-0.5780008789248061-3.745918505937418e-17i,0.9999977634978346-1.0577323928838075e-19i,-0.999991693162258-1.7634167170650465e-19i,0.9999944385367754-2.879912020664621e-19i,0.9999971681100319-5.0345520802427476e-20i,0.708432713181418+3.294280538461425e-17i,-0.7084327192888487-1.976805492302086e-17i,0.9999973833905503-1.810566011980569e-19i,-0.9999962259100383+9.613823951336309e-20i,-0.7260918420644202-8.632112765468575e-18i,0.72609165174567-2.232270629193983e-17i,-0.2056173959320145+6.911788849595091e-18i,0.20565334854055514-2.690176640479658e-18i,0.9999570827709954+9.327950331637982e-19i,-0.9999950971999739+8.877964078409135e-20i,-0.9999970990202591+1.545835128739098e-19i,-0.9999983220338226+1.2536087619363645e-19i,0.9999964761292803-1.6548906206980893e-19i,-0.0320873122438668+5.488773498207866e-19i,0.032087288779681755-4.0742284762931846e-19i,0.0017549882106580018+7.254837193233082e-19i,0.9999685975198542-2.3242054677065967e-18i\n",
      "3,\"+y+0.5,+x+0.5\",6.123233995737448e-17-0.0i,-0.3865817237361368-4.038653092508504e-18i,0.38658172373965155-8.209443324788679e-18i,0.9999999997894714-1.3621348583033217e-19i,-0.9999999987347278+1.1383328717709746e-19i,0.9999999879574261-2.8269724614612274e-20i,0.20282690559167257-1.6551023789349029e-18i,-0.20282690228331507+1.6263032587282567e-19i,0.999999996411937-2.014350227689133e-20i,-0.9999996914986646+1.1478619924275854e-19i,-0.052812708095061486+9.634152742070412e-18i,0.05328062997181063+3.6009488170148443e-19i,0.999532392458307-7.415349936737772e-18i,0.9999994023278033-1.0083662539266429e-19i,-0.9999999901004771-1.945793498520738e-19i,-0.1799294680608399-1.4340267797015305e-18i,0.17992947017123584-4.811147140404426e-19i,-0.5780034727127401-7.291259609965017e-18i,0.5780036444736323+4.8043708768263915e-17i,0.9999999811252417-1.3219007933087425e-19i,-0.999998992422422+5.95305343242163e-20i,0.9999989379287819-6.246867986000465e-20i,0.999999854537714-1.2464950086684085e-19i,-0.7084355802590081+2.2720811777149352e-17i,0.708435606826883-1.3847294621713302e-17i,0.9999999645939879-2.5940384009662948e-21i,-0.9999999825696652-5.336307567702092e-20i,0.7260968095237802+1.0692943926138287e-17i,-0.726096939532737+1.6940658945086007e-21i,0.20561565860825348-4.004771774618332e-18i,-0.20556369674457511-1.2807138162485021e-18i,0.9999467160364428+2.131981928239074e-18i,-0.9999995868769603+3.118140037079893e-20i,-0.9999989352107934-2.9540274035493724e-20i,-0.999999908495025-4.609844466533521e-19i,0.9999987764535231-1.1763170054994096e-19i,0.0320874272479538-9.740878893424454e-20i,-0.032087441587862996-2.6639186191147746e-19i,-0.0017561352352957126-4.349514184150832e-19i,0.9999741097058745+1.8816241353213244e-18i\n"
     ]
    },
    {
     "data": {
      "text/plain": [
       "Process(`\u001b[4mcat\u001b[24m \u001b[4m./symeigs/output/dim2-sg12-102-res64-tm-symeigs.out\u001b[24m`, ProcessExited(0))"
      ]
     },
     "execution_count": 7,
     "metadata": {},
     "output_type": "execute_result"
    }
   ],
   "source": [
    "run(`cat ./symeigs/output/dim2-sg12-102-res64-tm-symeigs.out`)"
   ]
  },
  {
   "cell_type": "code",
   "execution_count": 82,
   "id": "23ec37c9",
   "metadata": {},
   "outputs": [
    {
     "data": {
      "text/plain": [
       "SpaceGroup{2} ⋕13 (p3) with 3 operations:\n",
       " 1\n",
       " 3⁺\n",
       " 3⁻"
      ]
     },
     "execution_count": 82,
     "metadata": {},
     "output_type": "execute_result"
    }
   ],
   "source": [
    "spacegroup(13, 2)"
   ]
  },
  {
   "cell_type": "code",
   "execution_count": 5,
   "id": "75745260",
   "metadata": {},
   "outputs": [
    {
     "data": {
      "text/plain": [
       "4-element Vector{Any}:\n",
       " Any[1:4, TRIVIAL]\n",
       " Any[5:10, TRIVIAL]\n",
       " Any[11:12, TRIVIAL]\n",
       " Any[13:34, TRIVIAL]"
      ]
     },
     "execution_count": 5,
     "metadata": {},
     "output_type": "execute_result"
    }
   ],
   "source": [
    "label_topologies(\"dim2-sg12-102-res64-tm\", true, \"./symeigs/output\", verbose=false, atol=2e-2)"
   ]
  },
  {
   "cell_type": "code",
   "execution_count": 78,
   "id": "7d5f4944",
   "metadata": {},
   "outputs": [
    {
     "data": {
      "text/plain": [
       "SymBasis (#12): 10 Hilbert vectors, sampling 9 LGIrreps (spin-1 w/ TR)\n",
       "──────┬───────────────────────────────\n",
       "\u001b[1m      \u001b[0m│\u001b[1m 1 \u001b[0m\u001b[1m 2 \u001b[0m\u001b[1m 3 \u001b[0m\u001b[1m 4 \u001b[0m\u001b[1m 5 \u001b[0m\u001b[1m 6 \u001b[0m\u001b[1m 7 \u001b[0m\u001b[1m 8 \u001b[0m\u001b[1m 9 \u001b[0m\u001b[1m 10 \u001b[0m\n",
       "──────┼───────────────────────────────\n",
       "\u001b[1m M₁M₃ \u001b[0m│\u001b[94m · \u001b[0m\u001b[94m · \u001b[0m\u001b[94m · \u001b[0m\u001b[94m · \u001b[0m\u001b[94m 1 \u001b[0m\u001b[94m 1 \u001b[0m\u001b[94m 1 \u001b[0m\u001b[94m 1 \u001b[0m\u001b[94m 1 \u001b[0m\u001b[94m 1  \u001b[0m\n",
       "\u001b[1m M₂M₄ \u001b[0m│\u001b[94m · \u001b[0m\u001b[94m · \u001b[0m\u001b[94m · \u001b[0m\u001b[94m 1 \u001b[0m\u001b[94m · \u001b[0m\u001b[94m 1 \u001b[0m\u001b[94m 1 \u001b[0m\u001b[94m 1 \u001b[0m\u001b[94m 1 \u001b[0m\u001b[94m 1  \u001b[0m\n",
       "\u001b[1m M₅   \u001b[0m│\u001b[94m 1 \u001b[0m\u001b[94m 1 \u001b[0m\u001b[94m 1 \u001b[0m\u001b[94m · \u001b[0m\u001b[94m · \u001b[0m\u001b[94m · \u001b[0m\u001b[94m · \u001b[0m\u001b[94m · \u001b[0m\u001b[94m · \u001b[0m\u001b[94m ·  \u001b[0m\n",
       "\u001b[1m X₁   \u001b[0m│ 1  1  1  1  1  2  2  2  2  2\n",
       "\u001b[1m Γ₁   \u001b[0m│\u001b[94m · \u001b[0m\u001b[94m · \u001b[0m\u001b[94m 1 \u001b[0m\u001b[94m · \u001b[0m\u001b[94m 1 \u001b[0m\u001b[94m · \u001b[0m\u001b[94m · \u001b[0m\u001b[94m · \u001b[0m\u001b[94m 1 \u001b[0m\u001b[94m 2  \u001b[0m\n",
       "\u001b[1m Γ₂   \u001b[0m│\u001b[94m · \u001b[0m\u001b[94m 1 \u001b[0m\u001b[94m · \u001b[0m\u001b[94m 1 \u001b[0m\u001b[94m · \u001b[0m\u001b[94m · \u001b[0m\u001b[94m 1 \u001b[0m\u001b[94m 2 \u001b[0m\u001b[94m · \u001b[0m\u001b[94m ·  \u001b[0m\n",
       "\u001b[1m Γ₃   \u001b[0m│\u001b[94m · \u001b[0m\u001b[94m 1 \u001b[0m\u001b[94m · \u001b[0m\u001b[94m · \u001b[0m\u001b[94m 1 \u001b[0m\u001b[94m · \u001b[0m\u001b[94m 1 \u001b[0m\u001b[94m 2 \u001b[0m\u001b[94m · \u001b[0m\u001b[94m ·  \u001b[0m\n",
       "\u001b[1m Γ₄   \u001b[0m│\u001b[94m · \u001b[0m\u001b[94m · \u001b[0m\u001b[94m 1 \u001b[0m\u001b[94m 1 \u001b[0m\u001b[94m · \u001b[0m\u001b[94m · \u001b[0m\u001b[94m · \u001b[0m\u001b[94m · \u001b[0m\u001b[94m 1 \u001b[0m\u001b[94m 2  \u001b[0m\n",
       "\u001b[1m Γ₅   \u001b[0m│\u001b[94m 1 \u001b[0m\u001b[94m · \u001b[0m\u001b[94m · \u001b[0m\u001b[94m · \u001b[0m\u001b[94m · \u001b[0m\u001b[94m 2 \u001b[0m\u001b[94m 1 \u001b[0m\u001b[94m · \u001b[0m\u001b[94m 1 \u001b[0m\u001b[94m ·  \u001b[0m\n",
       "──────┼───────────────────────────────\n",
       "\u001b[1m μ    \u001b[0m│\u001b[93m 2 \u001b[0m\u001b[93m 2 \u001b[0m\u001b[93m 2 \u001b[0m\u001b[93m 2 \u001b[0m\u001b[93m 2 \u001b[0m\u001b[93m 4 \u001b[0m\u001b[93m 4 \u001b[0m\u001b[93m 4 \u001b[0m\u001b[93m 4 \u001b[0m\u001b[93m 4  \u001b[0m\n",
       "──────┴───────────────────────────────\n",
       "  KVecs: M, X, Γ"
      ]
     },
     "execution_count": 78,
     "metadata": {},
     "output_type": "execute_result"
    }
   ],
   "source": [
    "compatibility_basis(12, 2)[1]"
   ]
  },
  {
   "cell_type": "code",
   "execution_count": 44,
   "id": "4d355b39",
   "metadata": {},
   "outputs": [
    {
     "data": {
      "text/plain": [
       "topology_bandgroupings_and_corner (generic function with 2 methods)"
      ]
     },
     "execution_count": 44,
     "metadata": {},
     "output_type": "execute_result"
    }
   ],
   "source": [
    "function topology_bandgroupings_and_corner(id::Integer, polarization::AbstractString, sg::Integer = 2)\n",
    "    \n",
    "    g = label_topologies(\"dim2-sg$sg-$id-res64-$polarization\", true, \"./symeigs/output\")\n",
    "    \n",
    "    topo = Int.(isequal.(TopologyKind(1), [grouping[2] for grouping in g]))\n",
    "    fragile = Int.(isequal.(TopologyKind(2), [grouping[2] for grouping in g]))\n",
    "    c = []\n",
    "\n",
    "    if (sg == 16 || sg == 10 || sg == 2)\n",
    "        c = vcat(c, [v[2] for v in label_corner(\"dim2-sg$sg-$id-res64-$polarization\", true, \"./symeigs/output\")])\n",
    "    else \n",
    "        c = zeros(40)\n",
    "    end\n",
    "    vcat(topo, zeros(40 - length(topo))),  vcat(fragile, zeros(40 - length(topo))), (!iszero).(vcat(c, zeros(40 - length(c)))), \n",
    "    vcat(length.([first(grouping) for grouping in g]), zeros(40 - length(g)))\n",
    "end"
   ]
  },
  {
   "cell_type": "code",
   "execution_count": 9,
   "id": "b61f49f8",
   "metadata": {},
   "outputs": [
    {
     "data": {
      "text/plain": [
       "([0.0, 0.0, 1.0, 1.0, 1.0, 0.0, 0.0, 0.0, 1.0, 0.0  …  0.0, 0.0, 0.0, 0.0, 0.0, 0.0, 0.0, 0.0, 0.0, 0.0], [0.0, 0.0, 0.0, 0.0, 0.0, 0.0, 0.0, 0.0, 0.0, 0.0  …  0.0, 0.0, 0.0, 0.0, 0.0, 0.0, 0.0, 0.0, 0.0, 0.0], Bool[0, 1, 0, 1, 1, 1, 1, 0, 0, 1  …  0, 0, 0, 0, 0, 0, 0, 0, 0, 0], [1.0, 2.0, 5.0, 3.0, 4.0, 3.0, 3.0, 1.0, 3.0, 3.0  …  0.0, 0.0, 0.0, 0.0, 0.0, 0.0, 0.0, 0.0, 0.0, 0.0])"
      ]
     },
     "execution_count": 9,
     "metadata": {},
     "output_type": "execute_result"
    }
   ],
   "source": [
    "id = 100\n",
    "polarization=\"te\"\n",
    "sg=16\n",
    "t, f, c, num_bands= topology_bandgroupings_and_corner(id, polarization, sg)\n"
   ]
  },
  {
   "cell_type": "code",
   "execution_count": 10,
   "id": "b623c29e",
   "metadata": {},
   "outputs": [
    {
     "name": "stdout",
     "output_type": "stream",
     "text": [
      "Calculating spacegroup 2\n",
      "Calculating spacegroup 9\n",
      "Calculating spacegroup 10\n",
      "Calculating spacegroup 11\n",
      "Calculating spacegroup 12\n",
      "Calculating spacegroup 13\n",
      "Calculating spacegroup 14\n",
      "Calculating spacegroup 15\n",
      "Calculating spacegroup 16\n",
      "Calculating spacegroup 17\n"
     ]
    }
   ],
   "source": [
    "all_topological_te = []\n",
    "all_fragile_te = []\n",
    "all_charges_te = []\n",
    "all_topological_tm = []\n",
    "all_fragile_tm = []\n",
    "all_charges_tm = []\n",
    "\n",
    "all_num_bands_te = []\n",
    "all_num_bands_tm = []\n",
    "\n",
    "n_groupings = 40\n",
    "for sg in (2, 9, 10, 11, 12, 13, 14, 15, 16, 17)\n",
    "    topological_te = zeros(n_groupings)\n",
    "    fragile_te = zeros(n_groupings)\n",
    "    charges_te = zeros(n_groupings)\n",
    "    topological_tm = zeros(n_groupings)\n",
    "    fragile_tm = zeros(n_groupings)\n",
    "    charges_tm = zeros(n_groupings)\n",
    "    num_bands_te = zeros(n_groupings, n_groupings)\n",
    "    num_bands_tm = zeros(n_groupings, n_groupings)\n",
    "\n",
    "    sg in (2, 6, 9, 10, 11, 12, 13, 14, 15, 16, 17) || continue\n",
    "    println(\"Calculating spacegroup $sg\"); flush(stdout)\n",
    "    for id in 1:5\n",
    "        for polarization in (\"te\", \"tm\")\n",
    "            try\n",
    "                t, f, c, num_bands= topology_bandgroupings_and_corner(id, polarization, sg)\n",
    "                num_bands = Int.(num_bands)\n",
    "                if polarization == \"te\"\n",
    "                    fragile_te += f\n",
    "                    topological_te += t\n",
    "                    charges_te += c\n",
    "                    for (i, nband) in enumerate(num_bands)\n",
    "                        iszero(nband) && continue\n",
    "                        num_bands_te[i, nband] += 1\n",
    "                    end\n",
    "                else\n",
    "                    fragile_tm += f\n",
    "                    topological_tm += t\n",
    "                    charges_tm += c\n",
    "                    for (i, nband) in enumerate(num_bands)\n",
    "                        iszero(nband) && continue\n",
    "                        num_bands_tm[i, nband] += 1\n",
    "                    end\n",
    "                end\n",
    "            catch\n",
    "            end\n",
    "        end\n",
    "    end\n",
    "    push!(all_num_bands_te, num_bands_te)\n",
    "    push!(all_num_bands_tm, num_bands_tm)\n",
    "    push!(all_fragile_te, fragile_te)\n",
    "    push!(all_topological_te, topological_te)\n",
    "    push!(all_charges_te, charges_te)\n",
    "    push!(all_fragile_tm, fragile_tm)\n",
    "    push!(all_topological_tm, topological_tm)\n",
    "    push!(all_charges_tm, charges_tm)\n",
    "\n",
    "    #=for polarization in (\"te\", \"tm\")\n",
    "        println(\"sg $sg of polarization $polarization $(has_fragile[polarization]) lattices\")\n",
    "        println(\"sg $sg of polarization $polarization $(has_topological[polarization]) lattices\")\n",
    "        flush(stdout)\n",
    "end=#\n",
    "end"
   ]
  },
  {
   "cell_type": "code",
   "execution_count": 11,
   "id": "56a2e6d7",
   "metadata": {},
   "outputs": [
    {
     "data": {
      "text/plain": [
       "10-element Vector{Any}:\n",
       " [0.0, 0.0, 0.0, 0.0, 0.0, 0.0, 0.0, 0.0, 0.0, 0.0  …  0.0, 0.0, 0.0, 0.0, 0.0, 0.0, 0.0, 0.0, 0.0, 0.0]\n",
       " [0.0, 0.0, 0.0, 0.0, 1.0, 2.0, 0.0, 0.0, 0.0, 0.0  …  0.0, 0.0, 0.0, 0.0, 0.0, 0.0, 0.0, 0.0, 0.0, 0.0]\n",
       " [0.0, 0.0, 0.0, 0.0, 0.0, 0.0, 0.0, 0.0, 1.0, 0.0  …  0.0, 0.0, 0.0, 0.0, 0.0, 0.0, 0.0, 0.0, 0.0, 0.0]\n",
       " [0.0, 0.0, 1.0, 0.0, 0.0, 0.0, 0.0, 0.0, 0.0, 0.0  …  0.0, 0.0, 0.0, 0.0, 0.0, 0.0, 0.0, 0.0, 0.0, 0.0]\n",
       " [0.0, 0.0, 2.0, 0.0, 0.0, 1.0, 0.0, 0.0, 0.0, 0.0  …  0.0, 0.0, 0.0, 0.0, 0.0, 0.0, 0.0, 0.0, 0.0, 0.0]\n",
       " [0.0, 0.0, 1.0, 0.0, 0.0, 0.0, 1.0, 0.0, 1.0, 0.0  …  0.0, 0.0, 0.0, 0.0, 0.0, 0.0, 0.0, 0.0, 0.0, 0.0]\n",
       " [0.0, 0.0, 0.0, 0.0, 0.0, 0.0, 1.0, 0.0, 1.0, 1.0  …  0.0, 0.0, 0.0, 0.0, 0.0, 0.0, 0.0, 0.0, 0.0, 0.0]\n",
       " [0.0, 0.0, 0.0, 1.0, 0.0, 1.0, 0.0, 0.0, 1.0, 0.0  …  0.0, 0.0, 0.0, 0.0, 0.0, 0.0, 0.0, 0.0, 0.0, 0.0]\n",
       " [0.0, 0.0, 0.0, 0.0, 0.0, 1.0, 0.0, 1.0, 1.0, 0.0  …  0.0, 0.0, 0.0, 0.0, 0.0, 0.0, 0.0, 0.0, 0.0, 0.0]\n",
       " [0.0, 0.0, 0.0, 0.0, 0.0, 0.0, 0.0, 0.0, 0.0, 0.0  …  0.0, 0.0, 0.0, 0.0, 0.0, 0.0, 0.0, 0.0, 0.0, 0.0]"
      ]
     },
     "execution_count": 11,
     "metadata": {},
     "output_type": "execute_result"
    }
   ],
   "source": [
    "all_fragile_te"
   ]
  },
  {
   "cell_type": "code",
   "execution_count": 58,
   "id": "5ab36c6f",
   "metadata": {},
   "outputs": [
    {
     "data": {
      "image/png": "[encoded data removed]",
      "text/plain": [
       "Figure(PyObject <Figure size 1500x800 with 30 Axes>)"
      ]
     },
     "metadata": {},
     "output_type": "display_data"
    },
    {
     "data": {
      "text/plain": [
       "5-element Vector{Nothing}:\n",
       " nothing\n",
       " nothing\n",
       " nothing\n",
       " nothing\n",
       " nothing"
      ]
     },
     "execution_count": 58,
     "metadata": {},
     "output_type": "execute_result"
    }
   ],
   "source": [
    "sgs = [2, 9, 10, 11, 12, 13, 14, 15, 16, 17]\n",
    "\n",
    "num_ids = 100\n",
    "band_set_range = 1:3\n",
    "fig, (axes) = subplots(4, 10, figsize=(15, 8), gridspec_kw=Dict(\"width_ratios\" => [3, 1, 3, 1, 3, 1, 3, 1, 3, 1], \"height_ratios\" => [1, 3, 1, 3]))\n",
    "#xlabel(\"Band Grouping\")\n",
    "ax_num = 1\n",
    "for (i, sg) in enumerate(sgs)\n",
    "    row = i > 5 ? 2 : 1\n",
    "    col = rem(i, 5)\n",
    "    col = iszero(col) ? 5 : col\n",
    "    #println(\"row: $row, col: $col\")\n",
    "    #xticks(1:20)\n",
    "    axes[2row, 2col-1].set_title(\"SG $sg\", size=10)\n",
    "    axes[2row, 2col-1].bar(band_set_range, all_topological_te[i][band_set_range], color=\"red\", label=\"topological\")\n",
    "    axes[2row, 2col-1].bar(band_set_range, all_fragile_te[i][band_set_range], bottom = all_topological_te[i][band_set_range], color=\"green\", label = \"fragile\")\n",
    "    axes[2row, 2col-1].bar(band_set_range, num_ids .- all_topological_te[i][band_set_range] .- all_fragile_te[i][band_set_range], bottom = all_topological_te[i][band_set_range] + all_fragile_te[i][band_set_range], color=\"blue\", label=\"trivial\")\n",
    "    axes[2row, 2col].set_title(\"SG $sg C\", size=10)\n",
    "    axes[2row, 2col].bar(band_set_range, all_charges_te[i][band_set_range], color=\"red\", label=\"w/ corner charge\")\n",
    "    axes[2row, 2col].bar(band_set_range, num_ids .- all_charges_te[i][band_set_range], bottom = all_charges_te[i][band_set_range], color=\"blue\", label=\"w/o corner charge\")\n",
    "    \n",
    "    \n",
    "    axes[2row, 2col-1].set_yticks([])\n",
    "    axes[2row, 2col].set_yticks([])\n",
    "    axes[2row, 2col-1].set_xticks([])\n",
    "    axes[2row, 2col].set_xticks([])\n",
    "    axes[2row-1, 2col-1].set_yticks([])\n",
    "    axes[2row-1, 2col].set_yticks([])\n",
    "    axes[2row-1, 2col-1].set_xticks([])\n",
    "    axes[2row-1, 2col].set_xticks([])\n",
    "    \n",
    "    axes[2row-1, 2col-1].set_title(\"SG $sg\", size=10)\n",
    "    axes[2row-1, 2col-1].bar(band_set_range, all_num_bands_te[i][band_set_range, 1], color=\"red\", label=\"topological\")\n",
    "    axes[2row-1, 2col-1].bar(band_set_range, all_num_bands_te[i][band_set_range, 2], bottom =  all_num_bands_te[i][band_set_range, 1], color=\"green\", label = \"fragile\")\n",
    "    axes[2row-1, 2col-1].bar(band_set_range, all_num_bands_te[i][band_set_range, 3], bottom =  vec(sum(all_num_bands_te[i][band_set_range, 1:2], dims=2)), color=\"blue\", label = \"fragile\")\n",
    "\n",
    "    axes[2row-1, 2col-1].bar(band_set_range, vec(sum(all_num_bands_te[i][band_set_range, 4:end], dims=2)), bottom =  vec(sum(all_num_bands_te[i][band_set_range, 1:3], dims=2)), color=\"purple\", label = \"fragile\")\n",
    "end\n",
    "delaxes.(axes[1, 2:2:10])\n",
    "delaxes.(axes[3, 2:2:10])\n",
    "\n",
    "#legend()\n"
   ]
  },
  {
   "cell_type": "code",
   "execution_count": 60,
   "id": "da43f24a",
   "metadata": {},
   "outputs": [
    {
     "data": {
      "image/png": "[encoded data removed]",
      "text/plain": [
       "Figure(PyObject <Figure size 1500x800 with 30 Axes>)"
      ]
     },
     "metadata": {},
     "output_type": "display_data"
    },
    {
     "data": {
      "text/plain": [
       "5-element Vector{Nothing}:\n",
       " nothing\n",
       " nothing\n",
       " nothing\n",
       " nothing\n",
       " nothing"
      ]
     },
     "execution_count": 60,
     "metadata": {},
     "output_type": "execute_result"
    }
   ],
   "source": [
    "sgs = [2, 9, 10, 11, 12, 13, 14, 15, 16, 17]\n",
    "\n",
    "num_ids = 100\n",
    "band_set_range = 1:3\n",
    "fig, (axes) = subplots(4, 10, figsize=(15, 8), gridspec_kw=Dict(\"width_ratios\" => [3, 1, 3, 1, 3, 1, 3, 1, 3, 1], \"height_ratios\" => [1, 3, 1, 3]))\n",
    "#xlabel(\"Band Grouping\")\n",
    "ax_num = 1\n",
    "for (i, sg) in enumerate(sgs)\n",
    "    row = i > 5 ? 2 : 1\n",
    "    col = rem(i, 5)\n",
    "    col = iszero(col) ? 5 : col\n",
    "    #println(\"row: $row, col: $col\")\n",
    "    #xticks(1:20)\n",
    "    axes[2row, 2col-1].set_title(\"SG $sg\", size=10)\n",
    "    axes[2row, 2col-1].bar(band_set_range, all_topological_tm[i][band_set_range], color=\"red\", label=\"topological\")\n",
    "    axes[2row, 2col-1].bar(band_set_range, all_fragile_tm[i][band_set_range], bottom = all_topological_tm[i][band_set_range], color=\"green\", label = \"fragile\")\n",
    "    axes[2row, 2col-1].bar(band_set_range, num_ids .- all_topological_tm[i][band_set_range] .- all_fragile_tm[i][band_set_range], bottom = all_topological_tm[i][band_set_range] + all_fragile_tm[i][band_set_range], color=\"blue\", label=\"trivial\")\n",
    "    axes[2row, 2col].set_title(\"SG $sg C\", size=10)\n",
    "    axes[2row, 2col].bar(band_set_range, all_charges_tm[i][band_set_range], color=\"red\", label=\"w/ corner charge\")\n",
    "    axes[2row, 2col].bar(band_set_range, num_ids .- all_charges_tm[i][band_set_range], bottom = all_charges_tm[i][band_set_range], color=\"blue\", label=\"w/o corner charge\")\n",
    "    \n",
    "    \n",
    "    axes[2row, 2col-1].set_yticks([])\n",
    "    axes[2row, 2col].set_yticks([])\n",
    "    axes[2row, 2col-1].set_xticks([])\n",
    "    axes[2row, 2col].set_xticks([])\n",
    "    axes[2row-1, 2col-1].set_yticks([])\n",
    "    axes[2row-1, 2col].set_yticks([])\n",
    "    axes[2row-1, 2col-1].set_xticks([])\n",
    "    axes[2row-1, 2col].set_xticks([])\n",
    "    \n",
    "    axes[2row-1, 2col-1].set_title(\"SG $sg\", size=10)\n",
    "    axes[2row-1, 2col-1].bar(band_set_range, all_num_bands_tm[i][band_set_range, 1], color=\"red\", label=\"topological\")\n",
    "    axes[2row-1, 2col-1].bar(band_set_range, all_num_bands_tm[i][band_set_range, 2], bottom =  all_num_bands_tm[i][band_set_range, 1], color=\"green\", label = \"fragile\")\n",
    "    axes[2row-1, 2col-1].bar(band_set_range, all_num_bands_tm[i][band_set_range, 3], bottom =  vec(sum(all_num_bands_tm[i][band_set_range, 1:2], dims=2)), color=\"blue\", label = \"fragile\")\n",
    "\n",
    "    axes[2row-1, 2col-1].bar(band_set_range, vec(sum(all_num_bands_tm[i][band_set_range, 4:end], dims=2)), bottom =  vec(sum(all_num_bands_tm[i][band_set_range, 1:3], dims=2)), color=\"purple\", label = \"fragile\")\n",
    "end\n",
    "delaxes.(axes[1, 2:2:10])\n",
    "delaxes.(axes[3, 2:2:10])\n"
   ]
  },
  {
   "cell_type": "code",
   "execution_count": 62,
   "id": "74e465f1",
   "metadata": {},
   "outputs": [
    {
     "data": {
      "image/png": "[encoded data removed]",
      "text/plain": [
       "Figure(PyObject <Figure size 1500x800 with 30 Axes>)"
      ]
     },
     "metadata": {},
     "output_type": "display_data"
    },
    {
     "data": {
      "text/plain": [
       "5-element Vector{Nothing}:\n",
       " nothing\n",
       " nothing\n",
       " nothing\n",
       " nothing\n",
       " nothing"
      ]
     },
     "execution_count": 62,
     "metadata": {},
     "output_type": "execute_result"
    }
   ],
   "source": [
    "sgs = [2, 9, 10, 11, 12, 13, 14, 15, 16, 17]\n",
    "\n",
    "num_ids = 100\n",
    "band_set_range = 1:3\n",
    "fig, (axes) = subplots(4, 10, figsize=(15, 8), gridspec_kw=Dict(\"width_ratios\" => [3, 1, 3, 1, 3, 1, 3, 1, 3, 1], \"height_ratios\" => [1, 3, 1, 3]))\n",
    "#xlabel(\"Band Grouping\")\n",
    "ax_num = 1\n",
    "for (i, sg) in enumerate(sgs)\n",
    "    row = i > 5 ? 2 : 1\n",
    "    col = rem(i, 5)\n",
    "    col = iszero(col) ? 5 : col\n",
    "    #println(\"row: $row, col: $col\")\n",
    "    #xticks(1:20)\n",
    "    axes[2row, 2col-1].set_title(\"SG $sg\", size=10)\n",
    "    axes[2row, 2col-1].bar(band_set_range, all_topological_te[i][band_set_range], color=\"red\", label=\"topological\")\n",
    "    axes[2row, 2col-1].bar(band_set_range, all_fragile_te[i][band_set_range], bottom = all_topological_te[i][band_set_range], color=\"green\", label = \"fragile\")\n",
    "    axes[2row, 2col-1].bar(band_set_range, num_ids .- all_topological_te[i][band_set_range] .- all_fragile_te[i][band_set_range], bottom = all_topological_te[i][band_set_range] + all_fragile_te[i][band_set_range], color=\"blue\", label=\"trivial\")\n",
    "    axes[2row, 2col].set_title(\"SG $sg C\", size=10)\n",
    "    axes[2row, 2col].bar(band_set_range, all_charges_te[i][band_set_range], color=\"red\", label=\"w/ corner charge\")\n",
    "    axes[2row, 2col].bar(band_set_range, num_ids .- all_charges_te[i][band_set_range], bottom = all_charges_te[i][band_set_range], color=\"blue\", label=\"w/o corner charge\")\n",
    "    \n",
    "    \n",
    "    axes[2row, 2col-1].set_yticks([])\n",
    "    axes[2row, 2col].set_yticks([])\n",
    "    axes[2row, 2col-1].set_xticks([])\n",
    "    axes[2row, 2col].set_xticks([])\n",
    "    axes[2row-1, 2col-1].set_yticks([])\n",
    "    axes[2row-1, 2col].set_yticks([])\n",
    "    axes[2row-1, 2col-1].set_xticks([])\n",
    "    axes[2row-1, 2col].set_xticks([])\n",
    "    \n",
    "    axes[2row-1, 2col-1].set_title(\"SG $sg\", size=10)\n",
    "    axes[2row-1, 2col-1].bar(band_set_range, all_num_bands_te[i][band_set_range, 1], color=\"red\", label=\"topological\")\n",
    "    axes[2row-1, 2col-1].bar(band_set_range, all_num_bands_te[i][band_set_range, 2], bottom =  all_num_bands_te[i][band_set_range, 1], color=\"green\", label = \"fragile\")\n",
    "    axes[2row-1, 2col-1].bar(band_set_range, all_num_bands_te[i][band_set_range, 3], bottom =  vec(sum(all_num_bands_te[i][band_set_range, 1:2], dims=2)), color=\"blue\", label = \"fragile\")\n",
    "\n",
    "    axes[2row-1, 2col-1].bar(band_set_range, vec(sum(all_num_bands_te[i][band_set_range, 4:end], dims=2)), bottom =  vec(sum(all_num_bands_te[i][band_set_range, 1:3], dims=2)), color=\"purple\", label = \"fragile\")\n",
    "end\n",
    "delaxes.(axes[1, 2:2:10])\n",
    "delaxes.(axes[3, 2:2:10])\n"
   ]
  },
  {
   "cell_type": "code",
   "execution_count": 63,
   "id": "7fd272eb",
   "metadata": {},
   "outputs": [
    {
     "data": {
      "image/png": "[encoded data removed]",
      "text/plain": [
       "Figure(PyObject <Figure size 1500x800 with 30 Axes>)"
      ]
     },
     "metadata": {},
     "output_type": "display_data"
    },
    {
     "data": {
      "text/plain": [
       "5-element Vector{Nothing}:\n",
       " nothing\n",
       " nothing\n",
       " nothing\n",
       " nothing\n",
       " nothing"
      ]
     },
     "execution_count": 63,
     "metadata": {},
     "output_type": "execute_result"
    }
   ],
   "source": [
    "sgs = [2, 9, 10, 11, 12, 13, 14, 15, 16, 17]\n",
    "\n",
    "num_ids = 100\n",
    "band_set_range = 1:3\n",
    "fig, (axes) = subplots(4, 10, figsize=(15, 8), gridspec_kw=Dict(\"width_ratios\" => [3, 1, 3, 1, 3, 1, 3, 1, 3, 1], \"height_ratios\" => [1, 3, 1, 3]))\n",
    "#xlabel(\"Band Grouping\")\n",
    "ax_num = 1\n",
    "for (i, sg) in enumerate(sgs)\n",
    "    row = i > 5 ? 2 : 1\n",
    "    col = rem(i, 5)\n",
    "    col = iszero(col) ? 5 : col\n",
    "    #println(\"row: $row, col: $col\")\n",
    "    #xticks(1:20)\n",
    "    axes[2row, 2col-1].set_title(\"SG $sg\", size=10)\n",
    "    axes[2row, 2col-1].bar(band_set_range, all_topological_tm[i][band_set_range], color=\"red\", label=\"topological\")\n",
    "    axes[2row, 2col-1].bar(band_set_range, all_fragile_tm[i][band_set_range], bottom = all_topological_tm[i][band_set_range], color=\"green\", label = \"fragile\")\n",
    "    axes[2row, 2col-1].bar(band_set_range, num_ids .- all_topological_tm[i][band_set_range] .- all_fragile_tm[i][band_set_range], bottom = all_topological_tm[i][band_set_range] + all_fragile_tm[i][band_set_range], color=\"blue\", label=\"trivial\")\n",
    "    axes[2row, 2col].set_title(\"SG $sg C\", size=10)\n",
    "    axes[2row, 2col].bar(band_set_range, all_charges_tm[i][band_set_range], color=\"red\", label=\"w/ corner charge\")\n",
    "    axes[2row, 2col].bar(band_set_range, num_ids .- all_charges_tm[i][band_set_range], bottom = all_charges_tm[i][band_set_range], color=\"blue\", label=\"w/o corner charge\")\n",
    "    \n",
    "    \n",
    "    axes[2row, 2col-1].set_yticks([])\n",
    "    axes[2row, 2col].set_yticks([])\n",
    "    axes[2row, 2col-1].set_xticks([])\n",
    "    axes[2row, 2col].set_xticks([])\n",
    "    axes[2row-1, 2col-1].set_yticks([])\n",
    "    axes[2row-1, 2col].set_yticks([])\n",
    "    axes[2row-1, 2col-1].set_xticks([])\n",
    "    axes[2row-1, 2col].set_xticks([])\n",
    "    \n",
    "    axes[2row-1, 2col-1].set_title(\"SG $sg\", size=10)\n",
    "    axes[2row-1, 2col-1].bar(band_set_range, all_num_bands_tm[i][band_set_range, 1], color=\"red\", label=\"topological\")\n",
    "    axes[2row-1, 2col-1].bar(band_set_range, all_num_bands_tm[i][band_set_range, 2], bottom =  all_num_bands_tm[i][band_set_range, 1], color=\"green\", label = \"fragile\")\n",
    "    axes[2row-1, 2col-1].bar(band_set_range, all_num_bands_tm[i][band_set_range, 3], bottom =  vec(sum(all_num_bands_tm[i][band_set_range, 1:2], dims=2)), color=\"blue\", label = \"fragile\")\n",
    "\n",
    "    axes[2row-1, 2col-1].bar(band_set_range, vec(sum(all_num_bands_tm[i][band_set_range, 4:end], dims=2)), bottom =  vec(sum(all_num_bands_tm[i][band_set_range, 1:3], dims=2)), color=\"purple\", label = \"fragile\")\n",
    "end\n",
    "delaxes.(axes[1, 2:2:10])\n",
    "delaxes.(axes[3, 2:2:10])\n"
   ]
  },
  {
   "cell_type": "code",
   "execution_count": 83,
   "id": "bc325858",
   "metadata": {},
   "outputs": [],
   "source": [
    "# Add corner charge for spacegroup 13 "
   ]
  },
  {
   "cell_type": "code",
   "execution_count": 12,
   "id": "3a1af1e0",
   "metadata": {},
   "outputs": [
    {
     "data": {
      "text/plain": [
       "198000-element Vector{String}:\n",
       " \"dim2-sg10-1-res64-te-dispersion.out\"\n",
       " \"dim2-sg10-1-res64-te-epsilon.h5\"\n",
       " \"dim2-sg10-1-res64-te-symeigs.out\"\n",
       " \"dim2-sg10-1-res64-tm-dispersion.out\"\n",
       " \"dim2-sg10-1-res64-tm-epsilon.h5\"\n",
       " \"dim2-sg10-1-res64-tm-symeigs.out\"\n",
       " \"dim2-sg10-10-res64-te-dispersion.out\"\n",
       " \"dim2-sg10-10-res64-te-epsilon.h5\"\n",
       " \"dim2-sg10-10-res64-te-symeigs.out\"\n",
       " \"dim2-sg10-10-res64-tm-dispersion.out\"\n",
       " \"dim2-sg10-10-res64-tm-epsilon.h5\"\n",
       " \"dim2-sg10-10-res64-tm-symeigs.out\"\n",
       " \"dim2-sg10-100-res64-te-dispersion.out\"\n",
       " ⋮\n",
       " \"dim2-sg9-998-res64-te-dispersion.out\"\n",
       " \"dim2-sg9-998-res64-te-epsilon.h5\"\n",
       " \"dim2-sg9-998-res64-te-symeigs.out\"\n",
       " \"dim2-sg9-998-res64-tm-dispersion.out\"\n",
       " \"dim2-sg9-998-res64-tm-epsilon.h5\"\n",
       " \"dim2-sg9-998-res64-tm-symeigs.out\"\n",
       " \"dim2-sg9-999-res64-te-dispersion.out\"\n",
       " \"dim2-sg9-999-res64-te-epsilon.h5\"\n",
       " \"dim2-sg9-999-res64-te-symeigs.out\"\n",
       " \"dim2-sg9-999-res64-tm-dispersion.out\"\n",
       " \"dim2-sg9-999-res64-tm-epsilon.h5\"\n",
       " \"dim2-sg9-999-res64-tm-symeigs.out\""
      ]
     },
     "execution_count": 12,
     "metadata": {},
     "output_type": "execute_result"
    }
   ],
   "source": [
    "readdir(\"./symeigs/output\")"
   ]
  },
  {
   "cell_type": "code",
   "execution_count": 50,
   "id": "af02b811",
   "metadata": {},
   "outputs": [
    {
     "data": {
      "text/plain": [
       "PyObject <module 'h5py' from '/home/gridsan/aligho/.local/lib/python3.8/site-packages/h5py/__init__.py'>"
      ]
     },
     "execution_count": 50,
     "metadata": {},
     "output_type": "execute_result"
    }
   ],
   "source": [
    "using PyCall\n",
    "using HDF5\n",
    "h5py = pyimport(\"h5py\")"
   ]
  },
  {
   "cell_type": "code",
   "execution_count": 33,
   "id": "37f6dd30",
   "metadata": {},
   "outputs": [
    {
     "data": {
      "text/plain": [
       "🗂️ HDF5.File: (read-only) ./symeigs/output/dim2-sg10-10-res64-tm-epsilon.h5\n",
       "├─ 🔢 data\n",
       "├─ 🔢 description\n",
       "├─ 🔢 epsilon.xx\n",
       "├─ 🔢 epsilon.xy\n",
       "├─ 🔢 epsilon.xy.i\n",
       "├─ 🔢 epsilon.xz\n",
       "├─ 🔢 epsilon.xz.i\n",
       "├─ 🔢 epsilon.yy\n",
       "├─ 🔢 epsilon.yz\n",
       "├─ 🔢 epsilon.yz.i\n",
       "├─ 🔢 epsilon.zz\n",
       "├─ 🔢 epsilon_inverse.xx\n",
       "├─ 🔢 epsilon_inverse.xy\n",
       "├─ 🔢 epsilon_inverse.xy.i\n",
       "├─ 🔢 epsilon_inverse.xz\n",
       "├─ 🔢 epsilon_inverse.xz.i\n",
       "├─ 🔢 epsilon_inverse.yy\n",
       "├─ 🔢 epsilon_inverse.yz\n",
       "├─ 🔢 epsilon_inverse.yz.i\n",
       "├─ 🔢 epsilon_inverse.zz\n",
       "└─ 🔢 lattice vectors"
      ]
     },
     "execution_count": 33,
     "metadata": {},
     "output_type": "execute_result"
    }
   ],
   "source": [
    "dir=\"./symeigs/output/\"\n",
    "filename = \"$(dir)dim2-sg10-10-res64-tm-epsilon.h5\"\n",
    "fid = h5open(filename, \"r\")"
   ]
  },
  {
   "cell_type": "code",
   "execution_count": 49,
   "id": "73637103",
   "metadata": {},
   "outputs": [],
   "source": [
    "#read(fid[\"data\"])\n",
    "close(fid)"
   ]
  },
  {
   "cell_type": "code",
   "execution_count": 67,
   "id": "09a85ced",
   "metadata": {},
   "outputs": [
    {
     "name": "stdout",
     "output_type": "stream",
     "text": [
      "Calculating spacegroup 2\n",
      "[1, 0, 0, 1, 1, 0, 1, 0, 1]\n",
      "Calculating spacegroup 9\n",
      "Calculating spacegroup 10\n",
      "[1, 0, 0, 1, 0, 1, 0, 0, 1]\n",
      "Calculating spacegroup 11\n",
      "Calculating spacegroup 12\n",
      "Calculating spacegroup 13\n",
      "Calculating spacegroup 14\n",
      "Calculating spacegroup 15\n",
      "Calculating spacegroup 16\n",
      "[1, 1, 2, 0, 0, 0, 0, 1, 2]\n",
      "Calculating spacegroup 17\n",
      "ErrorException(\"found no isolable band candidates\")\n"
     ]
    }
   ],
   "source": [
    "ave_epsilon_topo = zeros(10, 64, 64)\n",
    "ave_epsilon_fragile = zeros(10, 64, 64)\n",
    "\n",
    "dir=\"./symeigs/output/\"\n",
    "\n",
    "n_groupings = 40\n",
    "for (sg_id, sg) in enumerate((2, 9, 10, 11, 12, 13, 14, 15, 16, 17))\n",
    "    sg in (2, 6, 9, 10, 11, 12, 13, 14, 15, 16, 17) || continue\n",
    "    brs = bandreps(sg, 2)\n",
    "    println(\"Calculating spacegroup $sg\"); flush(stdout)\n",
    "    \n",
    "    proto_n_topo = Float64[]\n",
    "    proto_n_fragile = Float64[]\n",
    "\n",
    "    for id in 1:100\n",
    "        polarization = \"te\"\n",
    "        try\n",
    "            symeigsd, lgd = read_symdata(\"dim2-sg$sg-$id-res64-$polarization\", dir=\"./symeigs/output\")\n",
    "            lgirsd = pick_lgirreps(lgd)\n",
    "            lg_gamma = lgd[\"Γ\"]\n",
    "            signs = [det(rotation(g)) for g in lg_gamma]\n",
    "            if polarization == \"tm\"\n",
    "                symeigsd[\"Γ\"][1] = ones(length(signs))\n",
    "            end\n",
    "            bsummary = first(analyze_symmetry_data(symeigsd, lgirsd, brs))\n",
    "            f = isequal(bsummary.topology, TopologyKind(2)) \n",
    "            t = isequal(bsummary.topology, TopologyKind(1))\n",
    "            if t \n",
    "                filename = \"$(dir)dim2-sg$(sg)-$id-res64-$(polarization)-epsilon.h5\"\n",
    "                fid = h5open(filename, \"r\")\n",
    "                if isempty(proto_n_topo)\n",
    "                    ave_epsilon_topo[sg_id, :, :] +=  read(fid[\"data\"])\n",
    "                    proto_n_topo = bsummary.n\n",
    "                    println(proto_n_topo)\n",
    "                else\n",
    "                    (bsummary.n == proto_n_topo) || continue\n",
    "                    ave_epsilon_topo[sg_id, :, :] +=  read(fid[\"data\"])\n",
    "                end\n",
    "                \n",
    "                close(fid)\n",
    "\n",
    "            end\n",
    "            if  f\n",
    "                filename = \"$(dir)dim2-sg$(sg)-$id-res64-$(polarization)-epsilon.h5\"\n",
    "                fid = h5open(filename, \"r\")\n",
    "                if isempty(proto_n_fragile)\n",
    "                    ave_epsilon_fragile[sg_id, :, :] +=  read(fid[\"data\"])\n",
    "                    proto_n_fragile = bsummary.n\n",
    "                else\n",
    "                    (bsummary.n == proto_n_fragile) || continue\n",
    "                    ave_epsilon_fragile[sg_id, :, :] +=  read(fid[\"data\"])\n",
    "                end\n",
    "                \n",
    "                close(fid)\n",
    "            end\n",
    "        catch e\n",
    "            println(e)\n",
    "        end\n",
    "    end\n",
    "end"
   ]
  },
  {
   "cell_type": "code",
   "execution_count": 72,
   "id": "65277926",
   "metadata": {},
   "outputs": [
    {
     "data": {
      "image/png": "[encoded data removed]",
      "text/plain": [
       "Figure(PyObject <Figure size 640x480 with 2 Axes>)"
      ]
     },
     "metadata": {},
     "output_type": "display_data"
    },
    {
     "data": {
      "text/plain": [
       "PyObject <matplotlib.colorbar.Colorbar object at 0x7f4866ac5400>"
      ]
     },
     "execution_count": 72,
     "metadata": {},
     "output_type": "execute_result"
    }
   ],
   "source": [
    "imshow(ave_epsilon_topo[3, :, :])\n",
    "colorbar()"
   ]
  },
  {
   "cell_type": "code",
   "execution_count": 73,
   "id": "42734849",
   "metadata": {},
   "outputs": [
    {
     "data": {
      "text/plain": [
       "SpaceGroup{2} ⋕9 (c2mm) with 8 operations:\n",
       " 1\n",
       " 2\n",
       " m₁₀\n",
       " m₀₁\n",
       " {1|½,½}\n",
       " {2|½,½}\n",
       " {m₁₀|½,½}\n",
       " {m₀₁|½,½}"
      ]
     },
     "execution_count": 73,
     "metadata": {},
     "output_type": "execute_result"
    }
   ],
   "source": [
    "function Base.(+)(bs1::BandSummary, bs2::BandSummary)\n",
    "    \n",
    "    # check bands have same bandreps & indicator group\n",
    "    bs1.brs == bs2.brs || error(\"bands must have identical band representations\")\n",
    "    bs1.indicator_group == bs2.indicator_group || error(\"bands must have identical indicator group\")\n",
    "\n",
    "    # consecutiveness check for band\n",
    "    if last(bs1.band) + 1 == first(bs2.band)\n",
    "        band = first(b1):last(bs2)\n",
    "    elseif last(bs2.band) + 1 == first(bs1.band)\n",
    "        band = first(b2):last(bs1)\n",
    "    else\n",
    "        throw(DomainError((bs1.band, bs2.band), \"bands must be consecutive\"))\n",
    "    end\n",
    "# length\n",
    "    \n",
    "# "
   ]
  },
  {
   "cell_type": "markdown",
   "id": "0145af7d",
   "metadata": {},
   "source": [
    "## imshow(ave_epsilon_topo[9, :, :])"
   ]
  },
  {
   "cell_type": "code",
   "execution_count": null,
   "id": "2915b531",
   "metadata": {},
   "outputs": [],
   "source": [
    "# Categorize based on symmetry vectors\n",
    "#\n",
    "# singularities\n",
    "# Method to add band summaries\n",
    "# Cummulative summary\n"
   ]
  },
  {
   "cell_type": "code",
   "execution_count": 42,
   "id": "3440d030",
   "metadata": {},
   "outputs": [
    {
     "name": "stdout",
     "output_type": "stream",
     "text": [
      "Calculating spacegroup 2\n",
      "Calculating spacegroup 9\n",
      "Calculating spacegroup 10\n",
      "Calculating spacegroup 11\n",
      "Calculating spacegroup 12\n",
      "Calculating spacegroup 13\n",
      "Calculating spacegroup 14\n",
      "Calculating spacegroup 15\n",
      "Calculating spacegroup 16\n",
      "Calculating spacegroup 17\n",
      "ErrorException(\"found no isolable band candidates\")\n"
     ]
    }
   ],
   "source": [
    "all_topological_te = []\n",
    "all_fragile_te = []\n",
    "all_charges_te = []\n",
    "all_topological_tm = []\n",
    "all_fragile_tm = []\n",
    "all_charges_tm = []\n",
    "\n",
    "all_num_bands_te = []\n",
    "all_num_bands_tm = []\n",
    "\n",
    "n_groupings = 40\n",
    "for sg in (2, 9, 10, 11, 12, 13, 14, 15, 16, 17)\n",
    "    topological_te = zeros(n_groupings)\n",
    "    fragile_te = zeros(n_groupings)\n",
    "    charges_te = zeros(n_groupings)\n",
    "    topological_tm = zeros(n_groupings)\n",
    "    fragile_tm = zeros(n_groupings)\n",
    "    charges_tm = zeros(n_groupings)\n",
    "    num_bands_te = zeros(n_groupings, n_groupings)\n",
    "    num_bands_tm = zeros(n_groupings, n_groupings)\n",
    "\n",
    "    sg in (2, 6, 9, 10, 11, 12, 13, 14, 15, 16, 17) || continue\n",
    "    brs = bandreps(sg, 2)\n",
    "    println(\"Calculating spacegroup $sg\"); flush(stdout)\n",
    "    for id in 1:100\n",
    "        for polarization in (\"te\", \"tm\")\n",
    "            try\n",
    "                symeigsd, lgd = read_symdata(\"dim2-sg$sg-$id-res64-$polarization\", dir=\"./symeigs/output\")\n",
    "                lgirsd = pick_lgirreps(lgd)\n",
    "                lg_gamma = lgd[\"Γ\"]\n",
    "                signs = [det(rotation(g)) for g in lg_gamma]\n",
    "\n",
    "                if polarization == \"tm\"\n",
    "                    symeigsd[\"Γ\"][1] = ones(length(signs))\n",
    "                end\n",
    "\n",
    "                bsummary = analyze_symmetry_data(symeigsd, lgirsd, brs)\n",
    "                num_summaries = length(bsummary)\n",
    "                f = vcat([isequal(b.topology, TopologyKind(2)) for b in bsummary], zeros(n_groupings - num_summaries))\n",
    "                t = vcat([isequal(b.topology, TopologyKind(1)) for b in bsummary], zeros(n_groupings - num_summaries))\n",
    "                num_bands = [length(b.band) for b in bsummary]\n",
    "                \n",
    "                if polarization == \"te\"\n",
    "                    fragile_te += f\n",
    "                    topological_te += t\n",
    "                    #charges_te += c\n",
    "                    for (i, nband) in enumerate(num_bands)\n",
    "                        iszero(nband) && continue\n",
    "                        num_bands_te[i, nband] += 1\n",
    "                    end\n",
    "                else\n",
    "                    fragile_tm += f\n",
    "                    topological_tm += t\n",
    "                    #charges_tm += c\n",
    "                    for (i, nband) in enumerate(num_bands)\n",
    "                        iszero(nband) && continue\n",
    "                        num_bands_tm[i, nband] += 1\n",
    "                    end\n",
    "                end\n",
    "            catch e\n",
    "                println(e)\n",
    "            end\n",
    "        end\n",
    "    end\n",
    "    push!(all_num_bands_te, num_bands_te)\n",
    "    push!(all_num_bands_tm, num_bands_tm)\n",
    "    push!(all_fragile_te, fragile_te)\n",
    "    push!(all_topological_te, topological_te)\n",
    "    push!(all_charges_te, charges_te)\n",
    "    push!(all_fragile_tm, fragile_tm)\n",
    "    push!(all_topological_tm, topological_tm)\n",
    "    push!(all_charges_tm, charges_tm)\n",
    "\n",
    "end"
   ]
  },
  {
   "cell_type": "code",
   "execution_count": 43,
   "id": "a3c3356a",
   "metadata": {},
   "outputs": [
    {
     "data": {
      "image/png": "[encoded data removed]",
      "text/plain": [
       "Figure(PyObject <Figure size 1500x800 with 30 Axes>)"
      ]
     },
     "metadata": {},
     "output_type": "display_data"
    },
    {
     "data": {
      "text/plain": [
       "5-element Vector{Nothing}:\n",
       " nothing\n",
       " nothing\n",
       " nothing\n",
       " nothing\n",
       " nothing"
      ]
     },
     "execution_count": 43,
     "metadata": {},
     "output_type": "execute_result"
    }
   ],
   "source": [
    "sgs = [2, 9, 10, 11, 12, 13, 14, 15, 16, 17]\n",
    "\n",
    "num_ids = 100\n",
    "band_set_range = 1:3\n",
    "fig, (axes) = subplots(4, 10, figsize=(15, 8), gridspec_kw=Dict(\"width_ratios\" => [3, 1, 3, 1, 3, 1, 3, 1, 3, 1], \"height_ratios\" => [1, 3, 1, 3]))\n",
    "#xlabel(\"Band Grouping\")\n",
    "ax_num = 1\n",
    "for (i, sg) in enumerate(sgs)\n",
    "    row = i > 5 ? 2 : 1\n",
    "    col = rem(i, 5)\n",
    "    col = iszero(col) ? 5 : col\n",
    "    axes[2row, 2col-1].set_title(\"SG $sg\", size=10)\n",
    "    axes[2row, 2col-1].bar(band_set_range, all_topological_te[i][band_set_range], color=\"red\", label=\"topological\")\n",
    "    axes[2row, 2col-1].bar(band_set_range, all_fragile_te[i][band_set_range], bottom = all_topological_te[i][band_set_range], color=\"green\", label = \"fragile\")\n",
    "    axes[2row, 2col-1].bar(band_set_range, num_ids .- all_topological_te[i][band_set_range] .- all_fragile_te[i][band_set_range], bottom = all_topological_te[i][band_set_range] + all_fragile_te[i][band_set_range], color=\"blue\", label=\"trivial\")\n",
    "    axes[2row, 2col].set_title(\"SG $sg C\", size=10)\n",
    "    axes[2row, 2col].bar(band_set_range, all_charges_te[i][band_set_range], color=\"red\", label=\"w/ corner charge\")\n",
    "    axes[2row, 2col].bar(band_set_range, num_ids .- all_charges_te[i][band_set_range], bottom = all_charges_te[i][band_set_range], color=\"blue\", label=\"w/o corner charge\")\n",
    "    \n",
    "    \n",
    "    axes[2row, 2col-1].set_yticks([])\n",
    "    axes[2row, 2col].set_yticks([])\n",
    "    axes[2row, 2col-1].set_xticks([])\n",
    "    axes[2row, 2col].set_xticks([])\n",
    "    axes[2row-1, 2col-1].set_yticks([])\n",
    "    axes[2row-1, 2col].set_yticks([])\n",
    "    axes[2row-1, 2col-1].set_xticks([])\n",
    "    axes[2row-1, 2col].set_xticks([])\n",
    "    \n",
    "    axes[2row-1, 2col-1].set_title(\"SG $sg\", size=10)\n",
    "    axes[2row-1, 2col-1].bar(band_set_range, all_num_bands_te[i][band_set_range, 1], color=\"red\", label=\"topological\")\n",
    "    axes[2row-1, 2col-1].bar(band_set_range, all_num_bands_te[i][band_set_range, 2], bottom =  all_num_bands_te[i][band_set_range, 1], color=\"green\", label = \"fragile\")\n",
    "    axes[2row-1, 2col-1].bar(band_set_range, all_num_bands_te[i][band_set_range, 3], bottom =  vec(sum(all_num_bands_te[i][band_set_range, 1:2], dims=2)), color=\"blue\", label = \"fragile\")\n",
    "\n",
    "    axes[2row-1, 2col-1].bar(band_set_range, vec(sum(all_num_bands_te[i][band_set_range, 4:end], dims=2)), bottom =  vec(sum(all_num_bands_te[i][band_set_range, 1:3], dims=2)), color=\"purple\", label = \"fragile\")\n",
    "end\n",
    "delaxes.(axes[1, 2:2:10])\n",
    "delaxes.(axes[3, 2:2:10])\n"
   ]
  },
  {
   "cell_type": "code",
   "execution_count": 4,
   "id": "da5912f6",
   "metadata": {},
   "outputs": [
    {
     "data": {
      "text/plain": [
       "BandRepSet (⋕17): 13 BandReps, sampling 13 LGIrreps (spin-1 w/ TR)\n",
       "────┬────────────────────────────────────────────────────\n",
       "\u001b[1m    \u001b[0m│\u001b[1m 3c \u001b[0m\u001b[1m 3c \u001b[0m\u001b[1m 3c \u001b[0m\u001b[1m 3c \u001b[0m\u001b[1m 2b \u001b[0m\u001b[1m 2b \u001b[0m\u001b[1m 2b \u001b[0m\u001b[1m 1a \u001b[0m\u001b[1m 1a \u001b[0m\u001b[1m 1a \u001b[0m\u001b[1m 1a \u001b[0m\u001b[1m 1a \u001b[0m\u001b[1m 1a \u001b[0m\n",
       "\u001b[1m    \u001b[0m│\u001b[90m A₁ \u001b[0m\u001b[90m A₂ \u001b[0m\u001b[90m B₂ \u001b[0m\u001b[90m B₁ \u001b[0m\u001b[90m A₁ \u001b[0m\u001b[90m A₂ \u001b[0m\u001b[90m E  \u001b[0m\u001b[90m A₁ \u001b[0m\u001b[90m A₂ \u001b[0m\u001b[90m B₂ \u001b[0m\u001b[90m B₁ \u001b[0m\u001b[90m E₂ \u001b[0m\u001b[90m E₁ \u001b[0m\n",
       "────┼────────────────────────────────────────────────────\n",
       "\u001b[1m M₁ \u001b[0m│\u001b[94m 1  \u001b[0m\u001b[94m ·  \u001b[0m\u001b[94m 1  \u001b[0m\u001b[94m 1  \u001b[0m\u001b[94m 1  \u001b[0m\u001b[94m ·  \u001b[0m\u001b[94m 1  \u001b[0m\u001b[94m 1  \u001b[0m\u001b[94m ·  \u001b[0m\u001b[94m ·  \u001b[0m\u001b[94m ·  \u001b[0m\u001b[94m 1  \u001b[0m\u001b[94m ·  \u001b[0m\n",
       "\u001b[1m M₂ \u001b[0m│\u001b[94m ·  \u001b[0m\u001b[94m 1  \u001b[0m\u001b[94m 1  \u001b[0m\u001b[94m 1  \u001b[0m\u001b[94m ·  \u001b[0m\u001b[94m 1  \u001b[0m\u001b[94m 1  \u001b[0m\u001b[94m ·  \u001b[0m\u001b[94m 1  \u001b[0m\u001b[94m ·  \u001b[0m\u001b[94m ·  \u001b[0m\u001b[94m 1  \u001b[0m\u001b[94m ·  \u001b[0m\n",
       "\u001b[1m M₃ \u001b[0m│\u001b[94m 1  \u001b[0m\u001b[94m 1  \u001b[0m\u001b[94m 1  \u001b[0m\u001b[94m ·  \u001b[0m\u001b[94m ·  \u001b[0m\u001b[94m 1  \u001b[0m\u001b[94m 1  \u001b[0m\u001b[94m ·  \u001b[0m\u001b[94m ·  \u001b[0m\u001b[94m 1  \u001b[0m\u001b[94m ·  \u001b[0m\u001b[94m ·  \u001b[0m\u001b[94m 1  \u001b[0m\n",
       "\u001b[1m M₄ \u001b[0m│\u001b[94m 1  \u001b[0m\u001b[94m 1  \u001b[0m\u001b[94m ·  \u001b[0m\u001b[94m 1  \u001b[0m\u001b[94m 1  \u001b[0m\u001b[94m ·  \u001b[0m\u001b[94m 1  \u001b[0m\u001b[94m ·  \u001b[0m\u001b[94m ·  \u001b[0m\u001b[94m ·  \u001b[0m\u001b[94m 1  \u001b[0m\u001b[94m ·  \u001b[0m\u001b[94m 1  \u001b[0m\n",
       "\u001b[1m Γ₁ \u001b[0m│ 1   ·   ·   ·   1   ·   ·   1   ·   ·   ·   ·   ·\n",
       "\u001b[1m Γ₂ \u001b[0m│ ·   1   ·   ·   ·   1   ·   ·   1   ·   ·   ·   ·\n",
       "\u001b[1m Γ₃ \u001b[0m│ ·   ·   1   ·   ·   1   ·   ·   ·   1   ·   ·   ·\n",
       "\u001b[1m Γ₄ \u001b[0m│ ·   ·   ·   1   1   ·   ·   ·   ·   ·   1   ·   ·\n",
       "\u001b[1m Γ₅ \u001b[0m│ 1   1   ·   ·   ·   ·   1   ·   ·   ·   ·   1   ·\n",
       "\u001b[1m Γ₆ \u001b[0m│ ·   ·   1   1   ·   ·   1   ·   ·   ·   ·   ·   1\n",
       "\u001b[1m K₁ \u001b[0m│\u001b[94m 1  \u001b[0m\u001b[94m ·  \u001b[0m\u001b[94m 1  \u001b[0m\u001b[94m ·  \u001b[0m\u001b[94m ·  \u001b[0m\u001b[94m ·  \u001b[0m\u001b[94m 1  \u001b[0m\u001b[94m 1  \u001b[0m\u001b[94m ·  \u001b[0m\u001b[94m 1  \u001b[0m\u001b[94m ·  \u001b[0m\u001b[94m ·  \u001b[0m\u001b[94m ·  \u001b[0m\n",
       "\u001b[1m K₂ \u001b[0m│\u001b[94m ·  \u001b[0m\u001b[94m 1  \u001b[0m\u001b[94m ·  \u001b[0m\u001b[94m 1  \u001b[0m\u001b[94m ·  \u001b[0m\u001b[94m ·  \u001b[0m\u001b[94m 1  \u001b[0m\u001b[94m ·  \u001b[0m\u001b[94m 1  \u001b[0m\u001b[94m ·  \u001b[0m\u001b[94m 1  \u001b[0m\u001b[94m ·  \u001b[0m\u001b[94m ·  \u001b[0m\n",
       "\u001b[1m K₃ \u001b[0m│\u001b[94m 1  \u001b[0m\u001b[94m 1  \u001b[0m\u001b[94m 1  \u001b[0m\u001b[94m 1  \u001b[0m\u001b[94m 1  \u001b[0m\u001b[94m 1  \u001b[0m\u001b[94m 1  \u001b[0m\u001b[94m ·  \u001b[0m\u001b[94m ·  \u001b[0m\u001b[94m ·  \u001b[0m\u001b[94m ·  \u001b[0m\u001b[94m 1  \u001b[0m\u001b[94m 1  \u001b[0m\n",
       "────┼────────────────────────────────────────────────────\n",
       "\u001b[1m μ  \u001b[0m│\u001b[93m 3  \u001b[0m\u001b[93m 3  \u001b[0m\u001b[93m 3  \u001b[0m\u001b[93m 3  \u001b[0m\u001b[93m 2  \u001b[0m\u001b[93m 2  \u001b[0m\u001b[93m 4  \u001b[0m\u001b[93m 1  \u001b[0m\u001b[93m 1  \u001b[0m\u001b[93m 1  \u001b[0m\u001b[93m 1  \u001b[0m\u001b[93m 2  \u001b[0m\u001b[93m 2  \u001b[0m\n",
       "────┴────────────────────────────────────────────────────\n",
       "  KVecs (maximal only): M, Γ, K"
      ]
     },
     "execution_count": 4,
     "metadata": {},
     "output_type": "execute_result"
    }
   ],
   "source": [
    "symeigsd, lgd = read_symdata(\"dim2-sg17-240-res64-te\", dir=\"./symeigs/output\")\n",
    "lgirsd = pick_lgirreps(lgd)\n",
    "brs = bandreps(17, 2)"
   ]
  },
  {
   "cell_type": "code",
   "execution_count": 9,
   "id": "a4f454b9",
   "metadata": {},
   "outputs": [
    {
     "data": {
      "text/plain": [
       "7-element Vector{MPBUtils.BandSummary}:\n",
       " 1-band (trivial): [M₂, Γ₂, K₂]\n",
       " 2-band (trivial): [M₂+M₃, Γ₂+Γ₃, K₃]\n",
       " 6-band (trivial): [2M₂+2M₃+2M₄, 2Γ₂+Γ₅+Γ₆, 2K₂+2K₃]\n",
       " 4-band (trivial): [M₁+M₂+M₃+M₄, Γ₅+Γ₆, 2K₃]\n",
       " 6-band (trivial): [2M₁+2M₂+M₃+M₄, Γ₃+Γ₄+Γ₅+Γ₆, K₁+K₂+2K₃]\n",
       " 3-band (fragile): [M₂+M₃+M₄, Γ₂+Γ₅, K₁+2K₂]\n",
       " 15-band (trivial): [4M₁+3M₂+4M₃+4M₄, Γ₁+2Γ₃+2Γ₄+2Γ₅+3Γ₆, 3K₁+2K₂+5K₃]"
      ]
     },
     "execution_count": 9,
     "metadata": {},
     "output_type": "execute_result"
    }
   ],
   "source": [
    "bsummary = analyze_symmetry_data(symeigsd, lgirsd, brs)"
   ]
  },
  {
   "cell_type": "code",
   "execution_count": 20,
   "id": "45a2c5a8",
   "metadata": {},
   "outputs": [
    {
     "data": {
      "text/plain": [
       "1"
      ]
     },
     "execution_count": 20,
     "metadata": {},
     "output_type": "execute_result"
    }
   ],
   "source": [
    "count([isequal(b.topology, TopologyKind(2)) for b in bsummary])"
   ]
  },
  {
   "cell_type": "code",
   "execution_count": 13,
   "id": "a8b00448",
   "metadata": {},
   "outputs": [
    {
     "data": {
      "text/plain": [
       "(:topology, :band, :n, :brs, :indicators, :indicator_group)"
      ]
     },
     "execution_count": 13,
     "metadata": {},
     "output_type": "execute_result"
    }
   ],
   "source": [
    "fieldnames(MPBUtils.BandSummary)"
   ]
  },
  {
   "cell_type": "code",
   "execution_count": 25,
   "id": "b065bdb8",
   "metadata": {},
   "outputs": [
    {
     "data": {
      "text/plain": [
       "40-element Vector{Float64}:\n",
       " 0.0\n",
       " 0.0\n",
       " 0.0\n",
       " 0.0\n",
       " 0.0\n",
       " 1.0\n",
       " 0.0\n",
       " 0.0\n",
       " 0.0\n",
       " 0.0\n",
       " 0.0\n",
       " 0.0\n",
       " 0.0\n",
       " ⋮\n",
       " 0.0\n",
       " 0.0\n",
       " 0.0\n",
       " 0.0\n",
       " 0.0\n",
       " 0.0\n",
       " 0.0\n",
       " 0.0\n",
       " 0.0\n",
       " 0.0\n",
       " 0.0\n",
       " 0.0"
      ]
     },
     "execution_count": 25,
     "metadata": {},
     "output_type": "execute_result"
    }
   ],
   "source": [
    "vcat([isequal(b.topology, TopologyKind(2)) for b in bsummary], zeros(33))"
   ]
  },
  {
   "cell_type": "code",
   "execution_count": null,
   "id": "00e1cae2",
   "metadata": {},
   "outputs": [],
   "source": []
  }
 ],
 "metadata": {
  "kernelspec": {
   "display_name": "Julia 1.7.2",
   "language": "julia",
   "name": "julia-1.7"
  },
  "language_info": {
   "file_extension": ".jl",
   "mimetype": "application/julia",
   "name": "julia",
   "version": "1.7.2"
  },
  "latex_envs": {
   "LaTeX_envs_menu_present": true,
   "autoclose": false,
   "autocomplete": true,
   "bibliofile": "biblio.bib",
   "cite_by": "apalike",
   "current_citInitial": 1,
   "eqLabelWithNumbers": true,
   "eqNumInitial": 1,
   "hotkeys": {
    "equation": "Ctrl-E",
    "itemize": "Ctrl-I"
   },
   "labels_anchors": false,
   "latex_user_defs": false,
   "report_style_numbering": false,
   "user_envs_cfg": false
  },
  "toc": {
   "base_numbering": 1,
   "nav_menu": {},
   "number_sections": true,
   "sideBar": true,
   "skip_h1_title": false,
   "title_cell": "Table of Contents",
   "title_sidebar": "Contents",
   "toc_cell": false,
   "toc_position": {},
   "toc_section_display": true,
   "toc_window_display": false
  },
  "varInspector": {
   "cols": {
    "lenName": 16,
    "lenType": 16,
    "lenVar": 40
   },
   "kernels_config": {
    "python": {
     "delete_cmd_postfix": "",
     "delete_cmd_prefix": "del ",
     "library": "var_list.py",
     "varRefreshCmd": "print(var_dic_list())"
    },
    "r": {
     "delete_cmd_postfix": ") ",
     "delete_cmd_prefix": "rm(",
     "library": "var_list.r",
     "varRefreshCmd": "cat(var_dic_list()) "
    }
   },
   "types_to_exclude": [
    "module",
    "function",
    "builtin_function_or_method",
    "instance",
    "_Feature"
   ],
   "window_display": false
  }
 },
 "nbformat": 4,
 "nbformat_minor": 5
}
