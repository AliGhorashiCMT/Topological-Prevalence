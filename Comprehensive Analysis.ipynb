{
 "cells": [
  {
   "cell_type": "code",
   "execution_count": 6,
   "id": "7d11c2c2",
   "metadata": {},
   "outputs": [],
   "source": [
    "using Crystalline, MPBUtils, SymmetryBases, Pkg, MPB_ANALYSIS;\n",
    "using PyPlot\n",
    "using Crystalline: label, formatirreplabel, symvec2string"
   ]
  },
  {
   "cell_type": "code",
   "execution_count": 1,
   "id": "d7656bbd",
   "metadata": {},
   "outputs": [
    {
     "name": "stderr",
     "output_type": "stream",
     "text": [
      "┌ Info: Precompiling GLMakie [e9467ef8-e4e7-5192-8a1a-b1aee30e663a]\n",
      "└ @ Base loading.jl:1317\n"
     ]
    }
   ],
   "source": [
    "using GLMakie"
   ]
  },
  {
   "cell_type": "code",
   "execution_count": 7,
   "id": "9757db44",
   "metadata": {},
   "outputs": [
    {
     "data": {
      "text/plain": [
       "corner_charge_pg10 (generic function with 1 method)"
      ]
     },
     "execution_count": 7,
     "metadata": {},
     "output_type": "execute_result"
    }
   ],
   "source": [
    "corner_charge_pg16 = MPB_ANALYSIS.corner_charge_pg16\n",
    "corner_charge_pg2 = MPB_ANALYSIS.corner_charge_pg2\n",
    "corner_charge_pg10 = MPB_ANALYSIS.corner_charge_pg10"
   ]
  },
  {
   "cell_type": "code",
   "execution_count": 8,
   "id": "8790f0b4",
   "metadata": {},
   "outputs": [],
   "source": [
    "sg = 16\n",
    "mode = \"te\"\n",
    "id = 30\n",
    "calcname = \"dim2-sg$sg-$id-res64-$mode\"\n",
    "bandirsd, lgirsd = extract_individual_multiplicities(calcname,\n",
    "                        timereversal=true, dir = \"./symeigs/output\", atol=1e-3);"
   ]
  },
  {
   "cell_type": "code",
   "execution_count": 4,
   "id": "5a88acbe",
   "metadata": {},
   "outputs": [
    {
     "data": {
      "text/plain": [
       "Figure()"
      ]
     },
     "execution_count": 4,
     "metadata": {},
     "output_type": "execute_result"
    },
    {
     "name": "stderr",
     "output_type": "stream",
     "text": [
      "┌ Warning:     GLFW couldn't create an OpenGL window.\n",
      "│     This likely means, you don't have an OpenGL capable Graphic Card,\n",
      "│     or you don't have an OpenGL 3.3 capable video driver installed.\n",
      "│     Have a look at the troubleshooting section in the GLMakie readme:\n",
      "│     https://github.com/JuliaPlots/Makie.jl/tree/master/GLMakie#troubleshooting-opengl.\n",
      "└ @ GLMakie /home/gridsan/aligho/.julia/packages/GLMakie/pFGSp/src/screen.jl:336\n"
     ]
    }
   ],
   "source": [
    "f = Figure()\n",
    "#=sgnums = [2, 9:17...]\n",
    "groupmax = 5\n",
    "rowmax = 2\n",
    "colmax = 5\n",
    "for row in 1:rowmax\n",
    "    for col in 1:colmax\n",
    "        i = (row-1)*colmax + col\n",
    "        ax = Axis(f[2row, (col-1)*groupmax+1:col*groupmax])\n",
    "        #= plotting with index `i`\n",
    "        barplot!\n",
    "        =#\n",
    "        ax.title[] = \"SG \"*string(sgnums[i])\n",
    "        ax.yticks = [Inf,]\n",
    "        ax.xticks = 1:groupmax\n",
    "        xlims!(ax, (.5,groupmax+.5))\n",
    "        for scol in 1:groupmax\n",
    "            ax = Axis(f[2row-1, (col-1)*groupmax+scol], height=20.4)\n",
    "            #= plotting\n",
    "            =#\n",
    "            ax.yticks = [Inf,]\n",
    "            ax.xticks = [Inf,]\n",
    "        end\n",
    "    end\n",
    "end=#\n",
    "f\n"
   ]
  },
  {
   "cell_type": "code",
   "execution_count": 9,
   "id": "f13a170e",
   "metadata": {},
   "outputs": [
    {
     "data": {
      "text/plain": [
       "return_n_and_irrep (generic function with 1 method)"
      ]
     },
     "execution_count": 9,
     "metadata": {},
     "output_type": "execute_result"
    }
   ],
   "source": [
    "function return_n(bandirsd::Dict{String, Vector{Pair{UnitRange{Int64}, Vector{Int64}}}},\n",
    "lgirsd::Dict{String, Vector{LGIrrep{2}}}, bandrange::UnitRange{Int64})\n",
    "    n = Int64[]\n",
    "    for (klab, lgirs) in lgirsd\n",
    "        n_irrep = zeros(length(lgirs))\n",
    "        for (range, n_pair) in bandirsd[klab]\n",
    "            maximum(range) > maximum(bandrange) && continue\n",
    "            minimum(range) < minimum(bandrange) && continue\n",
    "            n_irrep += n_pair\n",
    "        end\n",
    "        n = vcat(n, n_irrep)\n",
    "    end\n",
    "    return Int.(n)\n",
    "end\n",
    "    \n",
    "# Instead of this, use collect separable- example file in MPBUtils and pull request \n",
    "function return_n_and_irrep(bandirsd::Dict{String, Vector{Pair{UnitRange{Int64}, Vector{Int64}}}},\n",
    "lgirsd::Dict{String, Vector{LGIrrep{2}}}, bandrange::UnitRange{Int64})\n",
    "    n = return_n(bandirsd, lgirsd, bandrange)\n",
    "    irlabs = vcat([label.(lgirs) for (klab, lgirs) in lgirsd]...)\n",
    "    return n, irlabs\n",
    "end\n",
    "    "
   ]
  },
  {
   "cell_type": "code",
   "execution_count": 10,
   "id": "6e3edf0d",
   "metadata": {},
   "outputs": [
    {
     "data": {
      "text/plain": [
       "topology_bandgroupings (generic function with 2 methods)"
      ]
     },
     "execution_count": 10,
     "metadata": {},
     "output_type": "execute_result"
    }
   ],
   "source": [
    "function topology_bandgroupings(id::Integer, polarization::AbstractString, sg::Integer = 2)\n",
    "    g = label_topologies(\"dim2-sg$sg-$id-res64-$polarization\", true, \"./symeigs/output\")\n",
    "    \n",
    "    topo = Int.(isequal.(TopologyKind(1), [grouping[2] for grouping in g]))\n",
    "    fragile = Int.(isequal.(TopologyKind(2), [grouping[2] for grouping in g]))\n",
    "    vcat(topo, zeros(20 - length(topo))),  vcat(fragile, zeros(20 - length(topo)))\n",
    "\n",
    "end"
   ]
  },
  {
   "cell_type": "code",
   "execution_count": 11,
   "id": "4d355b39",
   "metadata": {},
   "outputs": [
    {
     "data": {
      "text/plain": [
       "topology_bandgroupings_and_corner (generic function with 2 methods)"
      ]
     },
     "execution_count": 11,
     "metadata": {},
     "output_type": "execute_result"
    }
   ],
   "source": [
    "function topology_bandgroupings_and_corner(id::Integer, polarization::AbstractString, sg::Integer = 2)\n",
    "    g = label_topologies(\"dim2-sg$sg-$id-res64-$polarization\", true, \"./symeigs/output\")\n",
    "    \n",
    "    topo = Int.(isequal.(TopologyKind(1), [grouping[2] for grouping in g]))\n",
    "    fragile = Int.(isequal.(TopologyKind(2), [grouping[2] for grouping in g]))\n",
    "    c = []\n",
    "    calcname = \"dim2-sg$sg-$id-res64-$mode\"\n",
    "    bandirsd, lgirsd = extract_individual_multiplicities(calcname,\n",
    "                        timereversal=true, dir = \"./symeigs/output\", atol=1e-3);\n",
    "    for(range, _) in g\n",
    "        n, irlabs = return_n_and_irrep(bandirsd, lgirsd, range)\n",
    "        if sg == 16\n",
    "            c = vcat(c, corner_charge_pg16(n, irlabs))\n",
    "        elseif sg == 2\n",
    "            c = vcat(c, corner_charge_pg2(n, irlabs))\n",
    "        elseif sg == 10\n",
    "            c = vcat(c, corner_charge_pg10(n, irlabs))\n",
    "        else \n",
    "            c = zeros(20)\n",
    "        end\n",
    "    end\n",
    "    vcat(topo, zeros(20 - length(topo))),  vcat(fragile, zeros(20 - length(topo))), (!iszero).(vcat(c, zeros(20 - length(c)))), \n",
    "    vcat(length.([first(grouping) for grouping in g]), zeros(20 - length(g)))\n",
    "end"
   ]
  },
  {
   "cell_type": "code",
   "execution_count": 61,
   "id": "9ee03016",
   "metadata": {},
   "outputs": [
    {
     "data": {
      "text/plain": [
       "20-element Vector{Float64}:\n",
       " 1.0\n",
       " 1.0\n",
       " 2.0\n",
       " 3.0\n",
       " 3.0\n",
       " 2.0\n",
       " 1.0\n",
       " 1.0\n",
       " 3.0\n",
       " 2.0\n",
       " 1.0\n",
       " 0.0\n",
       " 0.0\n",
       " 0.0\n",
       " 0.0\n",
       " 0.0\n",
       " 0.0\n",
       " 0.0\n",
       " 0.0\n",
       " 0.0"
      ]
     },
     "execution_count": 61,
     "metadata": {},
     "output_type": "execute_result"
    }
   ],
   "source": [
    "topology_bandgroupings_and_corner(163, \"te\", 14)[4]"
   ]
  },
  {
   "cell_type": "code",
   "execution_count": 54,
   "id": "5b4ff406",
   "metadata": {},
   "outputs": [
    {
     "data": {
      "text/plain": [
       "11-element Vector{Any}:\n",
       " Any[1:1, TRIVIAL]\n",
       " Any[2:3, TRIVIAL]\n",
       " Any[4:4, TRIVIAL]\n",
       " Any[5:5, TRIVIAL]\n",
       " Any[6:7, TRIVIAL]\n",
       " Any[8:8, TRIVIAL]\n",
       " Any[9:9, TRIVIAL]\n",
       " Any[10:11, TRIVIAL]\n",
       " Any[12:12, TRIVIAL]\n",
       " Any[13:17, TRIVIAL]\n",
       " Any[18:19, FRAGILE]"
      ]
     },
     "execution_count": 54,
     "metadata": {},
     "output_type": "execute_result"
    }
   ],
   "source": [
    "g = label_topologies(\"dim2-sg13-10-res64-te\", true, \"./symeigs/output\")\n",
    "length.([grouping[1] for grouping in g])\n",
    "g"
   ]
  },
  {
   "cell_type": "code",
   "execution_count": 175,
   "id": "45992bee",
   "metadata": {},
   "outputs": [
    {
     "data": {
      "text/plain": [
       "5//6"
      ]
     },
     "execution_count": 175,
     "metadata": {},
     "output_type": "execute_result"
    }
   ],
   "source": [
    "MPB_ANALYSIS.corner_charge_pg16(n, irlabs)"
   ]
  },
  {
   "cell_type": "code",
   "execution_count": 12,
   "id": "b623c29e",
   "metadata": {},
   "outputs": [
    {
     "name": "stdout",
     "output_type": "stream",
     "text": [
      "Calculating spacegroup 2\n",
      "Calculating spacegroup 9\n",
      "Calculating spacegroup 10\n",
      "Calculating spacegroup 11\n",
      "Calculating spacegroup 12\n",
      "Calculating spacegroup 13\n",
      "Calculating spacegroup 14\n",
      "Calculating spacegroup 15\n",
      "Calculating spacegroup 16\n",
      "Calculating spacegroup 17\n"
     ]
    }
   ],
   "source": [
    "all_topological_te = []\n",
    "all_fragile_te = []\n",
    "all_charges_te = []\n",
    "all_topological_tm = []\n",
    "all_fragile_tm = []\n",
    "all_charges_tm = []\n",
    "\n",
    "all_num_bands_te = []\n",
    "all_num_bands_tm = []\n",
    "\n",
    "for sg in (2, 9, 10, 11, 12, 13, 14, 15, 16, 17)\n",
    "    topological_te = zeros(20)\n",
    "    fragile_te = zeros(20)\n",
    "    charges_te = zeros(20)\n",
    "    topological_tm = zeros(20)\n",
    "    fragile_tm = zeros(20)\n",
    "    charges_tm = zeros(20)\n",
    "    num_bands_te = zeros(20, 20)\n",
    "    num_bands_tm = zeros(20, 20)\n",
    "\n",
    "    sg in (2, 6, 9, 10, 11, 12, 13, 14, 15, 16, 17) || continue\n",
    "    println(\"Calculating spacegroup $sg\"); flush(stdout)\n",
    "    for id in 1:10\n",
    "        for polarization in (\"te\", \"tm\")\n",
    "            try\n",
    "                t, f, c, num_bands= topology_bandgroupings_and_corner(id, polarization, sg)\n",
    "                num_bands = Int.(num_bands)\n",
    "                if polarization == \"te\"\n",
    "                    fragile_te += f\n",
    "                    topological_te += t\n",
    "                    charges_te += c\n",
    "                    for (i, nband) in enumerate(num_bands)\n",
    "                        iszero(nband) && continue\n",
    "                        num_bands_te[i, nband] += 1\n",
    "                    end\n",
    "                else\n",
    "                    fragile_tm += f\n",
    "                    topological_tm += t\n",
    "                    charges_tm += c\n",
    "                    for (i, nband) in enumerate(num_bands)\n",
    "                        iszero(nband) && continue\n",
    "                        num_bands_tm[i, nband] += 1\n",
    "                    end\n",
    "                end\n",
    "            catch\n",
    "            end\n",
    "        end\n",
    "    end\n",
    "    push!(all_num_bands_te, num_bands_te)\n",
    "    push!(all_num_bands_tm, num_bands_tm)\n",
    "    push!(all_fragile_te, fragile_te)\n",
    "    push!(all_topological_te, topological_te)\n",
    "    push!(all_charges_te, charges_te)\n",
    "    push!(all_fragile_tm, fragile_tm)\n",
    "    push!(all_topological_tm, topological_tm)\n",
    "    push!(all_charges_tm, charges_tm)\n",
    "\n",
    "    #=for polarization in (\"te\", \"tm\")\n",
    "        println(\"sg $sg of polarization $polarization $(has_fragile[polarization]) lattices\")\n",
    "        println(\"sg $sg of polarization $polarization $(has_topological[polarization]) lattices\")\n",
    "        flush(stdout)\n",
    "end=#\n",
    "end"
   ]
  },
  {
   "cell_type": "code",
   "execution_count": 70,
   "id": "9efe0235",
   "metadata": {},
   "outputs": [
    {
     "data": {
      "text/plain": [
       "20×20 Matrix{Float64}:\n",
       " 0.0  0.0  0.0  0.0  0.0  0.0  0.0  0.0  …  0.0  0.0  0.0  0.0  0.0  0.0  0.0\n",
       " 0.0  0.0  0.0  0.0  0.0  0.0  0.0  0.0     0.0  0.0  0.0  0.0  0.0  0.0  0.0\n",
       " 0.0  0.0  0.0  0.0  0.0  0.0  0.0  0.0     0.0  0.0  0.0  0.0  0.0  0.0  0.0\n",
       " 0.0  0.0  0.0  0.0  0.0  0.0  0.0  0.0     0.0  0.0  0.0  0.0  0.0  0.0  0.0\n",
       " 0.0  0.0  0.0  0.0  0.0  0.0  0.0  0.0     0.0  0.0  0.0  0.0  0.0  0.0  0.0\n",
       " 0.0  0.0  0.0  0.0  0.0  0.0  0.0  0.0  …  0.0  0.0  0.0  0.0  0.0  0.0  0.0\n",
       " 0.0  0.0  0.0  0.0  0.0  0.0  0.0  0.0     0.0  0.0  0.0  0.0  0.0  0.0  0.0\n",
       " 0.0  0.0  0.0  0.0  0.0  0.0  0.0  0.0     0.0  0.0  0.0  0.0  0.0  0.0  0.0\n",
       " 0.0  0.0  0.0  0.0  0.0  0.0  0.0  0.0     0.0  0.0  0.0  0.0  0.0  0.0  0.0\n",
       " 0.0  0.0  0.0  0.0  0.0  0.0  0.0  0.0     0.0  0.0  0.0  0.0  0.0  0.0  0.0\n",
       " 0.0  0.0  0.0  0.0  0.0  0.0  0.0  0.0  …  0.0  0.0  0.0  0.0  0.0  0.0  0.0\n",
       " 0.0  0.0  0.0  0.0  0.0  0.0  0.0  0.0     0.0  0.0  0.0  0.0  0.0  0.0  0.0\n",
       " 0.0  0.0  0.0  0.0  0.0  0.0  0.0  0.0     0.0  0.0  0.0  0.0  0.0  0.0  0.0\n",
       " 0.0  0.0  0.0  0.0  0.0  0.0  0.0  0.0     0.0  0.0  0.0  0.0  0.0  0.0  0.0\n",
       " 0.0  0.0  0.0  0.0  0.0  0.0  0.0  0.0     0.0  0.0  0.0  0.0  0.0  0.0  0.0\n",
       " 0.0  0.0  0.0  0.0  0.0  0.0  0.0  0.0  …  0.0  0.0  0.0  0.0  0.0  0.0  0.0\n",
       " 0.0  0.0  0.0  0.0  0.0  0.0  0.0  0.0     0.0  0.0  0.0  0.0  0.0  0.0  0.0\n",
       " 0.0  0.0  0.0  0.0  0.0  0.0  0.0  0.0     0.0  0.0  0.0  0.0  0.0  0.0  0.0\n",
       " 0.0  0.0  0.0  0.0  0.0  0.0  0.0  0.0     0.0  0.0  0.0  0.0  0.0  0.0  0.0\n",
       " 0.0  0.0  0.0  0.0  0.0  0.0  0.0  0.0     0.0  0.0  0.0  0.0  0.0  0.0  0.0"
      ]
     },
     "execution_count": 70,
     "metadata": {},
     "output_type": "execute_result"
    }
   ],
   "source": [
    "all_num_bands_te[3]"
   ]
  },
  {
   "cell_type": "code",
   "execution_count": 158,
   "id": "5ab36c6f",
   "metadata": {},
   "outputs": [
    {
     "data": {
      "image/png": "[encoded data removed]",
      "text/plain": [
       "PyPlot.Figure(PyObject <Figure size 1500x800 with 30 Axes>)"
      ]
     },
     "metadata": {},
     "output_type": "display_data"
    },
    {
     "data": {
      "text/plain": [
       "5-element Vector{Nothing}:\n",
       " nothing\n",
       " nothing\n",
       " nothing\n",
       " nothing\n",
       " nothing"
      ]
     },
     "execution_count": 158,
     "metadata": {},
     "output_type": "execute_result"
    }
   ],
   "source": [
    "sgs = [2, 9, 10, 11, 12, 13, 14, 15, 16, 17]\n",
    "\n",
    "band_set_range = 1:8\n",
    "fig, (axes) = subplots(4, 10, figsize=(15, 8), gridspec_kw=Dict(\"width_ratios\" => [3, 1, 3, 1, 3, 1, 3, 1, 3, 1], \"height_ratios\" => [1, 3, 1, 3]))\n",
    "#xlabel(\"Band Grouping\")\n",
    "ax_num = 1\n",
    "for (i, sg) in enumerate(sgs)\n",
    "    row = i > 5 ? 2 : 1\n",
    "    col = rem(i, 5)\n",
    "    col = iszero(col) ? 5 : col\n",
    "    #println(\"row: $row, col: $col\")\n",
    "    #xticks(1:20)\n",
    "    axes[2row, 2col-1].set_title(\"SG $sg\", size=10)\n",
    "    axes[2row, 2col-1].bar(band_set_range, all_topological_te[i][1:8], color=\"red\", label=\"topological\")\n",
    "    axes[2row, 2col-1].bar(band_set_range, all_fragile_te[i][1:8], bottom = all_topological_te[i][1:8], color=\"green\", label = \"fragile\")\n",
    "    axes[2row, 2col-1].bar(band_set_range, 10 .- all_topological_te[i][1:8] .+ all_fragile_te[i][1:8], bottom = all_topological_te[i][1:8] + all_fragile_te[i][1:8], color=\"blue\", label=\"trivial\")\n",
    "    axes[2row, 2col].set_title(\"SG $sg C\", size=10)\n",
    "    axes[2row, 2col].bar(band_set_range, all_charges_te[i][1:8], color=\"red\", label=\"w/ corner charge\")\n",
    "    axes[2row, 2col].bar(band_set_range, 10 .- all_charges_te[i][1:8], bottom = all_charges_te[i][1:8], color=\"blue\", label=\"w/o corner charge\")\n",
    "    \n",
    "    \n",
    "    axes[2row, 2col-1].set_yticks([])\n",
    "    axes[2row, 2col].set_yticks([])\n",
    "    axes[2row, 2col-1].set_xticks([])\n",
    "    axes[2row, 2col].set_xticks([])\n",
    "    axes[2row-1, 2col-1].set_yticks([])\n",
    "    axes[2row-1, 2col].set_yticks([])\n",
    "    axes[2row-1, 2col-1].set_xticks([])\n",
    "    axes[2row-1, 2col].set_xticks([])\n",
    "    \n",
    "    axes[2row-1, 2col-1].set_title(\"SG $sg\", size=10)\n",
    "    axes[2row-1, 2col-1].bar(band_set_range, all_num_bands_te[i][1:8, 1], color=\"red\", label=\"topological\")\n",
    "    axes[2row-1, 2col-1].bar(band_set_range, all_num_bands_te[i][1:8, 2], bottom =  all_num_bands_te[i][1:8, 1], color=\"green\", label = \"fragile\")\n",
    "    axes[2row-1, 2col-1].bar(band_set_range, all_num_bands_te[i][1:8, 3], bottom =  vec(sum(all_num_bands_te[i][1:8, 1:2], dims=2)), color=\"blue\", label = \"fragile\")\n",
    "\n",
    "    axes[2row-1, 2col-1].bar(band_set_range, all_num_bands_te[i][1:8, 4], bottom =  vec(sum(all_num_bands_te[i][1:8, 1:3], dims=2)), color=\"purple\", label = \"fragile\")\n",
    "    axes[2row-1, 2col-1].bar(band_set_range, all_num_bands_te[i][1:8, 5], bottom =  vec(sum(all_num_bands_te[i][1:8, 1:4], dims=2)), color=\"yellow\", label = \"fragile\")\n",
    "    axes[2row-1, 2col-1].bar(band_set_range, all_num_bands_te[i][1:8, 6], bottom =  vec(sum(all_num_bands_te[i][1:8, 1:5], dims=2)), color=\"pink\", label = \"fragile\")\n",
    "\n",
    "end\n",
    "delaxes.(axes[1, 2:2:10])\n",
    "delaxes.(axes[3, 2:2:10])\n",
    "\n",
    "#legend()\n"
   ]
  },
  {
   "cell_type": "code",
   "execution_count": 161,
   "id": "dcb1c817",
   "metadata": {},
   "outputs": [
    {
     "data": {
      "text/plain": [
       "\"/home2/gridsan/aligho/TopologyPaper\""
      ]
     },
     "execution_count": 161,
     "metadata": {},
     "output_type": "execute_result"
    }
   ],
   "source": [
    "pwd()"
   ]
  },
  {
   "cell_type": "code",
   "execution_count": null,
   "id": "69e79cb9",
   "metadata": {},
   "outputs": [],
   "source": []
  }
 ],
 "metadata": {
  "kernelspec": {
   "display_name": "Julia MyKernel 1.6.1",
   "language": "julia",
   "name": "julia-mykernel-1.6"
  },
  "language_info": {
   "file_extension": ".jl",
   "mimetype": "application/julia",
   "name": "julia",
   "version": "1.6.1"
  },
  "latex_envs": {
   "LaTeX_envs_menu_present": true,
   "autoclose": false,
   "autocomplete": true,
   "bibliofile": "biblio.bib",
   "cite_by": "apalike",
   "current_citInitial": 1,
   "eqLabelWithNumbers": true,
   "eqNumInitial": 1,
   "hotkeys": {
    "equation": "Ctrl-E",
    "itemize": "Ctrl-I"
   },
   "labels_anchors": false,
   "latex_user_defs": false,
   "report_style_numbering": false,
   "user_envs_cfg": false
  },
  "toc": {
   "base_numbering": 1,
   "nav_menu": {},
   "number_sections": true,
   "sideBar": true,
   "skip_h1_title": false,
   "title_cell": "Table of Contents",
   "title_sidebar": "Contents",
   "toc_cell": false,
   "toc_position": {},
   "toc_section_display": true,
   "toc_window_display": false
  },
  "varInspector": {
   "cols": {
    "lenName": 16,
    "lenType": 16,
    "lenVar": 40
   },
   "kernels_config": {
    "python": {
     "delete_cmd_postfix": "",
     "delete_cmd_prefix": "del ",
     "library": "var_list.py",
     "varRefreshCmd": "print(var_dic_list())"
    },
    "r": {
     "delete_cmd_postfix": ") ",
     "delete_cmd_prefix": "rm(",
     "library": "var_list.r",
     "varRefreshCmd": "cat(var_dic_list()) "
    }
   },
   "types_to_exclude": [
    "module",
    "function",
    "builtin_function_or_method",
    "instance",
    "_Feature"
   ],
   "window_display": false
  }
 },
 "nbformat": 4,
 "nbformat_minor": 5
}
