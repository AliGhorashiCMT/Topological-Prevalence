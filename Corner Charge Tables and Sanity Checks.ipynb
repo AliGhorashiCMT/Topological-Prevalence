{
 "cells": [
  {
   "cell_type": "code",
   "execution_count": 1,
   "metadata": {},
   "outputs": [],
   "source": [
    "using Crystalline, MPBUtils, JLD2, LinearAlgebra, StaticArrays, SymmetryBases, PyPlot, DelimitedFiles, PrettyTables"
   ]
  },
  {
   "cell_type": "markdown",
   "metadata": {},
   "source": [
    "# Change of irreps in spacegroup 9 (c2mm)\n",
    "\n",
    "We posit that the Gamma, Y irreps do not change, whereas the S irreps change as S1->S2, S2->S1"
   ]
  },
  {
   "cell_type": "code",
   "execution_count": 5,
   "metadata": {},
   "outputs": [],
   "source": [
    "sg = 9\n",
    "polarization = \"tm\"\n",
    "\n",
    "brs = bandreps(sg, 2)\n",
    "\n",
    "band_groupingsv = Vector{BandSummary}[]\n",
    "for id in 1:2\n",
    "    symeigsd, lgd = read_symdata(\"dim2-sg$sg-$id-res64-$polarization\", dir=\"./symeigs/shiftedlattices/output\");\n",
    "    lgirsd = pick_lgirreps(lgd)\n",
    "    fixup_gamma_symmetry!(symeigsd, lgd, Symbol(uppercase(polarization)))\n",
    "    band_groupings = analyze_symmetry_data(symeigsd, lgirsd, brs);\n",
    "    push!(band_groupingsv, band_groupings)\n",
    "end"
   ]
  },
  {
   "cell_type": "code",
   "execution_count": 57,
   "metadata": {},
   "outputs": [
    {
     "name": "stdout",
     "output_type": "stream",
     "text": [
      "true\n",
      "true\n",
      "true\n",
      "true\n",
      "true\n",
      "true\n",
      "true\n",
      "true\n",
      "true\n",
      "true\n",
      "true\n",
      "true\n",
      "true\n",
      "true\n",
      "true\n",
      "true\n",
      "true\n",
      "true\n",
      "true\n",
      "true\n",
      "true\n",
      "true\n"
     ]
    }
   ],
   "source": [
    "s1_idx = findfirst(x->isequal(\"S₁\", x), brs.irlabs)\n",
    "s2_idx = findfirst(x->isequal(\"S₂\", x), brs.irlabs)\n",
    "\n",
    "for (bs1, bs2) in zip(band_groupingsv[1], band_groupingsv[2])\n",
    "    println(iszero((bs1.n)[[1:s1_idx-1..., s2_idx, s1_idx, s2_idx+1:length(bs1.n)...]]-bs2.n))\n",
    "end"
   ]
  },
  {
   "cell_type": "markdown",
   "metadata": {},
   "source": [
    "# Change of irreps in spacegroup 13 (p3)\n",
    "\n",
    "We posit that the Gamma irreps do not change. The K and KA irreps do change. Either according to (KA1, KA2, KA3) -> (KA2, KA3, KA1) and (K1, K2, K3)->(K3, K1, K2) or (KA1, KA2, KA3) -> (KA3, KA2, KA1) and (K1, K2, K3) -> (K2, K3, K1)"
   ]
  },
  {
   "cell_type": "code",
   "execution_count": 72,
   "metadata": {},
   "outputs": [],
   "source": [
    "sg = 13\n",
    "polarization = \"tm\"\n",
    "brs = bandreps(sg, 2)\n",
    "\n",
    "band_groupingsv = Vector{BandSummary}[]\n",
    "for id in 1:3\n",
    "    symeigsd, lgd = read_symdata(\"dim2-sg$sg-$id-res64-$polarization\", dir=\"./symeigs/shiftedlattices/output\");\n",
    "    lgirsd = pick_lgirreps(lgd)\n",
    "    fixup_gamma_symmetry!(symeigsd, lgd, Symbol(uppercase(polarization)))\n",
    "    band_groupings = analyze_symmetry_data(symeigsd, lgirsd, brs);\n",
    "    push!(band_groupingsv, band_groupings)\n",
    "end"
   ]
  },
  {
   "cell_type": "code",
   "execution_count": 90,
   "metadata": {},
   "outputs": [
    {
     "name": "stdout",
     "output_type": "stream",
     "text": [
      "true\n",
      "true\n",
      "true\n",
      "true\n",
      "true\n",
      "true\n",
      "true\n",
      "true\n",
      "true\n",
      "true\n",
      "true\n",
      "true\n",
      "true\n",
      "true\n",
      "true\n",
      "true\n",
      "true\n",
      "true\n",
      "true\n",
      "true\n",
      "true\n",
      "true\n",
      "true\n",
      "true\n",
      "true\n",
      "true\n",
      "true\n",
      "true\n",
      "true\n",
      "true\n",
      "true\n",
      "true\n",
      "true\n",
      "true\n",
      "true\n",
      "true\n",
      "true\n",
      "true\n",
      "true\n",
      "true\n",
      "true\n",
      "true\n",
      "true\n",
      "true\n",
      "true\n",
      "true\n",
      "true\n",
      "true\n",
      "true\n",
      "true\n",
      "true\n",
      "true\n"
     ]
    }
   ],
   "source": [
    "KA1_idx = findfirst(x->isequal(\"KA₁\", x), brs.irlabs)\n",
    "KA2_idx = findfirst(x->isequal(\"KA₂\", x), brs.irlabs)\n",
    "KA3_idx = findfirst(x->isequal(\"KA₃\", x), brs.irlabs)\n",
    "\n",
    "K1_idx = findfirst(x->isequal(\"K₁\", x), brs.irlabs)\n",
    "K2_idx = findfirst(x->isequal(\"K₂\", x), brs.irlabs)\n",
    "K3_idx = findfirst(x->isequal(\"K₃\", x), brs.irlabs)\n",
    "\n",
    "for (bs1, bs2, bs3) in zip(band_groupingsv...)\n",
    "    println(bs1.n[[KA2_idx, KA3_idx, KA1_idx, KA3_idx+1:K1_idx-1..., K3_idx, K1_idx, K2_idx, K3_idx+1:length(bs1.n)...]]==bs2.n)\n",
    "    println(bs1.n[[KA3_idx, KA1_idx, KA2_idx, KA3_idx+1:K1_idx-1..., K2_idx, K3_idx, K1_idx, K3_idx+1:length(bs1.n)...]]==bs3.n)\n",
    "end"
   ]
  },
  {
   "cell_type": "markdown",
   "metadata": {},
   "source": [
    "# Spacegroup 15\n",
    "\n",
    "In spacegroup 15, we have several Wyckoff positions as candidate centers. However, only the (0, 0) position respects all spacegroup 15 symmetries, while the others respect only the C3 symmetry. Therefore, we analyze spacegroup 15 in the subgroup, c3. "
   ]
  },
  {
   "cell_type": "code",
   "execution_count": 93,
   "metadata": {
    "scrolled": true
   },
   "outputs": [],
   "source": [
    "sg = 15\n",
    "polarization = \"tm\"\n",
    "brs = bandreps(13, 2)\n",
    "\n",
    "band_groupingsv = Vector{BandSummary}[]\n",
    "\n",
    "for id in 1:3\n",
    "    symeigsd, lgd = read_symdata(\"dim2-sg$sg-$id-res64-$polarization\", sgnum=13, dir=\"./symeigs/shiftedlattices/output\");\n",
    "    lgirsd = pick_lgirreps(lgd)\n",
    "    fixup_gamma_symmetry!(symeigsd, lgd, Symbol(uppercase(polarization)))\n",
    "    band_groupings = analyze_symmetry_data(symeigsd, lgirsd, brs);\n",
    "    push!(band_groupingsv, band_groupings)\n",
    "end\n"
   ]
  },
  {
   "cell_type": "code",
   "execution_count": 94,
   "metadata": {},
   "outputs": [
    {
     "name": "stdout",
     "output_type": "stream",
     "text": [
      "true\n",
      "true\n",
      "true\n",
      "true\n",
      "true\n",
      "true\n",
      "true\n",
      "true\n",
      "true\n",
      "true\n",
      "true\n",
      "true\n",
      "true\n",
      "true\n",
      "true\n",
      "true\n",
      "true\n",
      "true\n",
      "true\n",
      "true\n",
      "true\n",
      "true\n",
      "true\n",
      "true\n",
      "true\n",
      "true\n",
      "false\n",
      "false\n",
      "false\n",
      "false\n",
      "false\n",
      "false\n",
      "false\n",
      "false\n"
     ]
    }
   ],
   "source": [
    "KA1_idx = findfirst(x->isequal(\"KA₁\", x), brs.irlabs)\n",
    "KA2_idx = findfirst(x->isequal(\"KA₂\", x), brs.irlabs)\n",
    "KA3_idx = findfirst(x->isequal(\"KA₃\", x), brs.irlabs)\n",
    "\n",
    "K1_idx = findfirst(x->isequal(\"K₁\", x), brs.irlabs)\n",
    "K2_idx = findfirst(x->isequal(\"K₂\", x), brs.irlabs)\n",
    "K3_idx = findfirst(x->isequal(\"K₃\", x), brs.irlabs)\n",
    "\n",
    "for (bs1, bs2, bs3) in zip(band_groupingsv...)\n",
    "    println(bs1.n[[KA2_idx, KA3_idx, KA1_idx, KA3_idx+1:K1_idx-1..., K3_idx, K1_idx, K2_idx, K3_idx+1:length(bs1.n)...]]==bs2.n)\n",
    "    println(bs1.n[[KA3_idx, KA1_idx, KA2_idx, KA3_idx+1:K1_idx-1..., K2_idx, K3_idx, K1_idx, K3_idx+1:length(bs1.n)...]]==bs3.n)\n",
    "end"
   ]
  },
  {
   "cell_type": "code",
   "execution_count": 98,
   "metadata": {},
   "outputs": [
    {
     "data": {
      "text/plain": [
       "17-element Vector{BandSummary}:\n",
       " 1-band (trivial): [KA₁, Γ₁, K₁]\n",
       " 2-band (trivial): [KA₂+KA₃, Γ₂Γ₃, K₂+K₃]\n",
       " 3-band (trivial): [KA₁+KA₂+KA₃, Γ₁+Γ₂Γ₃, K₁+K₂+K₃]\n",
       " 3-band (trivial): [KA₁+KA₂+KA₃, Γ₁+Γ₂Γ₃, K₁+K₂+K₃]\n",
       " 5-band (trivial): [KA₁+2KA₂+2KA₃, Γ₁+2Γ₂Γ₃, K₁+2K₂+2K₃]\n",
       " 1-band (trivial): [KA₁, Γ₁, K₁]\n",
       " 1-band (trivial): [KA₁, Γ₁, K₁]\n",
       " 2-band (trivial): [KA₂+KA₃, Γ₂Γ₃, K₂+K₃]\n",
       " 1-band (trivial): [KA₁, Γ₁, K₁]\n",
       " 3-band (trivial): [KA₁+KA₂+KA₃, Γ₁+Γ₂Γ₃, K₁+K₂+K₃]\n",
       " 1-band (trivial): [KA₁, Γ₁, K₁]\n",
       " 2-band (trivial): [KA₂+KA₃, Γ₂Γ₃, K₂+K₃]\n",
       " 2-band (trivial): [KA₂+KA₃, Γ₂Γ₃, K₂+K₃]\n",
       " 2-band (trivial): [KA₂+KA₃, 2Γ₁, K₂+K₃]\n",
       " 5-band (trivial): [KA₁+2KA₂+2KA₃, Γ₁+2Γ₂Γ₃, K₁+2K₂+2K₃]\n",
       " 4-band (trivial): [2KA₁+KA₂+KA₃, 2Γ₂Γ₃, 2K₁+K₂+K₃]\n",
       " 1-band (trivial): [KA₁, Γ₁, K₁]"
      ]
     },
     "execution_count": 98,
     "metadata": {},
     "output_type": "execute_result"
    }
   ],
   "source": [
    "band_groupingsv[1]"
   ]
  },
  {
   "cell_type": "code",
   "execution_count": 97,
   "metadata": {},
   "outputs": [
    {
     "data": {
      "text/plain": [
       "19-element Vector{BandSummary}:\n",
       " 1-band (trivial): [KA₃, Γ₁, K₂]\n",
       " 2-band (trivial): [KA₁+KA₂, Γ₂Γ₃, K₁+K₃]\n",
       " 3-band (trivial): [KA₁+KA₂+KA₃, Γ₁+Γ₂Γ₃, K₁+K₂+K₃]\n",
       " 3-band (trivial): [KA₁+KA₂+KA₃, Γ₁+Γ₂Γ₃, K₁+K₂+K₃]\n",
       " 5-band (trivial): [2KA₁+2KA₂+KA₃, Γ₁+2Γ₂Γ₃, 2K₁+K₂+2K₃]\n",
       " 1-band (trivial): [KA₃, Γ₁, K₂]\n",
       " 1-band (trivial): [KA₃, Γ₁, K₂]\n",
       " 2-band (trivial): [KA₁+KA₂, Γ₂Γ₃, K₁+K₃]\n",
       " 1-band (trivial): [KA₃, Γ₁, K₂]\n",
       " 3-band (trivial): [KA₁+KA₂+KA₃, Γ₁+Γ₂Γ₃, K₁+K₂+K₃]\n",
       " 1-band (trivial): [KA₃, Γ₁, K₂]\n",
       " 2-band (trivial): [KA₁+KA₂, Γ₂Γ₃, K₁+K₃]\n",
       " 2-band (trivial): [KA₁+KA₂, Γ₂Γ₃, K₁+K₃]\n",
       " 1-band (trivial): [KA₂, Γ₁, K₃]\n",
       " 1-band (trivial): [KA₁, Γ₁, K₁]\n",
       " 5-band (trivial): [2KA₁+2KA₂+KA₃, Γ₁+2Γ₂Γ₃, 2K₁+K₂+2K₃]\n",
       " 4-band (trivial): [KA₁+KA₂+2KA₃, 2Γ₂Γ₃, K₁+2K₂+K₃]\n",
       " 1-band (trivial): [KA₃, Γ₁, K₂]\n",
       " 1-band (trivial): [KA₂, Γ₁, K₃]"
      ]
     },
     "execution_count": 97,
     "metadata": {},
     "output_type": "execute_result"
    }
   ],
   "source": [
    "band_groupingsv[2]"
   ]
  },
  {
   "cell_type": "code",
   "execution_count": 50,
   "metadata": {},
   "outputs": [
    {
     "data": {
      "text/plain": [
       "4-element Vector{WyckoffPosition{2}}:\n",
       " 3d: [α, β]\n",
       " 1c: [2/3, 1/3]\n",
       " 1b: [1/3, 2/3]\n",
       " 1a: [0, 0]"
      ]
     },
     "execution_count": 50,
     "metadata": {},
     "output_type": "execute_result"
    }
   ],
   "source": [
    "wyckoffs(13, 2)"
   ]
  },
  {
   "cell_type": "code",
   "execution_count": 46,
   "metadata": {},
   "outputs": [
    {
     "data": {
      "text/plain": [
       "SpaceGroup{2} ⋕15 (p31m) with 6 operations:\n",
       " 1\n",
       " 3⁺\n",
       " 3⁻\n",
       " m₋₁₁\n",
       " m₁₂\n",
       " m₂₁"
      ]
     },
     "execution_count": 46,
     "metadata": {},
     "output_type": "execute_result"
    }
   ],
   "source": [
    "spacegroup(15, 2)"
   ]
  },
  {
   "cell_type": "code",
   "execution_count": 37,
   "metadata": {},
   "outputs": [],
   "source": [
    "sg = 15\n",
    "brs = bandreps(15, 2)\n",
    "symeigsd, lgd = read_symdata(\"dim2-sg$sg-1-res64-$polarization\", dir=\"./symeigs/output/sg15/eps1/tm\");\n",
    "lgirsd = pick_lgirreps(lgd)\n",
    "lgirsd = pick_lgirreps(lgd)\n",
    "fixup_gamma_symmetry!(symeigsd, lgd, Symbol(uppercase(polarization)))\n",
    "band_groupings_original = analyze_symmetry_data(symeigsd, lgirsd, brs);\n"
   ]
  },
  {
   "cell_type": "code",
   "execution_count": 2,
   "metadata": {},
   "outputs": [
    {
     "name": "stdout",
     "output_type": "stream",
     "text": [
      "\u001b[1mIrrep Changes Under Center Changes P2\u001b[0m\n",
      "┌─────┬───────┬───────┬─────────┐\n",
      "│\u001b[1m 0,0 \u001b[0m│\u001b[1m 0,1/2 \u001b[0m│\u001b[1m 1/2,0 \u001b[0m│\u001b[1m 1/2,1/2 \u001b[0m│\n",
      "├─────┼───────┼───────┼─────────┤\n",
      "│  Y₁ │    Y₂ │    Y₁ │      Y₂ │\n",
      "│  Y₂ │    Y₁ │    Y₂ │      Y₁ │\n",
      "│  B₁ │    B₁ │    B₂ │      B₂ │\n",
      "│  B₂ │    B₂ │    B₁ │      B₁ │\n",
      "│  A₁ │    A₂ │    A₂ │      A₁ │\n",
      "│  A₂ │    A₁ │    A₁ │      A₂ │\n",
      "└─────┴───────┴───────┴─────────┘\n"
     ]
    }
   ],
   "source": [
    "pretty_table([\"Y₁\" \"Y₂\" \"Y₁\" \"Y₂\"; \"Y₂\" \"Y₁\" \"Y₂\" \"Y₁\"; \"B₁\" \"B₁\" \"B₂\" \"B₂\"; \"B₂\" \"B₂\" \"B₁\" \"B₁\"; \n",
    "        \"A₁\" \"A₂\" \"A₂\" \"A₁\"; \"A₂\" \"A₁\" \"A₁\" \"A₂\" ], header=[\"0,0\", \"0,1/2\", \"1/2,0\", \"1/2,1/2\"], title=\"Irrep Changes Under Center Changes P2\")\n"
   ]
  },
  {
   "cell_type": "code",
   "execution_count": 26,
   "metadata": {},
   "outputs": [
    {
     "name": "stdout",
     "output_type": "stream",
     "text": [
      "\u001b[1mIrrep Changes Under Center Changes P2mm\u001b[0m\n",
      "┌─────┬───────┬───────┬─────────┐\n",
      "│\u001b[1m 0,0 \u001b[0m│\u001b[1m 0,1/2 \u001b[0m│\u001b[1m 1/2,0 \u001b[0m│\u001b[1m 1/2,1/2 \u001b[0m│\n",
      "├─────┼───────┼───────┼─────────┤\n",
      "│  Y₁ │    Y₄ │    Y₁ │      Y₄ │\n",
      "│  Y₂ │    Y₃ │    Y₂ │      Y₃ │\n",
      "│  Y₃ │    Y₂ │    Y₃ │      Y₂ │\n",
      "│  Y₄ │    Y₁ │    Y₄ │      Y₁ │\n",
      "│  X₁ │    X₁ │    X₃ │      X₃ │\n",
      "│  X₂ │    X₂ │    X₄ │      X₄ │\n",
      "│  X₃ │    X₃ │    X₁ │      X₁ │\n",
      "│  X₄ │    X₄ │    X₂ │      X₂ │\n",
      "│  S₁ │    S₄ │    S₃ │      S₂ │\n",
      "│  S₂ │    S₃ │    S₄ │      S₁ │\n",
      "│  S₃ │    S₂ │    S₁ │      S₄ │\n",
      "│  S₄ │    S₁ │    S₂ │      S₃ │\n",
      "└─────┴───────┴───────┴─────────┘\n"
     ]
    }
   ],
   "source": [
    "pretty_table([\"Y₁\" \"Y₄\" \"Y₁\" \"Y₄\"; \"Y₂\" \"Y₃\" \"Y₂\" \"Y₃\"; \"Y₃\" \"Y₂\" \"Y₃\" \"Y₂\"; \"Y₄\" \"Y₁\" \"Y₄\" \"Y₁\"; \"X₁\" \"X₁\" \"X₃\" \"X₃\"; \n",
    "        \"X₂\" \"X₂\" \"X₄\" \"X₄\"; \"X₃\" \"X₃\" \"X₁\" \"X₁\"; \"X₄\" \"X₄\" \"X₂\" \"X₂\"; \"S₁\" \"S₄\" \"S₃\" \"S₂\"; \"S₂\" \"S₃\" \"S₄\" \"S₁\"; \n",
    "        \"S₃\" \"S₂\" \"S₁\" \"S₄\"; \"S₄\" \"S₁\" \"S₂\" \"S₃\" ],header=[\"0,0\", \"0,1/2\", \"1/2,0\", \"1/2,1/2\"], \n",
    "    title=\"Irrep Changes Under Center Changes P2mm\")"
   ]
  },
  {
   "cell_type": "code",
   "execution_count": 36,
   "metadata": {},
   "outputs": [
    {
     "name": "stdout",
     "output_type": "stream",
     "text": [
      "\u001b[1mp3 and p3mm irrep change table\u001b[0m\n",
      "┌─────┬─────────┬─────────┐\n",
      "│\u001b[1m 0,0 \u001b[0m│\u001b[1m 1/3,2/3 \u001b[0m│\u001b[1m 2/3,1/3 \u001b[0m│\n",
      "├─────┼─────────┼─────────┤\n",
      "│  K₁ │      K₂ │      K₃ │\n",
      "│  K₂ │      K₃ │      K₁ │\n",
      "│  K₃ │      K₁ │      K₂ │\n",
      "└─────┴─────────┴─────────┘\n"
     ]
    }
   ],
   "source": [
    "pretty_table([\"K₁\" \"K₂\" \"K₃\"; \"K₂\" \"K₃\" \"K₁\"; \"K₃\" \"K₁\" \"K₂\"], header=[\"0,0\", \"1/3,2/3\", \"2/3,1/3\"], \n",
    "title=\"p3 and p3mm irrep change table\")"
   ]
  },
  {
   "cell_type": "code",
   "execution_count": 33,
   "metadata": {},
   "outputs": [
    {
     "data": {
      "text/plain": [
       "LGIrrep{2}: ⋕13 (p3) at K = [1/3, 1/3]\n",
       "K₁ ─┬─────────────────────────────────────────────\n",
       "    ├─ \u001b[90m1: ────────────────────────────────── (x,y)\u001b[39m\n",
       "    │     1.0\n",
       "    │\n",
       "    ├─ \u001b[90m3⁺: ────────────────────────────── (-y,x-y)\u001b[39m\n",
       "    │     1.0\n",
       "    │\n",
       "    ├─ \u001b[90m3⁻: ───────────────────────────── (-x+y,-x)\u001b[39m\n",
       "    │     1.0\n",
       "    └─────────────────────────────────────────────\n",
       "K₂ ─┬─────────────────────────────────────────────\n",
       "    ├─ \u001b[90m1: ────────────────────────────────── (x,y)\u001b[39m\n",
       "    │     1.0\n",
       "    │\n",
       "    ├─ \u001b[90m3⁺: ────────────────────────────── (-y,x-y)\u001b[39m\n",
       "    │     0.9999999999999999exp(0.6666666666666667iπ)\n",
       "    │\n",
       "    ├─ \u001b[90m3⁻: ───────────────────────────── (-x+y,-x)\u001b[39m\n",
       "    │     0.9999999999999999exp(-0.6666666666666667iπ)\n",
       "    └─────────────────────────────────────────────\n",
       "K₃ ─┬─────────────────────────────────────────────\n",
       "    ├─ \u001b[90m1: ────────────────────────────────── (x,y)\u001b[39m\n",
       "    │     1.0\n",
       "    │\n",
       "    ├─ \u001b[90m3⁺: ────────────────────────────── (-y,x-y)\u001b[39m\n",
       "    │     0.9999999999999999exp(-0.6666666666666667iπ)\n",
       "    │\n",
       "    ├─ \u001b[90m3⁻: ───────────────────────────── (-x+y,-x)\u001b[39m\n",
       "    │     0.9999999999999999exp(0.6666666666666667iπ)\n",
       "    └─────────────────────────────────────────────"
      ]
     },
     "execution_count": 33,
     "metadata": {},
     "output_type": "execute_result"
    }
   ],
   "source": [
    "lgirreps(13, 2)[\"K\"]"
   ]
  },
  {
   "cell_type": "code",
   "execution_count": 16,
   "metadata": {},
   "outputs": [],
   "source": [
    "sg_wyckoffs = [filter(x -> x.mult == 1, wyckoffs(i, 2)) for i in (2, 6, (9:17)...)]\n",
    "sg_wyckoffs[3] = wyckoffs(9, 2)[end-1:end];\n",
    "sg_wyckoffs[6] = [wyckoffs(12, 2)[end]];"
   ]
  },
  {
   "cell_type": "code",
   "execution_count": 69,
   "metadata": {},
   "outputs": [],
   "source": [
    "sg_wyckoffs_dict = Dict(([2, 6, 9:17...])[i] => sg_wyckoffs[i] for i in 1:11)\n",
    "sg_wyckoffs_dict_sorted = sort(collect(sg_wyckoffs_dict), by = x -> x[1] );"
   ]
  },
  {
   "cell_type": "code",
   "execution_count": 74,
   "metadata": {},
   "outputs": [
    {
     "data": {
      "text/plain": [
       "5-element Vector{WyckoffPosition{2}}:\n",
       " 2e: [α, β]\n",
       " 1d: [1/2, 1/2]\n",
       " 1c: [1/2, 0]\n",
       " 1b: [0, 1/2]\n",
       " 1a: [0, 0]"
      ]
     },
     "execution_count": 74,
     "metadata": {},
     "output_type": "execute_result"
    }
   ],
   "source": [
    "wyckoffs(2,2)"
   ]
  },
  {
   "cell_type": "code",
   "execution_count": 76,
   "metadata": {},
   "outputs": [
    {
     "data": {
      "text/plain": [
       "Dict{Int64, Vector{WyckoffPosition{2}}} with 11 entries:\n",
       "  16 => [1a: [0, 0]]\n",
       "  12 => [2a: [0, 0]]\n",
       "  17 => [1a: [0, 0]]\n",
       "  6  => [1d: [1/2, 1/2], 1c: [1/2, 0], 1b: [0, 1/2], 1a: [0, 0]]\n",
       "  11 => [1b: [1/2, 1/2], 1a: [0, 0]]\n",
       "  9  => [2b: [0, 1/2], 2a: [0, 0]]\n",
       "  14 => [1c: [2/3, 1/3], 1b: [1/3, 2/3], 1a: [0, 0]]\n",
       "  13 => [1c: [2/3, 1/3], 1b: [1/3, 2/3], 1a: [0, 0]]\n",
       "  15 => [1a: [0, 0]]\n",
       "  2  => [1d: [1/2, 1/2], 1c: [1/2, 0], 1b: [0, 1/2], 1a: [0, 0]]\n",
       "  10 => [1b: [1/2, 1/2], 1a: [0, 0]]"
      ]
     },
     "execution_count": 76,
     "metadata": {},
     "output_type": "execute_result"
    }
   ],
   "source": [
    "sg_wyckoffs_dict"
   ]
  },
  {
   "cell_type": "code",
   "execution_count": 2,
   "metadata": {},
   "outputs": [
    {
     "name": "stdout",
     "output_type": "stream",
     "text": [
      "\u001b[1mC2 Symmetry Centering Choices\u001b[0m\n",
      "┌──────┬──────────┬──────────┬──────────┬──────────┐\n",
      "│\u001b[1m      \u001b[0m│\u001b[1m Center 1 \u001b[0m│\u001b[1m Center 2 \u001b[0m│\u001b[1m Center 3 \u001b[0m│\u001b[1m Center 4 \u001b[0m│\n",
      "├──────┼──────────┼──────────┼──────────┼──────────┤\n",
      "│\u001b[1m   p2 \u001b[0m│      0,0 │    1/2,0 │    0,1/2 │  1/2,1/2 │\n",
      "│\u001b[1m p2mm \u001b[0m│      0,0 │    1/2,0 │    0,1/2 │  1/2,1/2 │\n",
      "│\u001b[1m c2mm \u001b[0m│      0,0 │    1/2,0 │      N/A │      N/A │\n",
      "└──────┴──────────┴──────────┴──────────┴──────────┘\n",
      "\u001b[1mC3 Symmetry Centering Choices\u001b[0m\n",
      "┌──────┬──────────┬──────────┬──────────┐\n",
      "│\u001b[1m      \u001b[0m│\u001b[1m Center 1 \u001b[0m│\u001b[1m Center 2 \u001b[0m│\u001b[1m Center 3 \u001b[0m│\n",
      "├──────┼──────────┼──────────┼──────────┤\n",
      "│\u001b[1m   p3 \u001b[0m│      0,0 │  2/3,1/3 │  1/3,2/3 │\n",
      "│\u001b[1m p3m1 \u001b[0m│      0,0 │  2/3,1/3 │  1/3,2/3 │\n",
      "│\u001b[1m p31m \u001b[0m│      0,0 │  1/3,2/3 │      N/A │\n",
      "└──────┴──────────┴──────────┴──────────┘\n",
      "\u001b[1mC4 Symmetry Centering Choices\u001b[0m\n",
      "┌──────┬──────────┬──────────┐\n",
      "│\u001b[1m      \u001b[0m│\u001b[1m Center 1 \u001b[0m│\u001b[1m Center 2 \u001b[0m│\n",
      "├──────┼──────────┼──────────┤\n",
      "│\u001b[1m   p4 \u001b[0m│      0,0 │  1/2,1/2 │\n",
      "│\u001b[1m p4mm \u001b[0m│      0,0 │  1/2,1/2 │\n",
      "│\u001b[1m p4gm \u001b[0m│      0,0 │      N/A │\n",
      "└──────┴──────────┴──────────┘\n"
     ]
    }
   ],
   "source": [
    "pretty_table([\"0,0\" \"1/2,0\" \"0,1/2\" \"1/2,1/2\" ; \"0,0\" \"1/2,0\" \"0,1/2\" \"1/2,1/2\"; \"0,0\" \"1/2,0\" \"N/A\" \"N/A\" ], header=[\"Center 1\",\n",
    "    \"Center 2\", \"Center 3\", \"Center 4\"], row_names=[\"p2\", \"p2mm\", \"c2mm\"], title=\"C2 Symmetry Centering Choices\")\n",
    "pretty_table([\"0,0\" \"2/3,1/3\" \"1/3,2/3\"; \"0,0\" \"2/3,1/3\" \"1/3,2/3\"; \"0,0\" \"1/3,2/3\" \"N/A\" ], header=[\"Center 1\",\n",
    "    \"Center 2\", \"Center 3\"], row_names=[\"p3\", \"p3m1\", \"p31m\"], title=\"C3 Symmetry Centering Choices\")\n",
    "pretty_table([\"0,0\" \"1/2,1/2\"; \"0,0\" \"1/2,1/2\"; \"0,0\" \"N/A\" ], header=[\"Center 1\",\n",
    "    \"Center 2\"], row_names=[\"p4\", \"p4mm\", \"p4gm\"], title=\"C4 Symmetry Centering Choices\")"
   ]
  },
  {
   "cell_type": "code",
   "execution_count": 77,
   "metadata": {},
   "outputs": [
    {
     "data": {
      "text/plain": [
       "6-element Vector{WyckoffPosition{2}}:\n",
       " 8f: [α, β]\n",
       " 4e: [0, β]\n",
       " 4d: [α, 0]\n",
       " 4c: [1/4, 1/4]\n",
       " 2b: [0, 1/2]\n",
       " 2a: [0, 0]"
      ]
     },
     "execution_count": 77,
     "metadata": {},
     "output_type": "execute_result"
    }
   ],
   "source": [
    "wyckoffs(9, 2)"
   ]
  },
  {
   "cell_type": "code",
   "execution_count": 79,
   "metadata": {
    "scrolled": false
   },
   "outputs": [
    {
     "name": "stdout",
     "output_type": "stream",
     "text": [
      "\u001b[1mp2 Irreps\u001b[0m\n",
      "┌─────────┬────────────┬────────────┬────────────┬─────────────┬────────────────\n",
      "│\u001b[1m         \u001b[0m│\u001b[1m B (λ₂ = 1) \u001b[0m│\u001b[1m Y (λ₂ = 1) \u001b[0m│\u001b[1m A (λ₂ = 1) \u001b[0m│\u001b[1m Γ1 (λ₂ = 1) \u001b[0m│\u001b[1m             C\u001b[0m ⋯\n",
      "├─────────┼────────────┼────────────┼────────────┼─────────────┼────────────────\n",
      "│\u001b[1m     0,0 \u001b[0m│         B1 │         Y1 │         A1 │          Γ1 │ 1/4(-[B1]-[Y1 ⋯\n",
      "│\u001b[1m   0,1/2 \u001b[0m│         B1 │         Y2 │         A2 │          Γ1 │ 1/4(-[B1]-[Y2 ⋯\n",
      "│\u001b[1m   1/2,0 \u001b[0m│         B2 │         Y1 │         A2 │          Γ1 │ 1/4(-[B2]-[Y1 ⋯\n",
      "│\u001b[1m 1/2,1/2 \u001b[0m│         B2 │         Y2 │         A1 │          Γ1 │ 1/4(-[B2]-[Y2 ⋯\n",
      "└─────────┴────────────┴────────────┴────────────┴─────────────┴────────────────\n",
      "\u001b[36m                                                               2 columns omitted\u001b[0m\n",
      "\u001b[1mp2mm Irreps\u001b[0m\n",
      "┌─────────┬──────────────────┬──────────────────┬──────────────────┬────────────\n",
      "│\u001b[1m         \u001b[0m│\u001b[1m X Irrep (λ₂ = 1) \u001b[0m│\u001b[1m Y Irrep (λ₂ = 1) \u001b[0m│\u001b[1m S Irrep (λ₂ = 1) \u001b[0m│\u001b[1m Γ Irrep (\u001b[0m ⋯\n",
      "├─────────┼──────────────────┼──────────────────┼──────────────────┼────────────\n",
      "│\u001b[1m     0,0 \u001b[0m│         (X1, X2) │         (Y1, Y2) │         (S1, S2) │         ( ⋯\n",
      "│\u001b[1m   0,1/2 \u001b[0m│         (X1, X2) │         (Y3, Y4) │         (S3, S4) │         ( ⋯\n",
      "│\u001b[1m   1/2,0 \u001b[0m│         (X3, X4) │         (Y1, Y2) │         (S3, S4) │         ( ⋯\n",
      "│\u001b[1m 1/2,1/2 \u001b[0m│         (X3, X4) │         (Y3, Y4) │         (S1, S2) │         ( ⋯\n",
      "└─────────┴──────────────────┴──────────────────┴──────────────────┴────────────\n",
      "\u001b[36m                                                               3 columns omitted\u001b[0m\n",
      "\u001b[1mc2mm Irreps\u001b[0m\n",
      "┌───────┬────────────┬────────────┬────────────┬─────────────────────────────────┐\n",
      "│\u001b[1m       \u001b[0m│\u001b[1m Y (λ₂ = 1) \u001b[0m│\u001b[1m S (λ₂ = 1) \u001b[0m│\u001b[1m Γ (λ₂ = 1) \u001b[0m│\u001b[1m                   Corner Charge \u001b[0m│\n",
      "├───────┼────────────┼────────────┼────────────┼─────────────────────────────────┤\n",
      "│\u001b[1m   0,0 \u001b[0m│   (Y1, Y2) │         S1 │   (Γ1, Γ2) │ 1/4(-2[S1]+[Y1]+[Y2]+[Γ1]+[Γ2]) │\n",
      "│\u001b[1m 0,1/2 \u001b[0m│   (Y1, Y2) │         S2 │   (Γ1, Γ2) │ 1/4(-2[S2]+[Y1]+[Y2]+[Γ1]+[Γ2]) │\n",
      "└───────┴────────────┴────────────┴────────────┴─────────────────────────────────┘\n",
      "\u001b[1mc4 Irreps\u001b[0m\n",
      "┌─────────┬─────────┬─────────┬─────────┐\n",
      "│\u001b[1m         \u001b[0m│\u001b[1m X Irrep \u001b[0m│\u001b[1m M Irrep \u001b[0m│\u001b[1m M Irrep \u001b[0m│\n",
      "├─────────┼─────────┼─────────┼─────────┤\n",
      "│\u001b[1m     0,0 \u001b[0m│      X1 │      M1 │  (M3M4) │\n",
      "│\u001b[1m 1/2,1/2 \u001b[0m│      X2 │      M2 │    M3M4 │\n",
      "└─────────┴─────────┴─────────┴─────────┘\n",
      "\u001b[1mc4mm Irreps\u001b[0m\n",
      "┌─────────┬──────────┬──────────┬─────────┐\n",
      "│\u001b[1m         \u001b[0m│\u001b[1m  X Irrep \u001b[0m│\u001b[1m  M Irrep \u001b[0m│\u001b[1m M Irrep \u001b[0m│\n",
      "├─────────┼──────────┼──────────┼─────────┤\n",
      "│\u001b[1m     0,0 \u001b[0m│ (X1, X2) │ (M1, M4) │      M5 │\n",
      "│\u001b[1m 1/2,1/2 \u001b[0m│ (X3, X4) │ (M2, M3) │      M5 │\n",
      "└─────────┴──────────┴──────────┴─────────┘\n",
      "\u001b[1mp3 Irreps\u001b[0m\n",
      "┌─────────┬─────────┬─────────┐\n",
      "│\u001b[1m         \u001b[0m│\u001b[1m K Irrep \u001b[0m│\u001b[1m K Irrep \u001b[0m│\n",
      "├─────────┼─────────┼─────────┤\n",
      "│\u001b[1m     0,0 \u001b[0m│      K1 │      K2 │\n",
      "│\u001b[1m 1/3,2/3 \u001b[0m│      K2 │      K3 │\n",
      "│\u001b[1m 2/3,1/3 \u001b[0m│      K3 │      K1 │\n",
      "└─────────┴─────────┴─────────┘\n",
      "\u001b[1mp3mm Irreps\u001b[0m\n",
      "┌─────────┬─────────┬─────────┐\n",
      "│\u001b[1m         \u001b[0m│\u001b[1m K Irrep \u001b[0m│\u001b[1m K Irrep \u001b[0m│\n",
      "├─────────┼─────────┼─────────┤\n",
      "│\u001b[1m     0,0 \u001b[0m│      K1 │      K2 │\n",
      "│\u001b[1m 1/3,2/3 \u001b[0m│      K2 │      K3 │\n",
      "│\u001b[1m 2/3,1/3 \u001b[0m│      K3 │      K1 │\n",
      "└─────────┴─────────┴─────────┘\n"
     ]
    }
   ],
   "source": [
    "pretty_table([\"B1\" \"Y1\" \"A1\" \"Γ1\" \"1/4(-[B1]-[Y1]+[A1]+[Γ1])\" \"([Y1]+[A1], [B1]+[A1])\"; \n",
    "    \"B1\" \"Y2\" \"A2\" \"Γ1\" \"1/4(-[B1]-[Y2]+[A2]+[Γ1])\" \"([Y2]+[A2], [B1]+[A2])\";\n",
    "    \"B2\" \"Y1\" \"A2\" \"Γ1\" \"1/4(-[B2]-[Y1]+[A2]+[Γ1])\" \"([Y1]+[A2], [B2]+[A2])\";\n",
    "    \"B2\" \"Y2\" \"A1\" \"Γ1\" \"1/4(-[B2]-[Y2]+[A1]+[Γ1])\" \"([Y2]+[A1], [B2]+[A1])\"], \n",
    "    header=[\"B (λ₂ = 1)\", \"Y (λ₂ = 1)\", \"A (λ₂ = 1)\", \"Γ1 (λ₂ = 1)\", \"Corner Charge\", \"Polarization\"], \n",
    "row_names = [\"0,0\", \"0,1/2\", \"1/2,0\", \"1/2,1/2\"], title=\"p2 Irreps\", backend=:text, crop=:both)\n",
    "    \n",
    "\n",
    "pretty_table([\"(X1, X2)\" \"(Y1, Y2)\" \"(S1, S2)\" \"(Γ1, Γ2)\" \"1/4(-[X1]-[X2]-[Y1]-[Y2]+[S1]+[S2]+[Γ1]+[Γ2])\" \"1/2([Y1]+[Y2]+[S1]+[S2], [X1]+[X2]+[S1]+[S2])\";\n",
    "        \"(X1, X2)\" \"(Y3, Y4)\" \"(S3, S4)\" \"(Γ1, Γ2)\" \"1/4(-[X1]-[X2]-[Y3]-[Y4]+[S3]+[S4]+[Γ1]+[Γ2])\" \"1/2([Y3]+[Y4]+[S3]+[S4], [X1]+[X2]+[S3]+[S4])\";\n",
    "        \"(X3, X4)\" \"(Y1, Y2)\" \"(S3, S4)\" \"(Γ1, Γ2)\" \"1/4(-[X3]-[X4]-[Y1]-[Y2]+[S3]+[S4]+[Γ1]+[Γ2])\" \"1/2([Y1]+[Y2]+[S3]+[S4], [X3]+[X4]+[S3]+[S4])\";\n",
    "        \"(X3, X4)\" \"(Y3, Y4)\" \"(S1, S2)\" \"(Γ1, Γ2)\" \"1/4(-[X3]-[X4]-[Y3]-[Y4]+[S1]+[S2]+[Γ1]+[Γ2])\" \"1/2([Y3]+[Y4]+[S1]+[S2], [X3]+[X4]+[S1]+[S2])\"] ,\n",
    "    header=[\"X Irrep (λ₂ = 1)\", \"Y Irrep (λ₂ = 1)\", \"S Irrep (λ₂ = 1)\", \"Γ Irrep (λ₂ = 1)\",  \"Corner Charge\", \"Polarization\"], \n",
    "row_names = [\"0,0\", \"0,1/2\", \"1/2,0\", \"1/2,1/2\"], title=\"p2mm Irreps\", crop=:both)\n",
    "\n",
    "\n",
    "pretty_table([ \"(Y1, Y2)\" \"S1\" \"(Γ1, Γ2)\" \"1/4(-2[S1]+[Y1]+[Y2]+[Γ1]+[Γ2])\" \"1/2([S1])\"; \"(Y1, Y2)\" \"S2\" \"(Γ1, Γ2)\" \"1/4(-2[S2]+[Y1]+[Y2]+[Γ1]+[Γ2])\"], header=[\"Y (λ₂ = 1)\", \"S (λ₂ = 1)\", \"Γ (λ₂ = 1)\", \"Corner Charge\", \"Polarization\"],\n",
    "\n",
    "row_names = [\"0,0\", \"0,1/2\"], title=\"c2mm Irreps\")\n",
    "\n",
    "pretty_table([ \"X1\" \"M1\" \"(M3M4)\"; \"X2\" \"M2\" \"M3M4\"], header=[\"X Irrep\", \"M Irrep\", \"M Irrep\"],\n",
    "\n",
    "row_names = [\"0,0\", \"1/2,1/2\"], title=\"c4 Irreps\")\n",
    "\n",
    "pretty_table([ \"(X1, X2)\" \"(M1, M4)\" \"M5\" ; \"(X3, X4)\" \"(M2, M3)\" \"M5\"], header=[\"X Irrep\", \"M Irrep\", \"M Irrep\"],\n",
    "\n",
    "row_names = [\"0,0\", \"1/2,1/2\"], title=\"c4mm Irreps\")\n",
    "\n",
    "pretty_table([ \"K1\" \"K2\"; \"K2\" \"K3\"; \"K3\" \"K1\"], header=[\"K Irrep\", \"K Irrep\"],\n",
    "\n",
    "row_names = [\"0,0\", \"1/3,2/3\", \"2/3,1/3\"], title=\"p3 Irreps\")\n",
    "\n",
    "pretty_table([ \"K1\" \"K2\"; \"K2\" \"K3\"; \"K3\" \"K1\"], header=[\"K Irrep\", \"K Irrep\"],\n",
    "\n",
    "row_names = [\"0,0\", \"1/3,2/3\", \"2/3,1/3\"], title=\"p3mm Irreps\")"
   ]
  },
  {
   "cell_type": "code",
   "execution_count": 15,
   "metadata": {},
   "outputs": [
    {
     "name": "stdout",
     "output_type": "stream",
     "text": [
      "[\"origin=(vector3 0 0.5)\"]\n",
      "[\"origin=(vector3 0 0.5)\"]\n",
      "[\"origin=(vector3 -0.5 0.5)\"]\n",
      "[\"origin=(vector3 0.5 0.5)\"]\n",
      "[\"origin=(vector3 0.5 0.5)\"]\n",
      "[\"origin=(vector3 0.5 0.5)\"]\n",
      "[\"origin=(vector3 0.33333333333 0.6666666666)\"]\n",
      "[\"origin=(vector3 0.33333333333 0.66666666666)\"]\n"
     ]
    }
   ],
   "source": [
    "for sg in [2, 6, 9:14...]\n",
    "    origin_line = filter(x -> contains(x, \"origin\"), readlines(\"./symeigs/shiftedlattices/input/dim2-sg$sg-2-res64-tm.sh\"))\n",
    "    println(origin_line)\n",
    "    #println(String.(split(first(origin_line))))\n",
    "end"
   ]
  },
  {
   "cell_type": "code",
   "execution_count": null,
   "metadata": {},
   "outputs": [],
   "source": []
  }
 ],
 "metadata": {
  "kernelspec": {
   "display_name": "Julia 1.7 Kernel 1.7.2",
   "language": "julia",
   "name": "julia-1.7-kernel-1.7"
  },
  "language_info": {
   "file_extension": ".jl",
   "mimetype": "application/julia",
   "name": "julia",
   "version": "1.7.2"
  },
  "latex_envs": {
   "LaTeX_envs_menu_present": true,
   "autoclose": false,
   "autocomplete": true,
   "bibliofile": "biblio.bib",
   "cite_by": "apalike",
   "current_citInitial": 1,
   "eqLabelWithNumbers": true,
   "eqNumInitial": 1,
   "hotkeys": {
    "equation": "Ctrl-E",
    "itemize": "Ctrl-I"
   },
   "labels_anchors": false,
   "latex_user_defs": false,
   "report_style_numbering": false,
   "user_envs_cfg": false
  },
  "toc": {
   "base_numbering": 1,
   "nav_menu": {},
   "number_sections": true,
   "sideBar": true,
   "skip_h1_title": false,
   "title_cell": "Table of Contents",
   "title_sidebar": "Contents",
   "toc_cell": false,
   "toc_position": {},
   "toc_section_display": true,
   "toc_window_display": false
  },
  "varInspector": {
   "cols": {
    "lenName": 16,
    "lenType": 16,
    "lenVar": 40
   },
   "kernels_config": {
    "python": {
     "delete_cmd_postfix": "",
     "delete_cmd_prefix": "del ",
     "library": "var_list.py",
     "varRefreshCmd": "print(var_dic_list())"
    },
    "r": {
     "delete_cmd_postfix": ") ",
     "delete_cmd_prefix": "rm(",
     "library": "var_list.r",
     "varRefreshCmd": "cat(var_dic_list()) "
    }
   },
   "types_to_exclude": [
    "module",
    "function",
    "builtin_function_or_method",
    "instance",
    "_Feature"
   ],
   "window_display": false
  }
 },
 "nbformat": 4,
 "nbformat_minor": 5
}
