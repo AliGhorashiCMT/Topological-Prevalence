{
 "cells": [
  {
   "cell_type": "code",
   "execution_count": 133,
   "metadata": {},
   "outputs": [],
   "source": [
    "using Crystalline, MPBUtils, JLD2, LinearAlgebra, StaticArrays, SymmetryBases, PyPlot, DelimitedFiles, PrettyTables\n",
    "using Crystalline: symvec2string"
   ]
  },
  {
   "cell_type": "code",
   "execution_count": 139,
   "metadata": {},
   "outputs": [],
   "source": [
    "# spacegroup 2\n",
    "sg = 2\n",
    "id = 1\n",
    "polarization = \"tm\"\n",
    "brs = bandreps(sg, 2)\n",
    "band_groupingsv = Vector{BandSummary}[]\n",
    "for id in 1:4\n",
    "    symeigsd, lgd = read_symdata(\"dim2-sg$sg-$id-res64-$polarization\", dir=\"./symeigs/shiftedlattices/output\");\n",
    "    lgirsd = pick_lgirreps(lgd)\n",
    "    fixup_gamma_symmetry!(symeigsd, lgd, Symbol(uppercase(polarization)))\n",
    "    band_groupings = analyze_symmetry_data(symeigsd, lgirsd, brs);\n",
    "    push!(band_groupingsv, band_groupings)\n",
    "end"
   ]
  },
  {
   "cell_type": "code",
   "execution_count": 140,
   "metadata": {},
   "outputs": [],
   "source": [
    "for (i, j, k, l) in zip(band_groupingsv...)\n",
    "    base_n = i.n\n",
    "    shift_0_1 = base_n[[2, 1, 3, 4, 6, 5, 7, 8, 9]]\n",
    "    shift_1_0 = base_n[[1, 2, 4, 3, 6, 5, 7, 8, 9]]\n",
    "    shift_1_1 = base_n[[2, 1, 4, 3, 5, 6, 7, 8, 9]]\n",
    "\n",
    "    @assert j.n == shift_0_1\n",
    "    @assert k.n == shift_1_0\n",
    "    @assert l.n == shift_1_1\n",
    "end"
   ]
  },
  {
   "cell_type": "code",
   "execution_count": 141,
   "metadata": {},
   "outputs": [],
   "source": [
    "# spacegroup 6\n",
    "sg = 6\n",
    "id = 1\n",
    "polarization = \"tm\"\n",
    "brs = bandreps(sg, 2)\n",
    "band_groupingsv = Vector{BandSummary}[]\n",
    "for id in 1:4\n",
    "    symeigsd, lgd = read_symdata(\"dim2-sg$sg-$id-res64-$polarization\", dir=\"./symeigs/shiftedlattices/output\");\n",
    "    lgirsd = pick_lgirreps(lgd)\n",
    "    fixup_gamma_symmetry!(symeigsd, lgd, Symbol(uppercase(polarization)))\n",
    "    band_groupings = analyze_symmetry_data(symeigsd, lgirsd, brs);\n",
    "    push!(band_groupingsv, band_groupings)\n",
    "end"
   ]
  },
  {
   "cell_type": "code",
   "execution_count": 142,
   "metadata": {},
   "outputs": [],
   "source": [
    "for (i, j, k, l) in zip(band_groupingsv...)\n",
    "    base_n = i.n\n",
    "    shift_0_1 = base_n[[4, 3, 2, 1, 8, 7, 6, 5, 9, 10, 11, 12, 13, 14, 15, 16, 17]]\n",
    "    shift_1_0 = base_n[[1, 2, 3, 4, 7, 8, 5, 6, 11, 12, 9, 10, 13, 14, 15, 16, 17]]\n",
    "    shift_1_1 = base_n[[4, 3, 2, 1, 6, 5, 8, 7, 11, 12, 9, 10, 13, 14, 15, 16, 17]]\n",
    "\n",
    "    @assert j.n == shift_0_1\n",
    "    @assert k.n == shift_1_0\n",
    "    @assert l.n == shift_1_1\n",
    "end"
   ]
  },
  {
   "cell_type": "code",
   "execution_count": 143,
   "metadata": {},
   "outputs": [],
   "source": [
    "# spacegroup 9\n",
    "sg = 9\n",
    "id = 1\n",
    "polarization = \"tm\"\n",
    "brs = bandreps(sg, 2)\n",
    "band_groupingsv = Vector{BandSummary}[]\n",
    "for id in 1:2\n",
    "    symeigsd, lgd = read_symdata(\"dim2-sg$sg-$id-res64-$polarization\", dir=\"./symeigs/shiftedlattices/output\");\n",
    "    lgirsd = pick_lgirreps(lgd)\n",
    "    fixup_gamma_symmetry!(symeigsd, lgd, Symbol(uppercase(polarization)))\n",
    "    band_groupings = analyze_symmetry_data(symeigsd, lgirsd, brs);\n",
    "    push!(band_groupingsv, band_groupings)\n",
    "end"
   ]
  },
  {
   "cell_type": "code",
   "execution_count": 144,
   "metadata": {},
   "outputs": [],
   "source": [
    "for (i, j) in zip(band_groupingsv...)\n",
    "    base_n = i.n\n",
    "    shift = base_n[[1, 2, 3, 4, 6, 5, 7, 8, 9, 10, 11]]\n",
    "    @assert j.n == shift\n",
    "end"
   ]
  },
  {
   "cell_type": "code",
   "execution_count": 146,
   "metadata": {},
   "outputs": [],
   "source": [
    "# spacegroup 10\n",
    "sg = 10\n",
    "id = 1\n",
    "polarization = \"tm\"\n",
    "brs = bandreps(sg, 2)\n",
    "band_groupingsv = Vector{BandSummary}[]\n",
    "for id in 1:2\n",
    "    symeigsd, lgd = read_symdata(\"dim2-sg$sg-$id-res64-$polarization\", dir=\"./symeigs/shiftedlattices/output\");\n",
    "    lgirsd = pick_lgirreps(lgd)\n",
    "    fixup_gamma_symmetry!(symeigsd, lgd, Symbol(uppercase(polarization)))\n",
    "    band_groupings = analyze_symmetry_data(symeigsd, lgirsd, brs);\n",
    "    push!(band_groupingsv, band_groupings)\n",
    "end"
   ]
  },
  {
   "cell_type": "code",
   "execution_count": 153,
   "metadata": {},
   "outputs": [],
   "source": [
    "brs.irlabs\n",
    "for (i, j) in zip(band_groupingsv...)\n",
    "    base_n = i.n\n",
    "    shift = base_n[[2, 1, 4, 3, 5, 6, 7, 8, 9]]\n",
    "    @assert j.n == shift\n",
    "end"
   ]
  },
  {
   "cell_type": "code",
   "execution_count": 176,
   "metadata": {},
   "outputs": [],
   "source": [
    "# spacegroup 11\n",
    "sg = 11\n",
    "id = 1\n",
    "polarization = \"tm\"\n",
    "brs = bandreps(sg, 2)\n",
    "band_groupingsv = Vector{BandSummary}[]\n",
    "for id in 1:2\n",
    "    symeigsd, lgd = read_symdata(\"dim2-sg$sg-$id-res64-$polarization\", dir=\"./symeigs/shiftedlattices/output\");\n",
    "    lgirsd = pick_lgirreps(lgd)\n",
    "    fixup_gamma_symmetry!(symeigsd, lgd, Symbol(uppercase(polarization)))\n",
    "    band_groupings = analyze_symmetry_data(symeigsd, lgirsd, brs);\n",
    "    push!(band_groupingsv, band_groupings)\n",
    "end"
   ]
  },
  {
   "cell_type": "code",
   "execution_count": 177,
   "metadata": {},
   "outputs": [],
   "source": [
    "for (i, j) in zip(band_groupingsv...)\n",
    "    base_n = i.n\n",
    "    shift = base_n[[4, 3, 2, 1, 7, 8, 5, 6, 9, 10, 11, 12, 13, 14, 15]]\n",
    "    @assert j.n == shift\n",
    "end"
   ]
  },
  {
   "cell_type": "code",
   "execution_count": 178,
   "metadata": {},
   "outputs": [],
   "source": [
    "# spacegroup 12\n",
    "sg = 12\n",
    "id = 1\n",
    "polarization = \"tm\"\n",
    "brs = bandreps(sg, 2)\n",
    "band_groupingsv = Vector{BandSummary}[]\n",
    "for id in 1:2\n",
    "    symeigsd, lgd = read_symdata(\"dim2-sg$sg-$id-res64-$polarization\", dir=\"./symeigs/shiftedlattices/output\");\n",
    "    lgirsd = pick_lgirreps(lgd)\n",
    "    fixup_gamma_symmetry!(symeigsd, lgd, Symbol(uppercase(polarization)))\n",
    "    band_groupings = analyze_symmetry_data(symeigsd, lgirsd, brs);\n",
    "    push!(band_groupingsv, band_groupings)\n",
    "end"
   ]
  },
  {
   "cell_type": "code",
   "execution_count": 184,
   "metadata": {},
   "outputs": [],
   "source": [
    "for (i, j) in zip(band_groupingsv...)\n",
    "    base_n = i.n\n",
    "    shift = base_n\n",
    "    @assert j.n == shift\n",
    "end"
   ]
  },
  {
   "cell_type": "code",
   "execution_count": 230,
   "metadata": {},
   "outputs": [],
   "source": [
    "# spacegroup 13\n",
    "sg = 13\n",
    "id = 1\n",
    "polarization = \"tm\"\n",
    "brs = bandreps(sg, 2)\n",
    "band_groupingsv = Vector{BandSummary}[]\n",
    "for id in 1:3\n",
    "    symeigsd, lgd = read_symdata(\"dim2-sg$sg-$id-res64-$polarization\", dir=\"./symeigs/shiftedlattices/output\");\n",
    "    lgirsd = pick_lgirreps(lgd)\n",
    "    fixup_gamma_symmetry!(symeigsd, lgd, Symbol(uppercase(polarization)))\n",
    "    band_groupings = analyze_symmetry_data(symeigsd, lgirsd, brs);\n",
    "    push!(band_groupingsv, band_groupings)\n",
    "end"
   ]
  },
  {
   "cell_type": "code",
   "execution_count": 232,
   "metadata": {},
   "outputs": [],
   "source": [
    "for (i, j, k) in zip(band_groupingsv...)\n",
    "    base_n = i.n\n",
    "    shift_1 = base_n[[2, 3, 1, 4, 5, 8, 6, 7, 9]]\n",
    "    shift_2 = base_n[[3, 1, 2, 4, 5, 7, 8, 6, 9]]\n",
    "\n",
    "    @assert j.n == shift_1\n",
    "    @assert k.n == shift_2\n",
    "end"
   ]
  },
  {
   "cell_type": "code",
   "execution_count": 254,
   "metadata": {},
   "outputs": [],
   "source": [
    "# spacegroup 14\n",
    "sg = 14\n",
    "id = 1\n",
    "polarization = \"tm\"\n",
    "brs = bandreps(sg, 2)\n",
    "band_groupingsv = Vector{BandSummary}[]\n",
    "for id in 1:3\n",
    "    symeigsd, lgd = read_symdata(\"dim2-sg$sg-$id-res64-$polarization\", dir=\"./symeigs/shiftedlattices/output\");\n",
    "    lgirsd = pick_lgirreps(lgd)\n",
    "    fixup_gamma_symmetry!(symeigsd, lgd, Symbol(uppercase(polarization)))\n",
    "    band_groupings = analyze_symmetry_data(symeigsd, lgirsd, brs);\n",
    "    push!(band_groupingsv, band_groupings)\n",
    "end"
   ]
  },
  {
   "cell_type": "code",
   "execution_count": 255,
   "metadata": {},
   "outputs": [],
   "source": [
    "for (i, j, k) in zip(band_groupingsv...)\n",
    "    base_n = i.n\n",
    "    shift_1 = base_n[[1, 2, 3, 4, 5, 8, 6, 7, 9]]\n",
    "    shift_2 = base_n[[1, 2, 3, 4, 5, 7, 8, 6, 9]]\n",
    "\n",
    "    @assert j.n == shift_1\n",
    "    @assert k.n == shift_2\n",
    "end"
   ]
  },
  {
   "cell_type": "code",
   "execution_count": 257,
   "metadata": {
    "scrolled": true
   },
   "outputs": [],
   "source": [
    "#Spacegroup 15\n",
    "\n",
    "#In spacegroup 15, we have several Wyckoff positions as candidate centers.\n",
    "#However, only the (0, 0) position respects all #spacegroup 15 symmetries, while the others respect only the C3 symmetry.\n",
    "#Therefore, we analyze spacegroup 15 in the #subgroup, c3. \n",
    "sg = 15\n",
    "polarization = \"tm\"\n",
    "brs = bandreps(13, 2)\n",
    "\n",
    "band_groupingsv = Vector{BandSummary}[]\n",
    "\n",
    "for id in 1:3\n",
    "    symeigsd, lgd = read_symdata(\"dim2-sg$sg-$id-res64-$polarization\", sgnum=13, dir=\"./symeigs/shiftedlattices/output\");\n",
    "    lgirsd = pick_lgirreps(lgd)\n",
    "    fixup_gamma_symmetry!(symeigsd, lgd, Symbol(uppercase(polarization)))\n",
    "    band_groupings = analyze_symmetry_data(symeigsd, lgirsd, brs);\n",
    "    push!(band_groupingsv, band_groupings)\n",
    "end\n"
   ]
  },
  {
   "cell_type": "code",
   "execution_count": 273,
   "metadata": {},
   "outputs": [],
   "source": [
    "for (idx, (i, j, k)) in enumerate(zip(band_groupingsv...))\n",
    "    idx > 10 && break\n",
    "    base_n = i.n\n",
    "    shift_1 = base_n[[2, 3, 1, 4, 5, 8, 6, 7, 9]]\n",
    "    shift_2 = base_n[[3, 1, 2, 4, 5, 7, 8, 6, 9]]\n",
    "\n",
    "    @assert j.n == shift_1\n",
    "    @assert k.n == shift_2\n",
    "end"
   ]
  },
  {
   "cell_type": "code",
   "execution_count": null,
   "metadata": {},
   "outputs": [],
   "source": []
  }
 ],
 "metadata": {
  "kernelspec": {
   "display_name": "Julia 1.7 Kernel 1.7.2",
   "language": "julia",
   "name": "julia-1.7-kernel-1.7"
  },
  "language_info": {
   "file_extension": ".jl",
   "mimetype": "application/julia",
   "name": "julia",
   "version": "1.7.2"
  },
  "latex_envs": {
   "LaTeX_envs_menu_present": true,
   "autoclose": false,
   "autocomplete": true,
   "bibliofile": "biblio.bib",
   "cite_by": "apalike",
   "current_citInitial": 1,
   "eqLabelWithNumbers": true,
   "eqNumInitial": 1,
   "hotkeys": {
    "equation": "Ctrl-E",
    "itemize": "Ctrl-I"
   },
   "labels_anchors": false,
   "latex_user_defs": false,
   "report_style_numbering": false,
   "user_envs_cfg": false
  },
  "toc": {
   "base_numbering": 1,
   "nav_menu": {},
   "number_sections": true,
   "sideBar": true,
   "skip_h1_title": false,
   "title_cell": "Table of Contents",
   "title_sidebar": "Contents",
   "toc_cell": false,
   "toc_position": {},
   "toc_section_display": true,
   "toc_window_display": false
  },
  "varInspector": {
   "cols": {
    "lenName": 16,
    "lenType": 16,
    "lenVar": 40
   },
   "kernels_config": {
    "python": {
     "delete_cmd_postfix": "",
     "delete_cmd_prefix": "del ",
     "library": "var_list.py",
     "varRefreshCmd": "print(var_dic_list())"
    },
    "r": {
     "delete_cmd_postfix": ") ",
     "delete_cmd_prefix": "rm(",
     "library": "var_list.r",
     "varRefreshCmd": "cat(var_dic_list()) "
    }
   },
   "types_to_exclude": [
    "module",
    "function",
    "builtin_function_or_method",
    "instance",
    "_Feature"
   ],
   "window_display": false
  }
 },
 "nbformat": 4,
 "nbformat_minor": 5
}
