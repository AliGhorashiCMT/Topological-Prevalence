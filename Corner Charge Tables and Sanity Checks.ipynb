{
 "cells": [
  {
   "cell_type": "code",
   "execution_count": 1,
   "metadata": {},
   "outputs": [
    {
     "data": {
      "text/plain": [
       "polarization_sg12 (generic function with 4 methods)"
      ]
     },
     "execution_count": 1,
     "metadata": {},
     "output_type": "execute_result"
    }
   ],
   "source": [
    "using Crystalline, MPBUtils, JLD2, LinearAlgebra, StaticArrays, SymmetryBases, PyPlot, DelimitedFiles, PrettyTables\n",
    "using Crystalline: symvec2string\n",
    "include(\"./symeigs/corner_charges.jl\")"
   ]
  },
  {
   "cell_type": "code",
   "execution_count": 32,
   "metadata": {},
   "outputs": [],
   "source": [
    "# spacegroup 2\n",
    "sg = 2\n",
    "id = 1\n",
    "polarization = \"tm\"\n",
    "brs = bandreps(sg, 2)\n",
    "band_groupingsv = Vector{BandSummary}[]\n",
    "for id in 1:4\n",
    "    symeigsd, lgd = read_symdata(\"dim2-sg$sg-$id-res64-$polarization\", dir=\"./symeigs/shiftedlattices/output\");\n",
    "    lgirsd = pick_lgirreps(lgd)\n",
    "    fixup_gamma_symmetry!(symeigsd, lgd, Symbol(uppercase(polarization)))\n",
    "    band_groupings = analyze_symmetry_data(symeigsd, lgirsd, brs);\n",
    "    push!(band_groupingsv, band_groupings)\n",
    "end"
   ]
  },
  {
   "cell_type": "code",
   "execution_count": 33,
   "metadata": {},
   "outputs": [],
   "source": [
    "for (i, j, k, l) in zip(band_groupingsv...)\n",
    "    base_n = i.n\n",
    "    shift_0_1 = base_n[[2, 1, 3, 4, 6, 5, 7, 8, 9]]\n",
    "    shift_1_0 = base_n[[1, 2, 4, 3, 6, 5, 7, 8, 9]]\n",
    "    shift_1_1 = base_n[[2, 1, 4, 3, 5, 6, 7, 8, 9]]\n",
    "\n",
    "    @assert j.n == shift_0_1\n",
    "    @assert k.n == shift_1_0\n",
    "    @assert l.n == shift_1_1\n",
    "end"
   ]
  },
  {
   "cell_type": "code",
   "execution_count": 35,
   "metadata": {},
   "outputs": [],
   "source": [
    "ws = wyckoffs(sg, 2)\n",
    "for (i, j, k, l) in zip(band_groupingsv...)\n",
    "    @assert corners(i, ws[4]) == corners(j)\n",
    "    @assert corners(i, ws[3]) == corners(k)\n",
    "    @assert corners(i, ws[2]) == corners(l)\n",
    "    @assert polarizations(i, ws[4]) == polarizations(j)\n",
    "    @assert polarizations(i, ws[3]) == polarizations(k)\n",
    "    @assert polarizations(i, ws[2]) == polarizations(l)\n",
    "end"
   ]
  },
  {
   "cell_type": "code",
   "execution_count": 37,
   "metadata": {},
   "outputs": [],
   "source": [
    "# spacegroup 6\n",
    "sg = 6\n",
    "id = 1\n",
    "polarization = \"tm\"\n",
    "brs = bandreps(sg, 2)\n",
    "band_groupingsv = Vector{BandSummary}[]\n",
    "for id in 1:4\n",
    "    symeigsd, lgd = read_symdata(\"dim2-sg$sg-$id-res64-$polarization\", dir=\"./symeigs/shiftedlattices/output\");\n",
    "    lgirsd = pick_lgirreps(lgd)\n",
    "    fixup_gamma_symmetry!(symeigsd, lgd, Symbol(uppercase(polarization)))\n",
    "    band_groupings = analyze_symmetry_data(symeigsd, lgirsd, brs);\n",
    "    push!(band_groupingsv, band_groupings)\n",
    "end"
   ]
  },
  {
   "cell_type": "code",
   "execution_count": 38,
   "metadata": {},
   "outputs": [],
   "source": [
    "for (i, j, k, l) in zip(band_groupingsv...)\n",
    "    base_n = i.n\n",
    "    shift_0_1 = base_n[[4, 3, 2, 1, 8, 7, 6, 5, 9, 10, 11, 12, 13, 14, 15, 16, 17]]\n",
    "    shift_1_0 = base_n[[1, 2, 3, 4, 7, 8, 5, 6, 11, 12, 9, 10, 13, 14, 15, 16, 17]]\n",
    "    shift_1_1 = base_n[[4, 3, 2, 1, 6, 5, 8, 7, 11, 12, 9, 10, 13, 14, 15, 16, 17]]\n",
    "\n",
    "    @assert j.n == shift_0_1\n",
    "    @assert k.n == shift_1_0\n",
    "    @assert l.n == shift_1_1\n",
    "end"
   ]
  },
  {
   "cell_type": "code",
   "execution_count": 41,
   "metadata": {},
   "outputs": [],
   "source": [
    "ws = wyckoffs(sg, 2)\n",
    "for (i, j, k, l) in zip(band_groupingsv...)\n",
    "    @assert corners(i, ws[8]) == corners(j)\n",
    "    @assert corners(i, ws[7]) == corners(k)\n",
    "    @assert corners(i, ws[6]) == corners(l)\n",
    "    @assert polarizations(i, ws[8]) == polarizations(j)\n",
    "    @assert polarizations(i, ws[7]) == polarizations(k)\n",
    "    @assert polarizations(i, ws[6]) == polarizations(l)\n",
    "end"
   ]
  },
  {
   "cell_type": "code",
   "execution_count": 42,
   "metadata": {},
   "outputs": [],
   "source": [
    "# spacegroup 9\n",
    "sg = 9\n",
    "id = 1\n",
    "polarization = \"tm\"\n",
    "brs = bandreps(sg, 2)\n",
    "band_groupingsv = Vector{BandSummary}[]\n",
    "for id in 1:2\n",
    "    symeigsd, lgd = read_symdata(\"dim2-sg$sg-$id-res64-$polarization\", dir=\"./symeigs/shiftedlattices/output\");\n",
    "    lgirsd = pick_lgirreps(lgd)\n",
    "    fixup_gamma_symmetry!(symeigsd, lgd, Symbol(uppercase(polarization)))\n",
    "    band_groupings = analyze_symmetry_data(symeigsd, lgirsd, brs);\n",
    "    push!(band_groupingsv, band_groupings)\n",
    "end"
   ]
  },
  {
   "cell_type": "code",
   "execution_count": 46,
   "metadata": {},
   "outputs": [],
   "source": [
    "for (i, j) in zip(band_groupingsv...)\n",
    "    base_n = i.n\n",
    "    shift = base_n[[1, 2, 3, 4, 6, 5, 7, 8, 9, 10, 11]]\n",
    "    @assert j.n == shift\n",
    "end"
   ]
  },
  {
   "cell_type": "code",
   "execution_count": 50,
   "metadata": {},
   "outputs": [],
   "source": [
    "ws = wyckoffs(sg, 2)\n",
    "for (i, j) in zip(band_groupingsv...)\n",
    "    @assert corners(i, ws[5]) == corners(j)\n",
    "    @assert polarizations(i, ws[5]) == polarizations(j)\n",
    "end"
   ]
  },
  {
   "cell_type": "code",
   "execution_count": 51,
   "metadata": {},
   "outputs": [],
   "source": [
    "# spacegroup 10\n",
    "sg = 10\n",
    "id = 1\n",
    "polarization = \"tm\"\n",
    "brs = bandreps(sg, 2)\n",
    "band_groupingsv = Vector{BandSummary}[]\n",
    "for id in 1:2\n",
    "    symeigsd, lgd = read_symdata(\"dim2-sg$sg-$id-res64-$polarization\", dir=\"./symeigs/shiftedlattices/output\");\n",
    "    lgirsd = pick_lgirreps(lgd)\n",
    "    fixup_gamma_symmetry!(symeigsd, lgd, Symbol(uppercase(polarization)))\n",
    "    band_groupings = analyze_symmetry_data(symeigsd, lgirsd, brs);\n",
    "    push!(band_groupingsv, band_groupings)\n",
    "end"
   ]
  },
  {
   "cell_type": "code",
   "execution_count": 52,
   "metadata": {},
   "outputs": [],
   "source": [
    "for (i, j) in zip(band_groupingsv...)\n",
    "    base_n = i.n\n",
    "    shift = base_n[[2, 1, 4, 3, 5, 6, 7, 8, 9]]\n",
    "    @assert j.n == shift\n",
    "end"
   ]
  },
  {
   "cell_type": "code",
   "execution_count": 56,
   "metadata": {},
   "outputs": [],
   "source": [
    "ws = wyckoffs(sg, 2)\n",
    "for (i, j) in zip(band_groupingsv...)\n",
    "    @assert corners(i, ws[3]) == corners(j)\n",
    "    @assert polarizations(i, ws[3]) == polarizations(j)\n",
    "end"
   ]
  },
  {
   "cell_type": "code",
   "execution_count": 121,
   "metadata": {},
   "outputs": [],
   "source": [
    "# spacegroup 11\n",
    "sg = 11\n",
    "id = 1\n",
    "polarization = \"te\"\n",
    "brs = bandreps(sg, 2)\n",
    "band_groupingsv = Vector{BandSummary}[]\n",
    "for id in 1:2\n",
    "    symeigsd, lgd = read_symdata(\"dim2-sg$sg-$id-res64-$polarization\", dir=\"./symeigs/shiftedlattices/output\");\n",
    "    lgirsd = pick_lgirreps(lgd)\n",
    "    fixup_gamma_symmetry!(symeigsd, lgd, Symbol(uppercase(polarization)))\n",
    "    band_groupings = analyze_symmetry_data(symeigsd, lgirsd, brs);\n",
    "    push!(band_groupingsv, band_groupings)\n",
    "end"
   ]
  },
  {
   "cell_type": "code",
   "execution_count": 122,
   "metadata": {},
   "outputs": [],
   "source": [
    "for (i, j) in zip(band_groupingsv...)\n",
    "    base_n = i.n\n",
    "    shift = base_n[[4, 3, 2, 1, 7, 8, 5, 6, 9, 10, 11, 12, 13, 14, 15]]\n",
    "    @assert j.n == shift\n",
    "end"
   ]
  },
  {
   "cell_type": "code",
   "execution_count": 126,
   "metadata": {},
   "outputs": [],
   "source": [
    "ws = wyckoffs(sg, 2)\n",
    "for (i, j) in zip(band_groupingsv...)\n",
    "    @assert corners(i, ws[6]) == corners(j)\n",
    "    @assert polarizations(i, ws[6]) == polarizations(j)\n",
    "end"
   ]
  },
  {
   "cell_type": "code",
   "execution_count": 61,
   "metadata": {},
   "outputs": [],
   "source": [
    "# spacegroup 12\n",
    "sg = 12\n",
    "id = 1\n",
    "polarization = \"tm\"\n",
    "brs = bandreps(sg, 2)\n",
    "band_groupingsv = Vector{BandSummary}[]\n",
    "for id in 1:2\n",
    "    symeigsd, lgd = read_symdata(\"dim2-sg$sg-$id-res64-$polarization\", dir=\"./symeigs/shiftedlattices/output\");\n",
    "    lgirsd = pick_lgirreps(lgd)\n",
    "    fixup_gamma_symmetry!(symeigsd, lgd, Symbol(uppercase(polarization)))\n",
    "    band_groupings = analyze_symmetry_data(symeigsd, lgirsd, brs);\n",
    "    push!(band_groupingsv, band_groupings)\n",
    "end"
   ]
  },
  {
   "cell_type": "code",
   "execution_count": 62,
   "metadata": {},
   "outputs": [],
   "source": [
    "for (i, j) in zip(band_groupingsv...)\n",
    "    base_n = i.n\n",
    "    shift = base_n\n",
    "    @assert j.n == shift\n",
    "end"
   ]
  },
  {
   "cell_type": "code",
   "execution_count": 64,
   "metadata": {},
   "outputs": [],
   "source": [
    "# spacegroup 13\n",
    "sg = 13\n",
    "id = 1\n",
    "polarization = \"tm\"\n",
    "brs = bandreps(sg, 2)\n",
    "band_groupingsv = Vector{BandSummary}[]\n",
    "for id in 1:3\n",
    "    symeigsd, lgd = read_symdata(\"dim2-sg$sg-$id-res64-$polarization\", dir=\"./symeigs/shiftedlattices/output\");\n",
    "    lgirsd = pick_lgirreps(lgd)\n",
    "    fixup_gamma_symmetry!(symeigsd, lgd, Symbol(uppercase(polarization)))\n",
    "    band_groupings = analyze_symmetry_data(symeigsd, lgirsd, brs);\n",
    "    push!(band_groupingsv, band_groupings)\n",
    "end"
   ]
  },
  {
   "cell_type": "code",
   "execution_count": 65,
   "metadata": {},
   "outputs": [],
   "source": [
    "for (i, j, k) in zip(band_groupingsv...)\n",
    "    base_n = i.n\n",
    "    shift_1 = base_n[[2, 3, 1, 4, 5, 8, 6, 7, 9]]\n",
    "    shift_2 = base_n[[3, 1, 2, 4, 5, 7, 8, 6, 9]]\n",
    "\n",
    "    @assert j.n == shift_1\n",
    "    @assert k.n == shift_2\n",
    "end"
   ]
  },
  {
   "cell_type": "code",
   "execution_count": 71,
   "metadata": {},
   "outputs": [],
   "source": [
    "ws = wyckoffs(sg, 2)\n",
    "for (i, j, k) in zip(band_groupingsv...)\n",
    "    @assert corners(i, ws[3]) == corners(j)\n",
    "    @assert corners(i, ws[2]) == corners(k)\n",
    "    @assert polarizations(i, ws[3]) == polarizations(j)\n",
    "    @assert polarizations(i, ws[2]) == polarizations(k)\n",
    "end"
   ]
  },
  {
   "cell_type": "code",
   "execution_count": 73,
   "metadata": {},
   "outputs": [],
   "source": [
    "# spacegroup 14\n",
    "sg = 14\n",
    "id = 1\n",
    "polarization = \"tm\"\n",
    "brs = bandreps(sg, 2)\n",
    "band_groupingsv = Vector{BandSummary}[]\n",
    "for id in 1:3\n",
    "    symeigsd, lgd = read_symdata(\"dim2-sg$sg-$id-res64-$polarization\", dir=\"./symeigs/shiftedlattices/output\");\n",
    "    lgirsd = pick_lgirreps(lgd)\n",
    "    fixup_gamma_symmetry!(symeigsd, lgd, Symbol(uppercase(polarization)))\n",
    "    band_groupings = analyze_symmetry_data(symeigsd, lgirsd, brs);\n",
    "    push!(band_groupingsv, band_groupings)\n",
    "end"
   ]
  },
  {
   "cell_type": "code",
   "execution_count": 74,
   "metadata": {},
   "outputs": [],
   "source": [
    "for (i, j, k) in zip(band_groupingsv...)\n",
    "    base_n = i.n\n",
    "    shift_1 = base_n[[1, 2, 3, 4, 5, 8, 6, 7, 9]]\n",
    "    shift_2 = base_n[[1, 2, 3, 4, 5, 7, 8, 6, 9]]\n",
    "\n",
    "    @assert j.n == shift_1\n",
    "    @assert k.n == shift_2\n",
    "end"
   ]
  },
  {
   "cell_type": "code",
   "execution_count": 76,
   "metadata": {},
   "outputs": [],
   "source": [
    "ws = wyckoffs(sg, 2)\n",
    "for (i, j, k) in zip(band_groupingsv...)\n",
    "    @assert corners(i, ws[4]) == corners(j)\n",
    "    @assert corners(i, ws[3]) == corners(k)\n",
    "    @assert polarizations(i, ws[4]) == polarizations(j)\n",
    "    @assert polarizations(i, ws[3]) == polarizations(k)\n",
    "end"
   ]
  },
  {
   "cell_type": "code",
   "execution_count": 86,
   "metadata": {
    "scrolled": true
   },
   "outputs": [
    {
     "name": "stdout",
     "output_type": "stream",
     "text": [
      "15\n"
     ]
    }
   ],
   "source": [
    "#Spacegroup 15\n",
    "\n",
    "#In spacegroup 15, we have several Wyckoff positions as candidate centers.\n",
    "#However, only the (0, 0) position respects all #spacegroup 15 symmetries, while the others respect only the C3 symmetry.\n",
    "#Therefore, we analyze spacegroup 15 in the #subgroup, c3. \n",
    "sg = 15\n",
    "polarization = \"tm\"\n",
    "brs_13 = bandreps(13, 2)\n",
    "brs_15 = bandreps(15, 2)\n",
    "band_groupingsv_13 = Vector{BandSummary}[]\n",
    "band_groupingsv_15 = Vector{BandSummary}[]\n",
    "\n",
    "for id in 2:4\n",
    "    symeigsd, lgd = read_symdata(\"dim2-sg$sg-$id-res64-$polarization\", sgnum=13, dir=\"./symeigs/shiftedlattices/output\");\n",
    "    lgirsd = pick_lgirreps(lgd)\n",
    "    fixup_gamma_symmetry!(symeigsd, lgd, Symbol(uppercase(polarization)))\n",
    "    band_groupings = analyze_symmetry_data(symeigsd, lgirsd, brs_13);\n",
    "    push!(band_groupingsv_13, band_groupings)\n",
    "end\n",
    "\n",
    "for id in 1:1\n",
    "    println(sg)\n",
    "    symeigsd, lgd = read_symdata(\"dim2-sg$sg-$id-res64-$polarization\", dir=\"./symeigs/shiftedlattices/output\");\n",
    "    lgirsd = pick_lgirreps(lgd)\n",
    "    fixup_gamma_symmetry!(symeigsd, lgd, Symbol(uppercase(polarization)))\n",
    "    band_groupings = analyze_symmetry_data(symeigsd, lgirsd, brs_15);\n",
    "    push!(band_groupingsv_15, band_groupings)\n",
    "end\n"
   ]
  },
  {
   "cell_type": "code",
   "execution_count": 87,
   "metadata": {},
   "outputs": [],
   "source": [
    "for (idx, (j, k, i)) in enumerate(zip(band_groupingsv_13...))\n",
    "    idx > 10 && break\n",
    "    base_n = i.n\n",
    "    shift_1 = base_n[[2, 3, 1, 4, 5, 8, 6, 7, 9]]\n",
    "    shift_2 = base_n[[3, 1, 2, 4, 5, 7, 8, 6, 9]]\n",
    "\n",
    "    @assert j.n == shift_1\n",
    "    @assert k.n == shift_2\n",
    "end"
   ]
  },
  {
   "cell_type": "code",
   "execution_count": 127,
   "metadata": {},
   "outputs": [],
   "source": [
    "ws = wyckoffs(13, 2)\n",
    "for (i, j, k, l) in zip(cumsum.(band_groupingsv_13)..., cumsum.(band_groupingsv_15)...)\n",
    "    k.n[end] == l.n[end] || continue\n",
    "    @assert corners(k) == corners(l, ws[4])\n",
    "    @assert polarizations(k, ws[4]) == polarizations(l)\n",
    "end\n",
    "for (i, j, k, l) in zip(cumsum.(band_groupingsv_13)..., cumsum.(band_groupingsv_15)...)\n",
    "    k.n[end] == l.n[end] || continue\n",
    "    @assert corners(i) == corners(l, ws[3])\n",
    "    @assert polarizations(i) == polarizations(l, ws[3])\n",
    "end\n",
    "for (i, j, k, l) in zip(cumsum.(band_groupingsv_13)..., cumsum.(band_groupingsv_15)...)\n",
    "    j.n[end] == l.n[end] || continue\n",
    "    @assert corners(j) == corners(l, ws[2])\n",
    "    @assert polarizations(j) == polarizations(l, ws[2])\n",
    "end"
   ]
  },
  {
   "cell_type": "code",
   "execution_count": 231,
   "metadata": {},
   "outputs": [],
   "source": [
    "brs_15 = bandreps(15, 2)\n",
    "brs_13 = bandreps(13, 2);"
   ]
  },
  {
   "cell_type": "code",
   "execution_count": 232,
   "metadata": {},
   "outputs": [],
   "source": [
    "# Below, we check that the band representations in spacegroup 15 have the corner charges we'd expect"
   ]
  },
  {
   "cell_type": "code",
   "execution_count": 275,
   "metadata": {},
   "outputs": [],
   "source": [
    "for wyckoff in wyckoffs(13, 2)[end-2:end]\n",
    "    a  = corner_sg13(brs_13[1].irvec, brs_13[1].irlabs, wyckoff)\n",
    "    b  = corner_sg13(brs_13[3].irvec, brs_13[1].irlabs, wyckoff)\n",
    "    @assert corner_sg15(brs[1].irvec, brs[1].irlabs, wyckoff) == a + b\n",
    "end"
   ]
  },
  {
   "cell_type": "code",
   "execution_count": 276,
   "metadata": {},
   "outputs": [],
   "source": [
    "for wyckoff in wyckoffs(13, 2)[end-2:end]\n",
    "    @assert corner_sg15(brs[2].irvec, brs[2].irlabs, wyckoff) == corner_sg13(brs_13[2].irvec + brs_13[4].irvec, brs_13[1].irlabs, wyckoff)\n",
    "end"
   ]
  },
  {
   "cell_type": "code",
   "execution_count": 277,
   "metadata": {},
   "outputs": [],
   "source": [
    "for wyckoff in wyckoffs(13, 2)[end-2:end]\n",
    "    @assert corner_sg15(brs[3].irvec, brs[3].irlabs, wyckoff) == corner_sg13(brs_13[5].irvec, brs_13[1].irlabs, wyckoff)\n",
    "end"
   ]
  },
  {
   "cell_type": "code",
   "execution_count": 2,
   "metadata": {},
   "outputs": [],
   "source": [
    "# Below we list the decomposition of EBRS in plane group 6 and 9 as EBRs in plane group 2"
   ]
  },
  {
   "cell_type": "code",
   "execution_count": 5,
   "metadata": {},
   "outputs": [
    {
     "data": {
      "text/plain": [
       "brs_sixteen_to_thirteen (generic function with 1 method)"
      ]
     },
     "execution_count": 5,
     "metadata": {},
     "output_type": "execute_result"
    }
   ],
   "source": [
    "function brs_six_to_two(br::BandRep)\n",
    "    br6 = collect(br)\n",
    "    n2 = [br6[1]+br6[2], br6[3]+br6[4], br6[9]+br6[10], br6[11]+br6[12], br6[5]+br6[6],\n",
    "        br6[7]+br6[8], br6[13]+br6[14], br6[15]+br6[16], br6[17]]\n",
    "    return decompose(n2, bandreps(2, 2))\n",
    "end\n",
    "\n",
    "function brs_nine_to_two(br::BandRep)\n",
    "    br9 = collect(br)\n",
    "    n2 = [br9[5], br9[6], br9[5], br9[6], br9[1]+br9[2],\n",
    "        br9[3]+br9[4], br9[7]+br9[8], br9[9]+br9[10], br9[11]]\n",
    "    return decompose(n2, bandreps(2, 2))\n",
    "end\n",
    "\n",
    "function brs_fourteen_to_thirteen(br::BandRep)\n",
    "    br14 = collect(br)\n",
    "    n13 = [br14[6], br14[8], br14[7], br14[3]+br14[4], br14[5], br14[6], br14[7], br14[8], br14[9]]\n",
    "    return(decompose(n13, bandreps(13, 2)))\n",
    "end\n",
    "\n",
    "function brs_fifteen_to_thirteen(br::BandRep)\n",
    "    br15 = collect(br)\n",
    "    n13 = [br15[1]+br15[2], br15[3], br15[3], br15[6]+br15[7], br15[8], br15[9]+br15[10], br15[11], br15[11], br15[12]]\n",
    "    return(decompose(n13, bandreps(13, 2)))\n",
    "end\n",
    "\n",
    "function brs_eleven_to_ten(br::BandRep)\n",
    "    br11 = collect(br)\n",
    "    n10 = [br11[1]+br11[2], br11[3]+ br11[4], br11[5]+br11[8], br11[6]+br11[7], br11[9],\n",
    "        br11[10]+br11[13], br11[11]+br11[12], br11[14], br11[15]]\n",
    "    return(decompose(n10, bandreps(10, 2)))\n",
    "end\n",
    "\n",
    "function brs_twelve_to_ten(br::BandRep)\n",
    "    br12 = collect(br)\n",
    "    n10 = [br12[4], br12[4], br12[3], br12[3], br12[1]+br12[2], br12[5]+br12[8], br12[6]+br12[7], br12[9], br12[10]]\n",
    "    return(decompose(n10, bandreps(10, 2)))\n",
    "end\n",
    "\n",
    "function brs_seventeen_to_sixteen(br::BandRep)\n",
    "    br17 = collect(br)\n",
    "    n16 = [br17[1]+br17[2], br17[3]+br17[4], br17[5]+br17[6], br17[7]+br17[8], br17[9], br17[10], br17[11]+br17[12], \n",
    "    br17[13], br17[14]]\n",
    "    return(decompose(n16, bandreps(16, 2)))\n",
    "end\n",
    "\n",
    "function brs_sixteen_to_thirteen(br::BandRep)\n",
    "    br16 = collect(br)\n",
    "    n16 = [br16[7],br16[8],br16[8],br16[3]+br16[4], br16[5]+br16[6], br16[7], br16[8], br16[8], br16[9]]\n",
    "    return(decompose(n16, bandreps(13, 2)))\n",
    "end\n"
   ]
  },
  {
   "cell_type": "code",
   "execution_count": 111,
   "metadata": {},
   "outputs": [],
   "source": [
    "#Check that corner charges and polarizations make sense\n",
    "for br6 in bandreps(6, 2)\n",
    "     @assert corner_sg6(br6.irvec, br6.irlabs) == corner_sg2(hcat(bandreps(2, 2).bandreps...)*Int.(brs_six_to_two(br6)),\n",
    "            bandreps(2, 2).irlabs)\n",
    "    @assert polarization_sg6(br6.irvec, br6.irlabs) == polarization_sg2(hcat(bandreps(2, 2).bandreps...)*Int.(brs_six_to_two(br6)),\n",
    "            bandreps(2, 2).irlabs)\n",
    "end"
   ]
  },
  {
   "cell_type": "code",
   "execution_count": 119,
   "metadata": {},
   "outputs": [],
   "source": [
    "for br9 in bandreps(9, 2)\n",
    "    @assert corner_sg9(br9.irvec, br9.irlabs) == corner_sg2(hcat(bandreps(2, 2).bandreps...)*Int.(brs_nine_to_two(br9)),\n",
    "            bandreps(2, 2).irlabs)\n",
    "    @assert polarization_sg9(br9.irvec, br9.irlabs) == polarization_sg2(hcat(bandreps(2, 2).bandreps...)*Int.(brs_nine_to_two(br9)),\n",
    "            bandreps(2, 2).irlabs)\n",
    "end"
   ]
  },
  {
   "cell_type": "code",
   "execution_count": 153,
   "metadata": {},
   "outputs": [],
   "source": [
    "for br14 in bandreps(14, 2)\n",
    "     @assert corner_sg14(br14.irvec, br14.irlabs) == corner_sg13(hcat(bandreps(13, 2).bandreps...)*Int.(brs_fourteen_to_thirteen(br14)),\n",
    "            bandreps(13, 2).irlabs)\n",
    "     @assert polarization_sg14(br14.irvec, br14.irlabs) == polarization_sg13(hcat(bandreps(13, 2).bandreps...)*Int.(brs_fourteen_to_thirteen(br14)),\n",
    "            bandreps(13, 2).irlabs)\n",
    "end"
   ]
  },
  {
   "cell_type": "code",
   "execution_count": 184,
   "metadata": {},
   "outputs": [],
   "source": [
    "for br11 in bandreps(11, 2)\n",
    "     @assert corner_sg11(br11.irvec, br11.irlabs) == corner_sg10(hcat(bandreps(10, 2).bandreps...)*Int.(brs_eleven_to_ten(br11)),\n",
    "            bandreps(10, 2).irlabs)\n",
    "     @assert polarization_sg11(br11.irvec, br11.irlabs) == polarization_sg10(hcat(bandreps(10, 2).bandreps...)*Int.(brs_eleven_to_ten(br11)),\n",
    "            bandreps(10, 2).irlabs)\n",
    "end"
   ]
  },
  {
   "cell_type": "code",
   "execution_count": 199,
   "metadata": {},
   "outputs": [],
   "source": [
    "for br12 in bandreps(12, 2)\n",
    "     @assert corner_sg12(br12.irvec, br12.irlabs) == corner_sg10(hcat(bandreps(10, 2).bandreps...)*Int.(brs_twelve_to_ten(br12)),\n",
    "            bandreps(10, 2).irlabs)\n",
    "         @assert polarization_sg12(br12.irvec, br12.irlabs) == polarization_sg10(hcat(bandreps(10, 2).bandreps...)*Int.(brs_twelve_to_ten(br12)),\n",
    "            bandreps(10, 2).irlabs)\n",
    "end"
   ]
  },
  {
   "cell_type": "code",
   "execution_count": 221,
   "metadata": {},
   "outputs": [],
   "source": [
    "for br17 in bandreps(17, 2)\n",
    "     @assert corner_sg17(br17.irvec, br17.irlabs) == corner_sg16(hcat(bandreps(16, 2).bandreps...)*Int.(brs_seventeen_to_sixteen(br17)),\n",
    "            bandreps(16, 2).irlabs)\n",
    "     @assert polarization_sg17(br17.irvec, br17.irlabs) == polarization_sg16(hcat(bandreps(16, 2).bandreps...)*Int.(brs_seventeen_to_sixteen(br17)),\n",
    "            bandreps(16, 2).irlabs)\n",
    "end"
   ]
  },
  {
   "cell_type": "code",
   "execution_count": 24,
   "metadata": {},
   "outputs": [],
   "source": [
    "# Below we see how EBRs change when the wyckoff position is changed"
   ]
  },
  {
   "cell_type": "code",
   "execution_count": 8,
   "metadata": {},
   "outputs": [
    {
     "data": {
      "text/plain": [
       "brs_move_sg15 (generic function with 1 method)"
      ]
     },
     "execution_count": 8,
     "metadata": {},
     "output_type": "execute_result"
    }
   ],
   "source": [
    "function brs_move_sg2(br::BandRep, wp::WyckoffPosition{2})\n",
    "    n = collect(br)\n",
    "    brs = bandreps(2, 2)\n",
    "    wps = wyckoffs(2, 2)\n",
    "    shift = if wp == wps[end-1]\n",
    "                n[[2, 1, 3, 4, 6, 5, 7, 8, 9]]\n",
    "            elseif wp == wps[end-2]\n",
    "                n[[1, 2, 4, 3, 6, 5, 7, 8, 9]]\n",
    "            elseif wp == wps[end-3]\n",
    "                n[[2, 1, 4, 3, 5, 6, 7, 8, 9]]\n",
    "            end\n",
    "    decompose(shift, brs)\n",
    "end\n",
    "\n",
    "function brs_move_sg6(br::BandRep, wp::WyckoffPosition{2})\n",
    "    n = collect(br)\n",
    "    brs = bandreps(6, 2)\n",
    "    wps = wyckoffs(6, 2)\n",
    "    shift = if wp == wps[end-1]\n",
    "                n[[4, 3, 2, 1, 8, 7, 6, 5, 9, 10, 11, 12, 13, 14, 15, 16, 17]]\n",
    "            elseif wp == wps[end-2]\n",
    "                n[[1, 2, 3, 4, 7, 8, 5, 6, 11, 12, 9, 10, 13, 14, 15, 16, 17]]\n",
    "            elseif wp == wps[end-3]\n",
    "                n[[4, 3, 2, 1, 6, 5, 8, 7, 11, 12, 9, 10, 13, 14, 15, 16, 17]]\n",
    "            end\n",
    "    decompose(shift, brs)\n",
    "end\n",
    "\n",
    "function brs_move_sg9(br::BandRep)\n",
    "    n = collect(br)\n",
    "    brs = bandreps(9, 2)\n",
    "    wps = wyckoffs(9, 2)\n",
    "    shift = n[[1, 2, 3, 4, 6, 5, 7, 8, 9, 10, 11]]\n",
    "    decompose(shift, brs)\n",
    "end\n",
    "\n",
    "function brs_move_sg10(br::BandRep)\n",
    "    n = collect(br)\n",
    "    brs = bandreps(10, 2)\n",
    "    shift = n[[2, 1, 4, 3, 5, 6, 7, 8, 9]]\n",
    "    return decompose(shift, brs)\n",
    "end\n",
    "\n",
    "function brs_move_sg11(br::BandRep)\n",
    "    n = collect(br)\n",
    "    brs = bandreps(11, 2)\n",
    "    shift = n[[4, 3, 2, 1, 7, 8, 5, 6, 9, 10, 11, 12, 13, 14, 15]]\n",
    "    return decompose(shift, brs)\n",
    "end\n",
    "\n",
    "function brs_move_sg13(br::BandRep, wp::WyckoffPosition{2})\n",
    "    n = collect(br)\n",
    "    return brs_move_sg13(n, wp)\n",
    "end\n",
    "\n",
    "function brs_move_sg13(n::Vector{<:Integer}, wp::WyckoffPosition{2})\n",
    "    brs = bandreps(13, 2)\n",
    "    wps = wyckoffs(13, 2)\n",
    "\n",
    "    shift = if wp == wps[end-1] \n",
    "                n[[2, 3, 1, 4, 5, 8, 6, 7, 9]]\n",
    "            elseif wp == wps[end-2]\n",
    "                n[[3, 1, 2, 4, 5, 7, 8, 6, 9]]\n",
    "            end\n",
    "    return decompose(shift, brs)\n",
    "end\n",
    "\n",
    "function brs_move_sg14(br::BandRep, wp::WyckoffPosition{2})\n",
    "    n = collect(br)\n",
    "    brs = bandreps(14, 2)\n",
    "    wps = wyckoffs(14, 2)\n",
    "\n",
    "    shift = if wp == wps[end-1] \n",
    "                n[[1, 2, 3, 4, 5, 8, 6, 7, 9]]\n",
    "            elseif wp == wps[end-2]\n",
    "                n[[1, 2, 3, 4, 5, 7, 8, 6, 9]]\n",
    "            end\n",
    "    return decompose(shift, brs)\n",
    "end\n",
    "\n",
    "function brs_move_sg14(br::BandRep, wp::WyckoffPosition{2})\n",
    "    n = collect(br)\n",
    "    brs = bandreps(14, 2)\n",
    "    wps = wyckoffs(14, 2)\n",
    "\n",
    "    shift = if wp == wps[end-1] \n",
    "                n[[1, 2, 3, 4, 5, 8, 6, 7, 9]]\n",
    "            elseif wp == wps[end-2]\n",
    "                n[[1, 2, 3, 4, 5, 7, 8, 6, 9]]\n",
    "            end\n",
    "    return decompose(shift, brs)\n",
    "end\n",
    "\n",
    "function brs_move_sg15(br::BandRep, wp::WyckoffPosition{2})\n",
    "    sg13_decomposition = brs_fifteen_to_thirteen(br)\n",
    "    n13 = hcat(bandreps(13, 2)...)*sg13_decomposition\n",
    "    return brs_move_sg13(Int.(n13), wp)\n",
    "end"
   ]
  }
 ],
 "metadata": {
  "kernelspec": {
   "display_name": "Julia 1.7 Kernel 1.7.2",
   "language": "julia",
   "name": "julia-1.7-kernel-1.7"
  },
  "language_info": {
   "file_extension": ".jl",
   "mimetype": "application/julia",
   "name": "julia",
   "version": "1.7.2"
  },
  "latex_envs": {
   "LaTeX_envs_menu_present": true,
   "autoclose": false,
   "autocomplete": true,
   "bibliofile": "biblio.bib",
   "cite_by": "apalike",
   "current_citInitial": 1,
   "eqLabelWithNumbers": true,
   "eqNumInitial": 1,
   "hotkeys": {
    "equation": "Ctrl-E",
    "itemize": "Ctrl-I"
   },
   "labels_anchors": false,
   "latex_user_defs": false,
   "report_style_numbering": false,
   "user_envs_cfg": false
  },
  "toc": {
   "base_numbering": 1,
   "nav_menu": {},
   "number_sections": true,
   "sideBar": true,
   "skip_h1_title": false,
   "title_cell": "Table of Contents",
   "title_sidebar": "Contents",
   "toc_cell": false,
   "toc_position": {},
   "toc_section_display": true,
   "toc_window_display": false
  },
  "varInspector": {
   "cols": {
    "lenName": 16,
    "lenType": 16,
    "lenVar": 40
   },
   "kernels_config": {
    "python": {
     "delete_cmd_postfix": "",
     "delete_cmd_prefix": "del ",
     "library": "var_list.py",
     "varRefreshCmd": "print(var_dic_list())"
    },
    "r": {
     "delete_cmd_postfix": ") ",
     "delete_cmd_prefix": "rm(",
     "library": "var_list.r",
     "varRefreshCmd": "cat(var_dic_list()) "
    }
   },
   "types_to_exclude": [
    "module",
    "function",
    "builtin_function_or_method",
    "instance",
    "_Feature"
   ],
   "window_display": false
  }
 },
 "nbformat": 4,
 "nbformat_minor": 5
}
