{
 "cells": [
  {
   "cell_type": "code",
   "execution_count": 1,
   "id": "f63f0015",
   "metadata": {},
   "outputs": [],
   "source": [
    "using Crystalline, MPBUtils, JLD2, LinearAlgebra, StaticArrays, SymmetryBases, PyPlot, DelimitedFiles, PrettyTables"
   ]
  },
  {
   "cell_type": "code",
   "execution_count": 16,
   "id": "ffcee3bb",
   "metadata": {},
   "outputs": [],
   "source": [
    "sg_wyckoffs = [filter(x -> x.mult == 1, wyckoffs(i, 2)) for i in (2, 6, (9:17)...)]\n",
    "sg_wyckoffs[3] = wyckoffs(9, 2)[end-1:end];\n",
    "sg_wyckoffs[6] = [wyckoffs(12, 2)[end]];"
   ]
  },
  {
   "cell_type": "code",
   "execution_count": 69,
   "id": "13e12544",
   "metadata": {},
   "outputs": [],
   "source": [
    "sg_wyckoffs_dict = Dict(([2, 6, 9:17...])[i] => sg_wyckoffs[i] for i in 1:11)\n",
    "sg_wyckoffs_dict_sorted = sort(collect(sg_wyckoffs_dict), by = x -> x[1] );"
   ]
  },
  {
   "cell_type": "code",
   "execution_count": 74,
   "id": "e4b0d188",
   "metadata": {},
   "outputs": [
    {
     "data": {
      "text/plain": [
       "5-element Vector{WyckoffPosition{2}}:\n",
       " 2e: [α, β]\n",
       " 1d: [1/2, 1/2]\n",
       " 1c: [1/2, 0]\n",
       " 1b: [0, 1/2]\n",
       " 1a: [0, 0]"
      ]
     },
     "execution_count": 74,
     "metadata": {},
     "output_type": "execute_result"
    }
   ],
   "source": [
    "wyckoffs(2,2)"
   ]
  },
  {
   "cell_type": "code",
   "execution_count": 76,
   "id": "ab525647",
   "metadata": {},
   "outputs": [
    {
     "data": {
      "text/plain": [
       "Dict{Int64, Vector{WyckoffPosition{2}}} with 11 entries:\n",
       "  16 => [1a: [0, 0]]\n",
       "  12 => [2a: [0, 0]]\n",
       "  17 => [1a: [0, 0]]\n",
       "  6  => [1d: [1/2, 1/2], 1c: [1/2, 0], 1b: [0, 1/2], 1a: [0, 0]]\n",
       "  11 => [1b: [1/2, 1/2], 1a: [0, 0]]\n",
       "  9  => [2b: [0, 1/2], 2a: [0, 0]]\n",
       "  14 => [1c: [2/3, 1/3], 1b: [1/3, 2/3], 1a: [0, 0]]\n",
       "  13 => [1c: [2/3, 1/3], 1b: [1/3, 2/3], 1a: [0, 0]]\n",
       "  15 => [1a: [0, 0]]\n",
       "  2  => [1d: [1/2, 1/2], 1c: [1/2, 0], 1b: [0, 1/2], 1a: [0, 0]]\n",
       "  10 => [1b: [1/2, 1/2], 1a: [0, 0]]"
      ]
     },
     "execution_count": 76,
     "metadata": {},
     "output_type": "execute_result"
    }
   ],
   "source": [
    "sg_wyckoffs_dict"
   ]
  },
  {
   "cell_type": "code",
   "execution_count": 2,
   "id": "41a09a14",
   "metadata": {},
   "outputs": [
    {
     "name": "stdout",
     "output_type": "stream",
     "text": [
      "\u001b[1mC2 Symmetry Centering Choices\u001b[0m\n",
      "┌──────┬──────────┬──────────┬──────────┬──────────┐\n",
      "│\u001b[1m      \u001b[0m│\u001b[1m Center 1 \u001b[0m│\u001b[1m Center 2 \u001b[0m│\u001b[1m Center 3 \u001b[0m│\u001b[1m Center 4 \u001b[0m│\n",
      "├──────┼──────────┼──────────┼──────────┼──────────┤\n",
      "│\u001b[1m   p2 \u001b[0m│      0,0 │    1/2,0 │    0,1/2 │  1/2,1/2 │\n",
      "│\u001b[1m p2mm \u001b[0m│      0,0 │    1/2,0 │    0,1/2 │  1/2,1/2 │\n",
      "│\u001b[1m c2mm \u001b[0m│      0,0 │    1/2,0 │      N/A │      N/A │\n",
      "└──────┴──────────┴──────────┴──────────┴──────────┘\n",
      "\u001b[1mC3 Symmetry Centering Choices\u001b[0m\n",
      "┌──────┬──────────┬──────────┬──────────┐\n",
      "│\u001b[1m      \u001b[0m│\u001b[1m Center 1 \u001b[0m│\u001b[1m Center 2 \u001b[0m│\u001b[1m Center 3 \u001b[0m│\n",
      "├──────┼──────────┼──────────┼──────────┤\n",
      "│\u001b[1m   p3 \u001b[0m│      0,0 │  2/3,1/3 │  1/3,2/3 │\n",
      "│\u001b[1m p3m1 \u001b[0m│      0,0 │  2/3,1/3 │  1/3,2/3 │\n",
      "│\u001b[1m p31m \u001b[0m│      0,0 │  1/3,2/3 │      N/A │\n",
      "└──────┴──────────┴──────────┴──────────┘\n",
      "\u001b[1mC4 Symmetry Centering Choices\u001b[0m\n",
      "┌──────┬──────────┬──────────┐\n",
      "│\u001b[1m      \u001b[0m│\u001b[1m Center 1 \u001b[0m│\u001b[1m Center 2 \u001b[0m│\n",
      "├──────┼──────────┼──────────┤\n",
      "│\u001b[1m   p4 \u001b[0m│      0,0 │  1/2,1/2 │\n",
      "│\u001b[1m p4mm \u001b[0m│      0,0 │  1/2,1/2 │\n",
      "│\u001b[1m p4gm \u001b[0m│      0,0 │      N/A │\n",
      "└──────┴──────────┴──────────┘\n"
     ]
    }
   ],
   "source": [
    "pretty_table([\"0,0\" \"1/2,0\" \"0,1/2\" \"1/2,1/2\" ; \"0,0\" \"1/2,0\" \"0,1/2\" \"1/2,1/2\"; \"0,0\" \"1/2,0\" \"N/A\" \"N/A\" ], header=[\"Center 1\",\n",
    "    \"Center 2\", \"Center 3\", \"Center 4\"], row_names=[\"p2\", \"p2mm\", \"c2mm\"], title=\"C2 Symmetry Centering Choices\")\n",
    "pretty_table([\"0,0\" \"2/3,1/3\" \"1/3,2/3\"; \"0,0\" \"2/3,1/3\" \"1/3,2/3\"; \"0,0\" \"1/3,2/3\" \"N/A\" ], header=[\"Center 1\",\n",
    "    \"Center 2\", \"Center 3\"], row_names=[\"p3\", \"p3m1\", \"p31m\"], title=\"C3 Symmetry Centering Choices\")\n",
    "pretty_table([\"0,0\" \"1/2,1/2\"; \"0,0\" \"1/2,1/2\"; \"0,0\" \"N/A\" ], header=[\"Center 1\",\n",
    "    \"Center 2\"], row_names=[\"p4\", \"p4mm\", \"p4gm\"], title=\"C4 Symmetry Centering Choices\")"
   ]
  },
  {
   "cell_type": "code",
   "execution_count": 46,
   "id": "b3dd552f",
   "metadata": {},
   "outputs": [
    {
     "data": {
      "text/plain": [
       "Dict{String, Vector{LGIrrep{2}}} with 9 entries:\n",
       "  \"Y\" => [LGIrrep{2}(\"Y₁\", [1, 2, m₁₀, m₀₁]\u001b[90m ([0, 1/2])\u001b[39m, Matrix{ComplexF…\n",
       "  \"Δ\" => [LGIrrep{2}(\"Δ₁\", [1, m₁₀]\u001b[90m ([0, α])\u001b[39m, Matrix{ComplexF64}[[1.0+0…\n",
       "  \"S\" => [LGIrrep{2}(\"S₁\", [1, 2, m₁₀, m₀₁]\u001b[90m ([1/2, 1/2])\u001b[39m, Matrix{Comple…\n",
       "  \"X\" => [LGIrrep{2}(\"X₁\", [1, 2, m₁₀, m₀₁]\u001b[90m ([1/2, 0])\u001b[39m, Matrix{ComplexF…\n",
       "  \"C\" => [LGIrrep{2}(\"C₁\", [1, m₀₁]\u001b[90m ([α, 1/2])\u001b[39m, Matrix{ComplexF64}[[1.0…\n",
       "  \"Σ\" => [LGIrrep{2}(\"Σ₁\", [1, m₀₁]\u001b[90m ([α, 0])\u001b[39m, Matrix{ComplexF64}[[1.0+0…\n",
       "  \"Γ\" => [LGIrrep{2}(\"Γ₁\", [1, 2, m₁₀, m₀₁]\u001b[90m ([0, 0])\u001b[39m, Matrix{ComplexF64…\n",
       "  \"D\" => [LGIrrep{2}(\"D₁\", [1, m₁₀]\u001b[90m ([1/2, α])\u001b[39m, Matrix{ComplexF64}[[1.0…\n",
       "  \"Ω\" => [LGIrrep{2}(\"Ω₁\", [1]\u001b[90m ([α, β])\u001b[39m, Matrix{ComplexF64}[[1.0+0.0im;…"
      ]
     },
     "execution_count": 46,
     "metadata": {},
     "output_type": "execute_result"
    }
   ],
   "source": [
    "lgirreps(6, 2)[]"
   ]
  },
  {
   "cell_type": "code",
   "execution_count": 47,
   "id": "4ce6fd8c",
   "metadata": {
    "scrolled": false
   },
   "outputs": [
    {
     "name": "stdout",
     "output_type": "stream",
     "text": [
      "\u001b[1mp2 Irreps\u001b[0m\n",
      "┌─────────┬────────────┬──────────────────┬──────────────────┬─────────────┬────\n",
      "│\u001b[1m         \u001b[0m│\u001b[1m B (λ₂ = 1) \u001b[0m│\u001b[1m Y Irrep (λ₂ = 1) \u001b[0m│\u001b[1m A Irrep (λ₂ = 1) \u001b[0m│\u001b[1m Γ1 (λ₂ = 1) \u001b[0m│\u001b[1m  \u001b[0m ⋯\n",
      "├─────────┼────────────┼──────────────────┼──────────────────┼─────────────┼────\n",
      "│\u001b[1m     0,0 \u001b[0m│         B1 │               Y1 │               A1 │          Γ1 │ 1 ⋯\n",
      "│\u001b[1m   0,1/2 \u001b[0m│         B1 │               Y2 │               A2 │          Γ1 │ 1 ⋯\n",
      "│\u001b[1m   1/2,0 \u001b[0m│         B2 │               Y1 │               A2 │          Γ1 │ 1 ⋯\n",
      "│\u001b[1m 1/2,1/2 \u001b[0m│         B2 │               Y2 │               A1 │          Γ1 │ 1 ⋯\n",
      "└─────────┴────────────┴──────────────────┴──────────────────┴─────────────┴────\n",
      "\u001b[36m                                                               2 columns omitted\u001b[0m\n",
      "\u001b[1mp2mm Irreps\u001b[0m\n",
      "┌─────────┬──────────────────┬──────────────────┬──────────────────┬────────────\n",
      "│\u001b[1m         \u001b[0m│\u001b[1m X Irrep (λ₂ = 1) \u001b[0m│\u001b[1m Y Irrep (λ₂ = 1) \u001b[0m│\u001b[1m S Irrep (λ₂ = 1) \u001b[0m│\u001b[1m Γ Irrep (\u001b[0m ⋯\n",
      "├─────────┼──────────────────┼──────────────────┼──────────────────┼────────────\n",
      "│\u001b[1m     0,0 \u001b[0m│         (X1, X2) │         (Y1, Y2) │         (S1, S2) │         ( ⋯\n",
      "│\u001b[1m   0,1/2 \u001b[0m│         (X1, X2) │         (Y3, Y4) │         (S3, S4) │         ( ⋯\n",
      "│\u001b[1m   1/2,0 \u001b[0m│         (X3, X4) │         (Y1, Y2) │         (S3, S4) │         ( ⋯\n",
      "│\u001b[1m 1/2,1/2 \u001b[0m│         (X3, X4) │         (Y3, Y4) │         (S1, S2) │         ( ⋯\n",
      "└─────────┴──────────────────┴──────────────────┴──────────────────┴────────────\n",
      "\u001b[36m                                                               3 columns omitted\u001b[0m\n",
      "\u001b[1mc2mm Irreps\u001b[0m\n",
      "┌───────┬──────────┬─────────┐\n",
      "│\u001b[1m       \u001b[0m│\u001b[1m  Y Irrep \u001b[0m│\u001b[1m S Irrep \u001b[0m│\n",
      "├───────┼──────────┼─────────┤\n",
      "│\u001b[1m   0,0 \u001b[0m│ (Y1, Y2) │      S1 │\n",
      "│\u001b[1m 0,1/2 \u001b[0m│ (Y1, Y2) │      S2 │\n",
      "└───────┴──────────┴─────────┘\n",
      "\u001b[1mc4 Irreps\u001b[0m\n",
      "┌─────────┬─────────┬─────────┬─────────┐\n",
      "│\u001b[1m         \u001b[0m│\u001b[1m X Irrep \u001b[0m│\u001b[1m M Irrep \u001b[0m│\u001b[1m M Irrep \u001b[0m│\n",
      "├─────────┼─────────┼─────────┼─────────┤\n",
      "│\u001b[1m     0,0 \u001b[0m│      X1 │      M1 │  (M3M4) │\n",
      "│\u001b[1m 1/2,1/2 \u001b[0m│      X2 │      M2 │    M3M4 │\n",
      "└─────────┴─────────┴─────────┴─────────┘\n",
      "\u001b[1mc4mm Irreps\u001b[0m\n",
      "┌─────────┬──────────┬──────────┬─────────┐\n",
      "│\u001b[1m         \u001b[0m│\u001b[1m  X Irrep \u001b[0m│\u001b[1m  M Irrep \u001b[0m│\u001b[1m M Irrep \u001b[0m│\n",
      "├─────────┼──────────┼──────────┼─────────┤\n",
      "│\u001b[1m     0,0 \u001b[0m│ (X1, X2) │ (M1, M4) │      M5 │\n",
      "│\u001b[1m 1/2,1/2 \u001b[0m│ (X3, X4) │ (M2, M3) │      M5 │\n",
      "└─────────┴──────────┴──────────┴─────────┘\n",
      "\u001b[1mp3 Irreps\u001b[0m\n",
      "┌─────────┬─────────┬─────────┐\n",
      "│\u001b[1m         \u001b[0m│\u001b[1m K Irrep \u001b[0m│\u001b[1m K Irrep \u001b[0m│\n",
      "├─────────┼─────────┼─────────┤\n",
      "│\u001b[1m     0,0 \u001b[0m│      K1 │      K2 │\n",
      "│\u001b[1m 1/3,2/3 \u001b[0m│      K2 │      K3 │\n",
      "│\u001b[1m 2/3,1/3 \u001b[0m│      K3 │      K1 │\n",
      "└─────────┴─────────┴─────────┘\n",
      "\u001b[1mp3mm Irreps\u001b[0m\n",
      "┌─────────┬─────────┬─────────┐\n",
      "│\u001b[1m         \u001b[0m│\u001b[1m K Irrep \u001b[0m│\u001b[1m K Irrep \u001b[0m│\n",
      "├─────────┼─────────┼─────────┤\n",
      "│\u001b[1m     0,0 \u001b[0m│      K1 │      K2 │\n",
      "│\u001b[1m 1/3,2/3 \u001b[0m│      K2 │      K3 │\n",
      "│\u001b[1m 2/3,1/3 \u001b[0m│      K3 │      K1 │\n",
      "└─────────┴─────────┴─────────┘\n"
     ]
    }
   ],
   "source": [
    "pretty_table([\"B1\" \"Y1\" \"A1\" \"Γ1\" \"1/4(-[B1]-[Y1]+[A1]+[Γ1])\" \"([Y1]+[A1], [B1]+[A1])\"; \n",
    "    \"B1\" \"Y2\" \"A2\" \"Γ1\" \"1/4(-[B1]-[Y2]+[A2]+[Γ1])\" \"([Y2]+[A2], [B1]+[A2])\";\n",
    "    \"B2\" \"Y1\" \"A2\" \"Γ1\" \"1/4(-[B2]-[Y1]+[A2]+[Γ1])\" \"([Y1]+[A2], [B2]+[A2])\";\n",
    "    \"B2\" \"Y2\" \"A1\" \"Γ1\" \"1/4(-[B2]-[Y2]+[A1]+[Γ1])\" \"([Y2]+[A1], [B2]+[A1])\"], \n",
    "    header=[\"B (λ₂ = 1)\", \"Y Irrep (λ₂ = 1)\", \"A Irrep (λ₂ = 1)\", \"Γ1 (λ₂ = 1)\", \"Corner Charge\", \"Polarization\"], \n",
    "row_names = [\"0,0\", \"0,1/2\", \"1/2,0\", \"1/2,1/2\"], title=\"p2 Irreps\", backend=:text, crop=:both)\n",
    "    \n",
    "\n",
    "pretty_table([\"(X1, X2)\" \"(Y1, Y2)\" \"(S1, S2)\" \"(Γ1, Γ2)\" \"1/4(-[X1]-[X2]-[Y1]-[Y2]+[S1]+[S2]+[Γ1]+[Γ2])\" \"1/2([Y1]+[Y2]+[S1]+[S2], [X1]+[X2]+[S1]+[S2])\";\n",
    "        \"(X1, X2)\" \"(Y3, Y4)\" \"(S3, S4)\" \"(Γ1, Γ2)\" \"1/4(-[X1]-[X2]-[Y3]-[Y4]+[S3]+[S4]+[Γ1]+[Γ2])\" \"1/2([Y3]+[Y4]+[S3]+[S4], [X1]+[X2]+[S3]+[S4])\";\n",
    "        \"(X3, X4)\" \"(Y1, Y2)\" \"(S3, S4)\" \"(Γ1, Γ2)\" \"1/4(-[X3]-[X4]-[Y1]-[Y2]+[S3]+[S4]+[Γ1]+[Γ2])\" \"1/2([Y1]+[Y2]+[S3]+[S4], [X3]+[X4]+[S3]+[S4])\";\n",
    "        \"(X3, X4)\" \"(Y3, Y4)\" \"(S1, S2)\" \"(Γ1, Γ2)\" \"1/4(-[X3]-[X4]-[Y3]-[Y4]+[S1]+[S2]+[Γ1]+[Γ2])\" \"1/2([Y3]+[Y4]+[S1]+[S2], [X3]+[X4]+[S1]+[S2])\"] ,\n",
    "    header=[\"X Irrep (λ₂ = 1)\", \"Y Irrep (λ₂ = 1)\", \"S Irrep (λ₂ = 1)\", \"Γ Irrep (λ₂ = 1)\",  \"Corner Charge\", \"Polarization\"], \n",
    "row_names = [\"0,0\", \"0,1/2\", \"1/2,0\", \"1/2,1/2\"], title=\"p2mm Irreps\", crop=:both)\n",
    "\n",
    "\n",
    "pretty_table([ \"(Y1, Y2)\" \"S1\"; \"(Y1, Y2)\" \"S2\"], header=[\"Y Irrep\", \"S Irrep\"],\n",
    "\n",
    "row_names = [\"0,0\", \"0,1/2\"], title=\"c2mm Irreps\")\n",
    "\n",
    "pretty_table([ \"X1\" \"M1\" \"(M3M4)\"; \"X2\" \"M2\" \"M3M4\"], header=[\"X Irrep\", \"M Irrep\", \"M Irrep\"],\n",
    "\n",
    "row_names = [\"0,0\", \"1/2,1/2\"], title=\"c4 Irreps\")\n",
    "\n",
    "pretty_table([ \"(X1, X2)\" \"(M1, M4)\" \"M5\" ; \"(X3, X4)\" \"(M2, M3)\" \"M5\"], header=[\"X Irrep\", \"M Irrep\", \"M Irrep\"],\n",
    "\n",
    "row_names = [\"0,0\", \"1/2,1/2\"], title=\"c4mm Irreps\")\n",
    "\n",
    "pretty_table([ \"K1\" \"K2\"; \"K2\" \"K3\"; \"K3\" \"K1\"], header=[\"K Irrep\", \"K Irrep\"],\n",
    "\n",
    "row_names = [\"0,0\", \"1/3,2/3\", \"2/3,1/3\"], title=\"p3 Irreps\")\n",
    "\n",
    "pretty_table([ \"K1\" \"K2\"; \"K2\" \"K3\"; \"K3\" \"K1\"], header=[\"K Irrep\", \"K Irrep\"],\n",
    "\n",
    "row_names = [\"0,0\", \"1/3,2/3\", \"2/3,1/3\"], title=\"p3mm Irreps\")"
   ]
  },
  {
   "cell_type": "code",
   "execution_count": 15,
   "id": "2fba4794",
   "metadata": {},
   "outputs": [
    {
     "name": "stdout",
     "output_type": "stream",
     "text": [
      "[\"origin=(vector3 0 0.5)\"]\n",
      "[\"origin=(vector3 0 0.5)\"]\n",
      "[\"origin=(vector3 -0.5 0.5)\"]\n",
      "[\"origin=(vector3 0.5 0.5)\"]\n",
      "[\"origin=(vector3 0.5 0.5)\"]\n",
      "[\"origin=(vector3 0.5 0.5)\"]\n",
      "[\"origin=(vector3 0.33333333333 0.6666666666)\"]\n",
      "[\"origin=(vector3 0.33333333333 0.66666666666)\"]\n"
     ]
    }
   ],
   "source": [
    "for sg in [2, 6, 9:14...]\n",
    "    origin_line = filter(x -> contains(x, \"origin\"), readlines(\"./symeigs/shiftedlattices/input/dim2-sg$sg-2-res64-tm.sh\"))\n",
    "    println(origin_line)\n",
    "    #println(String.(split(first(origin_line))))\n",
    "end"
   ]
  },
  {
   "cell_type": "code",
   "execution_count": null,
   "id": "81e90deb",
   "metadata": {},
   "outputs": [],
   "source": []
  }
 ],
 "metadata": {
  "kernelspec": {
   "display_name": "Julia 1.7 Kernel 1.7.2",
   "language": "julia",
   "name": "julia-1.7-kernel-1.7"
  },
  "language_info": {
   "file_extension": ".jl",
   "mimetype": "application/julia",
   "name": "julia",
   "version": "1.7.2"
  },
  "latex_envs": {
   "LaTeX_envs_menu_present": true,
   "autoclose": false,
   "autocomplete": true,
   "bibliofile": "biblio.bib",
   "cite_by": "apalike",
   "current_citInitial": 1,
   "eqLabelWithNumbers": true,
   "eqNumInitial": 1,
   "hotkeys": {
    "equation": "Ctrl-E",
    "itemize": "Ctrl-I"
   },
   "labels_anchors": false,
   "latex_user_defs": false,
   "report_style_numbering": false,
   "user_envs_cfg": false
  },
  "toc": {
   "base_numbering": 1,
   "nav_menu": {},
   "number_sections": true,
   "sideBar": true,
   "skip_h1_title": false,
   "title_cell": "Table of Contents",
   "title_sidebar": "Contents",
   "toc_cell": false,
   "toc_position": {},
   "toc_section_display": true,
   "toc_window_display": false
  },
  "varInspector": {
   "cols": {
    "lenName": 16,
    "lenType": 16,
    "lenVar": 40
   },
   "kernels_config": {
    "python": {
     "delete_cmd_postfix": "",
     "delete_cmd_prefix": "del ",
     "library": "var_list.py",
     "varRefreshCmd": "print(var_dic_list())"
    },
    "r": {
     "delete_cmd_postfix": ") ",
     "delete_cmd_prefix": "rm(",
     "library": "var_list.r",
     "varRefreshCmd": "cat(var_dic_list()) "
    }
   },
   "types_to_exclude": [
    "module",
    "function",
    "builtin_function_or_method",
    "instance",
    "_Feature"
   ],
   "window_display": false
  }
 },
 "nbformat": 4,
 "nbformat_minor": 5
}
