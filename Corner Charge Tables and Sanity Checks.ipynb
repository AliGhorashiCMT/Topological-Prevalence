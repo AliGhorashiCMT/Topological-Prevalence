{
 "cells": [
  {
   "cell_type": "code",
   "execution_count": 2,
   "metadata": {},
   "outputs": [],
   "source": [
    "using Crystalline, MPBUtils, JLD2, LinearAlgebra, StaticArrays, SymmetryBases, PyPlot, DelimitedFiles, PrettyTables\n",
    "using Crystalline: symvec2string"
   ]
  },
  {
   "cell_type": "code",
   "execution_count": 5,
   "metadata": {},
   "outputs": [
    {
     "data": {
      "text/plain": [
       "polarization_sg12 (generic function with 4 methods)"
      ]
     },
     "execution_count": 5,
     "metadata": {},
     "output_type": "execute_result"
    }
   ],
   "source": [
    "include(\"./symeigs/corner_charges.jl\")"
   ]
  },
  {
   "cell_type": "code",
   "execution_count": 32,
   "metadata": {},
   "outputs": [],
   "source": [
    "# spacegroup 2\n",
    "sg = 2\n",
    "id = 1\n",
    "polarization = \"tm\"\n",
    "brs = bandreps(sg, 2)\n",
    "band_groupingsv = Vector{BandSummary}[]\n",
    "for id in 1:4\n",
    "    symeigsd, lgd = read_symdata(\"dim2-sg$sg-$id-res64-$polarization\", dir=\"./symeigs/shiftedlattices/output\");\n",
    "    lgirsd = pick_lgirreps(lgd)\n",
    "    fixup_gamma_symmetry!(symeigsd, lgd, Symbol(uppercase(polarization)))\n",
    "    band_groupings = analyze_symmetry_data(symeigsd, lgirsd, brs);\n",
    "    push!(band_groupingsv, band_groupings)\n",
    "end"
   ]
  },
  {
   "cell_type": "code",
   "execution_count": 33,
   "metadata": {},
   "outputs": [],
   "source": [
    "for (i, j, k, l) in zip(band_groupingsv...)\n",
    "    base_n = i.n\n",
    "    shift_0_1 = base_n[[2, 1, 3, 4, 6, 5, 7, 8, 9]]\n",
    "    shift_1_0 = base_n[[1, 2, 4, 3, 6, 5, 7, 8, 9]]\n",
    "    shift_1_1 = base_n[[2, 1, 4, 3, 5, 6, 7, 8, 9]]\n",
    "\n",
    "    @assert j.n == shift_0_1\n",
    "    @assert k.n == shift_1_0\n",
    "    @assert l.n == shift_1_1\n",
    "end"
   ]
  },
  {
   "cell_type": "code",
   "execution_count": 35,
   "metadata": {},
   "outputs": [],
   "source": [
    "ws = wyckoffs(sg, 2)\n",
    "for (i, j, k, l) in zip(band_groupingsv...)\n",
    "    @assert corners(i, ws[4]) == corners(j)\n",
    "    @assert corners(i, ws[3]) == corners(k)\n",
    "    @assert corners(i, ws[2]) == corners(l)\n",
    "    @assert polarizations(i, ws[4]) == polarizations(j)\n",
    "    @assert polarizations(i, ws[3]) == polarizations(k)\n",
    "    @assert polarizations(i, ws[2]) == polarizations(l)\n",
    "end"
   ]
  },
  {
   "cell_type": "code",
   "execution_count": 37,
   "metadata": {},
   "outputs": [],
   "source": [
    "# spacegroup 6\n",
    "sg = 6\n",
    "id = 1\n",
    "polarization = \"tm\"\n",
    "brs = bandreps(sg, 2)\n",
    "band_groupingsv = Vector{BandSummary}[]\n",
    "for id in 1:4\n",
    "    symeigsd, lgd = read_symdata(\"dim2-sg$sg-$id-res64-$polarization\", dir=\"./symeigs/shiftedlattices/output\");\n",
    "    lgirsd = pick_lgirreps(lgd)\n",
    "    fixup_gamma_symmetry!(symeigsd, lgd, Symbol(uppercase(polarization)))\n",
    "    band_groupings = analyze_symmetry_data(symeigsd, lgirsd, brs);\n",
    "    push!(band_groupingsv, band_groupings)\n",
    "end"
   ]
  },
  {
   "cell_type": "code",
   "execution_count": 38,
   "metadata": {},
   "outputs": [],
   "source": [
    "for (i, j, k, l) in zip(band_groupingsv...)\n",
    "    base_n = i.n\n",
    "    shift_0_1 = base_n[[4, 3, 2, 1, 8, 7, 6, 5, 9, 10, 11, 12, 13, 14, 15, 16, 17]]\n",
    "    shift_1_0 = base_n[[1, 2, 3, 4, 7, 8, 5, 6, 11, 12, 9, 10, 13, 14, 15, 16, 17]]\n",
    "    shift_1_1 = base_n[[4, 3, 2, 1, 6, 5, 8, 7, 11, 12, 9, 10, 13, 14, 15, 16, 17]]\n",
    "\n",
    "    @assert j.n == shift_0_1\n",
    "    @assert k.n == shift_1_0\n",
    "    @assert l.n == shift_1_1\n",
    "end"
   ]
  },
  {
   "cell_type": "code",
   "execution_count": 41,
   "metadata": {},
   "outputs": [],
   "source": [
    "ws = wyckoffs(sg, 2)\n",
    "for (i, j, k, l) in zip(band_groupingsv...)\n",
    "    @assert corners(i, ws[8]) == corners(j)\n",
    "    @assert corners(i, ws[7]) == corners(k)\n",
    "    @assert corners(i, ws[6]) == corners(l)\n",
    "    @assert polarizations(i, ws[8]) == polarizations(j)\n",
    "    @assert polarizations(i, ws[7]) == polarizations(k)\n",
    "    @assert polarizations(i, ws[6]) == polarizations(l)\n",
    "end"
   ]
  },
  {
   "cell_type": "code",
   "execution_count": 42,
   "metadata": {},
   "outputs": [],
   "source": [
    "# spacegroup 9\n",
    "sg = 9\n",
    "id = 1\n",
    "polarization = \"tm\"\n",
    "brs = bandreps(sg, 2)\n",
    "band_groupingsv = Vector{BandSummary}[]\n",
    "for id in 1:2\n",
    "    symeigsd, lgd = read_symdata(\"dim2-sg$sg-$id-res64-$polarization\", dir=\"./symeigs/shiftedlattices/output\");\n",
    "    lgirsd = pick_lgirreps(lgd)\n",
    "    fixup_gamma_symmetry!(symeigsd, lgd, Symbol(uppercase(polarization)))\n",
    "    band_groupings = analyze_symmetry_data(symeigsd, lgirsd, brs);\n",
    "    push!(band_groupingsv, band_groupings)\n",
    "end"
   ]
  },
  {
   "cell_type": "code",
   "execution_count": 46,
   "metadata": {},
   "outputs": [],
   "source": [
    "for (i, j) in zip(band_groupingsv...)\n",
    "    base_n = i.n\n",
    "    shift = base_n[[1, 2, 3, 4, 6, 5, 7, 8, 9, 10, 11]]\n",
    "    @assert j.n == shift\n",
    "end"
   ]
  },
  {
   "cell_type": "code",
   "execution_count": 50,
   "metadata": {},
   "outputs": [],
   "source": [
    "ws = wyckoffs(sg, 2)\n",
    "for (i, j) in zip(band_groupingsv...)\n",
    "    @assert corners(i, ws[5]) == corners(j)\n",
    "    @assert polarizations(i, ws[5]) == polarizations(j)\n",
    "end"
   ]
  },
  {
   "cell_type": "code",
   "execution_count": 51,
   "metadata": {},
   "outputs": [],
   "source": [
    "# spacegroup 10\n",
    "sg = 10\n",
    "id = 1\n",
    "polarization = \"tm\"\n",
    "brs = bandreps(sg, 2)\n",
    "band_groupingsv = Vector{BandSummary}[]\n",
    "for id in 1:2\n",
    "    symeigsd, lgd = read_symdata(\"dim2-sg$sg-$id-res64-$polarization\", dir=\"./symeigs/shiftedlattices/output\");\n",
    "    lgirsd = pick_lgirreps(lgd)\n",
    "    fixup_gamma_symmetry!(symeigsd, lgd, Symbol(uppercase(polarization)))\n",
    "    band_groupings = analyze_symmetry_data(symeigsd, lgirsd, brs);\n",
    "    push!(band_groupingsv, band_groupings)\n",
    "end"
   ]
  },
  {
   "cell_type": "code",
   "execution_count": 52,
   "metadata": {},
   "outputs": [],
   "source": [
    "for (i, j) in zip(band_groupingsv...)\n",
    "    base_n = i.n\n",
    "    shift = base_n[[2, 1, 4, 3, 5, 6, 7, 8, 9]]\n",
    "    @assert j.n == shift\n",
    "end"
   ]
  },
  {
   "cell_type": "code",
   "execution_count": 56,
   "metadata": {},
   "outputs": [],
   "source": [
    "ws = wyckoffs(sg, 2)\n",
    "for (i, j) in zip(band_groupingsv...)\n",
    "    @assert corners(i, ws[3]) == corners(j)\n",
    "    @assert polarizations(i, ws[3]) == polarizations(j)\n",
    "end"
   ]
  },
  {
   "cell_type": "code",
   "execution_count": 57,
   "metadata": {},
   "outputs": [],
   "source": [
    "# spacegroup 11\n",
    "sg = 11\n",
    "id = 1\n",
    "polarization = \"tm\"\n",
    "brs = bandreps(sg, 2)\n",
    "band_groupingsv = Vector{BandSummary}[]\n",
    "for id in 1:2\n",
    "    symeigsd, lgd = read_symdata(\"dim2-sg$sg-$id-res64-$polarization\", dir=\"./symeigs/shiftedlattices/output\");\n",
    "    lgirsd = pick_lgirreps(lgd)\n",
    "    fixup_gamma_symmetry!(symeigsd, lgd, Symbol(uppercase(polarization)))\n",
    "    band_groupings = analyze_symmetry_data(symeigsd, lgirsd, brs);\n",
    "    push!(band_groupingsv, band_groupings)\n",
    "end"
   ]
  },
  {
   "cell_type": "code",
   "execution_count": 58,
   "metadata": {},
   "outputs": [],
   "source": [
    "for (i, j) in zip(band_groupingsv...)\n",
    "    base_n = i.n\n",
    "    shift = base_n[[4, 3, 2, 1, 7, 8, 5, 6, 9, 10, 11, 12, 13, 14, 15]]\n",
    "    @assert j.n == shift\n",
    "end"
   ]
  },
  {
   "cell_type": "code",
   "execution_count": 60,
   "metadata": {},
   "outputs": [],
   "source": [
    "ws = wyckoffs(sg, 2)\n",
    "for (i, j) in zip(band_groupingsv...)\n",
    "    @assert corners(i, ws[6]) == corners(j)\n",
    "    @assert polarizations(i, ws[6]) == polarizations(j)\n",
    "end"
   ]
  },
  {
   "cell_type": "code",
   "execution_count": 61,
   "metadata": {},
   "outputs": [],
   "source": [
    "# spacegroup 12\n",
    "sg = 12\n",
    "id = 1\n",
    "polarization = \"tm\"\n",
    "brs = bandreps(sg, 2)\n",
    "band_groupingsv = Vector{BandSummary}[]\n",
    "for id in 1:2\n",
    "    symeigsd, lgd = read_symdata(\"dim2-sg$sg-$id-res64-$polarization\", dir=\"./symeigs/shiftedlattices/output\");\n",
    "    lgirsd = pick_lgirreps(lgd)\n",
    "    fixup_gamma_symmetry!(symeigsd, lgd, Symbol(uppercase(polarization)))\n",
    "    band_groupings = analyze_symmetry_data(symeigsd, lgirsd, brs);\n",
    "    push!(band_groupingsv, band_groupings)\n",
    "end"
   ]
  },
  {
   "cell_type": "code",
   "execution_count": 62,
   "metadata": {},
   "outputs": [],
   "source": [
    "for (i, j) in zip(band_groupingsv...)\n",
    "    base_n = i.n\n",
    "    shift = base_n\n",
    "    @assert j.n == shift\n",
    "end"
   ]
  },
  {
   "cell_type": "code",
   "execution_count": 64,
   "metadata": {},
   "outputs": [],
   "source": [
    "# spacegroup 13\n",
    "sg = 13\n",
    "id = 1\n",
    "polarization = \"tm\"\n",
    "brs = bandreps(sg, 2)\n",
    "band_groupingsv = Vector{BandSummary}[]\n",
    "for id in 1:3\n",
    "    symeigsd, lgd = read_symdata(\"dim2-sg$sg-$id-res64-$polarization\", dir=\"./symeigs/shiftedlattices/output\");\n",
    "    lgirsd = pick_lgirreps(lgd)\n",
    "    fixup_gamma_symmetry!(symeigsd, lgd, Symbol(uppercase(polarization)))\n",
    "    band_groupings = analyze_symmetry_data(symeigsd, lgirsd, brs);\n",
    "    push!(band_groupingsv, band_groupings)\n",
    "end"
   ]
  },
  {
   "cell_type": "code",
   "execution_count": 65,
   "metadata": {},
   "outputs": [],
   "source": [
    "for (i, j, k) in zip(band_groupingsv...)\n",
    "    base_n = i.n\n",
    "    shift_1 = base_n[[2, 3, 1, 4, 5, 8, 6, 7, 9]]\n",
    "    shift_2 = base_n[[3, 1, 2, 4, 5, 7, 8, 6, 9]]\n",
    "\n",
    "    @assert j.n == shift_1\n",
    "    @assert k.n == shift_2\n",
    "end"
   ]
  },
  {
   "cell_type": "code",
   "execution_count": 71,
   "metadata": {},
   "outputs": [],
   "source": [
    "ws = wyckoffs(sg, 2)\n",
    "for (i, j, k) in zip(band_groupingsv...)\n",
    "    @assert corners(i, ws[3]) == corners(j)\n",
    "    @assert corners(i, ws[2]) == corners(k)\n",
    "    @assert polarizations(i, ws[3]) == polarizations(j)\n",
    "    @assert polarizations(i, ws[2]) == polarizations(k)\n",
    "end"
   ]
  },
  {
   "cell_type": "code",
   "execution_count": 73,
   "metadata": {},
   "outputs": [],
   "source": [
    "# spacegroup 14\n",
    "sg = 14\n",
    "id = 1\n",
    "polarization = \"tm\"\n",
    "brs = bandreps(sg, 2)\n",
    "band_groupingsv = Vector{BandSummary}[]\n",
    "for id in 1:3\n",
    "    symeigsd, lgd = read_symdata(\"dim2-sg$sg-$id-res64-$polarization\", dir=\"./symeigs/shiftedlattices/output\");\n",
    "    lgirsd = pick_lgirreps(lgd)\n",
    "    fixup_gamma_symmetry!(symeigsd, lgd, Symbol(uppercase(polarization)))\n",
    "    band_groupings = analyze_symmetry_data(symeigsd, lgirsd, brs);\n",
    "    push!(band_groupingsv, band_groupings)\n",
    "end"
   ]
  },
  {
   "cell_type": "code",
   "execution_count": 74,
   "metadata": {},
   "outputs": [],
   "source": [
    "for (i, j, k) in zip(band_groupingsv...)\n",
    "    base_n = i.n\n",
    "    shift_1 = base_n[[1, 2, 3, 4, 5, 8, 6, 7, 9]]\n",
    "    shift_2 = base_n[[1, 2, 3, 4, 5, 7, 8, 6, 9]]\n",
    "\n",
    "    @assert j.n == shift_1\n",
    "    @assert k.n == shift_2\n",
    "end"
   ]
  },
  {
   "cell_type": "code",
   "execution_count": 76,
   "metadata": {},
   "outputs": [],
   "source": [
    "ws = wyckoffs(sg, 2)\n",
    "for (i, j, k) in zip(band_groupingsv...)\n",
    "    @assert corners(i, ws[4]) == corners(j)\n",
    "    @assert corners(i, ws[3]) == corners(k)\n",
    "    @assert polarizations(i, ws[4]) == polarizations(j)\n",
    "    @assert polarizations(i, ws[3]) == polarizations(k)\n",
    "end"
   ]
  },
  {
   "cell_type": "code",
   "execution_count": 86,
   "metadata": {
    "scrolled": true
   },
   "outputs": [
    {
     "name": "stdout",
     "output_type": "stream",
     "text": [
      "15\n"
     ]
    }
   ],
   "source": [
    "#Spacegroup 15\n",
    "\n",
    "#In spacegroup 15, we have several Wyckoff positions as candidate centers.\n",
    "#However, only the (0, 0) position respects all #spacegroup 15 symmetries, while the others respect only the C3 symmetry.\n",
    "#Therefore, we analyze spacegroup 15 in the #subgroup, c3. \n",
    "sg = 15\n",
    "polarization = \"tm\"\n",
    "brs_13 = bandreps(13, 2)\n",
    "brs_15 = bandreps(15, 2)\n",
    "band_groupingsv_13 = Vector{BandSummary}[]\n",
    "band_groupingsv_15 = Vector{BandSummary}[]\n",
    "\n",
    "for id in 2:4\n",
    "    symeigsd, lgd = read_symdata(\"dim2-sg$sg-$id-res64-$polarization\", sgnum=13, dir=\"./symeigs/shiftedlattices/output\");\n",
    "    lgirsd = pick_lgirreps(lgd)\n",
    "    fixup_gamma_symmetry!(symeigsd, lgd, Symbol(uppercase(polarization)))\n",
    "    band_groupings = analyze_symmetry_data(symeigsd, lgirsd, brs_13);\n",
    "    push!(band_groupingsv_13, band_groupings)\n",
    "end\n",
    "\n",
    "for id in 1:1\n",
    "    println(sg)\n",
    "    symeigsd, lgd = read_symdata(\"dim2-sg$sg-$id-res64-$polarization\", dir=\"./symeigs/shiftedlattices/output\");\n",
    "    lgirsd = pick_lgirreps(lgd)\n",
    "    fixup_gamma_symmetry!(symeigsd, lgd, Symbol(uppercase(polarization)))\n",
    "    band_groupings = analyze_symmetry_data(symeigsd, lgirsd, brs_15);\n",
    "    push!(band_groupingsv_15, band_groupings)\n",
    "end\n"
   ]
  },
  {
   "cell_type": "code",
   "execution_count": 87,
   "metadata": {},
   "outputs": [],
   "source": [
    "for (idx, (j, k, i)) in enumerate(zip(band_groupingsv_13...))\n",
    "    idx > 10 && break\n",
    "    base_n = i.n\n",
    "    shift_1 = base_n[[2, 3, 1, 4, 5, 8, 6, 7, 9]]\n",
    "    shift_2 = base_n[[3, 1, 2, 4, 5, 7, 8, 6, 9]]\n",
    "\n",
    "    @assert j.n == shift_1\n",
    "    @assert k.n == shift_2\n",
    "end"
   ]
  },
  {
   "cell_type": "code",
   "execution_count": 127,
   "metadata": {},
   "outputs": [],
   "source": [
    "ws = wyckoffs(13, 2)\n",
    "for (i, j, k, l) in zip(cumsum.(band_groupingsv_13)..., cumsum.(band_groupingsv_15)...)\n",
    "    k.n[end] == l.n[end] || continue\n",
    "    @assert corners(k) == corners(l, ws[4])\n",
    "    @assert polarizations(k, ws[4]) == polarizations(l)\n",
    "end\n",
    "for (i, j, k, l) in zip(cumsum.(band_groupingsv_13)..., cumsum.(band_groupingsv_15)...)\n",
    "    k.n[end] == l.n[end] || continue\n",
    "    @assert corners(i) == corners(l, ws[3])\n",
    "    @assert polarizations(i) == polarizations(l, ws[3])\n",
    "end\n",
    "for (i, j, k, l) in zip(cumsum.(band_groupingsv_13)..., cumsum.(band_groupingsv_15)...)\n",
    "    j.n[end] == l.n[end] || continue\n",
    "    @assert corners(j) == corners(l, ws[2])\n",
    "    @assert polarizations(j) == polarizations(l, ws[2])\n",
    "end"
   ]
  },
  {
   "cell_type": "code",
   "execution_count": null,
   "metadata": {},
   "outputs": [],
   "source": []
  }
 ],
 "metadata": {
  "kernelspec": {
   "display_name": "Julia 1.7 Kernel 1.7.2",
   "language": "julia",
   "name": "julia-1.7-kernel-1.7"
  },
  "language_info": {
   "file_extension": ".jl",
   "mimetype": "application/julia",
   "name": "julia",
   "version": "1.7.2"
  },
  "latex_envs": {
   "LaTeX_envs_menu_present": true,
   "autoclose": false,
   "autocomplete": true,
   "bibliofile": "biblio.bib",
   "cite_by": "apalike",
   "current_citInitial": 1,
   "eqLabelWithNumbers": true,
   "eqNumInitial": 1,
   "hotkeys": {
    "equation": "Ctrl-E",
    "itemize": "Ctrl-I"
   },
   "labels_anchors": false,
   "latex_user_defs": false,
   "report_style_numbering": false,
   "user_envs_cfg": false
  },
  "toc": {
   "base_numbering": 1,
   "nav_menu": {},
   "number_sections": true,
   "sideBar": true,
   "skip_h1_title": false,
   "title_cell": "Table of Contents",
   "title_sidebar": "Contents",
   "toc_cell": false,
   "toc_position": {},
   "toc_section_display": true,
   "toc_window_display": false
  },
  "varInspector": {
   "cols": {
    "lenName": 16,
    "lenType": 16,
    "lenVar": 40
   },
   "kernels_config": {
    "python": {
     "delete_cmd_postfix": "",
     "delete_cmd_prefix": "del ",
     "library": "var_list.py",
     "varRefreshCmd": "print(var_dic_list())"
    },
    "r": {
     "delete_cmd_postfix": ") ",
     "delete_cmd_prefix": "rm(",
     "library": "var_list.r",
     "varRefreshCmd": "cat(var_dic_list()) "
    }
   },
   "types_to_exclude": [
    "module",
    "function",
    "builtin_function_or_method",
    "instance",
    "_Feature"
   ],
   "window_display": false
  }
 },
 "nbformat": 4,
 "nbformat_minor": 5
}
