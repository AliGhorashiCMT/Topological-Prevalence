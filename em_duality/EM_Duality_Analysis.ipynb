{
 "cells": [
  {
   "cell_type": "code",
   "execution_count": 2,
   "id": "25da3081-29f8-4831-a70e-bcface30adcd",
   "metadata": {},
   "outputs": [],
   "source": [
    "ENV[\"PYTHONPATH\"]=\"/home/gridsan/aligho/.local/lib/python3.8/site-packages/PyNormaliz-2.15-py3.8-linux-x86_64.egg\";"
   ]
  },
  {
   "cell_type": "code",
   "execution_count": 3,
   "id": "6cc9ac1e-d1f1-424c-b26d-f143f77dd25f",
   "metadata": {},
   "outputs": [],
   "source": [
    "using Crystalline, MPBUtils, SymmetryBases, JLD2, PyPlot, HDF5"
   ]
  },
  {
   "cell_type": "code",
   "execution_count": 33,
   "id": "2624c6a9-8aaa-42f2-b9ca-6845b396d571",
   "metadata": {},
   "outputs": [
    {
     "name": "stdout",
     "output_type": "stream",
     "text": [
      "Analyzing plane group: 2\n",
      "Analyzing plane group: 6\n",
      "Analyzing plane group: 9\n",
      "Analyzing plane group: 10\n",
      "Analyzing plane group: 11\n",
      "Analyzing plane group: 12\n",
      "Analyzing plane group: 13\n",
      "Analyzing plane group: 14\n",
      "Analyzing plane group: 15\n",
      "Analyzing plane group: 16\n",
      "Analyzing plane group: 17\n"
     ]
    }
   ],
   "source": [
    "# Check permittivity and permeability \n",
    "sgs = [2, 6, 9:17...]\n",
    "for sg in sgs\n",
    "    println(\"Analyzing plane group: $sg\"); flush(stdout)\n",
    "    for mode in [\"te\", \"tm\"]\n",
    "        for idx in 1:10\n",
    "            dir = \"./\"\n",
    "            original_dir = \"../symeigs/output/sg$sg/eps3/$mode/\"\n",
    "            epsilon = h5open(dir*\"dim2-sg$sg-$(idx)-res64-$mode-epsilon.h5\", \"r\") do file\n",
    "                read(file, \"data\")\n",
    "            end\n",
    "            mu = h5open(dir*\"dim2-sg$sg-$idx-res64-$mode-mu.h5\", \"r\") do file\n",
    "                read(file, \"data\")\n",
    "            end;\n",
    "            epsilon_original = h5open(original_dir*\"dim2-sg$sg-$(idx+20000)-res64-$mode-epsilon.h5\", \"r\") do file\n",
    "                read(file, \"data\")\n",
    "            end\n",
    "            @assert isapprox(epsilon, ones(64, 64))\n",
    "            @assert isapprox(mu, epsilon_original)\n",
    "\n",
    "        end\n",
    "    end\n",
    "end"
   ]
  },
  {
   "cell_type": "code",
   "execution_count": 29,
   "id": "78f3fad7-2d8d-4c13-b434-5b7c4c517cbb",
   "metadata": {},
   "outputs": [],
   "source": [
    "sg = 10\n",
    "idx = 10\n",
    "mode = \"te\"\n",
    "dir = \"./\"\n",
    "original_dir = \"../symeigs/output/sg$sg/eps3/$mode/\"\n",
    "\n",
    "mu = h5open(dir*\"dim2-sg$sg-$idx-res64-$mode-mu.h5\", \"r\") do file\n",
    "                read(file, \"data\")\n",
    "            end\n",
    "epsilon_original = h5open(original_dir*\"dim2-sg$sg-$(idx+20000)-res64-$mode-epsilon.h5\", \"r\") do file\n",
    "                read(file, \"data\")\n",
    "end;"
   ]
  },
  {
   "cell_type": "code",
   "execution_count": 124,
   "id": "b49c09bb-7ba3-47ac-8074-67bd894f13e6",
   "metadata": {},
   "outputs": [],
   "source": [
    "function em_duality_transform(n::Vector{<:Integer}, sg::Integer)\n",
    "    n_prime = if sg in [2, 10, 13, 16]\n",
    "        n\n",
    "    elseif sg == 6\n",
    "        [n[2], n[1], n[4], n[3], n[6], n[5], n[8], n[7], n[10], n[9], n[12], n[11], n[14], n[13], n[16], n[15], n[17]]\n",
    "    elseif sg == 9\n",
    "        [n[2], n[1], n[4], n[3], n[5], n[6], n[8], n[7], n[10], n[9], n[11]]\n",
    "    elseif sg == 11\n",
    "        [n[2], n[1], n[4], n[3], n[8], n[7], n[6], n[5], n[9], n[13], n[12], n[11], n[10], n[14], n[15]]\n",
    "    elseif sg == 12\n",
    "        [n[2], n[1], n[3], n[4], n[8], n[7], n[6], n[5], n[9], n[10]]\n",
    "    elseif sg == 14\n",
    "        [n[2], n[1], n[4], n[3], n[5], n[6], n[7], n[8], n[9]]\n",
    "    elseif sg == 15\n",
    "        [n[2], n[1], n[3], n[5], n[4], n[7], n[6], n[8], n[10], n[9], n[11], n[12]]\n",
    "    elseif sg == 17\n",
    "        [n[2], n[1], n[4], n[3], n[6], n[5], n[8], n[7], n[9], n[10] , n[12], n[11], n[13], n[14]]\n",
    "    end\n",
    "    return n_prime\n",
    "end;"
   ]
  },
  {
   "cell_type": "code",
   "execution_count": 127,
   "id": "78ffca0a-3d2f-4ab7-b217-93534984e7ce",
   "metadata": {},
   "outputs": [],
   "source": [
    "# Below we check that we should get the exact same topologies upon the em_duality transformation\n"
   ]
  },
  {
   "cell_type": "code",
   "execution_count": 126,
   "id": "4869c35f-b85f-44d0-8eef-365c797b5e19",
   "metadata": {},
   "outputs": [],
   "source": [
    "for sg in [6, 9, 11, 12, 14, 15, 17]\n",
    "    ns, brs = compatibility_basis(sg, 2)\n",
    "    for n in ns\n",
    "        n_prime = em_duality_transform(n, sg)\n",
    "        @assert n_prime in ns\n",
    "        original_topo = calc_detailed_topology(n, brs)\n",
    "        transformed_topo = calc_detailed_topology(n, brs)\n",
    "        @assert original_topo == transformed_topo\n",
    "    end\n",
    "end"
   ]
  }
 ],
 "metadata": {
  "kernelspec": {
   "display_name": "Julia 1.7 Kernel 1.7.2",
   "language": "julia",
   "name": "julia-1.7-kernel-1.7"
  },
  "language_info": {
   "file_extension": ".jl",
   "mimetype": "application/julia",
   "name": "julia",
   "version": "1.7.2"
  }
 },
 "nbformat": 4,
 "nbformat_minor": 5
}
