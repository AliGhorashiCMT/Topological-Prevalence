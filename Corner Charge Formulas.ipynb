{
 "cells": [
  {
   "cell_type": "code",
   "execution_count": 1,
   "id": "7deda818",
   "metadata": {},
   "outputs": [],
   "source": [
    "using Crystalline, MPBUtils"
   ]
  },
  {
   "cell_type": "code",
   "execution_count": 2,
   "id": "1204f291",
   "metadata": {},
   "outputs": [
    {
     "name": "stdout",
     "output_type": "stream",
     "text": [
      "Spacegroup 1: [1]\n",
      "Spacegroup 2: [1, 2]\n",
      "Spacegroup 3: [1, m₁₀]\n",
      "Spacegroup 4: [1, {m₁₀|0,½}]\n",
      "Spacegroup 5: [1, m₁₀, {1|½,½}, {m₁₀|½,½}]\n",
      "Spacegroup 6: [1, 2, m₁₀, m₀₁]\n",
      "Spacegroup 7: [1, 2, {m₁₀|½,0}, {m₀₁|½,0}]\n",
      "Spacegroup 8: [1, 2, {m₁₀|½,½}, {m₀₁|½,½}]\n",
      "Spacegroup 9: [1, 2, m₁₀, m₀₁, {1|½,½}, {2|½,½}, {m₁₀|½,½}, {m₀₁|½,½}]\n",
      "Spacegroup 10: [1, 2, 4⁺, 4⁻]\n",
      "Spacegroup 11: [1, 2, 4⁺, 4⁻, m₁₀, m₀₁, m₋₁₁, m₁₁]\n",
      "Spacegroup 12: [1, 2, 4⁺, 4⁻, {m₁₀|½,½}, {m₀₁|½,½}, {m₋₁₁|½,½}, {m₁₁|½,½}]\n",
      "Spacegroup 13: [1, 3⁺, 3⁻]\n",
      "Spacegroup 14: [1, 3⁺, 3⁻, m₁₁, m₁₀, m₀₁]\n",
      "Spacegroup 15: [1, 3⁺, 3⁻, m₋₁₁, m₁₂, m₂₁]\n",
      "Spacegroup 16: [1, 3⁺, 3⁻, 2, 6⁻, 6⁺]\n",
      "Spacegroup 17: [1, 3⁺, 3⁻, 2, 6⁻, 6⁺, m₁₁, m₁₀, m₀₁, m₋₁₁, m₁₂, m₂₁]\n"
     ]
    }
   ],
   "source": [
    "for i in 1:17\n",
    "    println(\"Spacegroup $i: \", spacegroup(i, 2))\n",
    "end"
   ]
  },
  {
   "cell_type": "code",
   "execution_count": 9,
   "id": "2b4c6459",
   "metadata": {},
   "outputs": [
    {
     "name": "stdout",
     "output_type": "stream",
     "text": [
      "Wyckoffs 1: WyckoffPosition{2}[1a: [α, β]]\n",
      "Wyckoffs 2: WyckoffPosition{2}[2e: [α, β], 1d: [1/2, 1/2], 1c: [1/2, 0], 1b: [0, 1/2], 1a: [0, 0]]\n",
      "Wyckoffs 3: WyckoffPosition{2}[2c: [α, β], 1b: [1/2, β], 1a: [0, β]]\n",
      "Wyckoffs 4: WyckoffPosition{2}[2a: [α, β]]\n",
      "Wyckoffs 5: WyckoffPosition{2}[4b: [α, β], 2a: [0, β]]\n",
      "Wyckoffs 6: WyckoffPosition{2}[4i: [α, β], 2h: [1/2, β], 2g: [0, β], 2f: [α, 1/2], 2e: [α, 0], 1d: [1/2, 1/2], 1c: [1/2, 0], 1b: [0, 1/2], 1a: [0, 0]]\n",
      "Wyckoffs 7: WyckoffPosition{2}[4d: [α, β], 2c: [1/4, β], 2b: [0, 1/2], 2a: [0, 0]]\n",
      "Wyckoffs 8: WyckoffPosition{2}[4c: [α, β], 2b: [1/2, 0], 2a: [0, 0]]\n",
      "Wyckoffs 9: WyckoffPosition{2}[8f: [α, β], 4e: [0, β], 4d: [α, 0], 4c: [1/4, 1/4], 2b: [0, 1/2], 2a: [0, 0]]\n",
      "Wyckoffs 10: WyckoffPosition{2}[4d: [α, β], 2c: [1/2, 0], 1b: [1/2, 1/2], 1a: [0, 0]]\n",
      "Wyckoffs 11: WyckoffPosition{2}[8g: [α, β], 4f: [α, α], 4e: [α, 1/2], 4d: [α, 0], 2c: [1/2, 0], 1b: [1/2, 1/2], 1a: [0, 0]]\n",
      "Wyckoffs 12: WyckoffPosition{2}[8d: [α, β], 4c: [α, 1/2+α], 2b: [1/2, 0], 2a: [0, 0]]\n",
      "Wyckoffs 13: WyckoffPosition{2}[3d: [α, β], 1c: [2/3, 1/3], 1b: [1/3, 2/3], 1a: [0, 0]]\n",
      "Wyckoffs 14: WyckoffPosition{2}[6e: [α, β], 3d: [α, -α], 1c: [2/3, 1/3], 1b: [1/3, 2/3], 1a: [0, 0]]\n",
      "Wyckoffs 15: WyckoffPosition{2}[6d: [α, β], 3c: [α, 0], 2b: [1/3, 2/3], 1a: [0, 0]]\n",
      "Wyckoffs 16: WyckoffPosition{2}[6d: [α, β], 3c: [1/2, 0], 2b: [1/3, 2/3], 1a: [0, 0]]\n",
      "Wyckoffs 17: WyckoffPosition{2}[12f: [α, β], 6e: [α, -α], 6d: [α, 0], 3c: [1/2, 0], 2b: [1/3, 2/3], 1a: [0, 0]]\n"
     ]
    }
   ],
   "source": [
    "for i in 1:17\n",
    "    println(\"Wyckoffs $i: \", wyckoffs(i, 2))\n",
    "end"
   ]
  },
  {
   "cell_type": "code",
   "execution_count": 92,
   "id": "d6926eea",
   "metadata": {},
   "outputs": [],
   "source": [
    "sg = 2\n",
    "id = 1\n",
    "polarization = \"tm\"\n",
    "brs = bandreps(sg, 2)\n",
    "symeigsd, lgd = read_symdata(\"dim2-sg$sg-$id-res64-$polarization\", dir=\"./symeigs/shiftedlattices/output\");\n",
    "lgirsd = pick_lgirreps(lgd)\n",
    "fixup_gamma_symmetry!(symeigsd, lgd, Symbol(uppercase(polarization)))\n",
    "band_groupings1 = analyze_symmetry_data(symeigsd, lgirsd, brs);\n",
    "id = 2\n",
    "symeigsd, lgd = read_symdata(\"dim2-sg$sg-$id-res64-$polarization\", dir=\"./symeigs/shiftedlattices/output\");\n",
    "lgirsd = pick_lgirreps(lgd)\n",
    "fixup_gamma_symmetry!(symeigsd, lgd, Symbol(uppercase(polarization)))\n",
    "band_groupings2 = analyze_symmetry_data(symeigsd, lgirsd, brs);\n",
    "id = 3\n",
    "symeigsd, lgd = read_symdata(\"dim2-sg$sg-$id-res64-$polarization\", dir=\"./symeigs/shiftedlattices/output\");\n",
    "lgirsd = pick_lgirreps(lgd)\n",
    "fixup_gamma_symmetry!(symeigsd, lgd, Symbol(uppercase(polarization)))\n",
    "band_groupings3 = analyze_symmetry_data(symeigsd, lgirsd, brs);\n",
    "id = 4\n",
    "symeigsd, lgd = read_symdata(\"dim2-sg$sg-$id-res64-$polarization\", dir=\"./symeigs/shiftedlattices/output\");\n",
    "lgirsd = pick_lgirreps(lgd)\n",
    "fixup_gamma_symmetry!(symeigsd, lgd, Symbol(uppercase(polarization)))\n",
    "band_groupings4 = analyze_symmetry_data(symeigsd, lgirsd, brs);"
   ]
  },
  {
   "cell_type": "code",
   "execution_count": 93,
   "id": "8d59a422",
   "metadata": {},
   "outputs": [],
   "source": [
    "for (bg1, bg2, bg3, bg4) in zip(band_groupings1, band_groupings2, band_groupings3, band_groupings4)\n",
    "    diffab = corner_sg2(bg1, WyckoffPosition(1, 'b', RVec([0, 0.5]))) - corner_sg2(bg2)\n",
    "    diffac = corner_sg2(bg1, WyckoffPosition(1, 'c', RVec([0.5, 0]))) - corner_sg2(bg3)\n",
    "    diffad = corner_sg2(bg1, WyckoffPosition(1, 'd', RVec([0.5, 0.5]))) - corner_sg2(bg4)\n",
    "    (diffab != 0 || diffac != 0 || diffad != 0) && error(\"Nonzero difference\")\n",
    "end"
   ]
  },
  {
   "cell_type": "code",
   "execution_count": 94,
   "id": "53f34889",
   "metadata": {},
   "outputs": [],
   "source": [
    "sg = 6\n",
    "id = 1\n",
    "polarization = \"tm\"\n",
    "brs = bandreps(sg, 2)\n",
    "symeigsd, lgd = read_symdata(\"dim2-sg$sg-$id-res64-$polarization\", dir=\"./symeigs/shiftedlattices/output\");\n",
    "lgirsd = pick_lgirreps(lgd)\n",
    "fixup_gamma_symmetry!(symeigsd, lgd, Symbol(uppercase(polarization)))\n",
    "band_groupings1 = analyze_symmetry_data(symeigsd, lgirsd, brs);\n",
    "id = 2\n",
    "symeigsd, lgd = read_symdata(\"dim2-sg$sg-$id-res64-$polarization\", dir=\"./symeigs/shiftedlattices/output\");\n",
    "lgirsd = pick_lgirreps(lgd)\n",
    "fixup_gamma_symmetry!(symeigsd, lgd, Symbol(uppercase(polarization)))\n",
    "band_groupings2 = analyze_symmetry_data(symeigsd, lgirsd, brs);\n",
    "id = 3\n",
    "symeigsd, lgd = read_symdata(\"dim2-sg$sg-$id-res64-$polarization\", dir=\"./symeigs/shiftedlattices/output\");\n",
    "lgirsd = pick_lgirreps(lgd)\n",
    "fixup_gamma_symmetry!(symeigsd, lgd, Symbol(uppercase(polarization)))\n",
    "band_groupings3 = analyze_symmetry_data(symeigsd, lgirsd, brs);\n",
    "id = 4\n",
    "symeigsd, lgd = read_symdata(\"dim2-sg$sg-$id-res64-$polarization\", dir=\"./symeigs/shiftedlattices/output\");\n",
    "lgirsd = pick_lgirreps(lgd)\n",
    "fixup_gamma_symmetry!(symeigsd, lgd, Symbol(uppercase(polarization)))\n",
    "band_groupings4 = analyze_symmetry_data(symeigsd, lgirsd, brs);"
   ]
  },
  {
   "cell_type": "code",
   "execution_count": 95,
   "id": "309c17de",
   "metadata": {},
   "outputs": [],
   "source": [
    "for (bg1, bg2, bg3, bg4) in zip(band_groupings1, band_groupings2, band_groupings3, band_groupings4)\n",
    "    diffab = corner_sg6(bg1, WyckoffPosition(1, 'b', RVec([0, 0.5]))) - corner_sg6(bg2)\n",
    "    diffac = corner_sg6(bg1, WyckoffPosition(1, 'c', RVec([0.5, 0]))) - corner_sg6(bg3)\n",
    "    diffad = corner_sg6(bg1, WyckoffPosition(1, 'd', RVec([0.5, 0.5]))) - corner_sg6(bg4)\n",
    "    (diffab != 0 || diffac != 0 || diffad != 0) && error(\"Nonzero difference\")\n",
    "end"
   ]
  },
  {
   "cell_type": "code",
   "execution_count": 198,
   "id": "cab88d32",
   "metadata": {},
   "outputs": [],
   "source": [
    "sg = 9\n",
    "id = 1\n",
    "polarization = \"tm\"\n",
    "brs = bandreps(sg, 2)\n",
    "symeigsd, lgd = read_symdata(\"dim2-sg$sg-$id-res64-$polarization\", dir=\"./symeigs/shiftedlattices/output\");\n",
    "lgirsd = pick_lgirreps(lgd)\n",
    "fixup_gamma_symmetry!(symeigsd, lgd, Symbol(uppercase(polarization)))\n",
    "band_groupings1 = analyze_symmetry_data(symeigsd, lgirsd, brs);\n",
    "id = 2\n",
    "symeigsd, lgd = read_symdata(\"dim2-sg$sg-$id-res64-$polarization\", dir=\"./symeigs/shiftedlattices/output\");\n",
    "lgirsd = pick_lgirreps(lgd)\n",
    "fixup_gamma_symmetry!(symeigsd, lgd, Symbol(uppercase(polarization)))\n",
    "band_groupings2 = analyze_symmetry_data(symeigsd, lgirsd, brs);"
   ]
  },
  {
   "cell_type": "code",
   "execution_count": 199,
   "id": "d0ee2b8f",
   "metadata": {},
   "outputs": [],
   "source": [
    "for (bg1, bg2) in zip(band_groupings1, band_groupings2)\n",
    "    diffab = corner_sg9(bg1, WyckoffPosition(2, 'b', RVec([0, 0.5]))) - corner_sg9(bg2)\n",
    "    (diffab !=0) && error(\"Nonzero difference\")\n",
    "end"
   ]
  },
  {
   "cell_type": "code",
   "execution_count": 201,
   "id": "835cadc4",
   "metadata": {},
   "outputs": [
    {
     "data": {
      "text/plain": [
       "22-element Vector{BandSummary}:\n",
       " 1-band (trivial): [Y₁, S₂, Γ₁]\n",
       " 2-band (trivial): [Y₁+Y₃, S₁+S₂, Γ₁+Γ₃]\n",
       " 1-band (trivial): [Y₄, S₁, Γ₄]\n",
       " 1-band (trivial): [Y₃, S₁, Γ₃]\n",
       " 2-band (trivial): [Y₁+Y₂, S₁+S₂, Γ₁+Γ₂]\n",
       " 1-band (trivial): [Y₄, S₂, Γ₄]\n",
       " 1-band (trivial): [Y₁, S₁, Γ₁]\n",
       " 1-band (trivial): [Y₂, S₂, Γ₂]\n",
       " 2-band (trivial): [Y₁+Y₃, S₁+S₂, Γ₁+Γ₃]\n",
       " 2-band (trivial): [Y₃+Y₄, S₁+S₂, Γ₃+Γ₄]\n",
       " 1-band (trivial): [Y₁, S₁, Γ₁]\n",
       " 5-band (trivial): [Y₁+Y₂+2Y₃+Y₄, 2S₁+3S₂, Γ₁+Γ₂+2Γ₃+Γ₄]\n",
       " 1-band (trivial): [Y₂, S₂, Γ₂]\n",
       " 1-band (trivial): [Y₁, S₁, Γ₁]\n",
       " 1-band (trivial): [Y₄, S₁, Γ₄]\n",
       " 2-band (trivial): [Y₁+Y₃, S₁+S₂, Γ₁+Γ₃]\n",
       " 3-band (trivial): [Y₂+Y₃+Y₄, S₁+2S₂, Γ₂+Γ₃+Γ₄]\n",
       " 4-band (trivial): [Y₁+Y₂+Y₃+Y₄, 2S₁+2S₂, Γ₁+Γ₂+Γ₃+Γ₄]\n",
       " 1-band (trivial): [Y₄, S₂, Γ₄]\n",
       " 1-band (trivial): [Y₁, S₁, Γ₁]\n",
       " 3-band (trivial): [Y₁+Y₂+Y₃, S₁+2S₂, Γ₁+Γ₂+Γ₃]\n",
       " 1-band (trivial): [Y₄, S₁, Γ₄]"
      ]
     },
     "execution_count": 201,
     "metadata": {},
     "output_type": "execute_result"
    }
   ],
   "source": [
    "band_groupings2"
   ]
  },
  {
   "cell_type": "code",
   "execution_count": 200,
   "id": "97415849",
   "metadata": {},
   "outputs": [
    {
     "data": {
      "text/plain": [
       "22-element Vector{BandSummary}:\n",
       " 1-band (trivial): [Y₁, S₁, Γ₁]\n",
       " 2-band (trivial): [Y₁+Y₃, S₁+S₂, Γ₁+Γ₃]\n",
       " 1-band (trivial): [Y₄, S₂, Γ₄]\n",
       " 1-band (trivial): [Y₃, S₂, Γ₃]\n",
       " 2-band (trivial): [Y₁+Y₂, S₁+S₂, Γ₁+Γ₂]\n",
       " 1-band (trivial): [Y₄, S₁, Γ₄]\n",
       " 1-band (trivial): [Y₁, S₂, Γ₁]\n",
       " 1-band (trivial): [Y₂, S₁, Γ₂]\n",
       " 2-band (trivial): [Y₁+Y₃, S₁+S₂, Γ₁+Γ₃]\n",
       " 2-band (trivial): [Y₃+Y₄, S₁+S₂, Γ₃+Γ₄]\n",
       " 1-band (trivial): [Y₁, S₂, Γ₁]\n",
       " 5-band (trivial): [Y₁+Y₂+2Y₃+Y₄, 3S₁+2S₂, Γ₁+Γ₂+2Γ₃+Γ₄]\n",
       " 1-band (trivial): [Y₂, S₁, Γ₂]\n",
       " 1-band (trivial): [Y₁, S₂, Γ₁]\n",
       " 1-band (trivial): [Y₄, S₂, Γ₄]\n",
       " 2-band (trivial): [Y₁+Y₃, S₁+S₂, Γ₁+Γ₃]\n",
       " 3-band (trivial): [Y₂+Y₃+Y₄, 2S₁+S₂, Γ₂+Γ₃+Γ₄]\n",
       " 4-band (trivial): [Y₁+Y₂+Y₃+Y₄, 2S₁+2S₂, Γ₁+Γ₂+Γ₃+Γ₄]\n",
       " 1-band (trivial): [Y₄, S₁, Γ₄]\n",
       " 1-band (trivial): [Y₁, S₂, Γ₁]\n",
       " 3-band (trivial): [Y₁+Y₂+Y₃, 2S₁+S₂, Γ₁+Γ₂+Γ₃]\n",
       " 1-band (trivial): [Y₄, S₂, Γ₄]"
      ]
     },
     "execution_count": 200,
     "metadata": {},
     "output_type": "execute_result"
    }
   ],
   "source": [
    "band_groupings1"
   ]
  },
  {
   "cell_type": "code",
   "execution_count": 203,
   "id": "84e1f3e3",
   "metadata": {},
   "outputs": [
    {
     "data": {
      "text/plain": [
       "LGIrrep{2}: ⋕9 (c2mm) at Y = [1, 0]\n",
       "Y₁ ─┬─────────────────────────────────────────────\n",
       "    ├─ \u001b[90m1: ────────────────────────────────── (x,y)\u001b[39m\n",
       "    │     1.0\n",
       "    │\n",
       "    ├─ \u001b[90m2: ──────────────────────────────── (-x,-y)\u001b[39m\n",
       "    │     1.0\n",
       "    │\n",
       "    ├─ \u001b[90mm₁₀: ─────────────────────────────── (-x,y)\u001b[39m\n",
       "    │     1.0\n",
       "    │\n",
       "    ├─ \u001b[90mm₀₁: ─────────────────────────────── (x,-y)\u001b[39m\n",
       "    │     1.0\n",
       "    └─────────────────────────────────────────────\n",
       "Y₂ ─┬─────────────────────────────────────────────\n",
       "    ├─ \u001b[90m1: ────────────────────────────────── (x,y)\u001b[39m\n",
       "    │     1.0\n",
       "    │\n",
       "    ├─ \u001b[90m2: ──────────────────────────────── (-x,-y)\u001b[39m\n",
       "    │     1.0\n",
       "    │\n",
       "    ├─ \u001b[90mm₁₀: ─────────────────────────────── (-x,y)\u001b[39m\n",
       "    │     -1.0\n",
       "    │\n",
       "    ├─ \u001b[90mm₀₁: ─────────────────────────────── (x,-y)\u001b[39m\n",
       "    │     -1.0\n",
       "    └─────────────────────────────────────────────\n",
       "Y₃ ─┬─────────────────────────────────────────────\n",
       "    ├─ \u001b[90m1: ────────────────────────────────── (x,y)\u001b[39m\n",
       "    │     1.0\n",
       "    │\n",
       "    ├─ \u001b[90m2: ──────────────────────────────── (-x,-y)\u001b[39m\n",
       "    │     -1.0\n",
       "    │\n",
       "    ├─ \u001b[90mm₁₀: ─────────────────────────────── (-x,y)\u001b[39m\n",
       "    │     -1.0\n",
       "    │\n",
       "    ├─ \u001b[90mm₀₁: ─────────────────────────────── (x,-y)\u001b[39m\n",
       "    │     1.0\n",
       "    └─────────────────────────────────────────────\n",
       "Y₄ ─┬─────────────────────────────────────────────\n",
       "    ├─ \u001b[90m1: ────────────────────────────────── (x,y)\u001b[39m\n",
       "    │     1.0\n",
       "    │\n",
       "    ├─ \u001b[90m2: ──────────────────────────────── (-x,-y)\u001b[39m\n",
       "    │     -1.0\n",
       "    │\n",
       "    ├─ \u001b[90mm₁₀: ─────────────────────────────── (-x,y)\u001b[39m\n",
       "    │     1.0\n",
       "    │\n",
       "    ├─ \u001b[90mm₀₁: ─────────────────────────────── (x,-y)\u001b[39m\n",
       "    │     -1.0\n",
       "    └─────────────────────────────────────────────"
      ]
     },
     "execution_count": 203,
     "metadata": {},
     "output_type": "execute_result"
    }
   ],
   "source": [
    "lgirreps(9, 2)[\"Y\"]"
   ]
  },
  {
   "cell_type": "code",
   "execution_count": 149,
   "id": "bff6783e",
   "metadata": {},
   "outputs": [],
   "source": [
    "sg = 13\n",
    "id = 1\n",
    "polarization = \"tm\"\n",
    "brs = bandreps(sg, 2)\n",
    "symeigsd, lgd = read_symdata(\"dim2-sg$sg-$id-res64-$polarization\", dir=\"./symeigs/shiftedlattices/output\");\n",
    "lgirsd = pick_lgirreps(lgd)\n",
    "fixup_gamma_symmetry!(symeigsd, lgd, Symbol(uppercase(polarization)))\n",
    "band_groupings1 = analyze_symmetry_data(symeigsd, lgirsd, brs);\n",
    "id = 2\n",
    "symeigsd, lgd = read_symdata(\"dim2-sg$sg-$id-res64-$polarization\", dir=\"./symeigs/shiftedlattices/output\");\n",
    "lgirsd = pick_lgirreps(lgd)\n",
    "fixup_gamma_symmetry!(symeigsd, lgd, Symbol(uppercase(polarization)))\n",
    "band_groupings2 = analyze_symmetry_data(symeigsd, lgirsd, brs);\n",
    "id = 3\n",
    "symeigsd, lgd = read_symdata(\"dim2-sg$sg-$id-res64-$polarization\", dir=\"./symeigs/shiftedlattices/output\");\n",
    "lgirsd = pick_lgirreps(lgd)\n",
    "fixup_gamma_symmetry!(symeigsd, lgd, Symbol(uppercase(polarization)))\n",
    "band_groupings3 = analyze_symmetry_data(symeigsd, lgirsd, brs);"
   ]
  },
  {
   "cell_type": "code",
   "execution_count": 167,
   "id": "f2c0357a",
   "metadata": {},
   "outputs": [],
   "source": [
    "for (bg1, bg2, bg3) in zip(band_groupings1, band_groupings2, band_groupings3)\n",
    "    diffab = corner_sg13(bg1, WyckoffPosition(1, 'b', RVec([1/3, 2/3]))) - corner_sg13(bg2)\n",
    "    diffac = corner_sg13(bg1, WyckoffPosition(1, 'c', RVec([2/3, 1/3]))) - corner_sg13(bg3)\n",
    "    (diffab != 0 || diffab != 0) && error(\"Nonzero difference $diffab\")\n",
    "end"
   ]
  },
  {
   "cell_type": "code",
   "execution_count": 179,
   "id": "b3299da8",
   "metadata": {},
   "outputs": [],
   "source": [
    "sg = 14\n",
    "id = 1\n",
    "polarization = \"tm\"\n",
    "brs = bandreps(sg, 2)\n",
    "symeigsd, lgd = read_symdata(\"dim2-sg$sg-$id-res64-$polarization\", dir=\"./symeigs/shiftedlattices/output\");\n",
    "lgirsd = pick_lgirreps(lgd)\n",
    "fixup_gamma_symmetry!(symeigsd, lgd, Symbol(uppercase(polarization)))\n",
    "band_groupings1 = analyze_symmetry_data(symeigsd, lgirsd, brs);\n",
    "id = 2\n",
    "symeigsd, lgd = read_symdata(\"dim2-sg$sg-$id-res64-$polarization\", dir=\"./symeigs/shiftedlattices/output\");\n",
    "lgirsd = pick_lgirreps(lgd)\n",
    "fixup_gamma_symmetry!(symeigsd, lgd, Symbol(uppercase(polarization)))\n",
    "band_groupings2 = analyze_symmetry_data(symeigsd, lgirsd, brs);\n",
    "id = 3\n",
    "symeigsd, lgd = read_symdata(\"dim2-sg$sg-$id-res64-$polarization\", dir=\"./symeigs/shiftedlattices/output\");\n",
    "lgirsd = pick_lgirreps(lgd)\n",
    "fixup_gamma_symmetry!(symeigsd, lgd, Symbol(uppercase(polarization)))\n",
    "band_groupings3 = analyze_symmetry_data(symeigsd, lgirsd, brs);"
   ]
  },
  {
   "cell_type": "code",
   "execution_count": 180,
   "id": "a0566374",
   "metadata": {},
   "outputs": [],
   "source": [
    "for (bg1, bg2, bg3) in zip(band_groupings1, band_groupings2, band_groupings3)\n",
    "    diffab = corner_sg14(bg1, WyckoffPosition(1, 'b', RVec([1/3, 2/3]))) - corner_sg14(bg2)\n",
    "    diffac = corner_sg14(bg1, WyckoffPosition(1, 'c', RVec([2/3, 1/3]))) - corner_sg14(bg3)\n",
    "    (diffab != 0 || diffac != 0) && error(\"Nonzero difference $diffab\")\n",
    "end"
   ]
  },
  {
   "cell_type": "code",
   "execution_count": 181,
   "id": "02a96dce",
   "metadata": {},
   "outputs": [],
   "source": [
    "sg = 10\n",
    "id = 1\n",
    "polarization = \"tm\"\n",
    "brs = bandreps(sg, 2)\n",
    "symeigsd, lgd = read_symdata(\"dim2-sg$sg-$id-res64-$polarization\", dir=\"./symeigs/shiftedlattices/output\");\n",
    "lgirsd = pick_lgirreps(lgd)\n",
    "fixup_gamma_symmetry!(symeigsd, lgd, Symbol(uppercase(polarization)))\n",
    "band_groupings1 = analyze_symmetry_data(symeigsd, lgirsd, brs);\n",
    "id = 2\n",
    "symeigsd, lgd = read_symdata(\"dim2-sg$sg-$id-res64-$polarization\", dir=\"./symeigs/shiftedlattices/output\");\n",
    "lgirsd = pick_lgirreps(lgd)\n",
    "fixup_gamma_symmetry!(symeigsd, lgd, Symbol(uppercase(polarization)))\n",
    "band_groupings2 = analyze_symmetry_data(symeigsd, lgirsd, brs);"
   ]
  },
  {
   "cell_type": "code",
   "execution_count": 189,
   "id": "ef11ca57",
   "metadata": {},
   "outputs": [],
   "source": [
    "for (bg1, bg2) in zip(band_groupings1, band_groupings2)\n",
    "    diffab = corner_sg10(bg1, WyckoffPosition(1, 'b', RVec([1/2, 1/2]))) - corner_sg10(bg2)\n",
    "    (diffab !=0 ) && error(\"Nonzero difference $diffab\")\n",
    "end"
   ]
  },
  {
   "cell_type": "code",
   "execution_count": 190,
   "id": "111913ec",
   "metadata": {},
   "outputs": [],
   "source": [
    "sg = 11\n",
    "id = 1\n",
    "polarization = \"tm\"\n",
    "brs = bandreps(sg, 2)\n",
    "symeigsd, lgd = read_symdata(\"dim2-sg$sg-$id-res64-$polarization\", dir=\"./symeigs/shiftedlattices/output\");\n",
    "lgirsd = pick_lgirreps(lgd)\n",
    "fixup_gamma_symmetry!(symeigsd, lgd, Symbol(uppercase(polarization)))\n",
    "band_groupings1 = analyze_symmetry_data(symeigsd, lgirsd, brs);\n",
    "id = 2\n",
    "symeigsd, lgd = read_symdata(\"dim2-sg$sg-$id-res64-$polarization\", dir=\"./symeigs/shiftedlattices/output\");\n",
    "lgirsd = pick_lgirreps(lgd)\n",
    "fixup_gamma_symmetry!(symeigsd, lgd, Symbol(uppercase(polarization)))\n",
    "band_groupings2 = analyze_symmetry_data(symeigsd, lgirsd, brs);"
   ]
  },
  {
   "cell_type": "code",
   "execution_count": 191,
   "id": "1154bb7b",
   "metadata": {},
   "outputs": [],
   "source": [
    "for (bg1, bg2) in zip(band_groupings1, band_groupings2)\n",
    "    diffab = corner_sg11(bg1, WyckoffPosition(1, 'b', RVec([1/2, 1/2]))) - corner_sg11(bg2)\n",
    "    (diffab !=0 ) && error(\"Nonzero difference $diffab\")\n",
    "end"
   ]
  },
  {
   "cell_type": "code",
   "execution_count": 192,
   "id": "a4949de7",
   "metadata": {},
   "outputs": [],
   "source": [
    "sg = 12\n",
    "id = 1\n",
    "polarization = \"tm\"\n",
    "brs = bandreps(sg, 2)\n",
    "symeigsd, lgd = read_symdata(\"dim2-sg$sg-$id-res64-$polarization\", dir=\"./symeigs/shiftedlattices/output\");\n",
    "lgirsd = pick_lgirreps(lgd)\n",
    "fixup_gamma_symmetry!(symeigsd, lgd, Symbol(uppercase(polarization)))\n",
    "band_groupings1 = analyze_symmetry_data(symeigsd, lgirsd, brs);\n",
    "id = 2\n",
    "symeigsd, lgd = read_symdata(\"dim2-sg$sg-$id-res64-$polarization\", dir=\"./symeigs/shiftedlattices/output\");\n",
    "lgirsd = pick_lgirreps(lgd)\n",
    "fixup_gamma_symmetry!(symeigsd, lgd, Symbol(uppercase(polarization)))\n",
    "band_groupings2 = analyze_symmetry_data(symeigsd, lgirsd, brs);"
   ]
  },
  {
   "cell_type": "code",
   "execution_count": 193,
   "id": "e3390f64",
   "metadata": {},
   "outputs": [],
   "source": [
    "for (bg1, bg2) in zip(band_groupings1, band_groupings2)\n",
    "    diffab = corner_sg12(bg1, WyckoffPosition(1, 'b', RVec([1/2, 0]))) - corner_sg12(bg2)\n",
    "    (diffab !=0 ) && error(\"Nonzero difference $diffab\")\n",
    "end"
   ]
  },
  {
   "cell_type": "code",
   "execution_count": 41,
   "id": "ae1fc4d9",
   "metadata": {},
   "outputs": [
    {
     "data": {
      "text/plain": [
       "find_diff (generic function with 1 method)"
      ]
     },
     "execution_count": 41,
     "metadata": {},
     "output_type": "execute_result"
    }
   ],
   "source": [
    "function n_irlabs(bandsummary::BandSummary)\n",
    "    irlabs = bandsummary.brs.irlabs\n",
    "    n = bandsummary.n\n",
    "    return n, irlabs\n",
    "end\n",
    "\n",
    "function find_diff(n::Vector{<:Integer}, irlabs::Vector{<:AbstractString}, k1labs::Vector{<:AbstractString},\n",
    "    k2labs::Vector{<:AbstractString})\n",
    "    \n",
    "    k1_idxs = findall(x-> ∈(x, k1labs), irlabs)\n",
    "    k2_idxs = findall(x-> ∈(x, k2labs), irlabs)\n",
    "    \n",
    "    return sum(n[k1_idxs]) - sum(n[k2_idxs])\n",
    "end"
   ]
  },
  {
   "cell_type": "code",
   "execution_count": 40,
   "id": "c78aa92e",
   "metadata": {},
   "outputs": [
    {
     "data": {
      "text/plain": [
       "polarization_c4 (generic function with 1 method)"
      ]
     },
     "execution_count": 40,
     "metadata": {},
     "output_type": "execute_result"
    }
   ],
   "source": [
    "corner_c2(x1::Real, x2::Real, x3::Real) =  mod(1/4*(-x1 -x2 + x3), 1)\n",
    "corner_c3(x::Real) =  mod(1/3*x, 1)\n",
    "corner_c4(x1::Real, x2::Real, x3::Real) =  mod(1/4*(x1 + 2*x2 + 3*x3), 1)\n",
    "corner_c6(x1::Real, x2::Real) =  mod(1/4*x1 + 1/6*x2, 1)\n",
    "\n",
    "polarization_c2(x1::Real, x2::Real) = [mod(1/2*x1, 1), mod(1/2*x2, 1)]\n",
    "polarization_c3(x1::Real, x2::Real) = mod(2/3*x1 + 4/3*x2, 1)*[1, 1]\n",
    "polarization_c4(x::Real) = mod(1/2*x, 1)*[1, 1]"
   ]
  },
  {
   "cell_type": "code",
   "execution_count": 195,
   "id": "dff0c784",
   "metadata": {},
   "outputs": [
    {
     "data": {
      "text/plain": [
       "polarization_sg9 (generic function with 1 method)"
      ]
     },
     "execution_count": 195,
     "metadata": {},
     "output_type": "execute_result"
    }
   ],
   "source": [
    "function corner_sg2(bandsummary::BandSummary, wyckoff::WyckoffPosition{2}=WyckoffPosition(1, 'a', RVec([0, 0])))\n",
    "    # In order- B, Y, A\n",
    "    n, irlabs = n_irlabs(bandsummary)\n",
    "    \n",
    "    diffX, diffY, diffM =\n",
    "        if wyckoff == WyckoffPosition(1, 'a', RVec([0, 0]))\n",
    "            find_diff(n, irlabs, [\"B₁\"],  [\"Γ₁\"]),\n",
    "            find_diff(n, irlabs, [\"Y₁\"],  [\"Γ₁\"]),\n",
    "            find_diff(n, irlabs, [\"A₁\"],  [\"Γ₁\"])\n",
    "        elseif wyckoff == WyckoffPosition(1, 'b', RVec([0, 1/2]))\n",
    "            find_diff(n, irlabs, [\"B₁\"],  [\"Γ₁\"]),\n",
    "            find_diff(n, irlabs, [\"Y₂\"],  [\"Γ₁\"]),\n",
    "            find_diff(n, irlabs, [\"A₂\"],  [\"Γ₁\"])\n",
    "        elseif wyckoff == WyckoffPosition(1, 'c', RVec([1/2, 0]))\n",
    "            find_diff(n, irlabs, [\"B₂\"],  [\"Γ₁\"]),\n",
    "            find_diff(n, irlabs, [\"Y₁\"],  [\"Γ₁\"]),\n",
    "            find_diff(n, irlabs, [\"A₂\"],  [\"Γ₁\"])\n",
    "        elseif wyckoff == WyckoffPosition(1, 'd', RVec([1/2, 1/2]))\n",
    "            find_diff(n, irlabs, [\"B₂\"],  [\"Γ₁\"]),\n",
    "            find_diff(n, irlabs, [\"Y₂\"],  [\"Γ₁\"]),\n",
    "            find_diff(n, irlabs, [\"A₁\"],  [\"Γ₁\"])\n",
    "        end\n",
    "    return corner_c2(diffX, diffY, diffM)\n",
    "end\n",
    "\n",
    "function polarization_sg2(bandsummary::BandSummary, wyckoff::WyckoffPosition{2})\n",
    "    # In order- B, Y, A\n",
    "    n, irlabs = n_irlabs(bandsummary)\n",
    "    \n",
    "    diffX, diffY, diffM =\n",
    "        if wyckoff == WyckoffPosition(1, 'a', RVec([0, 0]))\n",
    "            find_diff(n, irlabs, [\"B₁\"],  [\"Γ₁\"]),\n",
    "            find_diff(n, irlabs, [\"Y₁\"],  [\"Γ₁\"]),\n",
    "            find_diff(n, irlabs, [\"A₁\"],  [\"Γ₁\"])\n",
    "        elseif wyckoff == WyckoffPosition(1, 'b', RVec([0, 1/2]))\n",
    "            find_diff(n, irlabs, [\"B₁\"],  [\"Γ₁\"]),\n",
    "            find_diff(n, irlabs, [\"Y₂\"],  [\"Γ₁\"]),\n",
    "            find_diff(n, irlabs, [\"A₂\"],  [\"Γ₁\"])\n",
    "        elseif wyckoff == WyckoffPosition(1, 'c', RVec([1/2, 0]))\n",
    "            find_diff(n, irlabs, [\"B₂\"],  [\"Γ₁\"]),\n",
    "            find_diff(n, irlabs, [\"Y₁\"],  [\"Γ₁\"]),\n",
    "            find_diff(n, irlabs, [\"A₂\"],  [\"Γ₁\"])\n",
    "        elseif wyckoff == WyckoffPosition(1, 'd', RVec([1/2, 1/2]))\n",
    "            find_diff(n, irlabs, [\"B₂\"],  [\"Γ₁\"]),\n",
    "            find_diff(n, irlabs, [\"Y₂\"],  [\"Γ₁\"]),\n",
    "            find_diff(n, irlabs, [\"A₁\"],  [\"Γ₁\"])\n",
    "        end\n",
    "    return polarization_c2(diffY + diffM, diffX + diffM)\n",
    "end\n",
    "\n",
    "\n",
    "function corner_sg6(bandsummary::BandSummary, wyckoff::WyckoffPosition{2}=WyckoffPosition(1, 'a', RVec([0, 0])))\n",
    "    n, irlabs = n_irlabs(bandsummary)\n",
    "    \n",
    "    diffX, diffY, diffM = \n",
    "        if wyckoff == WyckoffPosition(1, 'a', RVec([0, 0]))\n",
    "            find_diff(n, irlabs, [\"X₁\", \"X₂\"],  [\"Γ₁\", \"Γ₂\"]),\n",
    "            find_diff(n, irlabs, [\"Y₁\", \"Y₂\"],  [\"Γ₁\", \"Γ₂\"]),\n",
    "            find_diff(n, irlabs, [\"S₁\", \"S₂\"],  [\"Γ₁\", \"Γ₂\"])\n",
    "        elseif wyckoff == WyckoffPosition(1, 'b', RVec([0, 1/2]))\n",
    "            find_diff(n, irlabs, [\"X₁\", \"X₂\"],  [\"Γ₁\", \"Γ₂\"]),\n",
    "            find_diff(n, irlabs, [\"Y₃\", \"Y₄\"],  [\"Γ₁\", \"Γ₂\"]),\n",
    "            find_diff(n, irlabs, [\"S₃\", \"S₄\"],  [\"Γ₁\", \"Γ₂\"])\n",
    "        elseif wyckoff == WyckoffPosition(1, 'c', RVec([1/2, 0]))\n",
    "            find_diff(n, irlabs, [\"X₃\", \"X₄\"],  [\"Γ₁\", \"Γ₂\"]),\n",
    "            find_diff(n, irlabs, [\"Y₁\", \"Y₂\"],  [\"Γ₁\", \"Γ₂\"]),\n",
    "            find_diff(n, irlabs, [\"S₃\", \"S₄\"],  [\"Γ₁\", \"Γ₂\"])\n",
    "        elseif wyckoff == WyckoffPosition(1, 'd', RVec([1/2, 1/2]))\n",
    "            find_diff(n, irlabs, [\"X₃\", \"X₄\"],  [\"Γ₁\", \"Γ₂\"]),\n",
    "            find_diff(n, irlabs, [\"Y₃\", \"Y₄\"],  [\"Γ₁\", \"Γ₂\"]),\n",
    "            find_diff(n, irlabs, [\"S₁\", \"S₂\"],  [\"Γ₁\", \"Γ₂\"])\n",
    "        end\n",
    "    return corner_c2(diffX, diffY, diffM)\n",
    "end\n",
    "\n",
    "\n",
    "function polarization_sg6(bandsummary::BandSummary, wyckoff::WyckoffPosition{2})\n",
    "    # In order- B, Y, A\n",
    "    n, irlabs = n_irlabs(bandsummary)\n",
    "    diffX, diffY, diffM = \n",
    "        if wyckoff == WyckoffPosition(1, 'a', RVec([0, 0]))\n",
    "            find_diff(n, irlabs, [\"X₁\", \"X₂\"],  [\"Γ₁\", \"Γ₂\"]),\n",
    "            find_diff(n, irlabs, [\"Y₁\", \"Y₂\"],  [\"Γ₁\", \"Γ₂\"]),\n",
    "            find_diff(n, irlabs, [\"S₁\", \"S₂\"],  [\"Γ₁\", \"Γ₂\"])\n",
    "        elseif wyckoff == WyckoffPosition(1, 'b', RVec([0, 1/2]))\n",
    "            find_diff(n, irlabs, [\"X₁\", \"X₂\"],  [\"Γ₁\", \"Γ₂\"]),\n",
    "            find_diff(n, irlabs, [\"Y₃\", \"Y₄\"],  [\"Γ₁\", \"Γ₂\"]),\n",
    "            find_diff(n, irlabs, [\"S₃\", \"S₄\"],  [\"Γ₁\", \"Γ₂\"])\n",
    "        elseif wyckoff == WyckoffPosition(1, 'c', RVec([1/2, 0]))\n",
    "            find_diff(n, irlabs, [\"X₃\", \"X₄\"],  [\"Γ₁\", \"Γ₂\"]),\n",
    "            find_diff(n, irlabs, [\"Y₁\", \"Y₂\"],  [\"Γ₁\", \"Γ₂\"]),\n",
    "            find_diff(n, irlabs, [\"S₃\", \"S₄\"],  [\"Γ₁\", \"Γ₂\"])\n",
    "        elseif wyckoff == WyckoffPosition(1, 'd', RVec([1/2, 1/2]))\n",
    "            find_diff(n, irlabs, [\"X₃\", \"X₄\"],  [\"Γ₁\", \"Γ₂\"]),\n",
    "            find_diff(n, irlabs, [\"Y₁\", \"Y₂\"],  [\"Γ₁\", \"Γ₂\"]),\n",
    "            find_diff(n, irlabs, [\"S₁\", \"S₂\"],  [\"Γ₁\", \"Γ₂\"])\n",
    "        end\n",
    "    \n",
    "    return polarization_c2(diffY + diffM, diffX + diffM)\n",
    "end\n",
    "\n",
    "function corner_sg9(bandsummary::BandSummary, wyckoff::WyckoffPosition{2}=WyckoffPosition(2, 'a', RVec([0, 0])))\n",
    "    n, irlabs = n_irlabs(bandsummary)\n",
    "    \n",
    "    diffX, diffY, diffM = \n",
    "    if wyckoff == WyckoffPosition(2, 'a', RVec([0, 0]))\n",
    "        find_diff(n, irlabs, [\"S₁\"], [\"Γ₁\"]),\n",
    "        find_diff(n, irlabs,[\"S₁\"] , [\"Γ₁\"]),\n",
    "        find_diff(n, irlabs, [\"Y₁\", \"Y₂\"],  [\"Γ₁\"])\n",
    "    elseif wyckoff == WyckoffPosition(2, 'b', RVec([0, 1/2]))\n",
    "        find_diff(n, irlabs, [\"S₂\"], [\"Γ₁\"]),\n",
    "        find_diff(n, irlabs,[\"S₂\"] , [\"Γ₁\"]),\n",
    "        find_diff(n, irlabs, [\"Y₁\", \"Y₂\"],  [\"Γ₁\"])\n",
    "    end\n",
    "    return corner_c2(diffX, diffY, diffX)\n",
    "end\n",
    "\n",
    "function polarization_sg9(bandsummary::BandSummary, wyckoff::WyckoffPosition{2})\n",
    "    n, irlabs = n_irlabs(bandsummary)\n",
    "    \n",
    "    diffX, diffY, diffM = \n",
    "        if wyckoff == WyckoffPosition(2, 'a', RVec([0, 0]))\n",
    "            find_diff(n, irlabs, [\"S₁\"], [\"Γ₁\"]),\n",
    "            find_diff(n, irlabs,[\"S₁\"] , [\"Γ₁\"]),\n",
    "            find_diff(n, irlabs, [\"Y₁\", \"Y₂\"],  [\"Γ₁\"])\n",
    "        elseif wyckoff == WyckoffPosition(2, 'b', RVec([0, 1/2]))\n",
    "            find_diff(n, irlabs, [\"S₂\"], [\"Γ₁\"]),\n",
    "            find_diff(n, irlabs,[\"S₂\"] , [\"Γ₁\"]),\n",
    "            find_diff(n, irlabs, [\"Y₁\", \"Y₂\"],  [\"Γ₁\"])\n",
    "        end\n",
    "    return polarization_c2(diffY + diffM, diffX + diffM)\n",
    "end"
   ]
  },
  {
   "cell_type": "code",
   "execution_count": 13,
   "id": "3445df17",
   "metadata": {},
   "outputs": [
    {
     "data": {
      "text/plain": [
       "corner_sg17 (generic function with 1 method)"
      ]
     },
     "execution_count": 13,
     "metadata": {},
     "output_type": "execute_result"
    }
   ],
   "source": [
    "function corner_sg16(bandsummary::BandSummary)\n",
    "    n, irlabs = n_irlabs(bandsummary)\n",
    "    \n",
    "    diff1 = find_diff(n, irlabs, [\"K₁\"],  [\"Γ₁\",  \"Γ₂\"])\n",
    "    diff2 = find_diff(n, irlabs, [\"M₁\"],  [\"Γ₁\", \"Γ₃Γ₅\"])\n",
    "    return corner_c6(diff1, diff2)\n",
    "end\n",
    "\n",
    "function corner_sg17(bandsummary::BandSummary)\n",
    "    n, irlabs = n_irlabs(bandsummary)\n",
    "    \n",
    "    diff1 = find_diff(n, irlabs, [\"K₁\",  \"K₂\"],  [\"Γ₁\",  \"Γ₂\", \"Γ₃\", \"Γ₄\" ])\n",
    "    diff2 = find_diff(n, irlabs, [\"M₁\", \"M₂\"],  [\"Γ₁\", \"Γ₂\", \"Γ₅\"])\n",
    "    \n",
    "    return corner_c6(diff1, diff2)\n",
    "end"
   ]
  },
  {
   "cell_type": "code",
   "execution_count": 171,
   "id": "55b2f7f3",
   "metadata": {},
   "outputs": [
    {
     "data": {
      "text/plain": [
       "polarization_sg15 (generic function with 1 method)"
      ]
     },
     "execution_count": 171,
     "metadata": {},
     "output_type": "execute_result"
    }
   ],
   "source": [
    "function corner_sg13(bandsummary::BandSummary, wyckoff::WyckoffPosition{2}=WyckoffPosition(1, 'a', RVec([0, 0])))\n",
    "    n, irlabs = n_irlabs(bandsummary)    \n",
    "    diffK =        \n",
    "        if wyckoff == WyckoffPosition(1, 'a', RVec([0, 0]))\n",
    "            find_diff(n, irlabs, [\"K₂\"],  [\"Γ₂Γ₃\"])\n",
    "        elseif wyckoff == WyckoffPosition(1, 'b', RVec([1/3, 2/3]))\n",
    "            find_diff(n, irlabs, [\"K₃\"],  [\"Γ₂Γ₃\"])\n",
    "        elseif wyckoff == WyckoffPosition(1, 'c', RVec([2/3, 1/3]))\n",
    "            find_diff(n, irlabs, [\"K₁\"],  [\"Γ₂Γ₃\"])\n",
    "        end\n",
    "    corner_c3(diffK)\n",
    "end\n",
    "\n",
    "function polarization_sg13(bandsummary::BandSummary, wyckoff::WyckoffPosition{2})\n",
    "    n, irlabs = n_irlabs(bandsummary) \n",
    "    diffK1, diffK2 = \n",
    "        if wyckoff == WyckoffPosition(1, 'a', RVec([0, 0]))\n",
    "            find_diff(n, irlabs, [\"K₁\"],  [\"Γ₁\"]), \n",
    "            find_diff(n, irlabs, [\"K₂\"],  [\"Γ₂Γ₃\"])\n",
    "        elseif wyckoff == WyckoffPosition(1, 'b', RVec([1/3, 2/3]))\n",
    "            find_diff(n, irlabs, [\"K₃\"],  [\"Γ₁\"]),\n",
    "            find_diff(n, irlabs, [\"K₁\"],  [\"Γ₂Γ₃\"])\n",
    "        elseif wyckoff == WyckoffPosition(1, 'c', RVec([2/3, 1/3]))\n",
    "            find_diff(n, irlabs, [\"K₂\"],  [\"Γ₁\"]),\n",
    "            find_diff(n, irlabs, [\"K₃\"],  [\"Γ₂Γ₃\"])\n",
    "        end\n",
    "    polarization_c3(diffK1, diffK2)\n",
    "end\n",
    "\n",
    "function corner_sg14(bandsummary::BandSummary, wyckoff::WyckoffPosition{2}=WyckoffPosition(1, 'a', RVec([0, 0])))\n",
    "    n, irlabs = n_irlabs(bandsummary)\n",
    "    diffK = \n",
    "        if wyckoff == WyckoffPosition(1, 'a', RVec([0, 0]))\n",
    "            find_diff(n, irlabs, [\"K₂\"], [\"Γ₃\"])\n",
    "        elseif wyckoff == WyckoffPosition(1, 'b', RVec([1/3, 2/3]))\n",
    "            find_diff(n, irlabs, [\"K₃\"], [\"Γ₃\"])\n",
    "        elseif wyckoff == WyckoffPosition(1, 'c', RVec([2/3, 1/3]))\n",
    "            find_diff(n, irlabs, [\"K₁\"], [\"Γ₃\"])\n",
    "        end\n",
    "    return corner_c3(diffK)\n",
    "end\n",
    "\n",
    "function polarization_sg14(bandsummary::BandSummary, wyckoff::WyckoffPosition{2}=WyckoffPosition(1, 'a', RVec([0, 0])))\n",
    "    n, irlabs = n_irlabs(bandsummary)\n",
    "    diffK1, diffK2 = \n",
    "        if wyckoff == WyckoffPosition(1, 'a', RVec([0, 0]))\n",
    "            find_diff(n, irlabs, [\"K₁\"],  [\"Γ₁\", \"Γ₂\"]), \n",
    "            find_diff(n, irlabs, [\"K₂\"],  [\"Γ₃\"])\n",
    "        elseif wyckoff == WyckoffPosition(1, 'b', RVec([1/3, 2/3]))\n",
    "            find_diff(n, irlabs, [\"K₃\"],  [\"Γ₁\", \"Γ₂\"]),\n",
    "            find_diff(n, irlabs, [\"K₁\"],  [\"Γ₃\"])\n",
    "        elseif wyckoff == WyckoffPosition(1, 'c', RVec([2/3, 1/3]))\n",
    "            find_diff(n, irlabs, [\"K₂\"], [\"Γ₁\", \"Γ₂\"]),\n",
    "            find_diff(n, irlabs, [\"K₃\"],  [\"Γ₃\"])\n",
    "        end\n",
    "    return polarization_c3(diffK1, diffK2)\n",
    "end\n",
    "\n",
    "function corner_sg15(bandsummary::BandSummary)\n",
    "    n, irlabs = n_irlabs(bandsummary)\n",
    "    diff1 = find_diff(n, irlabs, [\"K₃\"], [\"Γ₃\"])\n",
    "    return corner_c3(diff1)\n",
    "end\n",
    "\n",
    "function polarization_sg15(bandsummary::BandSummary)\n",
    "    n, irlabs = n_irlabs(bandsummary)\n",
    "    diff1 = find_diff(n, irlabs, [\"K₁\", \"K₂\"], [\"Γ₁\", \"Γ₂\"])\n",
    "    diff2 = find_diff(n, irlabs, [\"K₃\"], [\"Γ₃\"])\n",
    "    return corner_c3(diff1)\n",
    "end"
   ]
  },
  {
   "cell_type": "code",
   "execution_count": 188,
   "id": "6478e62a",
   "metadata": {},
   "outputs": [
    {
     "data": {
      "text/plain": [
       "polarization_sg12 (generic function with 1 method)"
      ]
     },
     "execution_count": 188,
     "metadata": {},
     "output_type": "execute_result"
    }
   ],
   "source": [
    "function corner_sg10(bandsummary::BandSummary, wyckoff::WyckoffPosition{2}=WyckoffPosition(1, 'a', RVec([0, 0])))\n",
    "    n, irlabs = n_irlabs(bandsummary)\n",
    "   \n",
    "    diffX, diffM1, diffM2 = \n",
    "    if wyckoff == WyckoffPosition(1, 'a', RVec([0, 0]))\n",
    "        find_diff(n, irlabs, [\"X₁\"], [\"Γ₁\", \"Γ₂\"]),\n",
    "        find_diff(n, irlabs, [\"M₁\"], [\"Γ₁\"]),\n",
    "        find_diff(n, irlabs, [\"M₃M₄\"], [\"Γ₃Γ₄\"])\n",
    "    elseif wyckoff == WyckoffPosition(1, 'b', RVec([1/2, 1/2]))\n",
    "        find_diff(n, irlabs, [\"X₂\"], [\"Γ₁\", \"Γ₂\"]),\n",
    "        find_diff(n, irlabs, [\"M₂\"], [\"Γ₁\"]),\n",
    "        find_diff(n, irlabs, [\"M₃M₄\"], [\"Γ₃Γ₄\"])\n",
    "    end\n",
    "    \n",
    "    return corner_c4(diffX, diffM1, diffM2)\n",
    "end\n",
    "\n",
    "function polarization_sg10(bandsummary::BandSummary, wyckoff::WyckoffPosition{2})\n",
    "    n, irlabs = n_irlabs(bandsummary)\n",
    "    \n",
    "    diffX = \n",
    "    if wyckoff == WyckoffPosition(1, 'a', RVec([0, 0]))\n",
    "        find_diff(n, irlabs, [\"X₁\"], [\"Γ₁\", \"Γ₂\"])\n",
    "    elseif wyckoff == WyckoffPosition(1, 'b', RVec([1/2, 1/2]))\n",
    "        find_diff(n, irlabs, [\"X₂\"], [\"Γ₁\", \"Γ₂\"])\n",
    "    end\n",
    "    return polarization_c4(diffX)\n",
    "end\n",
    "\n",
    "function corner_sg11(bandsummary::BandSummary, wyckoff::WyckoffPosition{2}=WyckoffPosition(1, 'a', RVec([0, 0])))\n",
    "    n, irlabs = n_irlabs(bandsummary)\n",
    "    \n",
    "    diffX, diffM1, diffM2 = \n",
    "        if wyckoff == WyckoffPosition(1, 'a', RVec([0, 0]))\n",
    "            find_diff(n, irlabs, [\"X₁\", \"X₂\"], [\"Γ₁\", \"Γ₂\", \"Γ₃\", \"Γ₄\"]),\n",
    "            find_diff(n, irlabs, [\"M₁\", \"M₄\"], [\"Γ₁\", \"Γ₄\"]),\n",
    "            find_diff(n, irlabs, [ \"M₅\"], [\"Γ₅\"])\n",
    "        elseif wyckoff == WyckoffPosition(1, 'b', RVec([1/2, 1/2]))\n",
    "            find_diff(n, irlabs, [\"X₃\", \"X₄\"], [\"Γ₁\", \"Γ₂\", \"Γ₃\", \"Γ₄\"]),\n",
    "            find_diff(n, irlabs, [\"M₂\", \"M₃\"], [\"Γ₁\", \"Γ₄\"]),\n",
    "            find_diff(n, irlabs, [ \"M₅\"], [\"Γ₅\"])\n",
    "        end\n",
    "    return corner_c4(diffX, diffM1, diffM2)\n",
    "end\n",
    "\n",
    "function polarization_sg11(bandsummary::BandSummary, wyckoff::WyckoffPosition{2})\n",
    "    n, irlabs = n_irlabs(bandsummary)\n",
    "            \n",
    "    diffX =\n",
    "        if wyckoff == WyckoffPosition(1, 'a', RVec([0, 0]))\n",
    "            find_diff(n, irlabs, [\"X₁\", \"X₂\"], [\"Γ₁\", \"Γ₂\", \"Γ₃\", \"Γ₄\"])\n",
    "        elseif wyckoff == WyckoffPosition(1, 'b', RVec([1/2, 1/2]))\n",
    "            find_diff(n, irlabs, [\"X₃\", \"X₄\"], [\"Γ₁\", \"Γ₂\", \"Γ₃\", \"Γ₄\"])\n",
    "        end\n",
    "    return polarization_c4(diffX)\n",
    "end\n",
    "\n",
    "\n",
    "# Apparently nothing changes for sg12 \n",
    "# double check\n",
    "function corner_sg12(bandsummary::BandSummary, wyckoff::WyckoffPosition{2}=WyckoffPosition(2, 'a', RVec([0, 0])))\n",
    "    n, irlabs = n_irlabs(bandsummary)\n",
    "\n",
    "    diffX, diffM1, diffM2 =\n",
    "        if wyckoff == WyckoffPosition(2, 'a', RVec([0, 0]))\n",
    "            find_diff(n, irlabs, [\"X₁\"], [\"Γ₁\", \"Γ₂\", \"Γ₃\", \"Γ₄\"])\n",
    "            find_diff(n, irlabs, [\"M₅\"], [\"Γ₁\", \"Γ₄\"])\n",
    "            find_diff(n, irlabs, [ \"M₁M₃\", \"M₂M₄\" ], [\"Γ₅\"])\n",
    "        elseif wyckoff == WyckoffPosition(2, 'b', RVec([1/2, 0]))\n",
    "            find_diff(n, irlabs, [\"X₁\"], [\"Γ₁\", \"Γ₂\", \"Γ₃\", \"Γ₄\"])\n",
    "            find_diff(n, irlabs, [\"M₅\"], [\"Γ₁\", \"Γ₄\"])\n",
    "            find_diff(n, irlabs, [ \"M₁M₃\", \"M₂M₄\" ], [\"Γ₅\"])\n",
    "        end\n",
    "    return corner_c4(diffX, diffM1, diffM2)\n",
    "end\n",
    "\n",
    "function polarization_sg12(bandsummary::BandSummary, wyckoff::WyckoffPosition{2})\n",
    "    n, irlabs = n_irlabs(bandsummary)\n",
    "    \n",
    "    diffX = \n",
    "        if wyckoff == WyckoffPosition(2, 'a', RVec([0, 0]))\n",
    "            find_diff(n, irlabs, [\"X₁\"], [\"Γ₁\", \"Γ₂\", \"Γ₃\", \"Γ₄\"])\n",
    "        elseif wyckoff == WyckoffPosition(2, 'b', RVec([1/2, 0]))\n",
    "            find_diff(n, irlabs, [\"X₁\"], [\"Γ₁\", \"Γ₂\", \"Γ₃\", \"Γ₄\"])\n",
    "        end\n",
    "    return polarization_c4(diffX)\n",
    "end"
   ]
  },
  {
   "cell_type": "code",
   "execution_count": null,
   "id": "8c10ae06",
   "metadata": {},
   "outputs": [],
   "source": []
  }
 ],
 "metadata": {
  "kernelspec": {
   "display_name": "Julia 1.7 Kernel 1.7.2",
   "language": "julia",
   "name": "julia-1.7-kernel-1.7"
  },
  "language_info": {
   "file_extension": ".jl",
   "mimetype": "application/julia",
   "name": "julia",
   "version": "1.7.2"
  },
  "latex_envs": {
   "LaTeX_envs_menu_present": true,
   "autoclose": false,
   "autocomplete": true,
   "bibliofile": "biblio.bib",
   "cite_by": "apalike",
   "current_citInitial": 1,
   "eqLabelWithNumbers": true,
   "eqNumInitial": 1,
   "hotkeys": {
    "equation": "Ctrl-E",
    "itemize": "Ctrl-I"
   },
   "labels_anchors": false,
   "latex_user_defs": false,
   "report_style_numbering": false,
   "user_envs_cfg": false
  },
  "toc": {
   "base_numbering": 1,
   "nav_menu": {},
   "number_sections": true,
   "sideBar": true,
   "skip_h1_title": false,
   "title_cell": "Table of Contents",
   "title_sidebar": "Contents",
   "toc_cell": false,
   "toc_position": {},
   "toc_section_display": true,
   "toc_window_display": false
  },
  "varInspector": {
   "cols": {
    "lenName": 16,
    "lenType": 16,
    "lenVar": 40
   },
   "kernels_config": {
    "python": {
     "delete_cmd_postfix": "",
     "delete_cmd_prefix": "del ",
     "library": "var_list.py",
     "varRefreshCmd": "print(var_dic_list())"
    },
    "r": {
     "delete_cmd_postfix": ") ",
     "delete_cmd_prefix": "rm(",
     "library": "var_list.r",
     "varRefreshCmd": "cat(var_dic_list()) "
    }
   },
   "types_to_exclude": [
    "module",
    "function",
    "builtin_function_or_method",
    "instance",
    "_Feature"
   ],
   "window_display": false
  }
 },
 "nbformat": 4,
 "nbformat_minor": 5
}
