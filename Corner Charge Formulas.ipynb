{
 "cells": [
  {
   "cell_type": "code",
   "execution_count": 1,
   "id": "7deda818",
   "metadata": {},
   "outputs": [],
   "source": [
    "using Crystalline, MPBUtils"
   ]
  },
  {
   "cell_type": "code",
   "execution_count": 2,
   "id": "1204f291",
   "metadata": {},
   "outputs": [
    {
     "name": "stdout",
     "output_type": "stream",
     "text": [
      "Spacegroup 1: [1]\n",
      "Spacegroup 2: [1, 2]\n",
      "Spacegroup 3: [1, m₁₀]\n",
      "Spacegroup 4: [1, {m₁₀|0,½}]\n",
      "Spacegroup 5: [1, m₁₀, {1|½,½}, {m₁₀|½,½}]\n",
      "Spacegroup 6: [1, 2, m₁₀, m₀₁]\n",
      "Spacegroup 7: [1, 2, {m₁₀|½,0}, {m₀₁|½,0}]\n",
      "Spacegroup 8: [1, 2, {m₁₀|½,½}, {m₀₁|½,½}]\n",
      "Spacegroup 9: [1, 2, m₁₀, m₀₁, {1|½,½}, {2|½,½}, {m₁₀|½,½}, {m₀₁|½,½}]\n",
      "Spacegroup 10: [1, 2, 4⁺, 4⁻]\n",
      "Spacegroup 11: [1, 2, 4⁺, 4⁻, m₁₀, m₀₁, m₋₁₁, m₁₁]\n",
      "Spacegroup 12: [1, 2, 4⁺, 4⁻, {m₁₀|½,½}, {m₀₁|½,½}, {m₋₁₁|½,½}, {m₁₁|½,½}]\n",
      "Spacegroup 13: [1, 3⁺, 3⁻]\n",
      "Spacegroup 14: [1, 3⁺, 3⁻, m₁₁, m₁₀, m₀₁]\n",
      "Spacegroup 15: [1, 3⁺, 3⁻, m₋₁₁, m₁₂, m₂₁]\n",
      "Spacegroup 16: [1, 3⁺, 3⁻, 2, 6⁻, 6⁺]\n",
      "Spacegroup 17: [1, 3⁺, 3⁻, 2, 6⁻, 6⁺, m₁₁, m₁₀, m₀₁, m₋₁₁, m₁₂, m₂₁]\n"
     ]
    }
   ],
   "source": [
    "for i in 1:17\n",
    "    println(\"Spacegroup $i: \", spacegroup(i, 2))\n",
    "end"
   ]
  },
  {
   "cell_type": "code",
   "execution_count": 5,
   "id": "e042238f",
   "metadata": {},
   "outputs": [],
   "source": [
    "# We consider C4 First, these consist of spacegroups 10, 11, 12"
   ]
  },
  {
   "cell_type": "code",
   "execution_count": 37,
   "id": "aa29a746",
   "metadata": {},
   "outputs": [
    {
     "data": {
      "text/plain": [
       "Dict{String, Vector{LGIrrep{2}}} with 8 entries:\n",
       "  \"Y\" => [LGIrrep{2}(\"Y₁\", [1, 2, m₁₀, m₀₁]\u001b[90m ([1, 0])\u001b[39m, Matrix{ComplexF64…\n",
       "  \"Δ\" => [LGIrrep{2}(\"Δ₁\", [1, m₁₀]\u001b[90m ([0, 2α])\u001b[39m, Matrix{ComplexF64}[[1.0+…\n",
       "  \"S\" => [LGIrrep{2}(\"S₁\", [1, 2]\u001b[90m ([1/2, 1/2])\u001b[39m, Matrix{ComplexF64}[[1.0…\n",
       "  \"C\" => [LGIrrep{2}(\"C₁\", [1, m₀₁]\u001b[90m ([2α, 1])\u001b[39m, Matrix{ComplexF64}[[1.0+…\n",
       "  \"Σ\" => [LGIrrep{2}(\"Σ₁\", [1, m₀₁]\u001b[90m ([2α, 0])\u001b[39m, Matrix{ComplexF64}[[1.0+…\n",
       "  \"Γ\" => [LGIrrep{2}(\"Γ₁\", [1, 2, m₁₀, m₀₁]\u001b[90m ([0, 0])\u001b[39m, Matrix{ComplexF64…\n",
       "  \"F\" => [LGIrrep{2}(\"F₁\", [1, m₁₀]\u001b[90m ([1, 2α])\u001b[39m, Matrix{ComplexF64}[[1.0+…\n",
       "  \"Ω\" => [LGIrrep{2}(\"Ω₁\", [1]\u001b[90m ([α, β])\u001b[39m, Matrix{ComplexF64}[[1.0+0.0im;…"
      ]
     },
     "execution_count": 37,
     "metadata": {},
     "output_type": "execute_result"
    }
   ],
   "source": [
    "lgirreps(9, 2)"
   ]
  },
  {
   "cell_type": "code",
   "execution_count": 34,
   "id": "1f1ee7c2",
   "metadata": {
    "scrolled": false
   },
   "outputs": [
    {
     "data": {
      "text/plain": [
       "LGIrrep{2}: ⋕6 (p2mm) at Γ = [0, 0]\n",
       "Γ₁ ─┬─────────────────────────────────────────────\n",
       "    ├─ \u001b[90m1: ────────────────────────────────── (x,y)\u001b[39m\n",
       "    │     1.0\n",
       "    │\n",
       "    ├─ \u001b[90m2: ──────────────────────────────── (-x,-y)\u001b[39m\n",
       "    │     1.0\n",
       "    │\n",
       "    ├─ \u001b[90mm₁₀: ─────────────────────────────── (-x,y)\u001b[39m\n",
       "    │     1.0\n",
       "    │\n",
       "    ├─ \u001b[90mm₀₁: ─────────────────────────────── (x,-y)\u001b[39m\n",
       "    │     1.0\n",
       "    └─────────────────────────────────────────────\n",
       "Γ₂ ─┬─────────────────────────────────────────────\n",
       "    ├─ \u001b[90m1: ────────────────────────────────── (x,y)\u001b[39m\n",
       "    │     1.0\n",
       "    │\n",
       "    ├─ \u001b[90m2: ──────────────────────────────── (-x,-y)\u001b[39m\n",
       "    │     1.0\n",
       "    │\n",
       "    ├─ \u001b[90mm₁₀: ─────────────────────────────── (-x,y)\u001b[39m\n",
       "    │     -1.0\n",
       "    │\n",
       "    ├─ \u001b[90mm₀₁: ─────────────────────────────── (x,-y)\u001b[39m\n",
       "    │     -1.0\n",
       "    └─────────────────────────────────────────────\n",
       "Γ₃ ─┬─────────────────────────────────────────────\n",
       "    ├─ \u001b[90m1: ────────────────────────────────── (x,y)\u001b[39m\n",
       "    │     1.0\n",
       "    │\n",
       "    ├─ \u001b[90m2: ──────────────────────────────── (-x,-y)\u001b[39m\n",
       "    │     -1.0\n",
       "    │\n",
       "    ├─ \u001b[90mm₁₀: ─────────────────────────────── (-x,y)\u001b[39m\n",
       "    │     -1.0\n",
       "    │\n",
       "    ├─ \u001b[90mm₀₁: ─────────────────────────────── (x,-y)\u001b[39m\n",
       "    │     1.0\n",
       "    └─────────────────────────────────────────────\n",
       "Γ₄ ─┬─────────────────────────────────────────────\n",
       "    ├─ \u001b[90m1: ────────────────────────────────── (x,y)\u001b[39m\n",
       "    │     1.0\n",
       "    │\n",
       "    ├─ \u001b[90m2: ──────────────────────────────── (-x,-y)\u001b[39m\n",
       "    │     -1.0\n",
       "    │\n",
       "    ├─ \u001b[90mm₁₀: ─────────────────────────────── (-x,y)\u001b[39m\n",
       "    │     1.0\n",
       "    │\n",
       "    ├─ \u001b[90mm₀₁: ─────────────────────────────── (x,-y)\u001b[39m\n",
       "    │     -1.0\n",
       "    └─────────────────────────────────────────────"
      ]
     },
     "execution_count": 34,
     "metadata": {},
     "output_type": "execute_result"
    }
   ],
   "source": [
    "realify(lgirreps(6, 2)[\"Γ\"])"
   ]
  },
  {
   "cell_type": "code",
   "execution_count": 10,
   "id": "0987bf14",
   "metadata": {},
   "outputs": [
    {
     "data": {
      "text/plain": [
       "5-element Vector{BandSummary}:\n",
       " 3-band (trivial): [2X₂+X₃, M₄+M₅, Γ₃+2Γ₄]\n",
       " 11-band (trivial): [2X₁+3X₂+4X₃+2X₄, M₁+3M₂+M₃+2M₄+2M₅, Γ₂+Γ₃+3Γ₄+3Γ₅]\n",
       " 6-band (trivial): [2X₁+X₂+X₃+2X₄, M₁+M₄+2M₅, Γ₁+Γ₂+2Γ₅]\n",
       " 10-band (trivial): [2X₁+4X₂+2X₃+2X₄, 2M₂+2M₃+2M₄+2M₅, 2Γ₂+2Γ₃+2Γ₄+2Γ₅]\n",
       " 5-band (trivial): [X₁+2X₃+2X₄, M₁+2M₅, Γ₁+2Γ₅]"
      ]
     },
     "execution_count": 10,
     "metadata": {},
     "output_type": "execute_result"
    }
   ],
   "source": [
    "sg = 11\n",
    "id = 10 \n",
    "polarization = \"te\"\n",
    "brs = bandreps(sg, 2)\n",
    "symeigsd, lgd = read_symdata(\"dim2-sg$sg-$id-res64-$polarization\", dir=\"./symeigs/output\");\n",
    "lgirsd = pick_lgirreps(lgd)\n",
    "fixup_gamma_symmetry!(symeigsd, lgd, Symbol(uppercase(polarization)))\n",
    "band_groupings = analyze_symmetry_data(symeigsd, lgirsd, brs)\n"
   ]
  },
  {
   "cell_type": "code",
   "execution_count": null,
   "id": "9e7cf397",
   "metadata": {},
   "outputs": [],
   "source": [
    "function corner_sg2(bandsummary::BandSummary)\n",
    "    # In order- B, Y, A\n",
    "    irlabs = bandsummary.brs.irlabs\n",
    "    n = bandsummary.n\n",
    "    gamma_idxs = findall(x->isequal(x, \"Γ₁\"), irlabs)\n",
    "    B_idxs = findall(x->isequal(x, \"B₁\"), irlabs)\n",
    "    Y_idxs = findall(x->isequal(x, \"Y₁\"), irlabs)\n",
    "    A_idxs = findall(x->isequal(x, \"A₁\"), irlabs)\n",
    "\n",
    "    diff1 = sum(n[gamma_idxs])-sum(n[B_idxs])\n",
    "    diff2 = sum(n[gamma_idxs])-sum(n[Y_idxs])\n",
    "    diff3 = sum(n[gamma_idxs])-sum(n[A_idxs])\n",
    "\n",
    "    return mod(1/4*(-diff1-diff2+diff3))\n",
    "end\n",
    "\n",
    "function corner_sg6(bandsummary::BandSummary)\n",
    "    irlabs = bandsummary.brs.irlabs\n",
    "    n = bandsummary.n\n",
    "    # In order, X, Y, S\n",
    "    gamma_idxs = findall(x->isequal(x, \"Γ₁\") || isequal(x, \"Γ₂\"), irlabs)\n",
    "    X_idxs = findall(x->isequal(x, \"X₁\") || isequal(x, \"X₂\"), irlabs)\n",
    "    Y_idxs = findall(x->isequal(x, \"Y₁\") || isequal(x, \"Y₂\"), irlabs)\n",
    "    S_idxs = findall(x->isequal(x, \"S₁\") || isequal(x, \"S₂\"), irlabs)\n",
    "\n",
    "    return mod(1/4*(-diff1-diff2+diff3))\n",
    "end\n",
    "\n",
    "function corner_sg9(bandsummary::BandSummary)\n",
    "    irlabs = bandsummary.brs.irlabs\n",
    "    n = bandsummary.n\n",
    "\n",
    "    return mod(1/4*(-diff1-diff2+diff3))\n",
    "end"
   ]
  },
  {
   "cell_type": "code",
   "execution_count": 340,
   "id": "3445df17",
   "metadata": {},
   "outputs": [
    {
     "data": {
      "text/plain": [
       "corner_sg17 (generic function with 1 method)"
      ]
     },
     "execution_count": 340,
     "metadata": {},
     "output_type": "execute_result"
    }
   ],
   "source": [
    "function corner_sg16(bandsummary::BandSummary)\n",
    "    irlabs = bandsummary.brs.irlabs\n",
    "    n = bandsummary.n\n",
    "    gamma1_idxs = findall(x->isequal(x, \"Γ₁\") || isequal(x, \"Γ₂\"), irlabs)\n",
    "    gamma2_idxs = findall(x->isequal(x, \"Γ₁\") || isequal(x, \"Γ₃Γ₅\"), irlabs)\n",
    "\n",
    "    K_idxs = findall(x->isequal(x, \"K₁\"), irlabs)\n",
    "    M_idxs = findall(x->isequal(x, \"M₁\"), irlabs)\n",
    "    \n",
    "    return 1/4*(sum(n[K_idxs])-sum(n[gamma1_idxs]))+1/6*(sum(n[M_idxs])-sum(n[gamma2_idxs]))\n",
    "end\n",
    "\n",
    "function corner_sg17(bandsummary::BandSummary)\n",
    "    gamma1_idxs = findall(x->isequal(x, \"Γ₁\") || isequal(x, \"Γ₂\") || isequal(x, \"Γ₃\") || isequal(x, \"Γ₄\"), irlabs)\n",
    "    gamma2_idxs = findall(x->isequal(x, \"Γ₁\") || isequal(x, \"Γ₂\") || isequal(x, \"Γ₅\"), irlabs)\n",
    "    K_idxs = findall(x->isequal(x, \"K₁\") || isequal(x, \"K₂\"), irlabs)\n",
    "    M_idxs = findall(x->isequal(x, \"M₁\") || isequal(x, \"M₂\"), irlabs)\n",
    "    \n",
    "    return 1/4*(sum(n[K_idxs])-sum(n[gamma1_idxs]))+1/6*(sum(n[M_idxs])-sum(n[gamma2_idxs]))\n",
    "end"
   ]
  },
  {
   "cell_type": "code",
   "execution_count": 316,
   "id": "55b2f7f3",
   "metadata": {},
   "outputs": [
    {
     "data": {
      "text/plain": [
       "corner_sg15 (generic function with 1 method)"
      ]
     },
     "execution_count": 316,
     "metadata": {},
     "output_type": "execute_result"
    }
   ],
   "source": [
    "function corner_sg13(bandsummary::BandSummary)\n",
    "    gamma_idx = findfirst(x->isequal(x, \"Γ₂Γ₃\"), bandsummary.brs.irlabs)\n",
    "    k_idx = findfirst(x->isequal(x, \"K₂\"), bandsummary.brs.irlabs)\n",
    "    n = bandsummary.n\n",
    "    1/3*(n[k_idx] - n[gamma_idx])\n",
    "end\n",
    "function corner_sg14(bandsummary::BandSummary)\n",
    "    gamma_idx = findfirst(x->isequal(x, \"Γ₃\"), bandsummary.brs.irlabs)\n",
    "    k_idx = findfirst(x->isequal(x, \"K₂\"), bandsummary.brs.irlabs)\n",
    "    n = bandsummary.n\n",
    "    1/3*(n[k_idx] - n[gamma_idx])\n",
    "end\n",
    "function corner_sg15(bandsummary::BandSummary)\n",
    "    gamma_idx = findfirst(x->isequal(x, \"Γ₃\"), bandsummary.brs.irlabs)\n",
    "    k_idx = findfirst(x->isequal(x, \"K₃\"), bandsummary.brs.irlabs)\n",
    "    n = bandsummary.n\n",
    "    1/3*(n[k_idx] - n[gamma_idx])\n",
    "end"
   ]
  },
  {
   "cell_type": "code",
   "execution_count": 8,
   "id": "6478e62a",
   "metadata": {},
   "outputs": [
    {
     "data": {
      "text/plain": [
       "corner_sg11 (generic function with 1 method)"
      ]
     },
     "execution_count": 8,
     "metadata": {},
     "output_type": "execute_result"
    }
   ],
   "source": [
    "function corner_sg10(bandsummary::BandSummary)\n",
    "    irlabs = bandsummary.brs.irlabs\n",
    "    gamma1_idxs = findall(x->isequal(x, \"Γ₁\") || isequal(x, \"Γ₂\"), irlabs)\n",
    "    gamma2_idxs = findall(x->isequal(x, \"Γ₁\"), irlabs)\n",
    "    gamma3_idxs = findall(x->isequal(x, \"Γ₃Γ₄\"), irlabs)\n",
    "\n",
    "    X_idxs = findall(x->isequal(x, \"X₁\"), irlabs)\n",
    "    M1_idxs = findall(x->isequal(x, \"M₁\"), irlabs)\n",
    "    M2_idxs = findall(x->isequal(x, \"M₃M₄\"), irlabs)\n",
    "    \n",
    "    diff1 = sum(n[gamma1_idxs])-sum(n[X_idxs])\n",
    "    diff2 = sum(n[gamma2_idxs])-sum(n[M1_idxs])\n",
    "    diff3 = sum(n[gamma3_idxs])-sum(n[M2_idxs])\n",
    "    e/4*(diff1 +2*diff2+3*diff3)\n",
    "end\n",
    "\n",
    "function corner_sg11(bandsummary::BandSummary)\n",
    "    irlabs = bandsummary.brs.irlabs\n",
    "    n = bandsummary.n\n",
    "    gamma1_idxs = findall(x-> isequal(x, \"Γ₁\") || isequal(x, \"Γ₂\") || isequal(x, \"Γ₃\")|| isequal(x, \"Γ₄\"), irlabs)\n",
    "    gamma2_idxs = findall(x-> isequal(x, \"Γ₁\") || !isequal(x, \"Γ₄\"), irlabs)\n",
    "    gamma3_idxs = findall(x-> isequal(x, \"Γ₅\"), irlabs)\n",
    "\n",
    "    X_idxs = findall(x->isequal(x, \"X₁\") || isequal(x, \"X₂\"), irlabs)\n",
    "    M1_idxs = findall(x->isequal(x, \"M₁\") || isequal(x, \"M₄\"), irlabs)\n",
    "    M2_idxs = findall(x->isequal(x, \"M₅\"), irlabs)\n",
    "\n",
    "    diff1 = sum(n[gamma1_idxs])-sum(n[X_idxs])\n",
    "    diff2 = sum(n[gamma2_idxs])-sum(n[M1_idxs])\n",
    "    diff3 = sum(n[gamma3_idxs])-sum(n[M2_idxs])\n",
    "    \n",
    "    return mod(1/4*(diff1+2*diff2+3*diff3), 1)\n",
    "end\n",
    "\n",
    "function corner_sg12(bandsummary::BandSummary)\n",
    "    gamma1_idxs = findall(x-> isequal(x, \"Γ₁\") || isequal(x, \"Γ₂\") || isequal(x, \"Γ₃\")|| isequal(x, \"Γ₄\"), irlabs)\n",
    "    gamma2_idxs = findall(x-> isequal(x, \"Γ₁\") || !isequal(x, \"Γ₄\"), irlabs)\n",
    "    gamma3_idxs = findall(x-> isequal(x, \"Γ₅\"), irlabs)\n",
    "\n",
    "    X_idxs = findall(x->isequal(x, \"X₁\"), irlabs)\n",
    "    M1_idxs = findall(x->isequal(x, \"M₅\"), irlabs)\n",
    "    M2_idxs = findall(x->isequal(x, \"M₁M₃-\") || isequal(x, \"M₂M₄\") , irlabs)\n",
    "\n",
    "\n",
    "    diff1 = sum(n[gamma1_idxs])-sum(n[X_idxs])\n",
    "    diff2 = sum(n[gamma2_idxs])-sum(n[M1_idxs])\n",
    "    diff3 = sum(n[gamma3_idxs])-sum(n[M2_idxs])\n",
    "\n",
    "    return mod(1/4*(diff1+2*diff2+3*diff3), 1)\n",
    "end"
   ]
  },
  {
   "cell_type": "code",
   "execution_count": 14,
   "id": "3f9e984d",
   "metadata": {},
   "outputs": [
    {
     "data": {
      "text/plain": [
       "0.75"
      ]
     },
     "execution_count": 14,
     "metadata": {},
     "output_type": "execute_result"
    }
   ],
   "source": [
    "corner_sg11(band_groupings[1]+band_groupings[2])"
   ]
  },
  {
   "cell_type": "code",
   "execution_count": 375,
   "id": "5739803c",
   "metadata": {},
   "outputs": [
    {
     "data": {
      "text/plain": [
       "15-element Vector{Int64}:\n",
       "  2\n",
       "  3\n",
       "  4\n",
       "  2\n",
       "  1\n",
       "  3\n",
       "  1\n",
       "  2\n",
       "  2\n",
       "  0\n",
       "  1\n",
       "  1\n",
       "  3\n",
       "  3\n",
       " 11"
      ]
     },
     "execution_count": 375,
     "metadata": {},
     "output_type": "execute_result"
    }
   ],
   "source": [
    "band_groupings[2].n"
   ]
  },
  {
   "cell_type": "code",
   "execution_count": 315,
   "id": "59c678a5",
   "metadata": {},
   "outputs": [
    {
     "data": {
      "text/plain": [
       "LGIrrep{2}: ⋕14 (p3m1) at K = [1/3, 1/3]\n",
       "K₁ ─┬─────────────────────────────────────────────\n",
       "    ├─ \u001b[90m1: ────────────────────────────────── (x,y)\u001b[39m\n",
       "    │     1.0\n",
       "    │\n",
       "    ├─ \u001b[90m3⁺: ────────────────────────────── (-y,x-y)\u001b[39m\n",
       "    │     1.0\n",
       "    │\n",
       "    ├─ \u001b[90m3⁻: ───────────────────────────── (-x+y,-x)\u001b[39m\n",
       "    │     1.0\n",
       "    └─────────────────────────────────────────────\n",
       "K₂ ─┬─────────────────────────────────────────────\n",
       "    ├─ \u001b[90m1: ────────────────────────────────── (x,y)\u001b[39m\n",
       "    │     1.0\n",
       "    │\n",
       "    ├─ \u001b[90m3⁺: ────────────────────────────── (-y,x-y)\u001b[39m\n",
       "    │     0.9999999999999999exp(0.6666666666666667iπ)\n",
       "    │\n",
       "    ├─ \u001b[90m3⁻: ───────────────────────────── (-x+y,-x)\u001b[39m\n",
       "    │     0.9999999999999999exp(-0.6666666666666667iπ)\n",
       "    └─────────────────────────────────────────────\n",
       "K₃ ─┬─────────────────────────────────────────────\n",
       "    ├─ \u001b[90m1: ────────────────────────────────── (x,y)\u001b[39m\n",
       "    │     1.0\n",
       "    │\n",
       "    ├─ \u001b[90m3⁺: ────────────────────────────── (-y,x-y)\u001b[39m\n",
       "    │     0.9999999999999999exp(-0.6666666666666667iπ)\n",
       "    │\n",
       "    ├─ \u001b[90m3⁻: ───────────────────────────── (-x+y,-x)\u001b[39m\n",
       "    │     0.9999999999999999exp(0.6666666666666667iπ)\n",
       "    └─────────────────────────────────────────────"
      ]
     },
     "execution_count": 315,
     "metadata": {},
     "output_type": "execute_result"
    }
   ],
   "source": [
    "realify(lgirreps(14, 2)[\"K\"])"
   ]
  },
  {
   "cell_type": "code",
   "execution_count": 278,
   "id": "a9e9c1dd",
   "metadata": {},
   "outputs": [
    {
     "name": "stdout",
     "output_type": "stream",
     "text": [
      "search: \u001b[0m\u001b[1ml\u001b[22m\u001b[0m\u001b[1mg\u001b[22m\u001b[0m\u001b[1mi\u001b[22m\u001b[0m\u001b[1mr\u001b[22m\u001b[0m\u001b[1mr\u001b[22m\u001b[0m\u001b[1me\u001b[22m\u001b[0m\u001b[1mp\u001b[22m\u001b[0m\u001b[1ms\u001b[22m get_\u001b[0m\u001b[1ml\u001b[22m\u001b[0m\u001b[1mg\u001b[22m\u001b[0m\u001b[1mi\u001b[22m\u001b[0m\u001b[1mr\u001b[22m\u001b[0m\u001b[1mr\u001b[22m\u001b[0m\u001b[1me\u001b[22m\u001b[0m\u001b[1mp\u001b[22m\u001b[0m\u001b[1ms\u001b[22m pick_\u001b[0m\u001b[1ml\u001b[22m\u001b[0m\u001b[1mg\u001b[22m\u001b[0m\u001b[1mi\u001b[22m\u001b[0m\u001b[1mr\u001b[22m\u001b[0m\u001b[1mr\u001b[22m\u001b[0m\u001b[1me\u001b[22m\u001b[0m\u001b[1mp\u001b[22m\u001b[0m\u001b[1ms\u001b[22m \u001b[0m\u001b[1mL\u001b[22m\u001b[0m\u001b[1mG\u001b[22m\u001b[0m\u001b[1mI\u001b[22m\u001b[0m\u001b[1mr\u001b[22m\u001b[0m\u001b[1mr\u001b[22m\u001b[0m\u001b[1me\u001b[22m\u001b[0m\u001b[1mp\u001b[22m\n",
      "\n"
     ]
    },
    {
     "data": {
      "text/latex": [
       "\\begin{verbatim}\n",
       "lgirreps(sgnum::Integer, D::Union{Val{Int}, Integer}=Val(3))\n",
       "                                                -> Dict{String, Vector{LGIrrep{D}}}\n",
       "\\end{verbatim}\n",
       "For given space group number \\texttt{sgnum} and dimension \\texttt{D}, return the associated little group (or \"small\") irreps (\\texttt{LGIrrep\\{D\\}}s) at high-symmetry k-points, lines, and planes. \n",
       "\n",
       "Returns a \\texttt{Dict} with little group \\textbf{k}-point labels as keys and vectors of \\texttt{LGIrrep\\{D\\}}s as values.\n",
       "\n",
       "\\subsection{Notes}\n",
       "\\begin{itemize}\n",
       "\\item The returned irreps are complex in general. Real irreps (as needed in time-reversal invariant settings) can subsequently be obtained with the \\href{@ref}{\\texttt{realify}} method.\n",
       "\n",
       "\n",
       "\\item Returned irreps are spinless.\n",
       "\n",
       "\n",
       "\\item The irrep labelling follows CDML conventions.\n",
       "\n",
       "\n",
       "\\item Irreps along lines or planes may depend on free parameters \\texttt{αβγ} that parametrize the \\textbf{k} point. To evaluate the irreps at a particular value of \\texttt{αβγ} and return the associated matrices, use \\texttt{(lgir::LGIrrep)(αβγ)}. If \\texttt{αβγ} is an empty tuple in this call, the matrices associated with \\texttt{lgir} will be evaluated assuming \\texttt{αβγ = [0,0,...]}.\n",
       "\n",
       "\\end{itemize}\n",
       "\\subsection{References}\n",
       "The underlying data is sourced from the ISOTROPY ISO-IR dataset. Please cite original reference material associated with ISO-IR:\n",
       "\n",
       "\\begin{itemize}\n",
       "\\item[1. ] Stokes, Hatch, \\& Campbell,  \\href{https://stokes.byu.edu/iso/irtables.php}{ISO-IR, ISOTROPY Software Suite}.\n",
       "\n",
       "\n",
       "\\item[2. ] Stokes, Campbell, \\& Cordes, \\href{https://doi.org/10.1107/S0108767313007538}{Acta Cryst. A. \\textbf{69}, 388-395 (2013)}.\n",
       "\n",
       "\\end{itemize}\n",
       "The ISO-IR dataset is occasionally missing some \\textbf{k}-points that lie outside the basic domain but still resides in the representation domain (i.e. \\textbf{k}-points with postscripted 'A', 'B', etc. labels, such as 'ZA'). In such cases, the missing irreps may instead have been manually sourced from the Bilbao Crystallographic Database.\n",
       "\n"
      ],
      "text/markdown": [
       "```\n",
       "lgirreps(sgnum::Integer, D::Union{Val{Int}, Integer}=Val(3))\n",
       "                                                -> Dict{String, Vector{LGIrrep{D}}}\n",
       "```\n",
       "\n",
       "For given space group number `sgnum` and dimension `D`, return the associated little group (or \"small\") irreps (`LGIrrep{D}`s) at high-symmetry k-points, lines, and planes. \n",
       "\n",
       "Returns a `Dict` with little group **k**-point labels as keys and vectors of `LGIrrep{D}`s as values.\n",
       "\n",
       "## Notes\n",
       "\n",
       "  * The returned irreps are complex in general. Real irreps (as needed in time-reversal invariant settings) can subsequently be obtained with the [`realify`](@ref) method.\n",
       "  * Returned irreps are spinless.\n",
       "  * The irrep labelling follows CDML conventions.\n",
       "  * Irreps along lines or planes may depend on free parameters `αβγ` that parametrize the **k** point. To evaluate the irreps at a particular value of `αβγ` and return the associated matrices, use `(lgir::LGIrrep)(αβγ)`. If `αβγ` is an empty tuple in this call, the matrices associated with `lgir` will be evaluated assuming `αβγ = [0,0,...]`.\n",
       "\n",
       "## References\n",
       "\n",
       "The underlying data is sourced from the ISOTROPY ISO-IR dataset. Please cite original reference material associated with ISO-IR:\n",
       "\n",
       "1. Stokes, Hatch, & Campbell,  [ISO-IR, ISOTROPY Software Suite](https://stokes.byu.edu/iso/irtables.php).\n",
       "2. Stokes, Campbell, & Cordes, [Acta Cryst. A. **69**, 388-395 (2013)](https://doi.org/10.1107/S0108767313007538).\n",
       "\n",
       "The ISO-IR dataset is occasionally missing some **k**-points that lie outside the basic domain but still resides in the representation domain (i.e. **k**-points with postscripted 'A', 'B', etc. labels, such as 'ZA'). In such cases, the missing irreps may instead have been manually sourced from the Bilbao Crystallographic Database.\n"
      ],
      "text/plain": [
       "\u001b[36m  lgirreps(sgnum::Integer, D::Union{Val{Int}, Integer}=Val(3))\u001b[39m\n",
       "\u001b[36m                                                  -> Dict{String, Vector{LGIrrep{D}}}\u001b[39m\n",
       "\n",
       "  For given space group number \u001b[36msgnum\u001b[39m and dimension \u001b[36mD\u001b[39m, return the associated\n",
       "  little group (or \"small\") irreps (\u001b[36mLGIrrep{D}\u001b[39ms) at high-symmetry k-points,\n",
       "  lines, and planes.\n",
       "\n",
       "  Returns a \u001b[36mDict\u001b[39m with little group \u001b[1mk\u001b[22m-point labels as keys and vectors of\n",
       "  \u001b[36mLGIrrep{D}\u001b[39ms as values.\n",
       "\n",
       "\u001b[1m  Notes\u001b[22m\n",
       "\u001b[1m  =======\u001b[22m\n",
       "\n",
       "    •  The returned irreps are complex in general. Real irreps (as needed\n",
       "       in time-reversal invariant settings) can subsequently be obtained\n",
       "       with the \u001b[36mrealify\u001b[39m method.\n",
       "\n",
       "    •  Returned irreps are spinless.\n",
       "\n",
       "    •  The irrep labelling follows CDML conventions.\n",
       "\n",
       "    •  Irreps along lines or planes may depend on free parameters \u001b[36mαβγ\u001b[39m\n",
       "       that parametrize the \u001b[1mk\u001b[22m point. To evaluate the irreps at a\n",
       "       particular value of \u001b[36mαβγ\u001b[39m and return the associated matrices, use\n",
       "       \u001b[36m(lgir::LGIrrep)(αβγ)\u001b[39m. If \u001b[36mαβγ\u001b[39m is an empty tuple in this call, the\n",
       "       matrices associated with \u001b[36mlgir\u001b[39m will be evaluated assuming \u001b[36mαβγ =\n",
       "       [0,0,...]\u001b[39m.\n",
       "\n",
       "\u001b[1m  References\u001b[22m\n",
       "\u001b[1m  ============\u001b[22m\n",
       "\n",
       "  The underlying data is sourced from the ISOTROPY ISO-IR dataset. Please cite\n",
       "  original reference material associated with ISO-IR:\n",
       "\n",
       "    1. Stokes, Hatch, & Campbell, ISO-IR, ISOTROPY Software Suite\n",
       "       (https://stokes.byu.edu/iso/irtables.php).\n",
       "\n",
       "    2. Stokes, Campbell, & Cordes, Acta Cryst. A. \u001b[1m69\u001b[22m, 388-395 (2013)\n",
       "       (https://doi.org/10.1107/S0108767313007538).\n",
       "\n",
       "  The ISO-IR dataset is occasionally missing some \u001b[1mk\u001b[22m-points that lie outside\n",
       "  the basic domain but still resides in the representation domain (i.e.\n",
       "  \u001b[1mk\u001b[22m-points with postscripted 'A', 'B', etc. labels, such as 'ZA'). In such\n",
       "  cases, the missing irreps may instead have been manually sourced from the\n",
       "  Bilbao Crystallographic Database."
      ]
     },
     "execution_count": 278,
     "metadata": {},
     "output_type": "execute_result"
    }
   ],
   "source": [
    "?lgirreps"
   ]
  },
  {
   "cell_type": "code",
   "execution_count": 96,
   "id": "1534d91d",
   "metadata": {},
   "outputs": [
    {
     "data": {
      "text/plain": [
       "corner_c4 (generic function with 3 methods)"
      ]
     },
     "execution_count": 96,
     "metadata": {},
     "output_type": "execute_result"
    }
   ],
   "source": [
    "function corner_c4(symeigsd::Dict{String, Vector{Vector{ComplexF64}}}, lgd::Dict{String, LittleGroup{2}}, \n",
    "    bandrange::UnitRange{Int})\n",
    "    \n",
    "    #lgd_Γ = lgd[\"Γ\"]\n",
    "    #lgd_X = lgd[\"X\"]\n",
    "    #lgd_M = lgd[\"M\"]\n",
    "    \n",
    "    symeigs_Γ = symeigsd[\"Γ\"][bandrange]\n",
    "    symeigs_M = symeigsd[\"M\"][bandrange]\n",
    "    symeigs_X = symeigsd[\"X\"][bandrange]\n",
    "\n",
    "    println(round.([x[3] for x in symeigsd[\"M\"]][bandrange], digits=4))\n",
    "    println(round.([x[3] for x in symeigsd[\"Γ\"]][bandrange], digits=4))\n",
    "    M₂⁴ = count(x -> isequal(x, 1im), round.([x[3] for x in symeigs_M, digits=4])) - count(x -> isequal(x, 1im), round.([x[2] for x in symeigs_Γ], digits=4)) \n",
    "    M₁⁴ = count(x -> isequal(x, 1), round.([x[3] for x in symeigs_M, digits=4])) - count(x -> isequal(x, 1), round.([x[3] for x in symeigs_Γ], digits=4))\n",
    "    X₁² = count(x -> isequal(x, 1), round.([x[2] for x in symeigs_M, digits=4])) - count(x -> isequal(x, 1), round.([x[2] for x in symeigs_Γ], digits=4))\n",
    "    \n",
    "    return 1/4*(X₁²+2M₁⁴+4M₂⁴)\n",
    "    \n",
    "end"
   ]
  },
  {
   "cell_type": "code",
   "execution_count": 107,
   "id": "8618c9da",
   "metadata": {},
   "outputs": [
    {
     "data": {
      "text/plain": [
       "corner_c3 (generic function with 1 method)"
      ]
     },
     "execution_count": 107,
     "metadata": {},
     "output_type": "execute_result"
    }
   ],
   "source": [
    "function corner_c3(symeigsd::Dict{String, Vector{Vector{ComplexF64}}}, lgd::Dict{String, LittleGroup{2}}, \n",
    "    bandrange::UnitRange{Int})\n",
    "    symeigs_K = symeigsd[\"K\"][bandrange]\n",
    "    K₂³ = count(x -> isequal(x, exp(2π*1im*1/3)), round.([x[2] for x in symeigs_K, digits=2])) - count(x -> isequal(x, exp(2π*1im*1/3)), round.([x[2] for x in symeigs_K], digits=2))\n",
    "end"
   ]
  },
  {
   "cell_type": "code",
   "execution_count": 112,
   "id": "cc56b241",
   "metadata": {},
   "outputs": [
    {
     "data": {
      "text/plain": [
       "0"
      ]
     },
     "execution_count": 112,
     "metadata": {},
     "output_type": "execute_result"
    }
   ],
   "source": [
    "corner_c3(symeigsd, lgd, 1:2)"
   ]
  },
  {
   "cell_type": "code",
   "execution_count": 103,
   "id": "d3fccb02",
   "metadata": {},
   "outputs": [
    {
     "data": {
      "text/plain": [
       "LittleGroup{2} ⋕13 (p3) at Γ = [0, 0] with 3 operations:\n",
       " 1\n",
       " 3⁺\n",
       " 3⁻"
      ]
     },
     "execution_count": 103,
     "metadata": {},
     "output_type": "execute_result"
    }
   ],
   "source": [
    "lgd[\"Γ\"]"
   ]
  },
  {
   "cell_type": "code",
   "execution_count": 61,
   "id": "7172a604",
   "metadata": {},
   "outputs": [
    {
     "data": {
      "text/plain": [
       "(:rotation, :translation)"
      ]
     },
     "execution_count": 61,
     "metadata": {},
     "output_type": "execute_result"
    }
   ],
   "source": [
    "fieldnames(SymOperation)"
   ]
  },
  {
   "cell_type": "code",
   "execution_count": 22,
   "id": "b42fa143",
   "metadata": {},
   "outputs": [
    {
     "data": {
      "text/plain": [
       "4-element Vector{ComplexF64}:\n",
       "  1.0 + 0.0im\n",
       " -1.0 + 0.0im\n",
       "  0.0 + 0.0im\n",
       "  0.0 - 0.0im"
      ]
     },
     "execution_count": 22,
     "metadata": {},
     "output_type": "execute_result"
    }
   ],
   "source": [
    "round.(symeigsd[\"M\"][4], digits=3)"
   ]
  },
  {
   "cell_type": "code",
   "execution_count": 113,
   "id": "ef32a9fc",
   "metadata": {},
   "outputs": [
    {
     "data": {
      "text/plain": [
       "40-element Vector{Vector{ComplexF64}}:\n",
       " [0.9999999999999967 + 0.0im, -0.4991307616358778 - 0.8642335169107277im, -0.4991307616358791 + 0.8642335169107285im]\n",
       " [0.9999999999999998 + 0.0im, 0.998970204685126 - 0.00039816324522607045im, 0.9989702046851263 + 0.0003981632452260573im]\n",
       " [1.0000000000000009 + 0.0im, -0.4998386688933344 + 0.8646293001062523im, -0.4998386688933337 - 0.8646293001062518im]\n",
       " [1.0000000000000038 + 0.0im, -0.49998028616059764 - 0.8656186295499743im, -0.4999802861605977 + 0.8656186295499729im]\n",
       " [1.0 + 0.0im, 0.9891563634266354 + 0.00623755325262226im, 0.9891563634266325 - 0.00623755325262232im]\n",
       " [1.0000000000000009 + 0.0im, -0.48917540440485446 + 0.8593936966938164im, -0.4891754044048517 - 0.859393696693816im]\n",
       " [0.9999999999999978 + 0.0im, -0.49428572904077844 - 0.8621098131774354im, -0.49428572904077955 + 0.8621098131774356im]\n",
       " [1.0000000000000016 + 0.0im, 0.992125988383388 - 0.0020298392653250604im, 0.992125988383387 + 0.002029839265325056im]\n",
       " [1.0000000000000018 + 0.0im, -0.49782569754439165 + 0.8644197496722149im, -0.49782569754439177 - 0.864419749672213im]\n",
       " [0.9999999999999988 + 0.0im, -0.4999716874326216 + 0.8656388471731798im, -0.49997168743261994 - 0.8656388471731783im]\n",
       " [1.0000000000000007 + 0.0im, 0.9999127226630468 - 2.120240174987056e-5im, 0.999912722663047 + 2.1202401749862014e-5im]\n",
       " [0.9999999999999967 + 0.0im, -0.4999417498578845 - 0.8659122173444619im, -0.49994174985788536 + 0.8659122173444587im]\n",
       " [0.9999999999999974 + 0.0im, -0.49858417148883727 - 0.8633778152689034im, -0.49858417148883905 + 0.8633778152689003im]\n",
       " ⋮\n",
       " [1.0000000000000004 + 0.0im, -0.4951236589801381 + 0.8629142376157384im, -0.49512365898013777 - 0.8629142376157373im]\n",
       " [1.0000000000000009 + 0.0im, 0.9947911947338918 + 0.0025765795845249548im, 0.9947911947338886 - 0.0025765795845249725im]\n",
       " [1.0000000000000009 + 0.0im, -0.49980056857166705 - 0.8655854119840729im, -0.499800568571667 + 0.8655854119840732im]\n",
       " [1.0000000000000013 + 0.0im, -0.49979854566081144 + 0.8656234287610877im, -0.4997985456608104 - 0.8656234287610882im]\n",
       " [0.9999999999999988 + 0.0im, 0.999570934609452 + 4.053497913427947e-5im, 0.9995709346094508 - 4.053497913428537e-5im]\n",
       " [1.0 + 0.0im, -0.49875819304573055 + 0.8650274491665986im, -0.4987581930457297 - 0.8650274491665982im]\n",
       " [0.9999999999999972 + 0.0im, 0.9981853006579792 + 0.0003270915434375634im, 0.9981853006579776 - 0.00032709154343757034im]\n",
       " [0.9999999999999996 + 0.0im, -0.4994460515618849 - 0.8654632562700958im, -0.49944605156188504 + 0.8654632562700945im]\n",
       " [0.9999999999999996 + 0.0im, -0.4986398720928232 - 0.8647828400377431im, -0.49863987209282307 + 0.8647828400377405im]\n",
       " [0.999999999999999 + 0.0im, 0.9978239939589426 - 0.00018483807616872407im, 0.9978239939589386 + 0.00018483807616869737im]\n",
       " [1.0000000000000009 + 0.0im, -0.4990311590193933 + 0.8648097548161657im, -0.49903115901939393 - 0.8648097548161654im]\n",
       " [0.9999999999999978 + 0.0im, -0.4997791527947769 - 0.8654368649407698im, -0.4997791527947794 + 0.8654368649407695im]"
      ]
     },
     "execution_count": 113,
     "metadata": {},
     "output_type": "execute_result"
    }
   ],
   "source": [
    "symeigsd[\"K\"]"
   ]
  },
  {
   "cell_type": "code",
   "execution_count": 55,
   "id": "900b599e",
   "metadata": {},
   "outputs": [
    {
     "data": {
      "text/plain": [
       "3"
      ]
     },
     "execution_count": 55,
     "metadata": {},
     "output_type": "execute_result"
    }
   ],
   "source": [
    " M₁⁴"
   ]
  },
  {
   "cell_type": "code",
   "execution_count": 124,
   "id": "14b586c9",
   "metadata": {},
   "outputs": [
    {
     "data": {
      "text/plain": [
       "-0.5 + 0.866im"
      ]
     },
     "execution_count": 124,
     "metadata": {},
     "output_type": "execute_result"
    }
   ],
   "source": [
    "p = 2\n",
    "n = 3\n",
    "round(exp(2π*1im*(p-1)/n), digits=3)"
   ]
  },
  {
   "cell_type": "code",
   "execution_count": 116,
   "id": "e7ce96ea",
   "metadata": {},
   "outputs": [
    {
     "data": {
      "text/plain": [
       "-0.5 + 0.9im"
      ]
     },
     "execution_count": 116,
     "metadata": {},
     "output_type": "execute_result"
    }
   ],
   "source": [
    "round(-0.4998386688933344 + 0.8646293001062523im, digits=1)"
   ]
  },
  {
   "cell_type": "code",
   "execution_count": null,
   "id": "2e73980c",
   "metadata": {},
   "outputs": [],
   "source": []
  }
 ],
 "metadata": {
  "kernelspec": {
   "display_name": "Julia 1.7.2",
   "language": "julia",
   "name": "julia-1.7"
  },
  "language_info": {
   "file_extension": ".jl",
   "mimetype": "application/julia",
   "name": "julia",
   "version": "1.7.2"
  },
  "latex_envs": {
   "LaTeX_envs_menu_present": true,
   "autoclose": false,
   "autocomplete": true,
   "bibliofile": "biblio.bib",
   "cite_by": "apalike",
   "current_citInitial": 1,
   "eqLabelWithNumbers": true,
   "eqNumInitial": 1,
   "hotkeys": {
    "equation": "Ctrl-E",
    "itemize": "Ctrl-I"
   },
   "labels_anchors": false,
   "latex_user_defs": false,
   "report_style_numbering": false,
   "user_envs_cfg": false
  },
  "toc": {
   "base_numbering": 1,
   "nav_menu": {},
   "number_sections": true,
   "sideBar": true,
   "skip_h1_title": false,
   "title_cell": "Table of Contents",
   "title_sidebar": "Contents",
   "toc_cell": false,
   "toc_position": {},
   "toc_section_display": true,
   "toc_window_display": false
  },
  "varInspector": {
   "cols": {
    "lenName": 16,
    "lenType": 16,
    "lenVar": 40
   },
   "kernels_config": {
    "python": {
     "delete_cmd_postfix": "",
     "delete_cmd_prefix": "del ",
     "library": "var_list.py",
     "varRefreshCmd": "print(var_dic_list())"
    },
    "r": {
     "delete_cmd_postfix": ") ",
     "delete_cmd_prefix": "rm(",
     "library": "var_list.r",
     "varRefreshCmd": "cat(var_dic_list()) "
    }
   },
   "types_to_exclude": [
    "module",
    "function",
    "builtin_function_or_method",
    "instance",
    "_Feature"
   ],
   "window_display": false
  }
 },
 "nbformat": 4,
 "nbformat_minor": 5
}
