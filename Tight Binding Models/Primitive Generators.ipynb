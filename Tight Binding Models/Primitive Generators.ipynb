{
 "cells": [
  {
   "cell_type": "code",
   "execution_count": 1,
   "metadata": {},
   "outputs": [
    {
     "data": {
      "text/plain": [
       "PyObject <module 'numpy' from '/home/gridsan/aligho/.local/lib/python3.8/site-packages/numpy/__init__.py'>"
      ]
     },
     "execution_count": 1,
     "metadata": {},
     "output_type": "execute_result"
    }
   ],
   "source": [
    "using LinearAlgebra, PyCall, PyPlot, Crystalline\n",
    "np = pyimport(\"numpy\")"
   ]
  },
  {
   "cell_type": "markdown",
   "metadata": {},
   "source": [
    "# C3 Symmetry"
   ]
  },
  {
   "cell_type": "code",
   "execution_count": 2,
   "metadata": {},
   "outputs": [
    {
     "data": {
      "text/plain": [
       "h3c (generic function with 1 method)"
      ]
     },
     "execution_count": 2,
     "metadata": {},
     "output_type": "execute_result"
    }
   ],
   "source": [
    "function h3b(k::Vector{<:Real}) \n",
    "    t_0 = 0.5\n",
    "    a_1 = [1, 0]\n",
    "    a_2 = [0, 1]#[1/2, sqrt(3)/2]\n",
    "    a_3 = a_1 - a_2\n",
    "    Hk = [0 t_0 + cis(dot(k, a_2)) t_0 + cis(-dot(k, a_3)); t_0 + cis(-dot(k, a_2)) 0 t_0 + cis(-dot(k, a_1)); \n",
    "          t_0 + cis(dot(k, a_3)) t_0 + cis(dot(k, a_1)) 0]\n",
    "    Es, Us = np.linalg.eigh(Hk)\n",
    "    return Es, Us\n",
    "end\n",
    "\n",
    "function h3c(k::Vector{<:Real}) \n",
    "    t_0 = 0.5\n",
    "    a_1 = [1, 0]\n",
    "    a_2 = [0, 1]#[1/2, sqrt(3)/2]\n",
    "    a_3 = a_1 - a_2\n",
    "    Hk = [0 t_0 + cis(dot(k, a_1)) t_0 + cis(dot(k, a_2)); t_0 + cis(-dot(k, a_1)) 0 t_0 + cis(-dot(k, a_3)); \n",
    "          t_0 + cis(-dot(k, a_2)) t_0 + cis(dot(k, a_3)) 0]\n",
    "    Es, Us = np.linalg.eigh(Hk)\n",
    "    return Es, Us\n",
    "end"
   ]
  },
  {
   "cell_type": "code",
   "execution_count": 3,
   "metadata": {},
   "outputs": [],
   "source": [
    "kpath = Vector{Float64}[]\n",
    "N = 100\n",
    "for i in 1:N\n",
    "    push!(kpath, 2π*[-1/3, 1/3]*i/N)\n",
    "end\n",
    "\n",
    "for i in 1:N\n",
    "    push!(kpath, 2π*[-1/3, 1/3]+2π*[2/3, 1/3]*i/N)\n",
    "end\n",
    "\n",
    "for i in 1:N\n",
    "    push!(kpath, 2π*[1/3, 2/3]-2π*[1/3, 2/3]*i/N)\n",
    "end"
   ]
  },
  {
   "cell_type": "code",
   "execution_count": 4,
   "metadata": {},
   "outputs": [
    {
     "data": {
      "image/png": "[encoded data removed]",
      "text/plain": [
       "Figure(PyObject <Figure size 640x480 with 1 Axes>)"
      ]
     },
     "metadata": {},
     "output_type": "display_data"
    }
   ],
   "source": [
    "plot([x[1] for x in h3b.(kpath)]);\n",
    "plot([x[1] for x in h3c.(kpath)], linestyle=\"dashed\");"
   ]
  },
  {
   "cell_type": "code",
   "execution_count": 5,
   "metadata": {},
   "outputs": [
    {
     "data": {
      "text/plain": [
       "3-element Vector{ComplexF64}:\n",
       " -0.5 + 0.0im\n",
       " -0.5 + 0.0im\n",
       "  1.0 + 0.0im"
      ]
     },
     "execution_count": 5,
     "metadata": {},
     "output_type": "execute_result"
    }
   ],
   "source": [
    "R3 = [0 0 1; 1 0 0; 0 1 0]\n",
    "evectors = h3c([0, 0])[2]\n",
    "round.(np.einsum(\"ik, ij, jk-> k\", conj.(evectors), R3, evectors), digits=3)"
   ]
  },
  {
   "cell_type": "code",
   "execution_count": 72,
   "metadata": {},
   "outputs": [
    {
     "data": {
      "text/plain": [
       "3-element Vector{ComplexF64}:\n",
       " -0.5 + 0.866im\n",
       "  1.0 - 0.0im\n",
       " -0.5 - 0.866im"
      ]
     },
     "execution_count": 72,
     "metadata": {},
     "output_type": "execute_result"
    }
   ],
   "source": [
    "evectors = h3c(2π*[-1/3, 1/3])[2]\n",
    "round.(np.einsum(\"ik, ij, jk-> k\", conj.(evectors), R3, evectors), digits=3)"
   ]
  },
  {
   "cell_type": "code",
   "execution_count": 70,
   "metadata": {},
   "outputs": [
    {
     "data": {
      "text/plain": [
       "3-element Vector{ComplexF64}:\n",
       " -0.5 - 0.866im\n",
       "  1.0 + 0.0im\n",
       " -0.5 + 0.866im"
      ]
     },
     "execution_count": 70,
     "metadata": {},
     "output_type": "execute_result"
    }
   ],
   "source": [
    "evectors = h3c(2π*[1/3, 2/3])[2]\n",
    "round.(np.einsum(\"ik, ij, jk-> k\", conj.(evectors), R3, evectors), digits=3)"
   ]
  },
  {
   "cell_type": "code",
   "execution_count": 62,
   "metadata": {},
   "outputs": [
    {
     "data": {
      "text/plain": [
       "BandRepSet (⋕13): 6 BandReps, sampling 8 LGIrreps (spin-1 w/ TR)\n",
       "──────┬────────────────────────\n",
       "\u001b[1m      \u001b[0m│\u001b[1m 1c \u001b[0m\u001b[1m 1c \u001b[0m\u001b[1m 1b \u001b[0m\u001b[1m 1b \u001b[0m\u001b[1m 1a \u001b[0m\u001b[1m 1a \u001b[0m\n",
       "\u001b[1m      \u001b[0m│\u001b[90m A  \u001b[0m\u001b[90m E  \u001b[0m\u001b[90m A  \u001b[0m\u001b[90m E  \u001b[0m\u001b[90m A  \u001b[0m\u001b[90m E  \u001b[0m\n",
       "──────┼────────────────────────\n",
       "\u001b[1m KA₁  \u001b[0m│\u001b[94m ·  \u001b[0m\u001b[94m 1  \u001b[0m\u001b[94m ·  \u001b[0m\u001b[94m 1  \u001b[0m\u001b[94m 1  \u001b[0m\u001b[94m ·  \u001b[0m\n",
       "\u001b[1m KA₂  \u001b[0m│\u001b[94m 1  \u001b[0m\u001b[94m ·  \u001b[0m\u001b[94m ·  \u001b[0m\u001b[94m 1  \u001b[0m\u001b[94m ·  \u001b[0m\u001b[94m 1  \u001b[0m\n",
       "\u001b[1m KA₃  \u001b[0m│\u001b[94m ·  \u001b[0m\u001b[94m 1  \u001b[0m\u001b[94m 1  \u001b[0m\u001b[94m ·  \u001b[0m\u001b[94m ·  \u001b[0m\u001b[94m 1  \u001b[0m\n",
       "\u001b[1m Γ₁   \u001b[0m│ 1   ·   1   ·   1   ·\n",
       "\u001b[1m Γ₂Γ₃ \u001b[0m│ ·   1   ·   1   ·   1\n",
       "\u001b[1m K₁   \u001b[0m│\u001b[94m ·  \u001b[0m\u001b[94m 1  \u001b[0m\u001b[94m ·  \u001b[0m\u001b[94m 1  \u001b[0m\u001b[94m 1  \u001b[0m\u001b[94m ·  \u001b[0m\n",
       "\u001b[1m K₂   \u001b[0m│\u001b[94m ·  \u001b[0m\u001b[94m 1  \u001b[0m\u001b[94m 1  \u001b[0m\u001b[94m ·  \u001b[0m\u001b[94m ·  \u001b[0m\u001b[94m 1  \u001b[0m\n",
       "\u001b[1m K₃   \u001b[0m│\u001b[94m 1  \u001b[0m\u001b[94m ·  \u001b[0m\u001b[94m ·  \u001b[0m\u001b[94m 1  \u001b[0m\u001b[94m ·  \u001b[0m\u001b[94m 1  \u001b[0m\n",
       "──────┼────────────────────────\n",
       "\u001b[1m μ    \u001b[0m│\u001b[93m 1  \u001b[0m\u001b[93m 2  \u001b[0m\u001b[93m 1  \u001b[0m\u001b[93m 2  \u001b[0m\u001b[93m 1  \u001b[0m\u001b[93m 2  \u001b[0m\n",
       "──────┴────────────────────────\n",
       "  KVecs (maximal only): KA, Γ, K"
      ]
     },
     "execution_count": 62,
     "metadata": {},
     "output_type": "execute_result"
    }
   ],
   "source": [
    "bandreps(13, 2)"
   ]
  },
  {
   "cell_type": "markdown",
   "metadata": {},
   "source": [
    "# C4 Symmetry"
   ]
  },
  {
   "cell_type": "code",
   "execution_count": 34,
   "metadata": {},
   "outputs": [
    {
     "data": {
      "text/plain": [
       "h4_2b (generic function with 2 methods)"
      ]
     },
     "execution_count": 34,
     "metadata": {},
     "output_type": "execute_result"
    }
   ],
   "source": [
    "# We use the Hamiltonian S88 in https://journals.aps.org/prb/supplemental/10.1103/PhysRevB.99.245151/SuppInfo_after_being_reviewed.pdf\n",
    "\n",
    "function h4_2b(k::Vector{<:Real})\n",
    "    t = 0.1\n",
    "    a_1 = [1, 1]\n",
    "    a_2 = [1, -1]\n",
    "    Hk = [0 t cis(dot(k, a_1)) t; t 0 t cis(dot(k, -a_2)); cis(dot(-k, a_1)) t 0 t; t cis(dot(k, a_2)) t 0]\n",
    "    Es, Us = np.linalg.eigh(Hk)\n",
    "    return Es, Us\n",
    "end"
   ]
  },
  {
   "cell_type": "code",
   "execution_count": 35,
   "metadata": {},
   "outputs": [],
   "source": [
    "kpath = Vector{Float64}[]\n",
    "N = 100\n",
    "for i in 1:N\n",
    "    push!(kpath, 2π*[1/2, 0]*i/N)\n",
    "end\n",
    "\n",
    "for i in 1:N\n",
    "    push!(kpath, 2π*[1/2, 0]+2π*[0, 1/2]*i/N)\n",
    "end\n",
    "\n",
    "for i in 1:N\n",
    "    push!(kpath, 2π*[1/2, 1/2]-2π*[1/2, 0]*i/N)\n",
    "end\n",
    "\n",
    "for i in 1:N\n",
    "    push!(kpath, 2π*[0, 1/2]-2π*[0, 1/2]*i/N)\n",
    "end"
   ]
  },
  {
   "cell_type": "code",
   "execution_count": 36,
   "metadata": {},
   "outputs": [
    {
     "data": {
      "image/png": "[encoded data removed]",
      "text/plain": [
       "Figure(PyObject <Figure size 640x480 with 1 Axes>)"
      ]
     },
     "metadata": {},
     "output_type": "display_data"
    },
    {
     "data": {
      "text/plain": [
       "(0.0, 399.0)"
      ]
     },
     "execution_count": 36,
     "metadata": {},
     "output_type": "execute_result"
    }
   ],
   "source": [
    "plot([x[1] for x in h4_2b.(kpath)], linestyle=\"dashed\", color = \"pink\");\n",
    "xticks([0, N-1, 2N-1, 3N-1, 4N-1], [\"Γ\", \"X\", \"M\", \"Y\", \"Γ\"])\n",
    "xlim(0, 4N-1)"
   ]
  },
  {
   "cell_type": "code",
   "execution_count": 37,
   "metadata": {},
   "outputs": [
    {
     "data": {
      "text/plain": [
       "4-element Vector{ComplexF64}:\n",
       "  0.0 + 0.0im\n",
       "  0.0 + 0.0im\n",
       " -1.0 + 0.0im\n",
       "  1.0 + 0.0im"
      ]
     },
     "execution_count": 37,
     "metadata": {},
     "output_type": "execute_result"
    }
   ],
   "source": [
    "R4 = [0 0 0 1; 1 0 0 0; 0 1 0 0; 0 0 1 0]\n",
    "R2 = R4*R4\n",
    "evectors = h4_2b([0, 0])[2]\n",
    "round.(np.einsum(\"ik, ij, jk-> k\", conj.(evectors), R4, evectors), digits=3)"
   ]
  },
  {
   "cell_type": "code",
   "execution_count": 38,
   "metadata": {},
   "outputs": [
    {
     "data": {
      "text/plain": [
       "4-element Vector{ComplexF64}:\n",
       " -1.0 + 0.0im\n",
       " -1.0 + 0.0im\n",
       "  1.0 + 0.0im\n",
       "  1.0 + 0.0im"
      ]
     },
     "execution_count": 38,
     "metadata": {},
     "output_type": "execute_result"
    }
   ],
   "source": [
    "evectors = h4_2b([0, 0])[2]\n",
    "round.(np.einsum(\"ik, ij, jk-> k\", conj.(evectors), R2, evectors), digits=3)"
   ]
  },
  {
   "cell_type": "code",
   "execution_count": 39,
   "metadata": {},
   "outputs": [
    {
     "data": {
      "text/plain": [
       "4-element Vector{ComplexF64}:\n",
       "  1.0 + 0.0im\n",
       "  1.0 + 0.0im\n",
       " -1.0 - 0.0im\n",
       " -1.0 + 0.0im"
      ]
     },
     "execution_count": 39,
     "metadata": {},
     "output_type": "execute_result"
    }
   ],
   "source": [
    "evectors = h4_2b(2π*[1/2, 0])[2]\n",
    "round.(np.einsum(\"ik, ij, jk-> k\", conj.(evectors), R2, evectors), digits=3)"
   ]
  },
  {
   "cell_type": "code",
   "execution_count": 40,
   "metadata": {},
   "outputs": [
    {
     "data": {
      "text/plain": [
       "4-element Vector{ComplexF64}:\n",
       "  0.0 - 0.0im\n",
       "  0.0 + 0.0im\n",
       " -1.0 + 0.0im\n",
       "  1.0 - 0.0im"
      ]
     },
     "execution_count": 40,
     "metadata": {},
     "output_type": "execute_result"
    }
   ],
   "source": [
    "evectors = h4_2b(2π*[1/2, 1/2])[2]\n",
    "round.(np.einsum(\"ik, ij, jk-> k\", conj.(evectors), R4, evectors), digits=3)"
   ]
  },
  {
   "cell_type": "code",
   "execution_count": 41,
   "metadata": {},
   "outputs": [
    {
     "data": {
      "text/plain": [
       "4-element Vector{ComplexF64}:\n",
       " -1.0 + 0.0im\n",
       " -1.0 - 0.0im\n",
       "  1.0 + 0.0im\n",
       "  1.0 + 0.0im"
      ]
     },
     "execution_count": 41,
     "metadata": {},
     "output_type": "execute_result"
    }
   ],
   "source": [
    "evectors = h4_2b(2π*[1/2, 1/2])[2]\n",
    "round.(np.einsum(\"ik, ij, jk-> k\", conj.(evectors), R2, evectors), digits=3)"
   ]
  },
  {
   "cell_type": "code",
   "execution_count": 29,
   "metadata": {},
   "outputs": [],
   "source": [
    "# From the above, we see that X_1^2 = 2\n",
    "# Also, M_1^4 = 0 \n",
    "# Also M_1^2 = 0 "
   ]
  },
  {
   "cell_type": "code",
   "execution_count": 30,
   "metadata": {},
   "outputs": [
    {
     "data": {
      "text/plain": [
       "BandRepSet (⋕10): 8 BandReps, sampling 8 LGIrreps (spin-1 w/ TR)\n",
       "──────┬────────────────────────────────\n",
       "\u001b[1m      \u001b[0m│\u001b[1m 2c \u001b[0m\u001b[1m 2c \u001b[0m\u001b[1m 1b \u001b[0m\u001b[1m 1b \u001b[0m\u001b[1m 1b \u001b[0m\u001b[1m 1a \u001b[0m\u001b[1m 1a \u001b[0m\u001b[1m 1a \u001b[0m\n",
       "\u001b[1m      \u001b[0m│\u001b[90m A  \u001b[0m\u001b[90m B  \u001b[0m\u001b[90m A  \u001b[0m\u001b[90m B  \u001b[0m\u001b[90m E  \u001b[0m\u001b[90m A  \u001b[0m\u001b[90m B  \u001b[0m\u001b[90m E  \u001b[0m\n",
       "──────┼────────────────────────────────\n",
       "\u001b[1m X₁   \u001b[0m│\u001b[94m 1  \u001b[0m\u001b[94m 1  \u001b[0m\u001b[94m ·  \u001b[0m\u001b[94m ·  \u001b[0m\u001b[94m 2  \u001b[0m\u001b[94m 1  \u001b[0m\u001b[94m 1  \u001b[0m\u001b[94m ·  \u001b[0m\n",
       "\u001b[1m X₂   \u001b[0m│\u001b[94m 1  \u001b[0m\u001b[94m 1  \u001b[0m\u001b[94m 1  \u001b[0m\u001b[94m 1  \u001b[0m\u001b[94m ·  \u001b[0m\u001b[94m ·  \u001b[0m\u001b[94m ·  \u001b[0m\u001b[94m 2  \u001b[0m\n",
       "\u001b[1m M₁   \u001b[0m│ ·   1   ·   1   ·   1   ·   ·\n",
       "\u001b[1m M₂   \u001b[0m│ ·   1   1   ·   ·   ·   1   ·\n",
       "\u001b[1m M₃M₄ \u001b[0m│ 1   ·   ·   ·   1   ·   ·   1\n",
       "\u001b[1m Γ₁   \u001b[0m│\u001b[94m 1  \u001b[0m\u001b[94m ·  \u001b[0m\u001b[94m 1  \u001b[0m\u001b[94m ·  \u001b[0m\u001b[94m ·  \u001b[0m\u001b[94m 1  \u001b[0m\u001b[94m ·  \u001b[0m\u001b[94m ·  \u001b[0m\n",
       "\u001b[1m Γ₂   \u001b[0m│\u001b[94m 1  \u001b[0m\u001b[94m ·  \u001b[0m\u001b[94m ·  \u001b[0m\u001b[94m 1  \u001b[0m\u001b[94m ·  \u001b[0m\u001b[94m ·  \u001b[0m\u001b[94m 1  \u001b[0m\u001b[94m ·  \u001b[0m\n",
       "\u001b[1m Γ₃Γ₄ \u001b[0m│\u001b[94m ·  \u001b[0m\u001b[94m 1  \u001b[0m\u001b[94m ·  \u001b[0m\u001b[94m ·  \u001b[0m\u001b[94m 1  \u001b[0m\u001b[94m ·  \u001b[0m\u001b[94m ·  \u001b[0m\u001b[94m 1  \u001b[0m\n",
       "──────┼────────────────────────────────\n",
       "\u001b[1m μ    \u001b[0m│\u001b[93m 2  \u001b[0m\u001b[93m 2  \u001b[0m\u001b[93m 1  \u001b[0m\u001b[93m 1  \u001b[0m\u001b[93m 2  \u001b[0m\u001b[93m 1  \u001b[0m\u001b[93m 1  \u001b[0m\u001b[93m 2  \u001b[0m\n",
       "──────┴────────────────────────────────\n",
       "  KVecs (maximal only): X, M, Γ"
      ]
     },
     "execution_count": 30,
     "metadata": {},
     "output_type": "execute_result"
    }
   ],
   "source": [
    "bandreps(10, 2)"
   ]
  },
  {
   "cell_type": "code",
   "execution_count": 33,
   "metadata": {},
   "outputs": [],
   "source": [
    "# So we see that the lowest two bands comprise the 1b|E representation"
   ]
  },
  {
   "cell_type": "markdown",
   "metadata": {},
   "source": [
    "# C2 Symmetry"
   ]
  },
  {
   "cell_type": "code",
   "execution_count": 50,
   "metadata": {},
   "outputs": [
    {
     "data": {
      "text/plain": [
       "h2_1b (generic function with 1 method)"
      ]
     },
     "execution_count": 50,
     "metadata": {},
     "output_type": "execute_result"
    }
   ],
   "source": [
    "# We use the Hamiltonian S85 in https://journals.aps.org/prb/supplemental/10.1103/PhysRevB.99.245151/SuppInfo_after_being_reviewed.pdf\n",
    "\n",
    "function h2_1b(k::Vector{<:Real})\n",
    "    tx = ty = 0.1\n",
    "    a_1 = [1, 0]\n",
    "    a_2 = [0, 1]\n",
    "    Hk = [0 cis(dot(k, a_1)) 0 cis(dot(k, a_2)); cis(dot(k, -a_1)) 0 cis(dot(k, a_2)) 0; 0 cis(dot(k, -a_2)) 0 cis(dot(k, -a_1)); cis(dot(k, -a_2)) 0 cis(dot(k, a_1)) 0]\n",
    "    Hk = Hk + [0 tx 0 ty; tx 0 ty 0; 0 ty 0 tx; ty 0 tx 0]\n",
    "    Es, Us = np.linalg.eigh(Hk)\n",
    "    return Es, Us\n",
    "end"
   ]
  },
  {
   "cell_type": "code",
   "execution_count": 53,
   "metadata": {},
   "outputs": [
    {
     "data": {
      "image/png": "[encoded data removed]",
      "text/plain": [
       "Figure(PyObject <Figure size 300x400 with 1 Axes>)"
      ]
     },
     "metadata": {},
     "output_type": "display_data"
    },
    {
     "data": {
      "text/plain": [
       "(0.0, 399.0)"
      ]
     },
     "execution_count": 53,
     "metadata": {},
     "output_type": "execute_result"
    }
   ],
   "source": [
    "figure(figsize=(3, 4))\n",
    "plot([x[1] for x in h2_1b.(kpath)], linestyle=\"dashed\", color = \"pink\");\n",
    "xticks([0, N-1, 2N-1, 3N-1, 4N-1], [\"Γ\", \"X\", \"M\", \"Y\", \"Γ\"])\n",
    "xlim(0, 4N-1)"
   ]
  },
  {
   "cell_type": "code",
   "execution_count": 55,
   "metadata": {},
   "outputs": [
    {
     "data": {
      "text/plain": [
       "4-element Vector{ComplexF64}:\n",
       "  1.0 + 0.0im\n",
       " -1.0 + 0.0im\n",
       " -1.0 + 0.0im\n",
       "  1.0 + 0.0im"
      ]
     },
     "execution_count": 55,
     "metadata": {},
     "output_type": "execute_result"
    }
   ],
   "source": [
    "evectors = h2_1b([0, 0])[2]\n",
    "round.(np.einsum(\"ik, ij, jk-> k\", conj.(evectors), R2, evectors), digits=3)"
   ]
  },
  {
   "cell_type": "code",
   "execution_count": 58,
   "metadata": {},
   "outputs": [
    {
     "data": {
      "text/plain": [
       "4-element Vector{ComplexF64}:\n",
       " -1.0 + 0.0im\n",
       "  1.0 + 0.0im\n",
       "  1.0 + 0.0im\n",
       " -1.0 + 0.0im"
      ]
     },
     "execution_count": 58,
     "metadata": {},
     "output_type": "execute_result"
    }
   ],
   "source": [
    "evectors = h2_1b(2π*[1/2, 0])[2]\n",
    "round.(np.einsum(\"ik, ij, jk-> k\", conj.(evectors), R2, evectors), digits=3)"
   ]
  },
  {
   "cell_type": "code",
   "execution_count": 59,
   "metadata": {},
   "outputs": [
    {
     "data": {
      "text/plain": [
       "4-element Vector{ComplexF64}:\n",
       " -1.0 + 0.0im\n",
       "  1.0 + 0.0im\n",
       "  1.0 + 0.0im\n",
       " -1.0 + 0.0im"
      ]
     },
     "execution_count": 59,
     "metadata": {},
     "output_type": "execute_result"
    }
   ],
   "source": [
    "evectors = h2_1b(2π*[0, 1/2])[2]\n",
    "round.(np.einsum(\"ik, ij, jk-> k\", conj.(evectors), R2, evectors), digits=3)"
   ]
  },
  {
   "cell_type": "code",
   "execution_count": 60,
   "metadata": {},
   "outputs": [
    {
     "data": {
      "text/plain": [
       "4-element Vector{ComplexF64}:\n",
       "  1.0 + 0.0im\n",
       " -1.0 - 0.0im\n",
       " -1.0 - 0.0im\n",
       "  1.0 + 0.0im"
      ]
     },
     "execution_count": 60,
     "metadata": {},
     "output_type": "execute_result"
    }
   ],
   "source": [
    "evectors = h2_1b(2π*[1/2, 1/2])[2]\n",
    "round.(np.einsum(\"ik, ij, jk-> k\", conj.(evectors), R2, evectors), digits=3)"
   ]
  },
  {
   "cell_type": "code",
   "execution_count": 61,
   "metadata": {},
   "outputs": [
    {
     "data": {
      "text/plain": [
       "BandRepSet (⋕2): 8 BandReps, sampling 8 LGIrreps (spin-1 w/ TR)\n",
       "────┬────────────────────────────────\n",
       "\u001b[1m    \u001b[0m│\u001b[1m 1d \u001b[0m\u001b[1m 1d \u001b[0m\u001b[1m 1c \u001b[0m\u001b[1m 1c \u001b[0m\u001b[1m 1b \u001b[0m\u001b[1m 1b \u001b[0m\u001b[1m 1a \u001b[0m\u001b[1m 1a \u001b[0m\n",
       "\u001b[1m    \u001b[0m│\u001b[90m A  \u001b[0m\u001b[90m B  \u001b[0m\u001b[90m A  \u001b[0m\u001b[90m B  \u001b[0m\u001b[90m A  \u001b[0m\u001b[90m B  \u001b[0m\u001b[90m A  \u001b[0m\u001b[90m B  \u001b[0m\n",
       "────┼────────────────────────────────\n",
       "\u001b[1m Y₁ \u001b[0m│\u001b[94m ·  \u001b[0m\u001b[94m 1  \u001b[0m\u001b[94m 1  \u001b[0m\u001b[94m ·  \u001b[0m\u001b[94m ·  \u001b[0m\u001b[94m 1  \u001b[0m\u001b[94m 1  \u001b[0m\u001b[94m ·  \u001b[0m\n",
       "\u001b[1m Y₂ \u001b[0m│\u001b[94m 1  \u001b[0m\u001b[94m ·  \u001b[0m\u001b[94m ·  \u001b[0m\u001b[94m 1  \u001b[0m\u001b[94m 1  \u001b[0m\u001b[94m ·  \u001b[0m\u001b[94m ·  \u001b[0m\u001b[94m 1  \u001b[0m\n",
       "\u001b[1m B₁ \u001b[0m│ ·   1   ·   1   1   ·   1   ·\n",
       "\u001b[1m B₂ \u001b[0m│ 1   ·   1   ·   ·   1   ·   1\n",
       "\u001b[1m A₁ \u001b[0m│\u001b[94m 1  \u001b[0m\u001b[94m ·  \u001b[0m\u001b[94m ·  \u001b[0m\u001b[94m 1  \u001b[0m\u001b[94m ·  \u001b[0m\u001b[94m 1  \u001b[0m\u001b[94m 1  \u001b[0m\u001b[94m ·  \u001b[0m\n",
       "\u001b[1m A₂ \u001b[0m│\u001b[94m ·  \u001b[0m\u001b[94m 1  \u001b[0m\u001b[94m 1  \u001b[0m\u001b[94m ·  \u001b[0m\u001b[94m 1  \u001b[0m\u001b[94m ·  \u001b[0m\u001b[94m ·  \u001b[0m\u001b[94m 1  \u001b[0m\n",
       "\u001b[1m Γ₁ \u001b[0m│ 1   ·   1   ·   1   ·   1   ·\n",
       "\u001b[1m Γ₂ \u001b[0m│ ·   1   ·   1   ·   1   ·   1\n",
       "────┼────────────────────────────────\n",
       "\u001b[1m μ  \u001b[0m│\u001b[93m 1  \u001b[0m\u001b[93m 1  \u001b[0m\u001b[93m 1  \u001b[0m\u001b[93m 1  \u001b[0m\u001b[93m 1  \u001b[0m\u001b[93m 1  \u001b[0m\u001b[93m 1  \u001b[0m\u001b[93m 1  \u001b[0m\n",
       "────┴────────────────────────────────\n",
       "  KVecs (maximal only): Y, B, A, Γ"
      ]
     },
     "execution_count": 61,
     "metadata": {},
     "output_type": "execute_result"
    }
   ],
   "source": [
    "bandreps(2, 2)"
   ]
  },
  {
   "cell_type": "code",
   "execution_count": 63,
   "metadata": {},
   "outputs": [],
   "source": [
    "#So we see that the lowest band is in the 1d|A representation"
   ]
  },
  {
   "cell_type": "markdown",
   "metadata": {},
   "source": [
    "# C6 Symmetry"
   ]
  },
  {
   "cell_type": "code",
   "execution_count": 72,
   "metadata": {},
   "outputs": [
    {
     "data": {
      "text/plain": [
       "h6_4b (generic function with 1 method)"
      ]
     },
     "execution_count": 72,
     "metadata": {},
     "output_type": "execute_result"
    }
   ],
   "source": [
    "# We use the Hamiltonian S92 in https://journals.aps.org/prb/supplemental/10.1103/PhysRevB.99.245151/SuppInfo_after_being_reviewed.pdf\n",
    "\n",
    "function h6_4b(k::Vector{<:Real})\n",
    "    t = 0.5\n",
    "    a_1 = [1, 0]\n",
    "    a_2 = [0, 1]\n",
    "    a_3 = a_1 - a_2\n",
    "    col1 = [0, t, cis(-dot(k, a_2)), 0, cis(dot(k, a_3)), t]\n",
    "    col2 = [t, 0, t, cis(dot(k, a_3)), 0, cis(dot(k, a_1))]\n",
    "    col3 = [cis(dot(k, a_2)), t, 0, t, cis(dot(k, a_1)), 0]\n",
    "    col4 = [0, cis(dot(k, -a_3)), t, 0, t, cis(dot(k, a_2))]\n",
    "    col5 = [cis(-dot(k, a_3)), 0, cis(-dot(k, a_1)), t, 0, t]\n",
    "    col6 = [t, cis(-dot(k, a_1)), 0, cis(-dot(k, a_2)), t, 0]\n",
    "    Hk = hcat(col1, col2, col3, col4, col5, col6)\n",
    "    Es, Us = np.linalg.eigh(Hk)\n",
    "    return Es, Us\n",
    "end"
   ]
  },
  {
   "cell_type": "code",
   "execution_count": 73,
   "metadata": {},
   "outputs": [],
   "source": [
    "kpath = Vector{Float64}[]\n",
    "N = 100\n",
    "for i in 1:N\n",
    "    push!(kpath, 2π*[-1/3, 1/3]*i/N)\n",
    "end\n",
    "\n",
    "for i in 1:N\n",
    "    push!(kpath, 2π*[-1/3, 1/3]+2π*[1/3, 1/2-1/3]*i/N)\n",
    "end\n",
    "\n",
    "for i in 1:N\n",
    "    push!(kpath, 2π*[0, 1/2]-2π*[0, 1/2]*i/N)\n",
    "end"
   ]
  },
  {
   "cell_type": "code",
   "execution_count": 74,
   "metadata": {},
   "outputs": [
    {
     "data": {
      "image/png": "[encoded data removed]",
      "text/plain": [
       "Figure(PyObject <Figure size 300x400 with 1 Axes>)"
      ]
     },
     "metadata": {},
     "output_type": "display_data"
    },
    {
     "data": {
      "text/plain": [
       "(0.0, 299.0)"
      ]
     },
     "execution_count": 74,
     "metadata": {},
     "output_type": "execute_result"
    }
   ],
   "source": [
    "figure(figsize=(3, 4))\n",
    "plot([x[1] for x in h6_4b.(kpath)], linestyle=\"dashed\", color = \"pink\");\n",
    "xticks([0, N-1, 2N-1, 3N-1], [\"Γ\", \"K\", \"M\", \"Γ\"])\n",
    "xlim(0, 3N-1)"
   ]
  },
  {
   "cell_type": "code",
   "execution_count": 78,
   "metadata": {},
   "outputs": [],
   "source": [
    "R6 = [0 0 0 0 0 1; 1 0 0 0 0 0; 0 1 0 0 0 0; 0 0 1 0 0 0; 0 0 0 1 0 0; 0 0 0 0 1 0];\n",
    "R3 = R6^2;\n",
    "R2 = R6^3;"
   ]
  },
  {
   "cell_type": "code",
   "execution_count": 80,
   "metadata": {},
   "outputs": [
    {
     "data": {
      "text/plain": [
       "6-element Vector{ComplexF64}:\n",
       "  1.0 + 0.0im\n",
       "  1.0 + 0.0im\n",
       " -1.0 + 0.0im\n",
       " -1.0 + 0.0im\n",
       " -1.0 + 0.0im\n",
       "  1.0 + 0.0im"
      ]
     },
     "execution_count": 80,
     "metadata": {},
     "output_type": "execute_result"
    }
   ],
   "source": [
    "evectors = h6_4b([0, 0])[2]\n",
    "round.(np.einsum(\"ik, ij, jk-> k\", conj.(evectors), R2, evectors), digits=3)"
   ]
  },
  {
   "cell_type": "code",
   "execution_count": 82,
   "metadata": {},
   "outputs": [
    {
     "data": {
      "text/plain": [
       "6-element Vector{ComplexF64}:\n",
       " -0.5 + 0.0im\n",
       " -0.5 + 0.0im\n",
       " -0.5 + 0.0im\n",
       " -0.5 + 0.0im\n",
       "  1.0 + 0.0im\n",
       "  1.0 + 0.0im"
      ]
     },
     "execution_count": 82,
     "metadata": {},
     "output_type": "execute_result"
    }
   ],
   "source": [
    "evectors = h6_4b([0, 0])[2]\n",
    "round.(np.einsum(\"ik, ij, jk-> k\", conj.(evectors), R3, evectors), digits=3)"
   ]
  },
  {
   "cell_type": "code",
   "execution_count": 81,
   "metadata": {},
   "outputs": [
    {
     "data": {
      "text/plain": [
       "6-element Vector{ComplexF64}:\n",
       " -1.0 + 0.0im\n",
       "  1.0 + 0.0im\n",
       " -1.0 + 0.0im\n",
       "  1.0 - 0.0im\n",
       "  1.0 + 0.0im\n",
       " -1.0 + 0.0im"
      ]
     },
     "execution_count": 81,
     "metadata": {},
     "output_type": "execute_result"
    }
   ],
   "source": [
    "evectors = h6_4b(2π*[0, 1/2])[2]\n",
    "round.(np.einsum(\"ik, ij, jk-> k\", conj.(evectors), R2, evectors), digits=3)"
   ]
  },
  {
   "cell_type": "code",
   "execution_count": 83,
   "metadata": {},
   "outputs": [
    {
     "data": {
      "text/plain": [
       "6-element Vector{ComplexF64}:\n",
       "  1.0 + 0.0im\n",
       " -0.5 - 0.495im\n",
       " -0.5 + 0.495im\n",
       "  1.0 - 0.0im\n",
       " -0.5 + 0.822im\n",
       " -0.5 - 0.822im"
      ]
     },
     "execution_count": 83,
     "metadata": {},
     "output_type": "execute_result"
    }
   ],
   "source": [
    "evectors = h6_4b(2π*[-1/3, 1/3])[2]\n",
    "round.(np.einsum(\"ik, ij, jk-> k\", conj.(evectors), R3, evectors), digits=3)"
   ]
  },
  {
   "cell_type": "code",
   "execution_count": 84,
   "metadata": {},
   "outputs": [
    {
     "data": {
      "text/plain": [
       "BandRepSet (⋕16): 8 BandReps, sampling 8 LGIrreps (spin-1 w/ TR)\n",
       "──────┬────────────────────────────────\n",
       "\u001b[1m      \u001b[0m│\u001b[1m 3c \u001b[0m\u001b[1m 3c \u001b[0m\u001b[1m 2b \u001b[0m\u001b[1m 2b \u001b[0m\u001b[1m 1a \u001b[0m\u001b[1m 1a \u001b[0m\u001b[1m 1a \u001b[0m\u001b[1m 1a \u001b[0m\n",
       "\u001b[1m      \u001b[0m│\u001b[90m A  \u001b[0m\u001b[90m B  \u001b[0m\u001b[90m A  \u001b[0m\u001b[90m E  \u001b[0m\u001b[90m A  \u001b[0m\u001b[90m B  \u001b[0m\u001b[90m E₁ \u001b[0m\u001b[90m E₂ \u001b[0m\n",
       "──────┼────────────────────────────────\n",
       "\u001b[1m M₁   \u001b[0m│\u001b[94m 1  \u001b[0m\u001b[94m 2  \u001b[0m\u001b[94m 1  \u001b[0m\u001b[94m 2  \u001b[0m\u001b[94m 1  \u001b[0m\u001b[94m ·  \u001b[0m\u001b[94m 2  \u001b[0m\u001b[94m ·  \u001b[0m\n",
       "\u001b[1m M₂   \u001b[0m│\u001b[94m 2  \u001b[0m\u001b[94m 1  \u001b[0m\u001b[94m 1  \u001b[0m\u001b[94m 2  \u001b[0m\u001b[94m ·  \u001b[0m\u001b[94m 1  \u001b[0m\u001b[94m ·  \u001b[0m\u001b[94m 2  \u001b[0m\n",
       "\u001b[1m Γ₁   \u001b[0m│ 1   ·   1   ·   1   ·   ·   ·\n",
       "\u001b[1m Γ₂   \u001b[0m│ ·   1   1   ·   ·   1   ·   ·\n",
       "\u001b[1m Γ₃Γ₅ \u001b[0m│ 1   ·   ·   1   ·   ·   1   ·\n",
       "\u001b[1m Γ₄Γ₆ \u001b[0m│ ·   1   ·   1   ·   ·   ·   1\n",
       "\u001b[1m K₁   \u001b[0m│\u001b[94m 1  \u001b[0m\u001b[94m 1  \u001b[0m\u001b[94m ·  \u001b[0m\u001b[94m 2  \u001b[0m\u001b[94m 1  \u001b[0m\u001b[94m 1  \u001b[0m\u001b[94m ·  \u001b[0m\u001b[94m ·  \u001b[0m\n",
       "\u001b[1m K₂K₃ \u001b[0m│\u001b[94m 1  \u001b[0m\u001b[94m 1  \u001b[0m\u001b[94m 1  \u001b[0m\u001b[94m 1  \u001b[0m\u001b[94m ·  \u001b[0m\u001b[94m ·  \u001b[0m\u001b[94m 1  \u001b[0m\u001b[94m 1  \u001b[0m\n",
       "──────┼────────────────────────────────\n",
       "\u001b[1m μ    \u001b[0m│\u001b[93m 3  \u001b[0m\u001b[93m 3  \u001b[0m\u001b[93m 2  \u001b[0m\u001b[93m 4  \u001b[0m\u001b[93m 1  \u001b[0m\u001b[93m 1  \u001b[0m\u001b[93m 2  \u001b[0m\u001b[93m 2  \u001b[0m\n",
       "──────┴────────────────────────────────\n",
       "  KVecs (maximal only): M, Γ, K"
      ]
     },
     "execution_count": 84,
     "metadata": {},
     "output_type": "execute_result"
    }
   ],
   "source": [
    "bandreps(16, 2)"
   ]
  },
  {
   "cell_type": "code",
   "execution_count": 88,
   "metadata": {},
   "outputs": [],
   "source": [
    "#So we see that the lowest four bands are in the 2b|E representation"
   ]
  },
  {
   "cell_type": "code",
   "execution_count": null,
   "metadata": {},
   "outputs": [],
   "source": []
  }
 ],
 "metadata": {
  "kernelspec": {
   "display_name": "Julia 1.7 Kernel 1.7.2",
   "language": "julia",
   "name": "julia-1.7-kernel-1.7"
  },
  "language_info": {
   "file_extension": ".jl",
   "mimetype": "application/julia",
   "name": "julia",
   "version": "1.7.2"
  },
  "latex_envs": {
   "LaTeX_envs_menu_present": true,
   "autoclose": false,
   "autocomplete": true,
   "bibliofile": "biblio.bib",
   "cite_by": "apalike",
   "current_citInitial": 1,
   "eqLabelWithNumbers": true,
   "eqNumInitial": 1,
   "hotkeys": {
    "equation": "Ctrl-E",
    "itemize": "Ctrl-I"
   },
   "labels_anchors": false,
   "latex_user_defs": false,
   "report_style_numbering": false,
   "user_envs_cfg": false
  },
  "toc": {
   "base_numbering": 1,
   "nav_menu": {},
   "number_sections": true,
   "sideBar": true,
   "skip_h1_title": false,
   "title_cell": "Table of Contents",
   "title_sidebar": "Contents",
   "toc_cell": false,
   "toc_position": {},
   "toc_section_display": true,
   "toc_window_display": false
  },
  "varInspector": {
   "cols": {
    "lenName": 16,
    "lenType": 16,
    "lenVar": 40
   },
   "kernels_config": {
    "python": {
     "delete_cmd_postfix": "",
     "delete_cmd_prefix": "del ",
     "library": "var_list.py",
     "varRefreshCmd": "print(var_dic_list())"
    },
    "r": {
     "delete_cmd_postfix": ") ",
     "delete_cmd_prefix": "rm(",
     "library": "var_list.r",
     "varRefreshCmd": "cat(var_dic_list()) "
    }
   },
   "types_to_exclude": [
    "module",
    "function",
    "builtin_function_or_method",
    "instance",
    "_Feature"
   ],
   "window_display": false
  }
 },
 "nbformat": 4,
 "nbformat_minor": 2
}
