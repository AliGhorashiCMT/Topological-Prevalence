{
 "cells": [
  {
   "cell_type": "code",
   "execution_count": 61,
   "metadata": {},
   "outputs": [
    {
     "data": {
      "text/plain": [
       "PyObject <module 'numpy' from '/home/gridsan/aligho/.local/lib/python3.8/site-packages/numpy/__init__.py'>"
      ]
     },
     "execution_count": 61,
     "metadata": {},
     "output_type": "execute_result"
    }
   ],
   "source": [
    "using LinearAlgebra, PyCall, PyPlot, Crystalline\n",
    "np = pyimport(\"numpy\")"
   ]
  },
  {
   "cell_type": "code",
   "execution_count": 65,
   "metadata": {},
   "outputs": [
    {
     "data": {
      "text/plain": [
       "h3c (generic function with 1 method)"
      ]
     },
     "execution_count": 65,
     "metadata": {},
     "output_type": "execute_result"
    }
   ],
   "source": [
    "function h3b(k::Vector{<:Real}) \n",
    "    t_0 = 0.5\n",
    "    a_1 = [1, 0]\n",
    "    a_2 = [0, 1]#[1/2, sqrt(3)/2]\n",
    "    a_3 = a_1 - a_2\n",
    "    Hk = [0 t_0 + cis(dot(k, a_2)) t_0 + cis(-dot(k, a_3)); t_0 + cis(-dot(k, a_2)) 0 t_0 + cis(-dot(k, a_1)); \n",
    "          t_0 + cis(dot(k, a_3)) t_0 + cis(dot(k, a_1)) 0]\n",
    "    Es, Us = np.linalg.eigh(Hk)\n",
    "    return Es, Us\n",
    "end\n",
    "\n",
    "function h3c(k::Vector{<:Real}) \n",
    "    t_0 = 0.5\n",
    "    a_1 = [1, 0]\n",
    "    a_2 = [0, 1]#[1/2, sqrt(3)/2]\n",
    "    a_3 = a_1 - a_2\n",
    "    Hk = [0 t_0 + cis(dot(k, a_1)) t_0 + cis(dot(k, a_2)); t_0 + cis(-dot(k, a_1)) 0 t_0 + cis(-dot(k, a_3)); \n",
    "          t_0 + cis(-dot(k, a_2)) t_0 + cis(dot(k, a_3)) 0]\n",
    "    Es, Us = np.linalg.eigh(Hk)\n",
    "    return Es, Us\n",
    "end"
   ]
  },
  {
   "cell_type": "code",
   "execution_count": 46,
   "metadata": {},
   "outputs": [],
   "source": [
    "kpath = Vector{Float64}[]\n",
    "\n",
    "N = 100\n",
    "for i in 1:N\n",
    "    push!(kpath, 2π*[-1/3, 1/3]*i/N)\n",
    "end\n",
    "\n",
    "for i in 1:N\n",
    "    push!(kpath, 2π*[-1/3, 1/3]+2π*[2/3, 1/3]*i/N)\n",
    "end\n",
    "\n",
    "for i in 1:N\n",
    "    push!(kpath, 2π*[1/3, 2/3]-2π*[1/3, 2/3]*i/N)\n",
    "end\n",
    "\n"
   ]
  },
  {
   "cell_type": "code",
   "execution_count": 67,
   "metadata": {},
   "outputs": [
    {
     "data": {
      "image/png": "[encoded data removed]",
      "text/plain": [
       "Figure(PyObject <Figure size 640x480 with 1 Axes>)"
      ]
     },
     "metadata": {},
     "output_type": "display_data"
    }
   ],
   "source": [
    "plot([x[1] for x in h3b.(kpath)]);\n",
    "plot([x[1] for x in h3c.(kpath)], linestyle=\"dashed\");"
   ]
  },
  {
   "cell_type": "code",
   "execution_count": 68,
   "metadata": {},
   "outputs": [
    {
     "data": {
      "text/plain": [
       "3-element Vector{ComplexF64}:\n",
       " -0.5 + 0.0im\n",
       " -0.5 + 0.0im\n",
       "  1.0 + 0.0im"
      ]
     },
     "execution_count": 68,
     "metadata": {},
     "output_type": "execute_result"
    }
   ],
   "source": [
    "R3 = [0 0 1; 1 0 0; 0 1 0]\n",
    "evectors = h3c([0, 0])[2]\n",
    "round.(np.einsum(\"ik, ij, jk-> k\", conj.(evectors), R3, evectors), digits=3)"
   ]
  },
  {
   "cell_type": "code",
   "execution_count": 72,
   "metadata": {},
   "outputs": [
    {
     "data": {
      "text/plain": [
       "3-element Vector{ComplexF64}:\n",
       " -0.5 + 0.866im\n",
       "  1.0 - 0.0im\n",
       " -0.5 - 0.866im"
      ]
     },
     "execution_count": 72,
     "metadata": {},
     "output_type": "execute_result"
    }
   ],
   "source": [
    "evectors = h3c(2π*[-1/3, 1/3])[2]\n",
    "round.(np.einsum(\"ik, ij, jk-> k\", conj.(evectors), R3, evectors), digits=3)"
   ]
  },
  {
   "cell_type": "code",
   "execution_count": 70,
   "metadata": {},
   "outputs": [
    {
     "data": {
      "text/plain": [
       "3-element Vector{ComplexF64}:\n",
       " -0.5 - 0.866im\n",
       "  1.0 + 0.0im\n",
       " -0.5 + 0.866im"
      ]
     },
     "execution_count": 70,
     "metadata": {},
     "output_type": "execute_result"
    }
   ],
   "source": [
    "evectors = h3c(2π*[1/3, 2/3])[2]\n",
    "round.(np.einsum(\"ik, ij, jk-> k\", conj.(evectors), R3, evectors), digits=3)"
   ]
  },
  {
   "cell_type": "code",
   "execution_count": 62,
   "metadata": {},
   "outputs": [
    {
     "data": {
      "text/plain": [
       "BandRepSet (⋕13): 6 BandReps, sampling 8 LGIrreps (spin-1 w/ TR)\n",
       "──────┬────────────────────────\n",
       "\u001b[1m      \u001b[0m│\u001b[1m 1c \u001b[0m\u001b[1m 1c \u001b[0m\u001b[1m 1b \u001b[0m\u001b[1m 1b \u001b[0m\u001b[1m 1a \u001b[0m\u001b[1m 1a \u001b[0m\n",
       "\u001b[1m      \u001b[0m│\u001b[90m A  \u001b[0m\u001b[90m E  \u001b[0m\u001b[90m A  \u001b[0m\u001b[90m E  \u001b[0m\u001b[90m A  \u001b[0m\u001b[90m E  \u001b[0m\n",
       "──────┼────────────────────────\n",
       "\u001b[1m KA₁  \u001b[0m│\u001b[94m ·  \u001b[0m\u001b[94m 1  \u001b[0m\u001b[94m ·  \u001b[0m\u001b[94m 1  \u001b[0m\u001b[94m 1  \u001b[0m\u001b[94m ·  \u001b[0m\n",
       "\u001b[1m KA₂  \u001b[0m│\u001b[94m 1  \u001b[0m\u001b[94m ·  \u001b[0m\u001b[94m ·  \u001b[0m\u001b[94m 1  \u001b[0m\u001b[94m ·  \u001b[0m\u001b[94m 1  \u001b[0m\n",
       "\u001b[1m KA₃  \u001b[0m│\u001b[94m ·  \u001b[0m\u001b[94m 1  \u001b[0m\u001b[94m 1  \u001b[0m\u001b[94m ·  \u001b[0m\u001b[94m ·  \u001b[0m\u001b[94m 1  \u001b[0m\n",
       "\u001b[1m Γ₁   \u001b[0m│ 1   ·   1   ·   1   ·\n",
       "\u001b[1m Γ₂Γ₃ \u001b[0m│ ·   1   ·   1   ·   1\n",
       "\u001b[1m K₁   \u001b[0m│\u001b[94m ·  \u001b[0m\u001b[94m 1  \u001b[0m\u001b[94m ·  \u001b[0m\u001b[94m 1  \u001b[0m\u001b[94m 1  \u001b[0m\u001b[94m ·  \u001b[0m\n",
       "\u001b[1m K₂   \u001b[0m│\u001b[94m ·  \u001b[0m\u001b[94m 1  \u001b[0m\u001b[94m 1  \u001b[0m\u001b[94m ·  \u001b[0m\u001b[94m ·  \u001b[0m\u001b[94m 1  \u001b[0m\n",
       "\u001b[1m K₃   \u001b[0m│\u001b[94m 1  \u001b[0m\u001b[94m ·  \u001b[0m\u001b[94m ·  \u001b[0m\u001b[94m 1  \u001b[0m\u001b[94m ·  \u001b[0m\u001b[94m 1  \u001b[0m\n",
       "──────┼────────────────────────\n",
       "\u001b[1m μ    \u001b[0m│\u001b[93m 1  \u001b[0m\u001b[93m 2  \u001b[0m\u001b[93m 1  \u001b[0m\u001b[93m 2  \u001b[0m\u001b[93m 1  \u001b[0m\u001b[93m 2  \u001b[0m\n",
       "──────┴────────────────────────\n",
       "  KVecs (maximal only): KA, Γ, K"
      ]
     },
     "execution_count": 62,
     "metadata": {},
     "output_type": "execute_result"
    }
   ],
   "source": [
    "bandreps(13, 2)"
   ]
  },
  {
   "cell_type": "code",
   "execution_count": null,
   "metadata": {},
   "outputs": [],
   "source": []
  }
 ],
 "metadata": {
  "kernelspec": {
   "display_name": "Julia 1.7 Kernel 1.7.2",
   "language": "julia",
   "name": "julia-1.7-kernel-1.7"
  },
  "language_info": {
   "file_extension": ".jl",
   "mimetype": "application/julia",
   "name": "julia",
   "version": "1.7.2"
  },
  "latex_envs": {
   "LaTeX_envs_menu_present": true,
   "autoclose": false,
   "autocomplete": true,
   "bibliofile": "biblio.bib",
   "cite_by": "apalike",
   "current_citInitial": 1,
   "eqLabelWithNumbers": true,
   "eqNumInitial": 1,
   "hotkeys": {
    "equation": "Ctrl-E",
    "itemize": "Ctrl-I"
   },
   "labels_anchors": false,
   "latex_user_defs": false,
   "report_style_numbering": false,
   "user_envs_cfg": false
  },
  "toc": {
   "base_numbering": 1,
   "nav_menu": {},
   "number_sections": true,
   "sideBar": true,
   "skip_h1_title": false,
   "title_cell": "Table of Contents",
   "title_sidebar": "Contents",
   "toc_cell": false,
   "toc_position": {},
   "toc_section_display": true,
   "toc_window_display": false
  },
  "varInspector": {
   "cols": {
    "lenName": 16,
    "lenType": 16,
    "lenVar": 40
   },
   "kernels_config": {
    "python": {
     "delete_cmd_postfix": "",
     "delete_cmd_prefix": "del ",
     "library": "var_list.py",
     "varRefreshCmd": "print(var_dic_list())"
    },
    "r": {
     "delete_cmd_postfix": ") ",
     "delete_cmd_prefix": "rm(",
     "library": "var_list.r",
     "varRefreshCmd": "cat(var_dic_list()) "
    }
   },
   "types_to_exclude": [
    "module",
    "function",
    "builtin_function_or_method",
    "instance",
    "_Feature"
   ],
   "window_display": false
  }
 },
 "nbformat": 4,
 "nbformat_minor": 2
}
