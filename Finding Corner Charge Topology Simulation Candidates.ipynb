{
 "cells": [
  {
   "cell_type": "code",
   "execution_count": 1,
   "id": "a0e8e8ee",
   "metadata": {},
   "outputs": [],
   "source": [
    "using Crystalline, MPBUtils, JLD2, LinearAlgebra, StaticArrays, SymmetryBases, PyPlot, DelimitedFiles, PrettyTables"
   ]
  },
  {
   "cell_type": "code",
   "execution_count": 74,
   "id": "e5776bc6",
   "metadata": {},
   "outputs": [
    {
     "data": {
      "text/plain": [
       "PyObject <module 'numpy' from '/home/gridsan/aligho/.local/lib/python3.8/site-packages/numpy/__init__.py'>"
      ]
     },
     "execution_count": 74,
     "metadata": {},
     "output_type": "execute_result"
    }
   ],
   "source": [
    "using PyCall\n",
    "np = pyimport(\"numpy\")"
   ]
  },
  {
   "cell_type": "code",
   "execution_count": 2,
   "id": "d026c35c",
   "metadata": {},
   "outputs": [
    {
     "data": {
      "text/plain": [
       "polarization_sg12 (generic function with 2 methods)"
      ]
     },
     "execution_count": 2,
     "metadata": {},
     "output_type": "execute_result"
    }
   ],
   "source": [
    "include(\"./symeigs/corner_charges.jl\")"
   ]
  },
  {
   "cell_type": "code",
   "execution_count": 79,
   "id": "f6098de7",
   "metadata": {},
   "outputs": [
    {
     "data": {
      "text/plain": [
       "1"
      ]
     },
     "execution_count": 79,
     "metadata": {},
     "output_type": "execute_result"
    }
   ],
   "source": [
    "# First we create the k mesh\n",
    "\n",
    "ks = Vector{Vector{Float64}}()\n",
    "N = 50\n",
    "open(\"nodal_points/kpoints.sh\", \"w\") do io \n",
    "    write(io, \"kvecs=(list \")\n",
    "    for i in 1:N\n",
    "    for j in 1:N\n",
    "        kx = (i-1)/N - 0.5\n",
    "        ky = (j-1)/N - 0.5\n",
    "        write(io, \"(vector3 $(kx) $(ky)) \")\n",
    "        push!(ks, [kx, ky])\n",
    "    end\n",
    "    end\n",
    "    write(io, \")\")\n",
    "end"
   ]
  },
  {
   "cell_type": "code",
   "execution_count": 3,
   "id": "e65392d4",
   "metadata": {},
   "outputs": [
    {
     "name": "stdout",
     "output_type": "stream",
     "text": [
      "Analyzing mode: te\n",
      "\n",
      "Analyzing id_eps : 1\n",
      "Analyzing id_eps : 2\n",
      "Analyzing id_eps : 3\n",
      "Analyzing mode: tm\n",
      "\n",
      "Analyzing id_eps : 1\n",
      "Analyzing id_eps : 2\n",
      "Analyzing id_eps : 3\n"
     ]
    }
   ],
   "source": [
    "JLD2_DATA = Dict{Tuple{Integer, Integer, String}, Dict{String, Any}}()\n",
    "sg = 10\n",
    "for mode in [\"te\", \"tm\"]\n",
    "    println(\"Analyzing mode: $mode\\n\")\n",
    "    flush(stdout)\n",
    "    for id_eps in 1:3\n",
    "        println(\"Analyzing id_eps : \", id_eps)\n",
    "        flush(stdout)\n",
    "        dir = \"./symeigs/output/sg$(sg)/eps$(id_eps)/$(mode)/\"\n",
    "        filename = dir*\"sg$(sg)-epsid$(id_eps)-res64-$(mode).jld2\"\n",
    "        loaded_data = load(filename)\n",
    "        JLD2_DATA[(sg, id_eps, mode)] = loaded_data\n",
    "    end\n",
    "end\n"
   ]
  },
  {
   "cell_type": "code",
   "execution_count": 103,
   "id": "4761f092",
   "metadata": {},
   "outputs": [],
   "source": [
    "cumsummariesv = JLD2_DATA[10, 3, \"tm\"][\"cumsummariesv\"];"
   ]
  },
  {
   "cell_type": "code",
   "execution_count": 105,
   "id": "b9e6c4eb",
   "metadata": {},
   "outputs": [
    {
     "data": {
      "text/plain": [
       "23-element Vector{BandSummary}:\n",
       " 1-band (nontrivial): [X₁, M₂, Γ₁]\n",
       " 2-band (trivial): [X₁+X₂, M₁+M₂, 2Γ₁]\n",
       " 4-band (trivial): [X₁+3X₂, M₁+M₂+M₃M₄, 2Γ₁+Γ₃Γ₄]\n",
       " 5-band (trivial): [2X₁+3X₂, M₁+2M₂+M₃M₄, 2Γ₁+Γ₂+Γ₃Γ₄]\n",
       " 7-band (trivial): [3X₁+4X₂, M₁+2M₂+2M₃M₄, 3Γ₁+2Γ₂+Γ₃Γ₄]\n",
       " 10-band (nontrivial): [5X₁+5X₂, 2M₁+2M₂+3M₃M₄, 4Γ₁+2Γ₂+2Γ₃Γ₄]\n",
       " 12-band (nontrivial): [6X₁+6X₂, 3M₁+3M₂+3M₃M₄, 4Γ₁+2Γ₂+3Γ₃Γ₄]\n",
       " 15-band (trivial): [8X₁+7X₂, 3M₁+4M₂+4M₃M₄, 4Γ₁+3Γ₂+4Γ₃Γ₄]\n",
       " 16-band (trivial): [8X₁+8X₂, 4M₁+4M₂+4M₃M₄, 4Γ₁+4Γ₂+4Γ₃Γ₄]\n",
       " 18-band (trivial): [9X₁+9X₂, 4M₁+4M₂+5M₃M₄, 5Γ₁+5Γ₂+4Γ₃Γ₄]\n",
       " 20-band (trivial): [10X₁+10X₂, 5M₁+5M₂+5M₃M₄, 5Γ₁+5Γ₂+5Γ₃Γ₄]\n",
       " 21-band (trivial): [10X₁+11X₂, 5M₁+6M₂+5M₃M₄, 6Γ₁+5Γ₂+5Γ₃Γ₄]\n",
       " 24-band (trivial): [12X₁+12X₂, 6M₁+6M₂+6M₃M₄, 6Γ₁+6Γ₂+6Γ₃Γ₄]\n",
       " 25-band (nontrivial): [12X₁+13X₂, 7M₁+6M₂+6M₃M₄, 7Γ₁+6Γ₂+6Γ₃Γ₄]\n",
       " 26-band (nontrivial): [13X₁+13X₂, 7M₁+7M₂+6M₃M₄, 7Γ₁+7Γ₂+6Γ₃Γ₄]\n",
       " 28-band (trivial): [14X₁+14X₂, 7M₁+7M₂+7M₃M₄, 7Γ₁+7Γ₂+7Γ₃Γ₄]\n",
       " 30-band (nontrivial): [14X₁+16X₂, 8M₁+8M₂+7M₃M₄, 7Γ₁+7Γ₂+8Γ₃Γ₄]\n",
       " 32-band (nontrivial): [15X₁+17X₂, 8M₁+8M₂+8M₃M₄, 8Γ₁+8Γ₂+8Γ₃Γ₄]\n",
       " 33-band (nontrivial): [16X₁+17X₂, 9M₁+8M₂+8M₃M₄, 9Γ₁+8Γ₂+8Γ₃Γ₄]\n",
       " 34-band (nontrivial): [17X₁+17X₂, 9M₁+9M₂+8M₃M₄, 9Γ₁+9Γ₂+8Γ₃Γ₄]\n",
       " 36-band (trivial): [18X₁+18X₂, 9M₁+9M₂+9M₃M₄, 9Γ₁+9Γ₂+9Γ₃Γ₄]\n",
       " 37-band (trivial): [19X₁+18X₂, 10M₁+9M₂+9M₃M₄, 10Γ₁+9Γ₂+9Γ₃Γ₄]\n",
       " 40-band (trivial): [20X₁+20X₂, 10M₁+10M₂+10M₃M₄, 10Γ₁+10Γ₂+10Γ₃Γ₄]"
      ]
     },
     "execution_count": 105,
     "metadata": {},
     "output_type": "execute_result"
    }
   ],
   "source": [
    "cumsummariesv[9588]"
   ]
  },
  {
   "cell_type": "code",
   "execution_count": 68,
   "id": "5c7133b6",
   "metadata": {},
   "outputs": [],
   "source": [
    "# Below we find candidates that are topological and without corner charge or polarization"
   ]
  },
  {
   "cell_type": "code",
   "execution_count": 69,
   "id": "2d47bc70",
   "metadata": {},
   "outputs": [
    {
     "name": "stdout",
     "output_type": "stream",
     "text": [
      "Iteration: 1000\n",
      "Iteration: 2000\n",
      "Iteration: 3000\n",
      "Iteration: 4000\n",
      "Iteration: 5000\n",
      "Iteration: 6000\n",
      "Iteration: 7000\n",
      "Iteration: 8000\n",
      "Iteration: 9000\n",
      "Iteration: 10000\n"
     ]
    }
   ],
   "source": [
    "usable_ids = Int[]\n",
    "for (i, cumsummary) in enumerate(cumsummariesv)\n",
    "    i % 1000 == 0 && println(\"Iteration: $i\");\n",
    "    flush(stdout)\n",
    "    length(cumsummary) >= 1 || continue\n",
    "    \n",
    "    band_summary = cumsummary[1]\n",
    "    #first_band_corner = corners(band_summary, wyckoffs(10, 2)[end])\n",
    "    #first_band_polarization = polarizations(band_summary, wyckoffs(10, 2)[end])\n",
    "\n",
    "    band_summary.topology == NONTRIVIAL || continue\n",
    "    band_summary.n[end] < 2 || continue\n",
    "\n",
    "    push!(usable_ids, i)\n",
    "    #(first_band_corner ≈ 0 && first_band_polarization ≈ zeros(2)) && push!(usable_ids, i)\n",
    "end"
   ]
  },
  {
   "cell_type": "code",
   "execution_count": 70,
   "id": "a3aada95",
   "metadata": {},
   "outputs": [
    {
     "data": {
      "text/plain": [
       "14-element Vector{Int64}:\n",
       "  392\n",
       "  742\n",
       "  795\n",
       " 1512\n",
       " 1931\n",
       " 2164\n",
       " 2536\n",
       " 3747\n",
       " 4106\n",
       " 4544\n",
       " 5162\n",
       " 5718\n",
       " 7986\n",
       " 9588"
      ]
     },
     "execution_count": 70,
     "metadata": {},
     "output_type": "execute_result"
    }
   ],
   "source": [
    "usable_ids"
   ]
  },
  {
   "cell_type": "code",
   "execution_count": 65,
   "id": "93cc56d8",
   "metadata": {},
   "outputs": [
    {
     "data": {
      "text/plain": [
       "23-element Vector{BandSummary}:\n",
       " 1-band (nontrivial): [X₁, M₂, Γ₁]\n",
       " 2-band (trivial): [X₁+X₂, M₁+M₂, 2Γ₁]\n",
       " 4-band (trivial): [X₁+3X₂, M₁+M₂+M₃M₄, 2Γ₁+Γ₃Γ₄]\n",
       " 5-band (trivial): [2X₁+3X₂, M₁+2M₂+M₃M₄, 2Γ₁+Γ₂+Γ₃Γ₄]\n",
       " 7-band (trivial): [3X₁+4X₂, M₁+2M₂+2M₃M₄, 3Γ₁+2Γ₂+Γ₃Γ₄]\n",
       " 10-band (nontrivial): [5X₁+5X₂, 2M₁+2M₂+3M₃M₄, 4Γ₁+2Γ₂+2Γ₃Γ₄]\n",
       " 12-band (nontrivial): [6X₁+6X₂, 3M₁+3M₂+3M₃M₄, 4Γ₁+2Γ₂+3Γ₃Γ₄]\n",
       " 15-band (trivial): [8X₁+7X₂, 3M₁+4M₂+4M₃M₄, 4Γ₁+3Γ₂+4Γ₃Γ₄]\n",
       " 16-band (trivial): [8X₁+8X₂, 4M₁+4M₂+4M₃M₄, 4Γ₁+4Γ₂+4Γ₃Γ₄]\n",
       " 18-band (trivial): [9X₁+9X₂, 4M₁+4M₂+5M₃M₄, 5Γ₁+5Γ₂+4Γ₃Γ₄]\n",
       " 20-band (trivial): [10X₁+10X₂, 5M₁+5M₂+5M₃M₄, 5Γ₁+5Γ₂+5Γ₃Γ₄]\n",
       " 21-band (trivial): [10X₁+11X₂, 5M₁+6M₂+5M₃M₄, 6Γ₁+5Γ₂+5Γ₃Γ₄]\n",
       " 24-band (trivial): [12X₁+12X₂, 6M₁+6M₂+6M₃M₄, 6Γ₁+6Γ₂+6Γ₃Γ₄]\n",
       " 25-band (nontrivial): [12X₁+13X₂, 7M₁+6M₂+6M₃M₄, 7Γ₁+6Γ₂+6Γ₃Γ₄]\n",
       " 26-band (nontrivial): [13X₁+13X₂, 7M₁+7M₂+6M₃M₄, 7Γ₁+7Γ₂+6Γ₃Γ₄]\n",
       " 28-band (trivial): [14X₁+14X₂, 7M₁+7M₂+7M₃M₄, 7Γ₁+7Γ₂+7Γ₃Γ₄]\n",
       " 30-band (nontrivial): [14X₁+16X₂, 8M₁+8M₂+7M₃M₄, 7Γ₁+7Γ₂+8Γ₃Γ₄]\n",
       " 32-band (nontrivial): [15X₁+17X₂, 8M₁+8M₂+8M₃M₄, 8Γ₁+8Γ₂+8Γ₃Γ₄]\n",
       " 33-band (nontrivial): [16X₁+17X₂, 9M₁+8M₂+8M₃M₄, 9Γ₁+8Γ₂+8Γ₃Γ₄]\n",
       " 34-band (nontrivial): [17X₁+17X₂, 9M₁+9M₂+8M₃M₄, 9Γ₁+9Γ₂+8Γ₃Γ₄]\n",
       " 36-band (trivial): [18X₁+18X₂, 9M₁+9M₂+9M₃M₄, 9Γ₁+9Γ₂+9Γ₃Γ₄]\n",
       " 37-band (trivial): [19X₁+18X₂, 10M₁+9M₂+9M₃M₄, 10Γ₁+9Γ₂+9Γ₃Γ₄]\n",
       " 40-band (trivial): [20X₁+20X₂, 10M₁+10M₂+10M₃M₄, 10Γ₁+10Γ₂+10Γ₃Γ₄]"
      ]
     },
     "execution_count": 65,
     "metadata": {},
     "output_type": "execute_result"
    }
   ],
   "source": [
    "cumsummariesv[usable_ids[end]]"
   ]
  },
  {
   "cell_type": "code",
   "execution_count": 114,
   "id": "7649bdf9",
   "metadata": {},
   "outputs": [],
   "source": [
    "bands = readdlm(\"./nodal_points/output/dim2-sg10-29588-res64-tm-dispersion.out\", ',')[:, 6:end]\n",
    "bands1 = bands[:, 1]\n",
    "bands2 = bands[:, 2]\n",
    "bands1_reshaped = reshape(bands1, (50, 50))\n",
    "bands2_reshaped = reshape(bands2, (50, 50));"
   ]
  },
  {
   "cell_type": "code",
   "execution_count": 115,
   "id": "61a582ed",
   "metadata": {},
   "outputs": [
    {
     "data": {
      "text/plain": [
       "4-element Vector{Vector{Float64}}:\n",
       " [-0.5, -0.48]\n",
       " [-0.5, 0.48]\n",
       " [-0.48, -0.5]\n",
       " [0.48, -0.5]"
      ]
     },
     "execution_count": 115,
     "metadata": {},
     "output_type": "execute_result"
    }
   ],
   "source": [
    "# Find the nodal points:\n",
    "ks[sortperm(bands2 - bands1)][1:4]"
   ]
  },
  {
   "cell_type": "code",
   "execution_count": 116,
   "id": "caaa5cd0",
   "metadata": {},
   "outputs": [
    {
     "data": {
      "text/plain": [
       "2500-element Vector{Float64}:\n",
       " 7.999999999980245e-6\n",
       " 7.999999999980245e-6\n",
       " 7.999999999980245e-6\n",
       " 7.999999999980245e-6\n",
       " 8.999999999981245e-6\n",
       " 2.2999999999995246e-5\n",
       " 2.2999999999995246e-5\n",
       " 2.2999999999995246e-5\n",
       " 2.2999999999995246e-5\n",
       " 3.600000000000825e-5\n",
       " 3.600000000000825e-5\n",
       " 3.600000000000825e-5\n",
       " 3.600000000000825e-5\n",
       " ⋮\n",
       " 0.258465\n",
       " 0.258465\n",
       " 0.258465\n",
       " 0.26518548999999997\n",
       " 0.26518548999999997\n",
       " 0.2651855\n",
       " 0.2651855\n",
       " 0.26860441\n",
       " 0.26860442\n",
       " 0.26860442\n",
       " 0.26860442\n",
       " 0.2765"
      ]
     },
     "execution_count": 116,
     "metadata": {},
     "output_type": "execute_result"
    }
   ],
   "source": [
    "sort(bands2-bands1)"
   ]
  },
  {
   "cell_type": "code",
   "execution_count": 112,
   "id": "566190b0",
   "metadata": {},
   "outputs": [
    {
     "data": {
      "text/plain": [
       "2-element Vector{Float64}:\n",
       " 0.5\n",
       " 0.48"
      ]
     },
     "execution_count": 112,
     "metadata": {},
     "output_type": "execute_result"
    }
   ],
   "source": [
    "[0 1; -1 0 ]^2*[-0.5, -0.48]"
   ]
  },
  {
   "cell_type": "code",
   "execution_count": 83,
   "id": "091f72ff",
   "metadata": {},
   "outputs": [
    {
     "data": {
      "text/plain": [
       "2-element Vector{Float64}:\n",
       " -0.5\n",
       " -0.48"
      ]
     },
     "execution_count": 83,
     "metadata": {},
     "output_type": "execute_result"
    }
   ],
   "source": [
    "ks[argmin(bands2-bands1)]"
   ]
  },
  {
   "cell_type": "code",
   "execution_count": 108,
   "id": "a4fdc0a7",
   "metadata": {},
   "outputs": [
    {
     "data": {
      "image/png": "[encoded data removed]",
      "text/plain": [
       "Figure(PyObject <Figure size 640x480 with 1 Axes>)"
      ]
     },
     "metadata": {},
     "output_type": "display_data"
    },
    {
     "data": {
      "text/plain": [
       "PyObject <matplotlib.image.AxesImage object at 0x7f76535a3490>"
      ]
     },
     "execution_count": 108,
     "metadata": {},
     "output_type": "execute_result"
    }
   ],
   "source": [
    "imshow(log.(np.roll(bands2_reshaped - bands1_reshaped, (0,0), axis=(0, 1))), cmap=\"hot\", interpolation=\"gaussian\")\n"
   ]
  },
  {
   "cell_type": "code",
   "execution_count": 97,
   "id": "f6c1ff10",
   "metadata": {},
   "outputs": [],
   "source": [
    "bands = readdlm(\"./nodal_points/output/dim2-sg10-20004-res64-te-dispersion.out\", ',')[:, 6:end]\n",
    "bands1 = bands[:, 1]\n",
    "bands2 = bands[:, 2]\n",
    "bands1_reshaped = reshape(bands1, (50, 50))\n",
    "bands2_reshaped = reshape(bands2, (50, 50));"
   ]
  },
  {
   "cell_type": "code",
   "execution_count": 109,
   "id": "7481b7d6",
   "metadata": {},
   "outputs": [
    {
     "data": {
      "text/plain": [
       "4-element Vector{Vector{Float64}}:\n",
       " [-0.5, -0.48]\n",
       " [-0.5, 0.48]\n",
       " [-0.48, -0.5]\n",
       " [0.48, -0.5]"
      ]
     },
     "execution_count": 109,
     "metadata": {},
     "output_type": "execute_result"
    }
   ],
   "source": [
    "ks[sortperm(bands2 - bands1)][1:4]"
   ]
  },
  {
   "cell_type": "code",
   "execution_count": null,
   "id": "1ec465ed",
   "metadata": {},
   "outputs": [],
   "source": [
    "usable_ids = Int[]\n",
    "for (i, cumsummary) in enumerate(cumsummariesv)\n",
    "    i % 1000 == 0 && println(\"Iteration: $i\");\n",
    "    flush(stdout)\n",
    "    length(cumsummary) >= 1 || continue\n",
    "    first_band_corner = corners(cumsummary[1], wyckoffs(10, 2)[end])\n",
    "    first_band_polarization = polarizations(cumsummary[1], wyckoffs(10, 2)[end])\n",
    "\n",
    "    cumsummariesv[1][1].topology == TRIVIAL || continue\n",
    "    (cumsummary[1].n)[end] < 2 || continue\n",
    "    (first_band_corner != 0 && first_band_polarization ≈ zeros(2)) && push!(usable_ids, i)\n",
    "end"
   ]
  },
  {
   "cell_type": "code",
   "execution_count": 184,
   "id": "192b3471",
   "metadata": {},
   "outputs": [
    {
     "name": "stdout",
     "output_type": "stream",
     "text": [
      "Iteration: 1000\n",
      "Iteration: 2000\n",
      "Iteration: 3000\n",
      "Iteration: 4000\n",
      "Iteration: 5000\n",
      "Iteration: 6000\n",
      "Iteration: 7000\n",
      "Iteration: 8000\n",
      "Iteration: 9000\n",
      "Iteration: 10000\n"
     ]
    }
   ],
   "source": [
    "usable_ids = Int[]\n",
    "for (i, cumsummary) in enumerate(cumsummariesv)\n",
    "    i % 1000 == 0 && println(\"Iteration: $i\");\n",
    "    flush(stdout)\n",
    "    length(cumsummary) >= 1 || continue\n",
    "    first_band_corner = corners(cumsummary[1], wyckoffs(10, 2)[end])\n",
    "    first_band_polarization = polarizations(cumsummary[1], wyckoffs(10, 2)[end])\n",
    "\n",
    "    cumsummariesv[1][1].topology == TRIVIAL || continue\n",
    "    (cumsummary[1].n)[end] < 2 || continue\n",
    "    (first_band_corner != 0 && first_band_polarization ≈ zeros(2)) && push!(usable_ids, i)\n",
    "end"
   ]
  },
  {
   "cell_type": "code",
   "execution_count": 168,
   "id": "bd4e0fd7",
   "metadata": {},
   "outputs": [
    {
     "data": {
      "text/plain": [
       "1518-element Vector{Int64}:\n",
       "    1\n",
       "    4\n",
       "   10\n",
       "   28\n",
       "   29\n",
       "   30\n",
       "   33\n",
       "   34\n",
       "   36\n",
       "   44\n",
       "   46\n",
       "   55\n",
       "   58\n",
       "    ⋮\n",
       " 9914\n",
       " 9915\n",
       " 9917\n",
       " 9928\n",
       " 9936\n",
       " 9950\n",
       " 9953\n",
       " 9969\n",
       " 9975\n",
       " 9980\n",
       " 9981\n",
       " 9985"
      ]
     },
     "execution_count": 168,
     "metadata": {},
     "output_type": "execute_result"
    }
   ],
   "source": [
    "usable_ids"
   ]
  },
  {
   "cell_type": "code",
   "execution_count": 167,
   "id": "9b429f2f",
   "metadata": {},
   "outputs": [
    {
     "data": {
      "text/plain": [
       "1518-element Vector{BandSummary}:\n",
       " 1-band (nontrivial): [X₁, M₂, Γ₁]\n",
       " 1-band (nontrivial): [X₁, M₂, Γ₁]\n",
       " 1-band (nontrivial): [X₁, M₂, Γ₁]\n",
       " 1-band (nontrivial): [X₁, M₂, Γ₁]\n",
       " 1-band (nontrivial): [X₁, M₂, Γ₁]\n",
       " 1-band (nontrivial): [X₁, M₂, Γ₁]\n",
       " 1-band (nontrivial): [X₁, M₂, Γ₁]\n",
       " 1-band (nontrivial): [X₁, M₂, Γ₁]\n",
       " 1-band (nontrivial): [X₁, M₂, Γ₁]\n",
       " 1-band (nontrivial): [X₁, M₂, Γ₁]\n",
       " 1-band (nontrivial): [X₁, M₂, Γ₁]\n",
       " 1-band (nontrivial): [X₁, M₂, Γ₁]\n",
       " 1-band (nontrivial): [X₁, M₂, Γ₁]\n",
       " ⋮\n",
       " 1-band (nontrivial): [X₁, M₂, Γ₁]\n",
       " 1-band (nontrivial): [X₁, M₂, Γ₁]\n",
       " 1-band (nontrivial): [X₁, M₂, Γ₁]\n",
       " 1-band (nontrivial): [X₁, M₂, Γ₁]\n",
       " 1-band (nontrivial): [X₁, M₂, Γ₁]\n",
       " 1-band (nontrivial): [X₁, M₂, Γ₁]\n",
       " 1-band (nontrivial): [X₁, M₂, Γ₁]\n",
       " 1-band (nontrivial): [X₁, M₂, Γ₁]\n",
       " 1-band (nontrivial): [X₁, M₂, Γ₁]\n",
       " 1-band (nontrivial): [X₁, M₂, Γ₁]\n",
       " 1-band (nontrivial): [X₁, M₂, Γ₁]\n",
       " 1-band (nontrivial): [X₁, M₂, Γ₁]"
      ]
     },
     "execution_count": 167,
     "metadata": {},
     "output_type": "execute_result"
    }
   ],
   "source": [
    "[x[1] for x in cumsummariesv[usable_ids]]"
   ]
  },
  {
   "cell_type": "code",
   "execution_count": 134,
   "id": "b2a6da93",
   "metadata": {},
   "outputs": [
    {
     "name": "stdout",
     "output_type": "stream",
     "text": [
      "0.2670788607129\n",
      "0.17807031169100135\n",
      "0.2576058310192497\n",
      "0.2526397103198552\n",
      "0.27734646956915954\n",
      "0.2495727097241213\n",
      "0.24854129636212813\n",
      "0.23965094785711213\n",
      "0.2736164570841343\n",
      "0.26052337046314544\n",
      "0.2349363570712274\n",
      "0.2638101173316356\n",
      "0.17145876862222573\n",
      "0.2715724989874443\n",
      "0.2805076798868703\n",
      "0.2501144325904017\n",
      "0.2584139150749928\n",
      "0.2462506086674241\n",
      "0.2869301915309581\n",
      "0.2826271676445893\n"
     ]
    }
   ],
   "source": [
    "for id in usable_ids\n",
    "    real_id = id + Int(2e4)\n",
    "    band_data = readdlm(\"./symeigs/output/sg10/eps3/tm/dim2-sg10-$(real_id)-res64-tm-dispersion.out\", ',')[:, 6:end]\n",
    "    band1_data = band_data[:, 1]\n",
    "    band2_data = band_data[:, 2]\n",
    "    println((maximum(band1_data) - minimum(band2_data))/maximum(band1_data))\n",
    "end"
   ]
  },
  {
   "cell_type": "code",
   "execution_count": 121,
   "id": "5d2faa00",
   "metadata": {},
   "outputs": [
    {
     "data": {
      "text/plain": [
       "0.25"
      ]
     },
     "execution_count": 121,
     "metadata": {},
     "output_type": "execute_result"
    }
   ],
   "source": [
    ".05/.2"
   ]
  },
  {
   "cell_type": "code",
   "execution_count": 105,
   "id": "4971cf53",
   "metadata": {},
   "outputs": [
    {
     "data": {
      "text/plain": [
       "Dict{String, Vector{LGIrrep{2}}} with 4 entries:\n",
       "  \"X\" => [LGIrrep{2}(\"X₁\", [1, 2]\u001b[90m ([0, 1/2])\u001b[39m, Matrix{ComplexF64}[[1.0+0…\n",
       "  \"M\" => [LGIrrep{2}(\"M₁\", [1, 2, 4⁺, 4⁻]\u001b[90m ([1/2, 1/2])\u001b[39m, Matrix{ComplexF…\n",
       "  \"Γ\" => [LGIrrep{2}(\"Γ₁\", [1, 2, 4⁺, 4⁻]\u001b[90m ([0, 0])\u001b[39m, Matrix{ComplexF64}[…\n",
       "  \"Ω\" => [LGIrrep{2}(\"Ω₁\", [1]\u001b[90m ([α, β])\u001b[39m, Matrix{ComplexF64}[[1.0+0.0im;…"
      ]
     },
     "execution_count": 105,
     "metadata": {},
     "output_type": "execute_result"
    }
   ],
   "source": [
    "lgirreps(10, 2)"
   ]
  },
  {
   "cell_type": "code",
   "execution_count": 135,
   "id": "5e4f5e9e",
   "metadata": {},
   "outputs": [
    {
     "data": {
      "text/plain": [
       "20-element Vector{Int64}:\n",
       " 20654\n",
       " 20795\n",
       " 22164\n",
       " 22391\n",
       " 22415\n",
       " 22585\n",
       " 22724\n",
       " 22885\n",
       " 23265\n",
       " 23572\n",
       " 24247\n",
       " 24543\n",
       " 25718\n",
       " 26299\n",
       " 26702\n",
       " 27057\n",
       " 27986\n",
       " 28090\n",
       " 28798\n",
       " 29588"
      ]
     },
     "execution_count": 135,
     "metadata": {},
     "output_type": "execute_result"
    }
   ],
   "source": [
    "usable_ids .+ 20000"
   ]
  },
  {
   "cell_type": "code",
   "execution_count": 90,
   "id": "aca185a9",
   "metadata": {},
   "outputs": [
    {
     "name": "stdout",
     "output_type": "stream",
     "text": [
      "Iteration: 1000\n",
      "Iteration: 2000\n",
      "Iteration: 3000\n",
      "Iteration: 4000\n",
      "Iteration: 5000\n",
      "Iteration: 6000\n",
      "Iteration: 7000\n",
      "Iteration: 8000\n",
      "Iteration: 9000\n",
      "Iteration: 10000\n"
     ]
    }
   ],
   "source": [
    "usable_ids_no_corner = Int[]\n",
    "for (i, cumsummary) in enumerate(cumsummariesv)\n",
    "    i % 1000 == 0 && println(\"Iteration: $i\");\n",
    "    flush(stdout)\n",
    "    length(cumsummary) >= 1 || continue\n",
    "    first_band_corner = corners(cumsummary[1], wyckoffs(10, 2)[end])\n",
    "    first_band_polarization = polarizations(cumsummary[1], wyckoffs(10, 2)[end])\n",
    "\n",
    "    cumsummariesv[1][1].topology == TRIVIAL || continue\n",
    "    (cumsummariesv[1][1].n)[end] < 2 || continue\n",
    "    (first_band_corner ≈ 0 && first_band_polarization ≈ zeros(2)) && push!(usable_ids_no_corner, i)\n",
    "end"
   ]
  },
  {
   "cell_type": "code",
   "execution_count": 91,
   "id": "fdd27bc1",
   "metadata": {},
   "outputs": [
    {
     "data": {
      "text/plain": [
       "4121-element Vector{Int64}:\n",
       "    6\n",
       "    7\n",
       "    9\n",
       "   11\n",
       "   13\n",
       "   15\n",
       "   17\n",
       "   18\n",
       "   19\n",
       "   20\n",
       "   24\n",
       "   38\n",
       "   39\n",
       "    ⋮\n",
       " 9973\n",
       " 9976\n",
       " 9982\n",
       " 9983\n",
       " 9984\n",
       " 9986\n",
       " 9988\n",
       " 9990\n",
       " 9992\n",
       " 9994\n",
       " 9997\n",
       " 9998"
      ]
     },
     "execution_count": 91,
     "metadata": {},
     "output_type": "execute_result"
    }
   ],
   "source": [
    "usable_ids_no_corner"
   ]
  },
  {
   "cell_type": "code",
   "execution_count": 40,
   "id": "c7fb78e0",
   "metadata": {},
   "outputs": [
    {
     "name": "stdout",
     "output_type": "stream",
     "text": [
      "Iteration: 1000\n",
      "0.0\n",
      "[0.5, 0.5]\n",
      "Iteration: 2000\n",
      "0.0\n",
      "[0.0, 0.0]\n",
      "Iteration: 3000\n",
      "0.25\n",
      "[0.5, 0.5]\n",
      "Iteration: 4000\n",
      "0.0\n",
      "[0.5, 0.5]\n",
      "Iteration: 5000\n",
      "0.25\n",
      "[0.5, 0.5]\n",
      "Iteration: 6000\n",
      "0.0\n",
      "[0.5, 0.5]\n",
      "Iteration: 7000\n",
      "0.25\n",
      "[0.5, 0.5]\n",
      "Iteration: 8000\n",
      "0.25\n",
      "[0.5, 0.5]\n",
      "Iteration: 9000\n",
      "0.25\n",
      "[0.5, 0.5]\n",
      "Iteration: 10000\n",
      "0.0\n",
      "[0.5, 0.5]\n"
     ]
    }
   ],
   "source": [
    "usable_ids = Int[]\n",
    "for (i, cumsummary) in enumerate(cumsummariesv)\n",
    "    i % 1000 == 0 && println(\"Iteration: $i\");\n",
    "    flush(stdout)\n",
    "    first_band_corner = corners(cumsummary[1], wyckoffs(10, 2)[end-1])\n",
    "    first_band_polarization = polarizations(cumsummary[1], wyckoffs(10, 2)[end-1])\n",
    "    i % 1000 == 0 && println(first_band_corner)\n",
    "    i % 1000 == 0 && println(first_band_polarization)\n",
    "\n",
    "    (first_band_corner != 0 && first_band_polarization == 0) && push!(usable_ids, i)\n",
    "end"
   ]
  },
  {
   "cell_type": "code",
   "execution_count": 182,
   "id": "836d159f",
   "metadata": {},
   "outputs": [
    {
     "data": {
      "text/plain": [
       "1"
      ]
     },
     "execution_count": 182,
     "metadata": {},
     "output_type": "execute_result"
    }
   ],
   "source": []
  },
  {
   "cell_type": "code",
   "execution_count": 170,
   "id": "969854f3",
   "metadata": {},
   "outputs": [
    {
     "data": {
      "text/plain": [
       "30×30 Matrix{Float64}:\n",
       " 0.193859  0.188463  0.182435  0.176634  …  0.176634  0.182435  0.188463\n",
       " 0.188463  0.194285  0.189277  0.183718     0.183727  0.189286  0.194285\n",
       " 0.182435  0.189286  0.195558  0.191027     0.191041  0.195558  0.189277\n",
       " 0.176634  0.183727  0.191041  0.197662     0.197662  0.191027  0.183718\n",
       " 0.171108  0.17843   0.185987  0.193641     0.19362   0.185973  0.178422\n",
       " 0.16589   0.173441  0.181221  0.189102  …  0.189083  0.181209  0.173433\n",
       " 0.161016  0.168792  0.176788  0.184874     0.184857  0.176777  0.168785\n",
       " 0.15652   0.164515  0.172719  0.180997     0.180982  0.172709  0.164509\n",
       " 0.152438  0.160644  0.169042  0.1775       0.177488  0.169034  0.160638\n",
       " 0.148807  0.157208  0.165787  0.17441      0.174399  0.16578   0.157203\n",
       " 0.145661  0.154239  0.162979  0.171749  …  0.17174   0.162974  0.154235\n",
       " 0.143033  0.151765  0.160644  0.169539     0.169532  0.16064   0.151762\n",
       " 0.140955  0.149811  0.158803  0.167799     0.167794  0.1588    0.149809\n",
       " ⋮                                       ⋱                      \n",
       " 0.140955  0.149809  0.1588    0.167794     0.167799  0.158803  0.149811\n",
       " 0.143033  0.151762  0.16064   0.169532     0.169539  0.160644  0.151765\n",
       " 0.145661  0.154235  0.162974  0.17174   …  0.171749  0.162979  0.154239\n",
       " 0.148807  0.157203  0.16578   0.174399     0.17441   0.165787  0.157208\n",
       " 0.152438  0.160638  0.169034  0.177488     0.1775    0.169042  0.160644\n",
       " 0.15652   0.164509  0.172709  0.180982     0.180997  0.172719  0.164515\n",
       " 0.161016  0.168785  0.176777  0.184857     0.184874  0.176788  0.168792\n",
       " 0.16589   0.173433  0.181209  0.189083  …  0.189102  0.181221  0.173441\n",
       " 0.171108  0.178422  0.185973  0.19362      0.193641  0.185987  0.17843\n",
       " 0.176634  0.183718  0.191027  0.197662     0.197662  0.191041  0.183727\n",
       " 0.182435  0.189277  0.195558  0.191041     0.191027  0.195558  0.189286\n",
       " 0.188463  0.194285  0.189286  0.183727     0.183718  0.189277  0.194285"
      ]
     },
     "execution_count": 170,
     "metadata": {},
     "output_type": "execute_result"
    }
   ],
   "source": [
    "bands = readdlm(\"./nodal_points/output/dim2-sg10-28798-res64-tm-dispersion.out\", ',')[:, 6:end]\n",
    "bands1_reshaped = reshape(bands[:, 1], (30, 30))\n",
    "bands2_reshaped = reshape(bands[:, 2], (30, 30))"
   ]
  },
  {
   "cell_type": "code",
   "execution_count": 174,
   "id": "1c65c213",
   "metadata": {},
   "outputs": [
    {
     "data": {
      "image/png": "[encoded data removed]",
      "text/plain": [
       "Figure(PyObject <Figure size 640x480 with 1 Axes>)"
      ]
     },
     "metadata": {},
     "output_type": "display_data"
    },
    {
     "data": {
      "text/plain": [
       "PyObject <matplotlib.image.AxesImage object at 0x7fd9973b6bb0>"
      ]
     },
     "execution_count": 174,
     "metadata": {},
     "output_type": "execute_result"
    }
   ],
   "source": [
    "imshow(log.(bands2_reshaped .- bands1_reshaped))"
   ]
  },
  {
   "cell_type": "code",
   "execution_count": 99,
   "id": "a1090f00",
   "metadata": {},
   "outputs": [
    {
     "data": {
      "text/plain": [
       "50×50 Matrix{Float64}:\n",
       " 0.481494  0.479485  0.474076  0.466446  …  0.466457  0.474087  0.479497\n",
       " 0.479485  0.47764   0.47247   0.465096     0.465299  0.472583  0.477644\n",
       " 0.474076  0.472577  0.468124  0.461502     0.461691  0.468128  0.472474\n",
       " 0.466446  0.465291  0.461687  0.456095     0.456098  0.461506  0.4651\n",
       " 0.457542  0.456691  0.453885  0.449391     0.449146  0.453528  0.456428\n",
       " 0.447943  0.447364  0.445289  0.441878  …  0.441381  0.444776  0.447037\n",
       " 0.437994  0.437672  0.436297  0.433956     0.433222  0.435639  0.437284\n",
       " 0.427907  0.427852  0.427193  0.425948     0.424993  0.426394  0.427397\n",
       " 0.417824  0.418075  0.418207  0.418122     0.416961  0.417262  0.417543\n",
       " 0.407852  0.408487  0.409547  0.41071      0.409367  0.408449  0.407858\n",
       " 0.398073  0.399241  0.401433  0.403907  …  0.402418  0.400178  0.398485\n",
       " 0.388558  0.390541  0.394096  0.397855     0.396273  0.392699  0.389611\n",
       " 0.379376  0.382712  0.387745  0.392615     0.391007  0.386262  0.381564\n",
       " ⋮                                       ⋱                      \n",
       " 0.379381  0.381563  0.386259  0.391004     0.392615  0.387745  0.382714\n",
       " 0.388563  0.389612  0.392698  0.396271     0.397855  0.394097  0.390544\n",
       " 0.398078  0.398487  0.400178  0.402417  …  0.403909  0.401436  0.399245\n",
       " 0.407858  0.407862  0.408451  0.409367     0.410712  0.409551  0.408492\n",
       " 0.417831  0.417547  0.417265  0.416963     0.418126  0.418212  0.418081\n",
       " 0.427914  0.427402  0.426399  0.424996     0.425954  0.4272    0.427859\n",
       " 0.438002  0.437289  0.435645  0.433227     0.433963  0.436305  0.437681\n",
       " 0.447952  0.447044  0.444783  0.441387  …  0.441887  0.445299  0.447374\n",
       " 0.457551  0.456436  0.453536  0.449153     0.449402  0.453897  0.456704\n",
       " 0.466457  0.465109  0.461515  0.456105     0.456109  0.461701  0.465306\n",
       " 0.474087  0.472485  0.468138  0.461697     0.461518  0.468141  0.472594\n",
       " 0.479497  0.477655  0.472588  0.4653       0.465113  0.472489  0.477659"
      ]
     },
     "execution_count": 99,
     "metadata": {},
     "output_type": "execute_result"
    }
   ],
   "source": [
    "bands = readdlm(\"./nodal_points/output/dim2-sg10-20004-res64-te-dispersion.out\", ',')[:, 6:end]\n",
    "bands1_reshaped = reshape(bands[:, 1], (50, 50))\n",
    "bands2_reshaped = reshape(bands[:, 2], (50, 50))"
   ]
  },
  {
   "cell_type": "code",
   "execution_count": 100,
   "id": "227fca3c",
   "metadata": {},
   "outputs": [
    {
     "data": {
      "image/png": "[encoded data removed]",
      "text/plain": [
       "Figure(PyObject <Figure size 640x480 with 1 Axes>)"
      ]
     },
     "metadata": {},
     "output_type": "display_data"
    },
    {
     "data": {
      "text/plain": [
       "(Any[], Any[])"
      ]
     },
     "execution_count": 100,
     "metadata": {},
     "output_type": "execute_result"
    }
   ],
   "source": [
    "imshow(log.(np.roll(bands2_reshaped - bands1_reshaped, (0,0), axis=(0, 1))), cmap=\"hot\", interpolation=\"gaussian\")\n",
    "xticks(Float64[])\n",
    "yticks(Float64[])"
   ]
  },
  {
   "cell_type": "code",
   "execution_count": 197,
   "id": "8b9e776a",
   "metadata": {},
   "outputs": [
    {
     "data": {
      "text/plain": [
       "PyObject <module 'numpy' from '/home/gridsan/aligho/.local/lib/python3.8/site-packages/numpy/__init__.py'>"
      ]
     },
     "execution_count": 197,
     "metadata": {},
     "output_type": "execute_result"
    }
   ],
   "source": [
    "using PyCall; np = pyimport(\"numpy\")"
   ]
  },
  {
   "cell_type": "code",
   "execution_count": null,
   "id": "93a1ab23",
   "metadata": {},
   "outputs": [],
   "source": []
  }
 ],
 "metadata": {
  "kernelspec": {
   "display_name": "Julia 1.7 Kernel 1.7.2",
   "language": "julia",
   "name": "julia-1.7-kernel-1.7"
  },
  "language_info": {
   "file_extension": ".jl",
   "mimetype": "application/julia",
   "name": "julia",
   "version": "1.7.2"
  },
  "latex_envs": {
   "LaTeX_envs_menu_present": true,
   "autoclose": false,
   "autocomplete": true,
   "bibliofile": "biblio.bib",
   "cite_by": "apalike",
   "current_citInitial": 1,
   "eqLabelWithNumbers": true,
   "eqNumInitial": 1,
   "hotkeys": {
    "equation": "Ctrl-E",
    "itemize": "Ctrl-I"
   },
   "labels_anchors": false,
   "latex_user_defs": false,
   "report_style_numbering": false,
   "user_envs_cfg": false
  },
  "toc": {
   "base_numbering": 1,
   "nav_menu": {},
   "number_sections": true,
   "sideBar": true,
   "skip_h1_title": false,
   "title_cell": "Table of Contents",
   "title_sidebar": "Contents",
   "toc_cell": false,
   "toc_position": {},
   "toc_section_display": true,
   "toc_window_display": false
  },
  "varInspector": {
   "cols": {
    "lenName": 16,
    "lenType": 16,
    "lenVar": 40
   },
   "kernels_config": {
    "python": {
     "delete_cmd_postfix": "",
     "delete_cmd_prefix": "del ",
     "library": "var_list.py",
     "varRefreshCmd": "print(var_dic_list())"
    },
    "r": {
     "delete_cmd_postfix": ") ",
     "delete_cmd_prefix": "rm(",
     "library": "var_list.r",
     "varRefreshCmd": "cat(var_dic_list()) "
    }
   },
   "types_to_exclude": [
    "module",
    "function",
    "builtin_function_or_method",
    "instance",
    "_Feature"
   ],
   "window_display": false
  }
 },
 "nbformat": 4,
 "nbformat_minor": 5
}
