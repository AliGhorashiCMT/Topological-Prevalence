{
 "cells": [
  {
   "cell_type": "code",
   "execution_count": 2,
   "id": "20aaabc4",
   "metadata": {},
   "outputs": [],
   "source": [
    "using Crystalline, MPBUtils, SymmetryBases, Pkg, MPB_ANALYSIS;"
   ]
  },
  {
   "cell_type": "code",
   "execution_count": 3,
   "id": "7a531329",
   "metadata": {},
   "outputs": [],
   "source": [
    "lgirsd, all_irreps = extract_individual_multiplicities(\"dim2-sg12-1-res64-te\", dir=\"symeigs/output\", atol=1e-2, latestarts=Dict{String,Int}());"
   ]
  },
  {
   "cell_type": "code",
   "execution_count": 14,
   "id": "c132f563",
   "metadata": {},
   "outputs": [
    {
     "data": {
      "text/plain": [
       "Dict{String, Vector{Pair{UnitRange{Int64}, Vector{Int64}}}} with 3 entries:\n",
       "  \"M\" => [1:2=>[0, 0, 1], 3:4=>[0, 1, 0], 5:6=>[0, 1, 0], 7:8=>[0, 0, 1], 9:10=…\n",
       "  \"X\" => [1:2=>[1], 3:4=>[1], 5:6=>[1], 7:8=>[1], 9:10=>[1], 11:12=>[1], 13:14=…\n",
       "  \"Γ\" => [1:1=>[0, 0, 0, 1, 0], 2:2=>[1, 0, 0, 0, 0], 3:3=>[0, 1, 0, 0, 0], 4:6…"
      ]
     },
     "execution_count": 14,
     "metadata": {},
     "output_type": "execute_result"
    }
   ],
   "source": [
    "extract_individual_multiplicities(\"dim2-sg12-1-res64-te\", dir=\"symeigs/output\", atol=1e-2, latestarts=Dict{String,Int}())[1]"
   ]
  },
  {
   "cell_type": "code",
   "execution_count": 32,
   "id": "fa4abe9f",
   "metadata": {},
   "outputs": [
    {
     "data": {
      "text/plain": [
       "\"M₁\""
      ]
     },
     "execution_count": 32,
     "metadata": {},
     "output_type": "execute_result"
    }
   ],
   "source": [
    "get_lgirreps(16, 2)[\"M\"][1].cdml"
   ]
  },
  {
   "cell_type": "code",
   "execution_count": 40,
   "id": "e2a0020c",
   "metadata": {},
   "outputs": [
    {
     "data": {
      "text/plain": [
       "Dict{String, Vector{LGIrrep{2}}} with 3 entries:\n",
       "  \"M\" => [LGIrrep{2}(\"M₁M₃\", LittleGroup{2}[1, 2, 4⁺, 4⁻, {m₁₀|½,½}, {m₀₁|½,½},…\n",
       "  \"X\" => [LGIrrep{2}(\"X₁\", LittleGroup{2}[1, 2, {m₁₀|½,½}, {m₀₁|½,½}], Matrix{C…\n",
       "  \"Γ\" => [LGIrrep{2}(\"Γ₁\", LittleGroup{2}[1, 2, 4⁺, 4⁻, {m₁₀|½,½}, {m₀₁|½,½}, {…"
      ]
     },
     "execution_count": 40,
     "metadata": {},
     "output_type": "execute_result"
    }
   ],
   "source": [
    "all_irreps"
   ]
  },
  {
   "cell_type": "code",
   "execution_count": 89,
   "id": "c4b67799",
   "metadata": {},
   "outputs": [
    {
     "name": "stdout",
     "output_type": "stream",
     "text": [
      "Calculating spacegroup 15\n",
      "sg 15 of polarization te 354 lattices\n",
      "sg 15 of polarization te 0 lattices\n",
      "sg 15 of polarization tm 269 lattices\n",
      "sg 15 of polarization tm 0 lattices\n",
      "Calculating spacegroup 16\n",
      "sg 16 of polarization te 412 lattices\n",
      "sg 16 of polarization te 972 lattices\n",
      "sg 16 of polarization tm 346 lattices\n",
      "sg 16 of polarization tm 914 lattices\n",
      "Calculating spacegroup 17\n",
      "sg 17 of polarization te 371 lattices\n",
      "sg 17 of polarization te 0 lattices\n",
      "sg 17 of polarization tm 352 lattices\n",
      "sg 17 of polarization tm 0 lattices\n"
     ]
    }
   ],
   "source": [
    "for sg in 15:17\n",
    "    sg in (2, 6, 9, 10, 11, 12, 13, 14, 15, 16, 17) || continue\n",
    "    println(\"Calculating spacegroup $sg\"); flush(stdout)\n",
    "    has_fragile = Dict([(\"te\", 0), (\"tm\", 0)])\n",
    "    has_topological = Dict([(\"te\", 0), (\"tm\", 0)])\n",
    "    for id in 1:1000\n",
    "        for polarization in (\"te\", \"tm\")\n",
    "            try\n",
    "                classifications = label_topologies(\"dim2-sg$sg-$id-res64-$polarization\", true, \"./symeigs/output\")\n",
    "                !isempty(filter(c -> c[2] == TopologyKind(2), classifications)) && (has_fragile[polarization] +=1)\n",
    "                !isempty(filter(c -> c[2] == TopologyKind(1), classifications)) && (has_topological[polarization] +=1)\n",
    "            catch\n",
    "            end\n",
    "        end\n",
    "    end\n",
    "    for polarization in (\"te\", \"tm\")\n",
    "        println(\"sg $sg of polarization $polarization $(has_fragile[polarization]) lattices\")\n",
    "        println(\"sg $sg of polarization $polarization $(has_topological[polarization]) lattices\")\n",
    "        flush(stdout)\n",
    "    end\n",
    "end"
   ]
  },
  {
   "cell_type": "code",
   "execution_count": 92,
   "id": "d9130859",
   "metadata": {},
   "outputs": [
    {
     "data": {
      "text/plain": [
       "20-element Vector{Any}:\n",
       " Any[1:1, TRIVIAL]\n",
       " Any[2:2, TRIVIAL]\n",
       " Any[3:3, TRIVIAL]\n",
       " Any[4:4, NONTRIVIAL]\n",
       " Any[5:5, NONTRIVIAL]\n",
       " Any[6:6, NONTRIVIAL]\n",
       " Any[7:7, NONTRIVIAL]\n",
       " Any[8:8, TRIVIAL]\n",
       " Any[9:9, TRIVIAL]\n",
       " Any[10:10, NONTRIVIAL]\n",
       " Any[11:11, NONTRIVIAL]\n",
       " Any[12:12, NONTRIVIAL]\n",
       " Any[13:13, NONTRIVIAL]\n",
       " Any[14:14, TRIVIAL]\n",
       " Any[15:15, TRIVIAL]\n",
       " Any[16:16, TRIVIAL]\n",
       " Any[17:17, NONTRIVIAL]\n",
       " Any[18:18, NONTRIVIAL]\n",
       " Any[19:19, NONTRIVIAL]\n",
       " Any[20:20, NONTRIVIAL]"
      ]
     },
     "execution_count": 92,
     "metadata": {},
     "output_type": "execute_result"
    }
   ],
   "source": [
    "label_topologies(\"dim2-sg2-10-res64-te\", true, \"./symeigs/output\")\n"
   ]
  },
  {
   "cell_type": "code",
   "execution_count": 78,
   "id": "986edf37",
   "metadata": {},
   "outputs": [
    {
     "data": {
      "text/plain": [
       "2"
      ]
     },
     "execution_count": 78,
     "metadata": {},
     "output_type": "execute_result"
    }
   ],
   "source": [
    "a[Dict(\"te\" => 1)] += 1"
   ]
  },
  {
   "cell_type": "code",
   "execution_count": 88,
   "id": "3c7cd46e",
   "metadata": {},
   "outputs": [
    {
     "data": {
      "text/plain": [
       "FRAGILE::TopologyKind = 2"
      ]
     },
     "execution_count": 88,
     "metadata": {},
     "output_type": "execute_result"
    }
   ],
   "source": [
    "TopologyKind(2)"
   ]
  },
  {
   "cell_type": "code",
   "execution_count": null,
   "id": "a7368dee",
   "metadata": {},
   "outputs": [],
   "source": []
  }
 ],
 "metadata": {
  "kernelspec": {
   "display_name": "Julia MyKernel 1.6.1",
   "language": "julia",
   "name": "julia-mykernel-1.6"
  },
  "language_info": {
   "file_extension": ".jl",
   "mimetype": "application/julia",
   "name": "julia",
   "version": "1.6.1"
  },
  "latex_envs": {
   "LaTeX_envs_menu_present": true,
   "autoclose": false,
   "autocomplete": true,
   "bibliofile": "biblio.bib",
   "cite_by": "apalike",
   "current_citInitial": 1,
   "eqLabelWithNumbers": true,
   "eqNumInitial": 1,
   "hotkeys": {
    "equation": "Ctrl-E",
    "itemize": "Ctrl-I"
   },
   "labels_anchors": false,
   "latex_user_defs": false,
   "report_style_numbering": false,
   "user_envs_cfg": false
  },
  "toc": {
   "base_numbering": 1,
   "nav_menu": {},
   "number_sections": true,
   "sideBar": true,
   "skip_h1_title": false,
   "title_cell": "Table of Contents",
   "title_sidebar": "Contents",
   "toc_cell": false,
   "toc_position": {},
   "toc_section_display": true,
   "toc_window_display": false
  },
  "varInspector": {
   "cols": {
    "lenName": 16,
    "lenType": 16,
    "lenVar": 40
   },
   "kernels_config": {
    "python": {
     "delete_cmd_postfix": "",
     "delete_cmd_prefix": "del ",
     "library": "var_list.py",
     "varRefreshCmd": "print(var_dic_list())"
    },
    "r": {
     "delete_cmd_postfix": ") ",
     "delete_cmd_prefix": "rm(",
     "library": "var_list.r",
     "varRefreshCmd": "cat(var_dic_list()) "
    }
   },
   "types_to_exclude": [
    "module",
    "function",
    "builtin_function_or_method",
    "instance",
    "_Feature"
   ],
   "window_display": false
  }
 },
 "nbformat": 4,
 "nbformat_minor": 5
}
