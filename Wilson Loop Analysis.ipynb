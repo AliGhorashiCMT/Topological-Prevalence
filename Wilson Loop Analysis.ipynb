{
 "cells": [
  {
   "cell_type": "code",
   "execution_count": 1,
   "id": "20713770",
   "metadata": {},
   "outputs": [],
   "source": [
    "using Crystalline, MPBUtils, JLD2, LinearAlgebra, StaticArrays, SymmetryBases, PyPlot, DelimitedFiles, PrettyTables"
   ]
  },
  {
   "cell_type": "code",
   "execution_count": 3,
   "id": "95cc8172",
   "metadata": {},
   "outputs": [
    {
     "data": {
      "text/plain": [
       "PyObject <module 'numpy' from '/home/gridsan/aligho/.local/lib/python3.8/site-packages/numpy/__init__.py'>"
      ]
     },
     "execution_count": 3,
     "metadata": {},
     "output_type": "execute_result"
    }
   ],
   "source": [
    "using PyCall\n",
    "np = pyimport(\"numpy\")"
   ]
  },
  {
   "cell_type": "code",
   "execution_count": 8,
   "id": "1a84e177",
   "metadata": {},
   "outputs": [
    {
     "data": {
      "text/plain": [
       "2"
      ]
     },
     "execution_count": 8,
     "metadata": {},
     "output_type": "execute_result"
    }
   ],
   "source": [
    "# First we create the k mesh\n",
    "ks = Vector{Vector{Float64}}()\n",
    "N = 20\n",
    "open(\"wilson_loops/berry-ks-loops.sh\", \"w\") do io \n",
    "    write(io, \"berry-ks-loops=(list (list \")\n",
    "    for i in 1:N+1 # From (0, 0) to (0.5 0.5)\n",
    "        kx = (i-1)/N*0.5\n",
    "        ky = (i-1)/N*0.5\n",
    "        write(io, \"(vector3 $(kx) $(ky)) \")\n",
    "        push!(ks, [kx, ky])\n",
    "    end\n",
    "    for i in 1:N # to (-0.5, 0.5)\n",
    "        kx = 0.5 - i/N\n",
    "        ky = 0.5 \n",
    "        write(io, \"(vector3 $(kx) $(ky)) \")\n",
    "        push!(ks, [kx, ky])\n",
    "    end\n",
    "    for i in 1:N # to (0, 0) one again buddy\n",
    "        kx = -0.5 + i/N*0.5\n",
    "        ky = 0.5 - i/N*0.5\n",
    "        write(io, \"(vector3 $(kx) $(ky)) \")\n",
    "        push!(ks, [kx, ky])\n",
    "    end\n",
    "    write(io, \"))\")\n",
    "end"
   ]
  },
  {
   "cell_type": "code",
   "execution_count": 15,
   "id": "8a0fe256",
   "metadata": {},
   "outputs": [
    {
     "data": {
      "text/plain": [
       "2"
      ]
     },
     "execution_count": 15,
     "metadata": {},
     "output_type": "execute_result"
    }
   ],
   "source": [
    "# Two different paths through k space\n",
    "\n",
    "ks = Vector{Vector{Float64}}()\n",
    "N = 100\n",
    "open(\"wilson_loops/berry-ks-loops.sh\", \"w\") do io \n",
    "    write(io, \"berry-ks-loops=(list (list \")\n",
    "    for i in 1:N+1 # From (0, 0) to (0.5 0.5)\n",
    "        kx = (i-1)/N*0.5\n",
    "        ky = (i-1)/N*0.5\n",
    "        write(io, \"(vector3 $(kx) $(ky)) \")\n",
    "        push!(ks, [kx, ky])\n",
    "    end\n",
    "    for i in 1:N # to (-0.5, 0.5)\n",
    "        kx = 0.5 - i/N\n",
    "        ky = 0.5 \n",
    "        write(io, \"(vector3 $(kx) $(ky)) \")\n",
    "        push!(ks, [kx, ky])\n",
    "    end\n",
    "    for i in 1:N # to (0, 0) one again buddy\n",
    "        kx = -0.5 + i/N*0.5\n",
    "        ky = 0.5 - i/N*0.5\n",
    "        write(io, \"(vector3 $(kx) $(ky)) \")\n",
    "        push!(ks, [kx, ky])\n",
    "    end\n",
    "    write(io, \") \")\n",
    "    \n",
    "    write(io, \"(list \")\n",
    "    for i in 1:N+1 # From (0, 0) to (0.5 0.5)\n",
    "        kx = 0\n",
    "        ky = (i-1)/N*0.5\n",
    "        write(io, \"(vector3 $(kx) $(ky)) \")\n",
    "        push!(ks, [kx, ky])\n",
    "    end\n",
    "    for i in 1:N # to (-0.5, 0.5)\n",
    "        kx = i/N*0.5\n",
    "        ky = 0.5 \n",
    "        write(io, \"(vector3 $(kx) $(ky)) \")\n",
    "        push!(ks, [kx, ky])\n",
    "    end\n",
    "    for i in 1:N # to (0, 0) one again buddy\n",
    "        kx = 0.5 \n",
    "        ky = 0.5 - i/N*0.5\n",
    "        write(io, \"(vector3 $(kx) $(ky)) \")\n",
    "        push!(ks, [kx, ky])\n",
    "    end\n",
    "    for i in 1:N # to (0, 0) one again buddy\n",
    "        kx = 0.5 - i/N*0.5 \n",
    "        ky = 0\n",
    "        write(io, \"(vector3 $(kx) $(ky)) \")\n",
    "        push!(ks, [kx, ky])\n",
    "    end\n",
    "    write(io, \"))\")\n",
    "end"
   ]
  },
  {
   "cell_type": "code",
   "execution_count": 20,
   "id": "685b93fc",
   "metadata": {},
   "outputs": [
    {
     "data": {
      "text/plain": [
       "2"
      ]
     },
     "execution_count": 20,
     "metadata": {},
     "output_type": "execute_result"
    }
   ],
   "source": [
    "# Two different paths through k space\n",
    "\n",
    "ks = Vector{Vector{Float64}}()\n",
    "N = 20\n",
    "extent = 0.49\n",
    "open(\"wilson_loops/berry-ks-loops.sh\", \"w\") do io \n",
    "    write(io, \"berry-ks-loops=(list (list \")\n",
    "    for i in 1:N+1 # From (0, 0) to (0.5 0.5)\n",
    "        kx = 0\n",
    "        ky = (i-1)/N*extent\n",
    "        write(io, \"(vector3 $(kx) $(ky)) \")\n",
    "        push!(ks, [kx, ky])\n",
    "    end\n",
    "    for i in 1:N \n",
    "        kx = i/N*extent\n",
    "        ky = extent\n",
    "        write(io, \"(vector3 $(kx) $(ky)) \")\n",
    "        push!(ks, [kx, ky])\n",
    "    end\n",
    "    for i in 1:N # to (0, 0) one again buddy\n",
    "        kx = extent\n",
    "        ky = extent - i/N*extent\n",
    "        write(io, \"(vector3 $(kx) $(ky)) \")\n",
    "        push!(ks, [kx, ky])\n",
    "    end\n",
    "    for i in 1:N # to (0, 0) one again buddy\n",
    "        kx = extent - i/N*extent\n",
    "        ky = 0\n",
    "        write(io, \"(vector3 $(kx) $(ky)) \")\n",
    "        push!(ks, [kx, ky])\n",
    "    end\n",
    "    write(io, \"))\")\n",
    "end"
   ]
  },
  {
   "cell_type": "code",
   "execution_count": 22,
   "id": "786015dc",
   "metadata": {},
   "outputs": [
    {
     "data": {
      "text/plain": [
       "2"
      ]
     },
     "execution_count": 22,
     "metadata": {},
     "output_type": "execute_result"
    }
   ],
   "source": [
    "# Two different paths through k space\n",
    "\n",
    "ks = Vector{Vector{Float64}}()\n",
    "N = 20\n",
    "extent = 0.05\n",
    "x = -0.5 - extent/2\n",
    "y = -0.48 - extent/2\n",
    "\n",
    "open(\"wilson_loops/berry-ks-loops.sh\", \"w\") do io \n",
    "    write(io, \"berry-ks-loops=(list (list \")\n",
    "    for i in 1:N+1 # From (0, 0) to (0.5 0.5)\n",
    "        kx = 0\n",
    "        ky = (i-1)/N*extent\n",
    "        write(io, \"(vector3 $(kx + x) $(ky + y)) \")\n",
    "        push!(ks, [kx, ky])\n",
    "    end\n",
    "    for i in 1:N \n",
    "        kx = i/N*extent\n",
    "        ky = extent\n",
    "        write(io, \"(vector3 $(kx + x) $(ky +y)) \")\n",
    "        push!(ks, [kx, ky])\n",
    "    end\n",
    "    for i in 1:N # to (0, 0) one again buddy\n",
    "        kx = extent\n",
    "        ky = extent - i/N*extent\n",
    "        write(io, \"(vector3 $(kx + x) $(ky + y)) \")\n",
    "        push!(ks, [kx, ky])\n",
    "    end\n",
    "    for i in 1:N # to (0, 0) one again buddy\n",
    "        kx = extent - i/N*extent\n",
    "        ky = 0\n",
    "        write(io, \"(vector3 $(kx + x) $(ky +y)) \")\n",
    "        push!(ks, [kx, ky])\n",
    "    end\n",
    "    write(io, \"))\")\n",
    "end"
   ]
  },
  {
   "cell_type": "code",
   "execution_count": 14,
   "id": "b062423e",
   "metadata": {},
   "outputs": [
    {
     "name": "stdout",
     "output_type": "stream",
     "text": [
      "ks[62:end] = [[0.0, 0.0], [0.0, 0.025], [0.0, 0.05], [0.0, 0.075], [0.0, 0.1], [0.0, 0.125], [0.0, 0.15], [0.0, 0.175], [0.0, 0.2], [0.0, 0.225], [0.0, 0.25], [0.0, 0.275], [0.0, 0.3], [0.0, 0.325], [0.0, 0.35], [0.0, 0.375], [0.0, 0.4], [0.0, 0.425], [0.0, 0.45], [0.0, 0.475], [0.0, 0.5], [0.025, 0.5], [0.05, 0.5], [0.075, 0.5], [0.1, 0.5], [0.125, 0.5], [0.15, 0.5], [0.175, 0.5], [0.2, 0.5], [0.225, 0.5], [0.25, 0.5], [0.275, 0.5], [0.3, 0.5], [0.325, 0.5], [0.35, 0.5], [0.375, 0.5], [0.4, 0.5], [0.425, 0.5], [0.45, 0.5], [0.475, 0.5], [0.5, 0.5], [0.5, 0.475], [0.5, 0.45], [0.5, 0.425], [0.5, 0.4], [0.5, 0.375], [0.5, 0.35], [0.5, 0.325], [0.5, 0.3], [0.5, 0.275], [0.5, 0.25], [0.5, 0.22499999999999998], [0.5, 0.2], [0.5, 0.175], [0.5, 0.15000000000000002], [0.5, 0.125], [0.5, 0.09999999999999998], [0.5, 0.07500000000000001], [0.5, 0.04999999999999999], [0.5, 0.025000000000000022], [0.5, 0.0], [0.475, 0.0], [0.45, 0.0], [0.425, 0.0], [0.4, 0.0], [0.375, 0.0], [0.35, 0.0], [0.325, 0.0], [0.3, 0.0], [0.275, 0.0], [0.25, 0.0], [0.22499999999999998, 0.0], [0.2, 0.0], [0.175, 0.0], [0.15000000000000002, 0.0], [0.125, 0.0], [0.09999999999999998, 0.0], [0.07500000000000001, 0.0], [0.04999999999999999, 0.0], [0.025000000000000022, 0.0], [0.0, 0.0]]\n"
     ]
    },
    {
     "data": {
      "text/plain": [
       "81-element Vector{Vector{Float64}}:\n",
       " [0.0, 0.0]\n",
       " [0.0, 0.025]\n",
       " [0.0, 0.05]\n",
       " [0.0, 0.075]\n",
       " [0.0, 0.1]\n",
       " [0.0, 0.125]\n",
       " [0.0, 0.15]\n",
       " [0.0, 0.175]\n",
       " [0.0, 0.2]\n",
       " [0.0, 0.225]\n",
       " [0.0, 0.25]\n",
       " [0.0, 0.275]\n",
       " [0.0, 0.3]\n",
       " ⋮\n",
       " [0.275, 0.0]\n",
       " [0.25, 0.0]\n",
       " [0.22499999999999998, 0.0]\n",
       " [0.2, 0.0]\n",
       " [0.175, 0.0]\n",
       " [0.15000000000000002, 0.0]\n",
       " [0.125, 0.0]\n",
       " [0.09999999999999998, 0.0]\n",
       " [0.07500000000000001, 0.0]\n",
       " [0.04999999999999999, 0.0]\n",
       " [0.025000000000000022, 0.0]\n",
       " [0.0, 0.0]"
      ]
     },
     "execution_count": 14,
     "metadata": {},
     "output_type": "execute_result"
    }
   ],
   "source": [
    "@show ks[62:end]"
   ]
  },
  {
   "cell_type": "code",
   "execution_count": null,
   "id": "dec99189",
   "metadata": {},
   "outputs": [],
   "source": []
  }
 ],
 "metadata": {
  "kernelspec": {
   "display_name": "Julia 1.7 Kernel 1.7.2",
   "language": "julia",
   "name": "julia-1.7-kernel-1.7"
  },
  "language_info": {
   "file_extension": ".jl",
   "mimetype": "application/julia",
   "name": "julia",
   "version": "1.7.2"
  },
  "latex_envs": {
   "LaTeX_envs_menu_present": true,
   "autoclose": false,
   "autocomplete": true,
   "bibliofile": "biblio.bib",
   "cite_by": "apalike",
   "current_citInitial": 1,
   "eqLabelWithNumbers": true,
   "eqNumInitial": 1,
   "hotkeys": {
    "equation": "Ctrl-E",
    "itemize": "Ctrl-I"
   },
   "labels_anchors": false,
   "latex_user_defs": false,
   "report_style_numbering": false,
   "user_envs_cfg": false
  },
  "toc": {
   "base_numbering": 1,
   "nav_menu": {},
   "number_sections": true,
   "sideBar": true,
   "skip_h1_title": false,
   "title_cell": "Table of Contents",
   "title_sidebar": "Contents",
   "toc_cell": false,
   "toc_position": {},
   "toc_section_display": true,
   "toc_window_display": false
  },
  "varInspector": {
   "cols": {
    "lenName": 16,
    "lenType": 16,
    "lenVar": 40
   },
   "kernels_config": {
    "python": {
     "delete_cmd_postfix": "",
     "delete_cmd_prefix": "del ",
     "library": "var_list.py",
     "varRefreshCmd": "print(var_dic_list())"
    },
    "r": {
     "delete_cmd_postfix": ") ",
     "delete_cmd_prefix": "rm(",
     "library": "var_list.r",
     "varRefreshCmd": "cat(var_dic_list()) "
    }
   },
   "types_to_exclude": [
    "module",
    "function",
    "builtin_function_or_method",
    "instance",
    "_Feature"
   ],
   "window_display": false
  }
 },
 "nbformat": 4,
 "nbformat_minor": 5
}
