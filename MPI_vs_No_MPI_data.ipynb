{
 "cells": [
  {
   "cell_type": "code",
   "execution_count": 1,
   "id": "9459ccd7-e574-4e4e-a097-736200d88499",
   "metadata": {},
   "outputs": [],
   "source": [
    "ENV[\"PYTHONPATH\"] = \"/home/gridsan/aligho/.local/lib/python3.8/site-packages/PyNormaliz-2.15-py3.8-linux-x86_64.egg\";"
   ]
  },
  {
   "cell_type": "code",
   "execution_count": 2,
   "id": "441fd4f2-e506-44ed-a9c3-4b5d9e5544ab",
   "metadata": {},
   "outputs": [],
   "source": [
    "using Crystalline, MPBUtils, JLD2, LinearAlgebra, StaticArrays, SymmetryBases, PyPlot, DelimitedFiles, PrettyTables, \n",
    "Brillouin, PyCall, Statistics\n",
    "np = pyimport(\"numpy\")\n",
    "using HDF5; \n",
    "include(\"./symeigs/corner_charges.jl\")\n",
    "include(\"./plotting_supercells.jl\") # Utilities for plotting bulk crystal and cladding\n",
    "include(\"./plotting_utilities.jl\")\n",
    "include(\"./symeigs/wyckoffs_dict.jl\");\n",
    "cm = 1/2.54;"
   ]
  },
  {
   "cell_type": "code",
   "execution_count": 7,
   "id": "9df2c977-977b-48a4-a2e2-b2891cb9b44b",
   "metadata": {},
   "outputs": [],
   "source": [
    "# We check how things change with and without MPI\n",
    "# Our unit cell is square R1 = (1, 0), R2= (0, 1)\n",
    "# And our dielectric varies as |x| < 0.25 and |x| > 0.25"
   ]
  },
  {
   "cell_type": "code",
   "execution_count": 8,
   "id": "b20d9137-e63a-4bf5-a462-ac8b0ec62761",
   "metadata": {},
   "outputs": [],
   "source": [
    "no_mpi_dir = \"check_epsilon_shape/no-mpi/output/\"\n",
    "mpi_dir = \"check_epsilon_shape/mpi/output/\"\n",
    "filename = \"dim2-sg10-1-res64-tm-epsilon.h5\"\n",
    "check_no_mpi = h5open(no_mpi_dir*filename);\n",
    "check_mpi = h5open(mpi_dir * filename);"
   ]
  },
  {
   "cell_type": "code",
   "execution_count": 9,
   "id": "ccfcfbda-4266-441f-bfb2-7c04586846cc",
   "metadata": {},
   "outputs": [],
   "source": [
    "Rs_no_mpi = read(check_no_mpi, \"lattice vectors\"); \n",
    "Rs_mpi = read(check_mpi, \"lattice vectors\"); \n",
    "eps_no_mpi = read(check_no_mpi, \"data\");\n",
    "eps_mpi = read(check_mpi, \"data\");"
   ]
  },
  {
   "cell_type": "code",
   "execution_count": 10,
   "id": "8da87388-7097-4305-a800-c0b921ad47e8",
   "metadata": {},
   "outputs": [
    {
     "data": {
      "text/plain": [
       "3×3 Matrix{Float64}:\n",
       " 1.0  6.12323e-17  0.0\n",
       " 0.0  1.0          0.0\n",
       " 0.0  0.0          1.0"
      ]
     },
     "execution_count": 10,
     "metadata": {},
     "output_type": "execute_result"
    }
   ],
   "source": [
    "Rs_no_mpi"
   ]
  },
  {
   "cell_type": "code",
   "execution_count": 11,
   "id": "3bad1f7a-5144-405a-8038-201bda5f280c",
   "metadata": {},
   "outputs": [
    {
     "data": {
      "text/plain": [
       "3×3 Matrix{Float64}:\n",
       " 6.12323e-17  1.0  0.0\n",
       " 1.0          0.0  0.0\n",
       " 0.0          0.0  1.0"
      ]
     },
     "execution_count": 11,
     "metadata": {},
     "output_type": "execute_result"
    }
   ],
   "source": [
    "Rs_mpi"
   ]
  },
  {
   "cell_type": "code",
   "execution_count": 12,
   "id": "ecddda05-6b72-4a57-84c4-364ff8f286fe",
   "metadata": {},
   "outputs": [],
   "source": [
    "Rsprime = [Rs_mpi[:, 1], Rs_mpi[:, 2]]\n",
    "xyz = range(-5, 5, length=64)\n",
    "X = broadcast((x,y) -> (x)*Rsprime[1][1] + (y)*Rsprime[2][1], reshape(xyz,(1, 64)), reshape(xyz, (64, 1)))\n",
    "Y = broadcast((x,y) -> (x)*Rsprime[1][2] + (y)*Rsprime[2][2], reshape(xyz,(1, 64)), reshape(xyz, (64, 1)));"
   ]
  },
  {
   "cell_type": "code",
   "execution_count": 15,
   "id": "ed735422-e3a6-4321-a084-87badbfbcc0f",
   "metadata": {},
   "outputs": [
    {
     "data": {
      "image/png": "[encoded data removed]",
      "text/plain": [
       "Figure(PyObject <Figure size 640x480 with 1 Axes>)"
      ]
     },
     "metadata": {},
     "output_type": "display_data"
    }
   ],
   "source": [
    "contourf(X, Y, eps_mpi, cmap=\"gray\")\n",
    "gca().set_aspect(\"equal\")\n",
    "xticks([])\n",
    "yticks([]);"
   ]
  },
  {
   "cell_type": "code",
   "execution_count": 20,
   "id": "4bf4e777-5fc5-49c8-8b1d-8396823c7a6d",
   "metadata": {},
   "outputs": [
    {
     "data": {
      "image/png": "[encoded data removed]",
      "text/plain": [
       "Figure(PyObject <Figure size 640x480 with 1 Axes>)"
      ]
     },
     "metadata": {},
     "output_type": "display_data"
    }
   ],
   "source": [
    "imshow(eps_mpi, origin=\"lower\", cmap=\"gray\")\n",
    "xticks([])\n",
    "yticks([]);"
   ]
  },
  {
   "cell_type": "code",
   "execution_count": 21,
   "id": "14ec4a8d-ef82-4e02-ae48-5d8e3c5d0a12",
   "metadata": {},
   "outputs": [],
   "source": [
    "Rsprime = [Rs_no_mpi[:, 1], Rs_no_mpi[:, 2]]\n",
    "xyz = range(-5, 5, length=64)\n",
    "X = broadcast((x,y) -> (x)*Rsprime[1][1] + (y)*Rsprime[2][1], reshape(xyz,(1, 64)), reshape(xyz, (64, 1)))\n",
    "Y = broadcast((x,y) -> (x)*Rsprime[1][2] + (y)*Rsprime[2][2], reshape(xyz,(1, 64)), reshape(xyz, (64, 1)));"
   ]
  },
  {
   "cell_type": "code",
   "execution_count": 23,
   "id": "4b9121b2-4183-4171-8172-5ba9f6c80b1f",
   "metadata": {},
   "outputs": [
    {
     "data": {
      "image/png": "[encoded data removed]",
      "text/plain": [
       "Figure(PyObject <Figure size 640x480 with 1 Axes>)"
      ]
     },
     "metadata": {},
     "output_type": "display_data"
    }
   ],
   "source": [
    "contourf(X, Y, eps_no_mpi, cmap=\"gray\")\n",
    "gca().set_aspect(\"equal\")\n",
    "xticks([])\n",
    "yticks([]);"
   ]
  },
  {
   "cell_type": "code",
   "execution_count": 19,
   "id": "55033fcd-23b9-4980-a115-9ab272ba89b7",
   "metadata": {},
   "outputs": [
    {
     "data": {
      "image/png": "[encoded data removed]",
      "text/plain": [
       "Figure(PyObject <Figure size 640x480 with 1 Axes>)"
      ]
     },
     "metadata": {},
     "output_type": "display_data"
    }
   ],
   "source": [
    "imshow(eps_no_mpi, origin=\"lower\", cmap=\"gray\")\n",
    "xticks([])\n",
    "yticks([]);"
   ]
  },
  {
   "cell_type": "code",
   "execution_count": 27,
   "id": "4a931cdc-eb4e-4ce9-ac83-308ea5b74b3f",
   "metadata": {},
   "outputs": [],
   "source": [
    "# So clearly, MPB with MPI switches R1 <-> R2 and the first dimension runs over columns and the second dimension runs over rows"
   ]
  }
 ],
 "metadata": {
  "kernelspec": {
   "display_name": "Julia 1.7 Kernel 1.7.2",
   "language": "julia",
   "name": "julia-1.7-kernel-1.7"
  },
  "language_info": {
   "file_extension": ".jl",
   "mimetype": "application/julia",
   "name": "julia",
   "version": "1.7.2"
  }
 },
 "nbformat": 4,
 "nbformat_minor": 5
}
