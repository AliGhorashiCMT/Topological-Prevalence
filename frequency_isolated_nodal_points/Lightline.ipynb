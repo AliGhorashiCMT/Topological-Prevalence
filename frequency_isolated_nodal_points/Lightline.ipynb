{
 "cells": [
  {
   "cell_type": "code",
   "execution_count": 1,
   "id": "015902e5-ce99-43e4-9f6b-ac9a90897eb0",
   "metadata": {},
   "outputs": [],
   "source": [
    "ENV[\"PYTHONPATH\"]=\"/home/gridsan/aligho/.local/lib/python3.8/site-packages/PyNormaliz-2.15-py3.8-linux-x86_64.egg\";\n",
    "using Crystalline, MPBUtils, SymmetryBases, JLD2, PyPlot, DelimitedFiles, PyCall, LinearAlgebra, Brillouin\n",
    "shapely_point = pyimport(\"shapely.geometry\").Point\n",
    "shapely_polygon = pyimport(\"shapely.geometry.polygon\").Polygon\n",
    "cm = 1/2.54;"
   ]
  },
  {
   "cell_type": "code",
   "execution_count": 2,
   "id": "e75babbf-4abb-4c4c-86ca-d7e9dd4a25de",
   "metadata": {},
   "outputs": [],
   "source": [
    "ks_sg2 = Vector{Vector{Float64}}()\n",
    "N = 50\n",
    "for i in 1:N+1\n",
    "for j in 1:N+1\n",
    "    kx = -0.5+1*(i-1)/N \n",
    "    ky = 0.5*(j-1)/N \n",
    "    push!(ks_sg2, [kx, ky])\n",
    "end\n",
    "end\n",
    "\n",
    "ks_sg10 = Vector{Vector{Float64}}()\n",
    "N = 50\n",
    "for i in 1:N+1\n",
    "for j in 1:N+1\n",
    "    kx = 0.5*(i-1)/N \n",
    "    ky = 0.5*(j-1)/N \n",
    "    push!(ks_sg10, [kx, ky])\n",
    "end\n",
    "end\n",
    "\n",
    "b1 = (2/sqrt(3))*[sqrt(3)/2, 1/2]\n",
    "b2 = (2/sqrt(3))*[0, 1];\n",
    "v1 = [0, 0] \n",
    "v2 = -1/3*b1+2/3*b2\n",
    "v3 = 1/3*(b1+b2);\n",
    "c = shapely_polygon([v1, v2, v3])\n",
    "\n",
    "ks_sg16 = Vector{Vector{Float64}}()\n",
    "\n",
    "N = 250\n",
    "for i in 1:N+1\n",
    "for j in 1:N+1\n",
    "    kx = -1+2*(i-1)/N \n",
    "    ky = -1+2*(j-1)/N \n",
    "    c.contains(shapely_point(kx*b1+ky*b2)) || continue\n",
    "    push!(ks_sg16, [kx, ky])\n",
    "end\n",
    "end"
   ]
  },
  {
   "cell_type": "code",
   "execution_count": 37,
   "id": "93f573aa-174e-4c94-bb68-f9f39649ef6f",
   "metadata": {},
   "outputs": [],
   "source": [
    "loaded_data_sg2_lightline = load(\"sg2_lightline.jld2\")[\"well_separated_nodal_points\"];\n",
    "loaded_data_sg10_lightline = load(\"sg10_lightline.jld2\")[\"well_separated_nodal_points\"];\n",
    "loaded_data_sg16_lightline = load(\"sg16_lightline.jld2\")[\"well_separated_nodal_points\"];\n",
    "\n",
    "loaded_data_sg2 = load(\"sg2_nodal_data.jld2\")[\"well_separated_nodal_points\"];\n",
    "loaded_data_sg10 = load(\"sg10_nodal_data.jld2\")[\"well_separated_nodal_points\"];\n",
    "loaded_data_sg16 = load(\"sg16_nodal_data.jld2\")[\"well_separated_nodal_points\"];\n",
    "sgs = [2, 10, 16];"
   ]
  },
  {
   "cell_type": "code",
   "execution_count": 39,
   "id": "5a4d501b-ede5-439a-9ea6-55a1b675006b",
   "metadata": {},
   "outputs": [],
   "source": [
    "loaded_Rs_sg = [load(\"../symeigs/output/sg$sg/eps1/te/sg$sg-epsid1-res64-te-input.jld2\")[\"Rsv\"] for sg in sgs];"
   ]
  },
  {
   "cell_type": "code",
   "execution_count": 40,
   "id": "27d63f43-02ed-4806-a767-85285e3c4a12",
   "metadata": {},
   "outputs": [],
   "source": [
    "function below_light_line(sample_info::Pair{Tuple{String, Integer}, Vector{Tuple{Integer, Integer, Float64}}}, sgnum::Integer, \n",
    "        restrict_mult::Vector{Int64} = [1, 2, 3], restrict_modes::Vector{<:AbstractString}=[\"te\", \"tm\"])\n",
    "    mode, real_id = sample_info[1]\n",
    "    (mode ∈ restrict_modes) || return 0\n",
    "    #Rvecs = lattice_from_mpbparams(\"../symeigs/input/dim2-sg$sgnum-$(real_id - 20000)-res64-$mode.sh\")[1]\n",
    "    Rvecs = loaded_Rs_sg[findfirst(x -> x == sgnum, sgs)][real_id - 20000]\n",
    "    Gvecs = reciprocalbasis(Rvecs)\n",
    "    tot = 0\n",
    "    ks = if sgnum == 2 \n",
    "            ks_sg2\n",
    "        elseif sgnum == 10\n",
    "            ks_sg10\n",
    "        elseif sgnum == 16\n",
    "            ks_sg16\n",
    "        end\n",
    "    for x in sample_info[2]\n",
    "        mult_idx, k_idx, omega = x\n",
    "        (mult_idx ∈ restrict_mult) || continue\n",
    "        kx, ky = ks[k_idx]\n",
    "        knorms = Float64[] \n",
    "        for i in -2:2\n",
    "            for j in -2:2\n",
    "                knorm = norm((kx + i) * Gvecs[1] + (ky + j) * Gvecs[2])\n",
    "                push!(knorms, knorm)\n",
    "            end\n",
    "        end\n",
    "        knorm = minimum(knorms)\n",
    "        if omega < knorm/(2*pi)\n",
    "            tot += 1\n",
    "        end\n",
    "    end\n",
    "    return tot\n",
    "end;"
   ]
  },
  {
   "cell_type": "code",
   "execution_count": 6,
   "id": "2e726816-0ec6-497a-b256-4a715d9fe128",
   "metadata": {},
   "outputs": [],
   "source": [
    "filtered_sample_infos_sg2 = filter(x -> !isempty(x[2]), loaded_data_sg2_lightline);\n",
    "filtered_sample_infos_sg10 = filter(x -> !isempty(x[2]), loaded_data_sg10_lightline);\n",
    "filtered_sample_infos_sg16 = filter(x -> !isempty(x[2]), loaded_data_sg16_lightline);"
   ]
  },
  {
   "cell_type": "code",
   "execution_count": 14,
   "id": "32f0d69e-e31f-4029-8b11-70984ebb6d68",
   "metadata": {},
   "outputs": [
    {
     "name": "stdout",
     "output_type": "stream",
     "text": [
      "Total # of samples in plane group 2 with at least one frequency isolatable Dirac point within first three multiplets (TE): 630\n",
      "Total # of samples in plane group 2 with at least one frequency isolatable Dirac point within first three multiplets (TM): 102\n",
      "Total # of samples in plane group 10 with at least one frequency isolatable Dirac point within first three multiplets (TE): 1416\n",
      "Total # of samples in plane group 10 with at least one frequency isolatable Dirac point within first three multiplets (TM): 666\n",
      "Total # of samples in plane group 16 with at least one frequency isolatable Dirac point within first three multiplets (TE): 931\n",
      "Total # of samples in plane group 16 with at least one frequency isolatable Dirac point within first three multiplets (TM): 365\n"
     ]
    }
   ],
   "source": [
    "# Find total number with frequency-isolatable nodal points \n",
    "tot_count_sg2_te = count(x -> x[1][1] == \"te\", filtered_sample_infos_sg2)\n",
    "tot_count_sg2_tm = count(x -> x[1][1] == \"tm\", filtered_sample_infos_sg2)\n",
    "\n",
    "tot_count_sg10_te = count(x -> x[1][1] == \"te\", filtered_sample_infos_sg10)\n",
    "tot_count_sg10_tm = count(x -> x[1][1] == \"tm\", filtered_sample_infos_sg10)\n",
    "\n",
    "tot_count_sg16_te = count(x -> x[1][1] == \"te\", filtered_sample_infos_sg16)\n",
    "tot_count_sg16_tm = count(x -> x[1][1] == \"tm\", filtered_sample_infos_sg16)\n",
    "\n",
    "println(\"Total # of samples in plane group 2 with at least one frequency isolatable Dirac point within first three multiplets (TE): $(tot_count_sg2_te)\")\n",
    "println(\"Total # of samples in plane group 2 with at least one frequency isolatable Dirac point within first three multiplets (TM): $(tot_count_sg2_tm)\")\n",
    "println(\"Total # of samples in plane group 10 with at least one frequency isolatable Dirac point within first three multiplets (TE): $(tot_count_sg10_te)\")\n",
    "println(\"Total # of samples in plane group 10 with at least one frequency isolatable Dirac point within first three multiplets (TM): $(tot_count_sg10_tm)\")\n",
    "println(\"Total # of samples in plane group 16 with at least one frequency isolatable Dirac point within first three multiplets (TE): $(tot_count_sg16_te)\")\n",
    "println(\"Total # of samples in plane group 16 with at least one frequency isolatable Dirac point within first three multiplets (TM): $(tot_count_sg16_tm)\")"
   ]
  },
  {
   "cell_type": "code",
   "execution_count": 22,
   "id": "7de0bdb1-45db-479f-955d-639b53abcd43",
   "metadata": {},
   "outputs": [
    {
     "data": {
      "text/plain": [
       "102"
      ]
     },
     "execution_count": 22,
     "metadata": {},
     "output_type": "execute_result"
    }
   ],
   "source": [
    "# Double checking the values above \n",
    "#count(x -> x[1][1] == \"tm\" && !iszero(x[2]), loaded_data_sg2)\n",
    "#count(x -> x[1][1] == \"tm\" && !iszero(x[2]), loaded_data_sg10)\n",
    "#count(x -> x[1][1] == \"tm\" && !iszero(x[2]), loaded_data_sg16)"
   ]
  },
  {
   "cell_type": "code",
   "execution_count": 41,
   "id": "c3a245c6-223b-441c-8975-bb3beb967046",
   "metadata": {},
   "outputs": [
    {
     "name": "stdout",
     "output_type": "stream",
     "text": [
      "Total # of Dirac points per 100 samples, TE:\n",
      "5.19\n",
      "Total # of Dirac points per 100 samples, TM:\n",
      "0.41\n",
      "Percentage of samples in plane group 2 with isolated nodal points below the light line, TE:\n",
      "5.16\n",
      "Percentage of samples in plane group 2 with isolated nodal points below the light line, TM:\n",
      "0.41\n"
     ]
    }
   ],
   "source": [
    "tot_sg2_te = 0\n",
    "tot_sg2_tm = 0\n",
    "\n",
    "prev_sg2_te = 0 \n",
    "prev_sg2_tm = 0 \n",
    "\n",
    "for sample_info in filtered_sample_infos_sg2\n",
    "    num_below_light_line_te = below_light_line(sample_info, 2, [1, 2, 3], [\"te\"])\n",
    "    num_below_light_line_tm = below_light_line(sample_info, 2, [1, 2, 3], [\"tm\"])\n",
    "    tot_sg2_te += num_below_light_line_te\n",
    "    tot_sg2_tm += num_below_light_line_tm\n",
    "    prev_sg2_te += ((num_below_light_line_te > 0) ? 1 : 0)\n",
    "    prev_sg2_tm += ((num_below_light_line_tm > 0) ? 1 : 0)\n",
    "end\n",
    "\n",
    "println(\"Total # of Dirac points per 100 samples, TE:\\n$(tot_sg2_te / 100)\")\n",
    "println(\"Total # of Dirac points per 100 samples, TM:\\n$(tot_sg2_tm / 100)\")\n",
    "\n",
    "println(\"Percentage of samples in plane group 2 with isolated nodal points below the light line, TE:\\n$(prev_sg2_te / 100)\")\n",
    "println(\"Percentage of samples in plane group 2 with isolated nodal points below the light line, TM:\\n$(prev_sg2_tm / 100)\")"
   ]
  },
  {
   "cell_type": "code",
   "execution_count": 57,
   "id": "02bef874-8e08-410b-8f86-a4ac4c2ca0d6",
   "metadata": {},
   "outputs": [
    {
     "name": "stdout",
     "output_type": "stream",
     "text": [
      "Fraction of fraction, TE (given as percentage): 81.9\n",
      "Fraction of fraction, TM (given as percentage): 40.2\n"
     ]
    }
   ],
   "source": [
    "# Present as \"fraction of a fraction, i.e. fraction of total number of samples with a frequency-isolatable Dirac point (among first three band multiplets)\n",
    "\n",
    "println(\"Fraction of fraction, TE (given as percentage): \", round(100 * prev_sg2_te/tot_count_sg2_te, digits=1))\n",
    "println(\"Fraction of fraction, TM (given as percentage): \", round(100 * prev_sg2_tm/tot_count_sg2_tm, digits=1))"
   ]
  },
  {
   "cell_type": "code",
   "execution_count": 42,
   "id": "0d9b4b1b-3a5d-49b0-a6b0-b0cc14f15945",
   "metadata": {},
   "outputs": [
    {
     "name": "stdout",
     "output_type": "stream",
     "text": [
      "Total # of Dirac points per 100 samples, TE:\n",
      "2.61\n",
      "Total # of Dirac points per 100 samples, TM:\n",
      "2.13\n",
      "Percentage of samples in plane group 2 with isolated nodal points below the light line, TE:\n",
      "2.61\n",
      "Percentage of samples in plane group 2 with isolated nodal points below the light line, TM:\n",
      "2.13\n"
     ]
    }
   ],
   "source": [
    "tot_sg10_te = 0\n",
    "tot_sg10_tm = 0\n",
    "\n",
    "prev_sg10_te = 0 \n",
    "prev_sg10_tm = 0 \n",
    "\n",
    "for sample_info in filtered_sample_infos_sg10\n",
    "    num_below_light_line_te = below_light_line(sample_info, 10, [1, 2, 3], [\"te\"])\n",
    "    num_below_light_line_tm = below_light_line(sample_info, 10, [1, 2, 3], [\"tm\"])\n",
    "    tot_sg10_te += num_below_light_line_te\n",
    "    tot_sg10_tm += num_below_light_line_tm\n",
    "    prev_sg10_te += ((num_below_light_line_te > 0) ? 1 : 0)\n",
    "    prev_sg10_tm += ((num_below_light_line_tm > 0) ? 1 : 0)\n",
    "end\n",
    "println(\"Total # of Dirac points per 100 samples, TE:\\n$(tot_sg10_te / 100)\")\n",
    "println(\"Total # of Dirac points per 100 samples, TM:\\n$(tot_sg10_tm / 100)\")\n",
    "\n",
    "println(\"Percentage of samples in plane group 2 with isolated nodal points below the light line, TE:\\n$(prev_sg10_te / 100)\")\n",
    "println(\"Percentage of samples in plane group 2 with isolated nodal points below the light line, TM:\\n$(prev_sg10_tm / 100)\")"
   ]
  },
  {
   "cell_type": "code",
   "execution_count": 56,
   "id": "5e3dec33-8f86-4324-9b93-82e49fbb5379",
   "metadata": {},
   "outputs": [
    {
     "name": "stdout",
     "output_type": "stream",
     "text": [
      "Fraction of fraction, TE (given as percentage): 18.4\n",
      "Fraction of fraction, TM (given as percentage): 32.0\n"
     ]
    }
   ],
   "source": [
    "println(\"Fraction of fraction, TE (given as percentage): \", round(100 * prev_sg10_te/tot_count_sg10_te, digits=1))\n",
    "println(\"Fraction of fraction, TM (given as percentage): \", round(100 * prev_sg10_tm/tot_count_sg10_tm, digits=1))"
   ]
  },
  {
   "cell_type": "code",
   "execution_count": 58,
   "id": "80d33c8e-0f2e-4ebe-b3b1-c9e73900a818",
   "metadata": {},
   "outputs": [
    {
     "name": "stdout",
     "output_type": "stream",
     "text": [
      "Total # of Dirac points per 100 samples, TE:\n",
      "1.36\n",
      "Total # of Dirac points per 100 samples, TM:\n",
      "1.23\n",
      "Percentage of samples in plane group 2 with isolated nodal points below the light line, TE:\n",
      "1.36\n",
      "Percentage of samples in plane group 2 with isolated nodal points below the light line, TM:\n",
      "1.23\n"
     ]
    }
   ],
   "source": [
    "tot_sg16_te = 0\n",
    "tot_sg16_tm = 0\n",
    "\n",
    "prev_sg16_te = 0 \n",
    "prev_sg16_tm = 0 \n",
    "\n",
    "for sample_info in filtered_sample_infos_sg16\n",
    "    num_below_light_line_te = below_light_line(sample_info, 16, [1, 2, 3], [\"te\"])\n",
    "    num_below_light_line_tm = below_light_line(sample_info, 16, [1, 2, 3], [\"tm\"])\n",
    "    tot_sg16_te += num_below_light_line_te\n",
    "    tot_sg16_tm += num_below_light_line_tm\n",
    "    prev_sg16_te += ((num_below_light_line_te > 0) ? 1 : 0)\n",
    "    prev_sg16_tm += ((num_below_light_line_tm > 0) ? 1 : 0)\n",
    "end\n",
    "println(\"Total # of Dirac points per 100 samples, TE:\\n$(tot_sg16_te / 100)\")\n",
    "println(\"Total # of Dirac points per 100 samples, TM:\\n$(tot_sg16_tm / 100)\")\n",
    "\n",
    "println(\"Percentage of samples in plane group 2 with isolated nodal points below the light line, TE:\\n$(prev_sg16_te / 100)\")\n",
    "println(\"Percentage of samples in plane group 2 with isolated nodal points below the light line, TM:\\n$(prev_sg16_tm / 100)\")"
   ]
  },
  {
   "cell_type": "code",
   "execution_count": 60,
   "id": "938c481f-ab7c-480b-bec7-61a2797a766d",
   "metadata": {},
   "outputs": [
    {
     "name": "stdout",
     "output_type": "stream",
     "text": [
      "Below light line sample count (TE): 136\n",
      "Fraction of fraction, TE (given as percentage): 14.6\n",
      "Below light line sample count (TM): 123\n",
      "Fraction of fraction, TM (given as percentage): 33.7\n"
     ]
    }
   ],
   "source": [
    "println(\"Below light line sample count (TE): \", prev_sg16_te, \"\\nFraction of fraction, TE (given as percentage): \", round(100 * prev_sg16_te/tot_count_sg16_te, digits=1))\n",
    "println(\"Below light line sample count (TM): \", prev_sg16_tm, \"\\nFraction of fraction, TM (given as percentage): \", round(100 * prev_sg16_tm/tot_count_sg16_tm, digits=1))"
   ]
  },
  {
   "cell_type": "code",
   "execution_count": 44,
   "id": "2ff8307d-5a24-4087-a6e6-48b30dc448c7",
   "metadata": {},
   "outputs": [],
   "source": [
    "# Sanity Checks"
   ]
  },
  {
   "cell_type": "code",
   "execution_count": 46,
   "id": "e5b271f0-f407-4668-82b3-7d6928786541",
   "metadata": {},
   "outputs": [
    {
     "name": "stdout",
     "output_type": "stream",
     "text": [
      "Calcname: dim2-sg2-1248-res64-te-dispersion.out\n",
      "0.47 0.47\n",
      "\n",
      "Calcname: dim2-sg2-1452-res64-te-dispersion.out\n",
      "0.88 0.87\n",
      "\n",
      "Calcname: dim2-sg2-27-res64-te-dispersion.out\n",
      "1.04 1.04\n",
      "\n",
      "Calcname: dim2-sg2-2746-res64-te-dispersion.out\n",
      "0.76 0.76\n",
      "\n",
      "Calcname: dim2-sg2-3910-res64-te-dispersion.out\n",
      "0.58 0.58\n",
      "\n",
      "Calcname: dim2-sg2-5250-res64-te-dispersion.out\n",
      "0.69 0.69\n",
      "\n",
      "Calcname: dim2-sg2-7093-res64-te-dispersion.out\n",
      "0.32 0.32\n",
      "\n",
      "Calcname: dim2-sg2-7140-res64-te-dispersion.out\n",
      "0.6 0.6\n",
      "\n",
      "Calcname: dim2-sg2-8244-res64-te-dispersion.out\n",
      "0.74 0.74\n",
      "\n",
      "Calcname: dim2-sg2-9034-res64-te-dispersion.out\n",
      "0.46 0.46\n",
      "\n",
      "\n",
      "\n",
      "\n",
      "Calcname: dim2-sg10-1653-res64-te-dispersion.out\n",
      "0.4 0.4\n",
      "\n",
      "Calcname: dim2-sg10-2122-res64-te-dispersion.out\n",
      "0.45 0.45\n",
      "\n",
      "Calcname: dim2-sg10-3291-res64-te-dispersion.out\n",
      "0.51 0.51\n",
      "\n",
      "Calcname: dim2-sg10-3848-res64-te-dispersion.out\n",
      "0.37 0.37\n",
      "\n",
      "Calcname: dim2-sg10-480-res64-te-dispersion.out\n",
      "0.27 0.27\n",
      "\n",
      "Calcname: dim2-sg10-656-res64-te-dispersion.out\n",
      "0.5 0.5\n",
      "\n",
      "Calcname: dim2-sg10-7070-res64-te-dispersion.out\n",
      "0.31 0.31\n",
      "\n",
      "Calcname: dim2-sg10-8611-res64-te-dispersion.out\n",
      "0.51 0.51\n",
      "\n",
      "Calcname: dim2-sg10-9658-res64-te-dispersion.out\n",
      "0.26 0.26\n",
      "\n",
      "Calcname: dim2-sg10-9753-res64-te-dispersion.out\n",
      "0.25 0.25\n",
      "\n",
      "\n",
      "\n",
      "\n",
      "Calcname: dim2-sg16-1740-res64-te-dispersion.out\n",
      "0.59 0.59\n",
      "\n",
      "Calcname: dim2-sg16-2096-res64-te-dispersion.out\n",
      "0.42 0.42\n",
      "\n",
      "Calcname: dim2-sg16-2315-res64-te-dispersion.out\n",
      "0.2 0.2\n",
      "\n",
      "Calcname: dim2-sg16-4879-res64-te-dispersion.out\n",
      "0.41 0.41\n",
      "\n",
      "Calcname: dim2-sg16-5058-res64-te-dispersion.out\n",
      "0.59 0.59\n",
      "\n",
      "Calcname: dim2-sg16-5357-res64-te-dispersion.out\n",
      "0.61 0.61\n",
      "\n",
      "Calcname: dim2-sg16-7228-res64-te-dispersion.out\n",
      "0.53 0.53\n",
      "\n",
      "Calcname: dim2-sg16-8406-res64-te-dispersion.out\n",
      "0.48 0.48\n",
      "\n",
      "Calcname: dim2-sg16-9143-res64-te-dispersion.out\n",
      "0.51 0.51\n",
      "\n",
      "Calcname: dim2-sg16-9613-res64-te-dispersion.out\n",
      "0.51 0.51\n",
      "\n",
      "\n",
      "\n",
      "\n"
     ]
    }
   ],
   "source": [
    "dir = \"./output/lightline/\"\n",
    "calcnames = readdir(dir);\n",
    "sgnums = [2, 10, 16]\n",
    "num_digits = 2\n",
    "for (sgnum, loaded_data_lightline, ks_sg) in zip(sgnums, [loaded_data_sg2_lightline, loaded_data_sg10_lightline, loaded_data_sg16_lightline], [ks_sg2, ks_sg10, ks_sg16])\n",
    "    #sgnum == 2 || continue\n",
    "    sg_calcnames = filter(x -> MPBUtils.parse_sgnum(x) == sgnum, calcnames)\n",
    "    for calcname in sg_calcnames\n",
    "        band1_disp = readdlm(dir*calcname, ',')[6]\n",
    "        id = parse(Int64, split(calcname, '-')[3])\n",
    "        candidates = filter(x -> x[1][2] == id + 20000, loaded_data_lightline)\n",
    "        filtered_candidates = filter(x -> !isempty(x[2]), candidates)\n",
    "        println(\"Calcname: $calcname\")\n",
    "        for (key, val) in filtered_candidates\n",
    "            mode = key[1]\n",
    "            kidx = val[1][2]\n",
    "            omega = val[1][3]\n",
    "            #println(key)\n",
    "           # Rvecs = lattice_from_mpbparams(\"../symeigs/input/dim2-sg$sgnum-$id-res64-$mode.sh\")[1]\n",
    "            Rvecs = loaded_Rs_sg[findfirst(x -> x == sgnum, sgs)][id]\n",
    "\n",
    "            #if sgnum == 2\n",
    "            #    println(norm(Rvecs[2]))\n",
    "            #end\n",
    "            Gvecs = reciprocalbasis(Rvecs)\n",
    "            kx, ky = ks_sg[kidx]\n",
    "            knorms = Float64[] \n",
    "            for i in -2:2\n",
    "                for j in -2:2\n",
    "                    knorm = norm((kx + i) * Gvecs[1] + (ky + j) * Gvecs[2])\n",
    "                    push!(knorms, knorm)\n",
    "                end\n",
    "            end\n",
    "            knorm = minimum(knorms)\n",
    "            println(round(knorm/(2*pi), digits=num_digits), \" \", round(band1_disp, digits=num_digits), \"\\n\")\n",
    "        end\n",
    "    end\n",
    "    println(\"\\n\\n\")\n",
    "end"
   ]
  },
  {
   "cell_type": "code",
   "execution_count": null,
   "id": "37016bf3-a04a-48cf-ad96-929eae38d797",
   "metadata": {},
   "outputs": [],
   "source": []
  }
 ],
 "metadata": {
  "kernelspec": {
   "display_name": "Julia 1.7 Kernel 1.7.2",
   "language": "julia",
   "name": "julia-1.7-kernel-1.7"
  },
  "language_info": {
   "file_extension": ".jl",
   "mimetype": "application/julia",
   "name": "julia",
   "version": "1.7.2"
  }
 },
 "nbformat": 4,
 "nbformat_minor": 5
}
