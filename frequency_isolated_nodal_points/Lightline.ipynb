{
 "cells": [
  {
   "cell_type": "code",
   "execution_count": 1,
   "id": "015902e5-ce99-43e4-9f6b-ac9a90897eb0",
   "metadata": {},
   "outputs": [],
   "source": [
    "ENV[\"PYTHONPATH\"]=\"/home/gridsan/aligho/.local/lib/python3.8/site-packages/PyNormaliz-2.15-py3.8-linux-x86_64.egg\";\n",
    "using Crystalline, MPBUtils, SymmetryBases, JLD2, PyPlot, DelimitedFiles, PyCall, LinearAlgebra\n",
    "shapely_point = pyimport(\"shapely.geometry\").Point\n",
    "shapely_polygon = pyimport(\"shapely.geometry.polygon\").Polygon\n",
    "cm = 1/2.54;"
   ]
  },
  {
   "cell_type": "code",
   "execution_count": 73,
   "id": "e75babbf-4abb-4c4c-86ca-d7e9dd4a25de",
   "metadata": {},
   "outputs": [],
   "source": [
    "ks_sg2 = Vector{Vector{Float64}}()\n",
    "N = 50\n",
    "for i in 1:N+1\n",
    "for j in 1:N+1\n",
    "    kx = -0.5+1*(i-1)/N \n",
    "    ky = 0.5*(j-1)/N \n",
    "    push!(ks_sg2, [kx, ky])\n",
    "end\n",
    "end\n",
    "\n",
    "ks_sg10 = Vector{Vector{Float64}}()\n",
    "N = 50\n",
    "for i in 1:N+1\n",
    "for j in 1:N+1\n",
    "    kx = 0.5*(i-1)/N \n",
    "    ky = 0.5*(j-1)/N \n",
    "    push!(ks_sg10, [kx, ky])\n",
    "end\n",
    "end\n",
    "\n",
    "b1 = (2/sqrt(3))*[sqrt(3)/2, 1/2]\n",
    "b2 = (2/sqrt(3))*[0, 1];\n",
    "v1 = [0, 0]\n",
    "v2 = -1/3*b1+2/3*b2\n",
    "v3 = 1/3*(b1+b2);\n",
    "c = shapely_polygon([v1, v2, v3])\n",
    "\n",
    "ks_sg16 = Vector{Vector{Float64}}()\n",
    "\n",
    "N = 250\n",
    "for i in 1:N+1\n",
    "for j in 1:N+1\n",
    "    kx = -1+2*(i-1)/N \n",
    "    ky = -1+2*(j-1)/N \n",
    "    c.contains(shapely_point(kx*b1+ky*b2)) || continue\n",
    "    push!(ks_sg16, [kx, ky])\n",
    "end\n",
    "end"
   ]
  },
  {
   "cell_type": "code",
   "execution_count": 2,
   "id": "93f573aa-174e-4c94-bb68-f9f39649ef6f",
   "metadata": {},
   "outputs": [],
   "source": [
    "loaded_data_sg2_lightline = load(\"sg2_lightline.jld2\")[\"well_separated_nodal_points\"];\n",
    "loaded_data_sg10_lightline = load(\"sg10_lightline.jld2\")[\"well_separated_nodal_points\"];\n",
    "loaded_data_sg16_lightline = load(\"sg16_lightline.jld2\")[\"well_separated_nodal_points\"];"
   ]
  },
  {
   "cell_type": "code",
   "execution_count": 96,
   "id": "27d63f43-02ed-4806-a767-85285e3c4a12",
   "metadata": {},
   "outputs": [],
   "source": [
    "function below_light_line(sample_info::Pair{Tuple{String, Integer}, Vector{Tuple{Integer, Integer, Float64}}}, sgnum::Integer, \n",
    "        restrict_mult::Vector{Int64} = [1, 2, 3], restrict_modes::Vector{<:AbstractString}=[\"te\", \"tm\"])\n",
    "    mode, real_id = sample_info[1]\n",
    "    (mode ∈ restrict_modes) || return 0\n",
    "    Rvecs = lattice_from_mpbparams(\"../symeigs/input/dim2-sg$sgnum-$(real_id - 20000)-res64-$mode.sh\")[1]\n",
    "    Gvecs = reciprocalbasis(Rvecs)\n",
    "    tot = 0\n",
    "    ks = if sgnum == 2 \n",
    "            ks_sg2\n",
    "        elseif sgnum == 10\n",
    "            ks_sg10\n",
    "        elseif sgnum == 16\n",
    "            ks_sg16\n",
    "        end\n",
    "    for x in sample_info[2]\n",
    "        mult_idx, k_idx, omega = x\n",
    "        (mult_idx ∈ restrict_mult) || continue\n",
    "        kx, ky = ks[k_idx]\n",
    "        knorm = norm(kx * Gvecs[1] + ky * Gvecs[2])\n",
    "        if omega < knorm/(2*pi)\n",
    "            tot += 1\n",
    "        end\n",
    "    end\n",
    "    return tot\n",
    "end;"
   ]
  },
  {
   "cell_type": "code",
   "execution_count": 94,
   "id": "2e726816-0ec6-497a-b256-4a715d9fe128",
   "metadata": {},
   "outputs": [],
   "source": [
    "filtered_sample_infos_sg2 = filter(x -> !isempty(x[2]), loaded_data_sg2_lightline);\n",
    "filtered_sample_infos_sg10 = filter(x -> !isempty(x[2]), loaded_data_sg10_lightline);\n",
    "filtered_sample_infos_sg16 = filter(x -> !isempty(x[2]), loaded_data_sg16_lightline);"
   ]
  },
  {
   "cell_type": "code",
   "execution_count": 97,
   "id": "c3a245c6-223b-441c-8975-bb3beb967046",
   "metadata": {},
   "outputs": [
    {
     "name": "stdout",
     "output_type": "stream",
     "text": [
      "Percentage of samples in plane group 2 with isolated nodal points below the light line, TE:\n",
      "5.42\n",
      "Percentage of samples in plane group 2 with isolated nodal points below the light line, TM:\n",
      "0.41\n"
     ]
    }
   ],
   "source": [
    "tot_sg2_te = 0\n",
    "tot_sg2_tm = 0\n",
    "\n",
    "for sample_info in filtered_sample_infos_sg2\n",
    "    tot_sg2_te += below_light_line(sample_info, 2, [1, 2, 3], [\"te\"])\n",
    "    tot_sg2_tm += below_light_line(sample_info, 2, [1, 2, 3], [\"tm\"])\n",
    "end\n",
    "println(\"Percentage of samples in plane group 2 with isolated nodal points below the light line, TE:\\n$(tot_sg2_te / 100)\")\n",
    "println(\"Percentage of samples in plane group 2 with isolated nodal points below the light line, TM:\\n$(tot_sg2_tm / 100)\")"
   ]
  },
  {
   "cell_type": "code",
   "execution_count": 98,
   "id": "0d9b4b1b-3a5d-49b0-a6b0-b0cc14f15945",
   "metadata": {},
   "outputs": [
    {
     "name": "stdout",
     "output_type": "stream",
     "text": [
      "Percentage of samples in plane group 10 with isolated nodal points below the light line, TE: \n",
      " 2.61\n",
      "Percentage of samples in plane group 10 with isolated nodal points below the light line, TM: \n",
      " 2.13\n"
     ]
    }
   ],
   "source": [
    "tot_sg10_te = 0\n",
    "tot_sg10_tm = 0\n",
    "\n",
    "for sample_info in filtered_sample_infos_sg10\n",
    "    tot_sg10_te += below_light_line(sample_info, 10, [1, 2, 3], [\"te\"])\n",
    "    tot_sg10_tm += below_light_line(sample_info, 10, [1, 2, 3], [\"tm\"])\n",
    "end\n",
    "println(\"Percentage of samples in plane group 10 with isolated nodal points below the light line, TE: \\n $(tot_sg10_te / 100)\")\n",
    "println(\"Percentage of samples in plane group 10 with isolated nodal points below the light line, TM: \\n $(tot_sg10_tm / 100)\")"
   ]
  },
  {
   "cell_type": "code",
   "execution_count": 102,
   "id": "80d33c8e-0f2e-4ebe-b3b1-c9e73900a818",
   "metadata": {},
   "outputs": [
    {
     "name": "stdout",
     "output_type": "stream",
     "text": [
      "Percentage of samples in plane group 16 with isolated nodal points below the light line, TE: \n",
      " 1.36\n",
      "Percentage of samples in plane group 16 with isolated nodal points below the light line, TM: \n",
      " 1.23\n"
     ]
    }
   ],
   "source": [
    "tot_sg16_te = 0\n",
    "tot_sg16_tm = 0\n",
    "\n",
    "for sample_info in filtered_sample_infos_sg16\n",
    "    tot_sg16_te += below_light_line(sample_info, 16, [1, 2, 3], [\"te\"])\n",
    "    tot_sg16_tm += below_light_line(sample_info, 16, [1, 2, 3], [\"tm\"])\n",
    "end\n",
    "println(\"Percentage of samples in plane group 16 with isolated nodal points below the light line, TE: \\n $(tot_sg16_te / 100)\")\n",
    "println(\"Percentage of samples in plane group 16 with isolated nodal points below the light line, TM: \\n $(tot_sg16_tm / 100)\")"
   ]
  },
  {
   "cell_type": "code",
   "execution_count": 103,
   "id": "2ff8307d-5a24-4087-a6e6-48b30dc448c7",
   "metadata": {},
   "outputs": [],
   "source": [
    "# Sanity Checks"
   ]
  },
  {
   "cell_type": "code",
   "execution_count": 189,
   "id": "68f32b23-0e3b-48a1-8c11-70a83de36e5b",
   "metadata": {},
   "outputs": [
    {
     "data": {
      "text/plain": [
       "30"
      ]
     },
     "execution_count": 189,
     "metadata": {},
     "output_type": "execute_result"
    }
   ],
   "source": [
    "calcnames = readdir(dir);\n",
    "length(calcnames)"
   ]
  },
  {
   "cell_type": "code",
   "execution_count": 194,
   "id": "e5b271f0-f407-4668-82b3-7d6928786541",
   "metadata": {},
   "outputs": [
    {
     "name": "stdout",
     "output_type": "stream",
     "text": [
      "Calcname: dim2-sg2-1248-res64-te-dispersion.out\n",
      "0.475 0.474\n",
      "\n",
      "Calcname: dim2-sg2-1452-res64-te-dispersion.out\n",
      "1.019 0.873\n",
      "\n",
      "Calcname: dim2-sg2-27-res64-te-dispersion.out\n",
      "1.091 1.039\n",
      "\n",
      "Calcname: dim2-sg2-2746-res64-te-dispersion.out\n",
      "1.019 0.763\n",
      "\n",
      "Calcname: dim2-sg2-3910-res64-te-dispersion.out\n",
      "0.58 0.58\n",
      "\n",
      "Calcname: dim2-sg2-5250-res64-te-dispersion.out\n",
      "0.775 0.689\n",
      "\n",
      "Calcname: dim2-sg2-7093-res64-te-dispersion.out\n",
      "0.321 0.32\n",
      "\n",
      "Calcname: dim2-sg2-7140-res64-te-dispersion.out\n",
      "0.66 0.598\n",
      "\n",
      "Calcname: dim2-sg2-8244-res64-te-dispersion.out\n",
      "0.743 0.742\n",
      "\n",
      "Calcname: dim2-sg2-9034-res64-te-dispersion.out\n",
      "0.534 0.459\n",
      "\n",
      "\n",
      "\n",
      "\n",
      "Calcname: dim2-sg10-1653-res64-te-dispersion.out\n",
      "0.397 0.397\n",
      "\n",
      "Calcname: dim2-sg10-2122-res64-te-dispersion.out\n",
      "0.451 0.451\n",
      "\n",
      "Calcname: dim2-sg10-3291-res64-te-dispersion.out\n",
      "0.507 0.507\n",
      "\n",
      "Calcname: dim2-sg10-3848-res64-te-dispersion.out\n",
      "0.372 0.372\n",
      "\n",
      "Calcname: dim2-sg10-480-res64-te-dispersion.out\n",
      "0.272 0.272\n",
      "\n",
      "Calcname: dim2-sg10-656-res64-te-dispersion.out\n",
      "0.503 0.503\n",
      "\n",
      "Calcname: dim2-sg10-7070-res64-te-dispersion.out\n",
      "0.313 0.313\n",
      "\n",
      "Calcname: dim2-sg10-8611-res64-te-dispersion.out\n",
      "0.507 0.507\n",
      "\n",
      "Calcname: dim2-sg10-9658-res64-te-dispersion.out\n",
      "0.257 0.257\n",
      "\n",
      "Calcname: dim2-sg10-9753-res64-te-dispersion.out\n",
      "0.248 0.248\n",
      "\n",
      "\n",
      "\n",
      "\n",
      "Calcname: dim2-sg16-1740-res64-te-dispersion.out\n",
      "0.591 0.591\n",
      "\n",
      "Calcname: dim2-sg16-2096-res64-te-dispersion.out\n",
      "0.418 0.418\n",
      "\n",
      "Calcname: dim2-sg16-2315-res64-te-dispersion.out\n",
      "0.196 0.196\n",
      "\n",
      "Calcname: dim2-sg16-4879-res64-te-dispersion.out\n",
      "0.406 0.406\n",
      "\n",
      "Calcname: dim2-sg16-5058-res64-te-dispersion.out\n",
      "0.594 0.594\n",
      "\n",
      "Calcname: dim2-sg16-5357-res64-te-dispersion.out\n",
      "0.611 0.611\n",
      "\n",
      "Calcname: dim2-sg16-7228-res64-te-dispersion.out\n",
      "0.533 0.533\n",
      "\n",
      "Calcname: dim2-sg16-8406-res64-te-dispersion.out\n",
      "0.48 0.48\n",
      "\n",
      "Calcname: dim2-sg16-9143-res64-te-dispersion.out\n",
      "0.508 0.508\n",
      "\n",
      "Calcname: dim2-sg16-9613-res64-te-dispersion.out\n",
      "0.509 0.509\n",
      "\n",
      "\n",
      "\n",
      "\n"
     ]
    }
   ],
   "source": [
    "dir = \"./output/lightline/\"\n",
    "calcnames = readdir(dir);\n",
    "sgnums = [2, 10, 16]\n",
    "num_digits = 3\n",
    "for (sgnum, loaded_data_lightline, ks_sg) in zip(sgnums, [loaded_data_sg2_lightline, loaded_data_sg10_lightline, loaded_data_sg16_lightline], [ks_sg2, ks_sg10, ks_sg16])\n",
    "    #sgnum == 2 || continue\n",
    "    sg_calcnames = filter(x -> MPBUtils.parse_sgnum(x) == sgnum, calcnames)\n",
    "    for calcname in sg_calcnames\n",
    "        band1_disp = readdlm(dir*calcname, ',')[6]\n",
    "        id = parse(Int64, split(calcname, '-')[3])\n",
    "        candidates = filter(x -> x[1][2] == id + 20000, loaded_data_lightline)\n",
    "        filtered_candidates = filter(x -> !isempty(x[2]), candidates)\n",
    "        println(\"Calcname: $calcname\")\n",
    "        for (key, val) in filtered_candidates\n",
    "            mode = key[1]\n",
    "            kidx = val[1][2]\n",
    "            omega = val[1][3]\n",
    "            #println(key)\n",
    "            Rvecs = lattice_from_mpbparams(\"../symeigs/input/dim2-sg$sgnum-$id-res64-$mode.sh\")[1]\n",
    "            #if sgnum == 2\n",
    "            #    println(norm(Rvecs[2]))\n",
    "            #end\n",
    "            Gvecs = reciprocalbasis(Rvecs)\n",
    "            kx, ky = ks_sg[kidx]\n",
    "            knorm = norm(kx * Gvecs[1] + ky * Gvecs[2])\n",
    "            println(round(knorm/(2*pi), digits=num_digits), \" \", round(band1_disp, digits=num_digits), \"\\n\")\n",
    "        end\n",
    "    end\n",
    "    println(\"\\n\\n\")\n",
    "end"
   ]
  }
 ],
 "metadata": {
  "kernelspec": {
   "display_name": "Julia 1.7 Kernel 1.7.2",
   "language": "julia",
   "name": "julia-1.7-kernel-1.7"
  },
  "language_info": {
   "file_extension": ".jl",
   "mimetype": "application/julia",
   "name": "julia",
   "version": "1.7.2"
  }
 },
 "nbformat": 4,
 "nbformat_minor": 5
}
