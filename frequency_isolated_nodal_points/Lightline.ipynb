{
 "cells": [
  {
   "cell_type": "code",
   "execution_count": 46,
   "id": "015902e5-ce99-43e4-9f6b-ac9a90897eb0",
   "metadata": {},
   "outputs": [],
   "source": [
    "ENV[\"PYTHONPATH\"]=\"/home/gridsan/aligho/.local/lib/python3.8/site-packages/PyNormaliz-2.15-py3.8-linux-x86_64.egg\";\n",
    "using Crystalline, MPBUtils, SymmetryBases, JLD2, PyPlot, DelimitedFiles, PyCall, LinearAlgebra\n",
    "shapely_point = pyimport(\"shapely.geometry\").Point\n",
    "shapely_polygon = pyimport(\"shapely.geometry.polygon\").Polygon\n",
    "cm = 1/2.54;"
   ]
  },
  {
   "cell_type": "code",
   "execution_count": 126,
   "id": "e75babbf-4abb-4c4c-86ca-d7e9dd4a25de",
   "metadata": {},
   "outputs": [],
   "source": [
    "ks_sg2 = Vector{Vector{Float64}}()\n",
    "N = 50\n",
    "for i in 1:N+1\n",
    "for j in 1:N+1\n",
    "    kx = -0.5+1*(i-1)/N \n",
    "    ky = 0.5*(j-1)/N \n",
    "    push!(ks_sg2, [kx, ky])\n",
    "end\n",
    "end\n",
    "\n",
    "ks_sg10 = Vector{Vector{Float64}}()\n",
    "N = 50\n",
    "for i in 1:N+1\n",
    "for j in 1:N+1\n",
    "    kx = 0.5*(i-1)/N \n",
    "    ky = 0.5*(j-1)/N \n",
    "    push!(ks_sg10, [kx, ky])\n",
    "end\n",
    "end\n",
    "\n",
    "b1 = (2/sqrt(3))*[sqrt(3)/2, 1/2]\n",
    "b2 = (2/sqrt(3))*[0, 1];\n",
    "v1 = [0, 0]\n",
    "v2 = -1/3*b1+2/3*b2\n",
    "v3 = 1/3*(b1+b2);\n",
    "c = shapely_polygon([v1, v2, v3])\n",
    "\n",
    "ks_sg16 = Vector{Vector{Float64}}()\n",
    "\n",
    "N = 250\n",
    "for i in 1:N+1\n",
    "for j in 1:N+1\n",
    "    kx = -1+2*(i-1)/N \n",
    "    ky = -1+2*(j-1)/N \n",
    "    c.contains(shapely_point(kx*b1+ky*b2)) || continue\n",
    "    push!(ks_sg16, [kx, ky])\n",
    "end\n",
    "end"
   ]
  },
  {
   "cell_type": "code",
   "execution_count": 127,
   "id": "93f573aa-174e-4c94-bb68-f9f39649ef6f",
   "metadata": {},
   "outputs": [],
   "source": [
    "loaded_data_sg2_lightline = load(\"sg2_lightline.jld2\")[\"well_separated_nodal_points\"];\n",
    "loaded_data_sg10_lightline = load(\"sg10_lightline.jld2\")[\"well_separated_nodal_points\"];\n",
    "loaded_data_sg16_lightline = load(\"sg16_lightline.jld2\")[\"well_separated_nodal_points\"];"
   ]
  },
  {
   "cell_type": "code",
   "execution_count": 129,
   "id": "27d63f43-02ed-4806-a767-85285e3c4a12",
   "metadata": {},
   "outputs": [],
   "source": [
    "function below_light_line(sample_info::Pair{Tuple{String, Integer}, Vector{Tuple{Integer, Integer, Float64}}}, sgnum::Integer, \n",
    "        restrict_mult::Vector{Int64} = [1, 2, 3], restrict_modes::Vector{<:AbstractString}=[\"te\", \"tm\"])\n",
    "    mode, real_id = sample_info[1]\n",
    "    (mode ∈ restrict_modes) || return 0\n",
    "    Rvecs = lattice_from_mpbparams(\"../symeigs/input/dim2-sg$sgnum-$(real_id - 20000)-res64-$mode.sh\")[1]\n",
    "    Gvecs = reciprocalbasis(Rvecs)\n",
    "    tot = 0\n",
    "    ks = if sgnum == 2 \n",
    "            ks_sg2\n",
    "        elseif sgnum == 10\n",
    "            ks_sg10\n",
    "        elseif sgnum == 16\n",
    "            ks_sg16\n",
    "        end\n",
    "    for x in sample_info[2]\n",
    "        mult_idx, k_idx, omega = x\n",
    "        (mult_idx ∈ restrict_mult) || continue\n",
    "        kx, ky = ks[k_idx]\n",
    "        knorm = norm(kx * Gvecs[1] + ky * Gvecs[2])\n",
    "        if omega < knorm/(2*pi)\n",
    "            tot += 1\n",
    "        end\n",
    "    end\n",
    "    return tot\n",
    "end;"
   ]
  },
  {
   "cell_type": "code",
   "execution_count": 130,
   "id": "2e726816-0ec6-497a-b256-4a715d9fe128",
   "metadata": {},
   "outputs": [],
   "source": [
    "filtered_sample_infos_sg2 = filter(x -> !isempty(x[2]) && any(y[1] == 2 for y in x[2]), loaded_data_sg2_lightline);\n",
    "filtered_sample_infos_sg10 = filter(x -> !isempty(x[2]) && any(y[1] == 2 for y in x[2]), loaded_data_sg10_lightline);\n",
    "filtered_sample_infos_sg16 = filter(x -> !isempty(x[2]) && any(y[1] == 2 for y in x[2]), loaded_data_sg16_lightline);"
   ]
  },
  {
   "cell_type": "code",
   "execution_count": 125,
   "id": "c3a245c6-223b-441c-8975-bb3beb967046",
   "metadata": {},
   "outputs": [
    {
     "name": "stdout",
     "output_type": "stream",
     "text": [
      "Percentage of samples in plane group 2 with isolated nodal points below the light line, TE:\n",
      "5.11\n",
      "Percentage of samples in plane group 2 with isolated nodal points below the light line, TM:\n",
      "0.32\n"
     ]
    }
   ],
   "source": [
    "tot_sg2_te = 0\n",
    "tot_sg2_tm = 0\n",
    "\n",
    "for sample_info in filtered_sample_infos_sg2\n",
    "    tot_sg2_te += below_light_line(sample_info, 2, [1, 2, 3], [\"te\"])\n",
    "    tot_sg2_tm += below_light_line(sample_info, 2, [1, 2, 3], [\"tm\"])\n",
    "end\n",
    "println(\"Percentage of samples in plane group 2 with isolated nodal points below the light line, TE:\\n$(tot_sg2_te / 100)\")\n",
    "println(\"Percentage of samples in plane group 2 with isolated nodal points below the light line, TM:\\n$(tot_sg2_tm / 100)\")"
   ]
  },
  {
   "cell_type": "code",
   "execution_count": 124,
   "id": "0d9b4b1b-3a5d-49b0-a6b0-b0cc14f15945",
   "metadata": {},
   "outputs": [
    {
     "name": "stdout",
     "output_type": "stream",
     "text": [
      "Percentage of samples in plane group 10 with isolated nodal points below the light line, TE: \n",
      " 1.21\n",
      "Percentage of samples in plane group 10 with isolated nodal points below the light line, TM: \n",
      " 0.31\n"
     ]
    }
   ],
   "source": [
    "tot_sg10_te = 0\n",
    "tot_sg10_tm = 0\n",
    "\n",
    "for sample_info in filtered_sample_infos_sg10\n",
    "    tot_sg10_te += below_light_line(sample_info, 10, [1, 2, 3], [\"te\"])\n",
    "    tot_sg10_tm += below_light_line(sample_info, 10, [1, 2, 3], [\"tm\"])\n",
    "end\n",
    "println(\"Percentage of samples in plane group 10 with isolated nodal points below the light line, TE: \\n $(tot_sg10_te / 100)\")\n",
    "println(\"Percentage of samples in plane group 10 with isolated nodal points below the light line, TM: \\n $(tot_sg10_tm / 100)\")"
   ]
  },
  {
   "cell_type": "code",
   "execution_count": 131,
   "id": "80d33c8e-0f2e-4ebe-b3b1-c9e73900a818",
   "metadata": {},
   "outputs": [
    {
     "name": "stdout",
     "output_type": "stream",
     "text": [
      "Percentage of samples in plane group 16 with isolated nodal points below the light line, TE: \n",
      " 1.42\n",
      "Percentage of samples in plane group 16 with isolated nodal points below the light line, TM: \n",
      " 0.56\n"
     ]
    }
   ],
   "source": [
    "tot_sg16_te = 0\n",
    "tot_sg16_tm = 0\n",
    "\n",
    "for sample_info in filtered_sample_infos_sg10\n",
    "    tot_sg16_te += below_light_line(sample_info, 16, [1, 2, 3], [\"te\"])\n",
    "    tot_sg16_tm += below_light_line(sample_info, 16, [1, 2, 3], [\"tm\"])\n",
    "end\n",
    "println(\"Percentage of samples in plane group 16 with isolated nodal points below the light line, TE: \\n $(tot_sg16_te / 100)\")\n",
    "println(\"Percentage of samples in plane group 16 with isolated nodal points below the light line, TM: \\n $(tot_sg16_tm / 100)\")"
   ]
  },
  {
   "cell_type": "code",
   "execution_count": null,
   "id": "badbec37-8193-4b5b-b7b3-6a36b378f88e",
   "metadata": {},
   "outputs": [],
   "source": []
  }
 ],
 "metadata": {
  "kernelspec": {
   "display_name": "Julia 1.7 Kernel 1.7.2",
   "language": "julia",
   "name": "julia-1.7-kernel-1.7"
  },
  "language_info": {
   "file_extension": ".jl",
   "mimetype": "application/julia",
   "name": "julia",
   "version": "1.7.2"
  }
 },
 "nbformat": 4,
 "nbformat_minor": 5
}
