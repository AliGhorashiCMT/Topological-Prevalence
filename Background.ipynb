{
 "cells": [
  {
   "cell_type": "code",
   "execution_count": 30,
   "id": "113bc78f",
   "metadata": {},
   "outputs": [],
   "source": [
    "using Crystalline, MPBUtils, SymmetryBases, Pkg, MPB_ANALYSIS;\n",
    "using PyPlot\n",
    "using Crystalline: label, formatirreplabel, symvec2string"
   ]
  },
  {
   "cell_type": "code",
   "execution_count": 33,
   "id": "4df23e53",
   "metadata": {},
   "outputs": [
    {
     "name": "stdout",
     "output_type": "stream",
     "text": [
      "Spacegroup 2 has interesting topology\n",
      "Spacegroup 6 has interesting topology\n",
      "Spacegroup 9 has interesting topology\n",
      "Spacegroup 10 has interesting topology\n",
      "Spacegroup 11 has interesting topology\n",
      "Spacegroup 12 has interesting topology\n",
      "Spacegroup 13 has interesting topology\n",
      "Spacegroup 14 has interesting topology\n",
      "Spacegroup 15 has interesting topology\n",
      "Spacegroup 16 has interesting topology\n",
      "Spacegroup 17 has interesting topology\n"
     ]
    }
   ],
   "source": [
    "# Find all spacegroups with non trivial topologies\n",
    "for sg in 2:17\n",
    "    sb, brs = compatibility_basis(sg, 2)\n",
    "    calc_detailed_topology.(sb, Ref(brs))\n",
    "    !isnothing(findfirst(x -> !isequal(x, TopologyKind(0)), calc_detailed_topology.(sb, Ref(brs)))) || continue\n",
    "    println(\"Spacegroup \", sg, \" has interesting topology\")\n",
    "end"
   ]
  },
  {
   "cell_type": "code",
   "execution_count": null,
   "id": "238e0218",
   "metadata": {},
   "outputs": [],
   "source": []
  },
  {
   "cell_type": "code",
   "execution_count": 29,
   "id": "d3e00338",
   "metadata": {},
   "outputs": [
    {
     "data": {
      "text/plain": [
       "24-element Vector{TopologyKind}:\n",
       " TRIVIAL::TopologyKind = 0\n",
       " TRIVIAL::TopologyKind = 0\n",
       " TRIVIAL::TopologyKind = 0\n",
       " TRIVIAL::TopologyKind = 0\n",
       " TRIVIAL::TopologyKind = 0\n",
       " TRIVIAL::TopologyKind = 0\n",
       " TRIVIAL::TopologyKind = 0\n",
       " TRIVIAL::TopologyKind = 0\n",
       " FRAGILE::TopologyKind = 2\n",
       " FRAGILE::TopologyKind = 2\n",
       " FRAGILE::TopologyKind = 2\n",
       " FRAGILE::TopologyKind = 2\n",
       " TRIVIAL::TopologyKind = 0\n",
       " TRIVIAL::TopologyKind = 0\n",
       " TRIVIAL::TopologyKind = 0\n",
       " TRIVIAL::TopologyKind = 0\n",
       " TRIVIAL::TopologyKind = 0\n",
       " TRIVIAL::TopologyKind = 0\n",
       " TRIVIAL::TopologyKind = 0\n",
       " TRIVIAL::TopologyKind = 0\n",
       " FRAGILE::TopologyKind = 2\n",
       " FRAGILE::TopologyKind = 2\n",
       " FRAGILE::TopologyKind = 2\n",
       " FRAGILE::TopologyKind = 2"
      ]
     },
     "execution_count": 29,
     "metadata": {},
     "output_type": "execute_result"
    }
   ],
   "source": [
    "sb, brs = compatibility_basis(6, 2)\n",
    "calc_detailed_topology.(sb, Ref(brs))"
   ]
  },
  {
   "cell_type": "code",
   "execution_count": 34,
   "id": "0f7296f9",
   "metadata": {},
   "outputs": [
    {
     "data": {
      "text/latex": [
       "\\begin{verbatim}\n",
       "dot(x, y)\n",
       "x ⋅ y\n",
       "\\end{verbatim}\n",
       "Compute the dot product between two vectors. For complex vectors, the first vector is conjugated.\n",
       "\n",
       "\\texttt{dot} also works on arbitrary iterable objects, including arrays of any dimension, as long as \\texttt{dot} is defined on the elements.\n",
       "\n",
       "\\texttt{dot} is semantically equivalent to \\texttt{sum(dot(vx,vy) for (vx,vy) in zip(x, y))}, with the added restriction that the arguments must have equal lengths.\n",
       "\n",
       "\\texttt{x ⋅ y} (where \\texttt{⋅} can be typed by tab-completing \\texttt{{\\textbackslash}cdot} in the REPL) is a synonym for \\texttt{dot(x, y)}.\n",
       "\n",
       "\\section{Examples}\n",
       "\\begin{verbatim}\n",
       "julia> dot([1; 1], [2; 3])\n",
       "5\n",
       "\n",
       "julia> dot([im; im], [1; 1])\n",
       "0 - 2im\n",
       "\n",
       "julia> dot(1:5, 2:6)\n",
       "70\n",
       "\n",
       "julia> x = fill(2., (5,5));\n",
       "\n",
       "julia> y = fill(3., (5,5));\n",
       "\n",
       "julia> dot(x, y)\n",
       "150.0\n",
       "\\end{verbatim}\n",
       "\\rule{\\textwidth}{1pt}\n",
       "\\begin{verbatim}\n",
       "dot(x, A, y)\n",
       "\\end{verbatim}\n",
       "Compute the generalized dot product \\texttt{dot(x, A*y)} between two vectors \\texttt{x} and \\texttt{y}, without storing the intermediate result of \\texttt{A*y}. As for the two-argument \\href{@ref}{\\texttt{dot(\\_,\\_)}}, this acts recursively. Moreover, for complex vectors, the first vector is conjugated.\n",
       "\n",
       "\\begin{quote}\n",
       "\\textbf{compat}\n",
       "\n",
       "Julia 1.4\n",
       "\n",
       "Three-argument \\texttt{dot} requires at least Julia 1.4.\n",
       "\n",
       "\\end{quote}\n",
       "\\section{Examples}\n",
       "\\begin{verbatim}\n",
       "julia> dot([1; 1], [1 2; 3 4], [2; 3])\n",
       "26\n",
       "\n",
       "julia> dot(1:5, reshape(1:25, 5, 5), 2:6)\n",
       "4850\n",
       "\n",
       "julia> ⋅(1:5, reshape(1:25, 5, 5), 2:6) == dot(1:5, reshape(1:25, 5, 5), 2:6)\n",
       "true\n",
       "\\end{verbatim}\n"
      ],
      "text/markdown": [
       "```\n",
       "dot(x, y)\n",
       "x ⋅ y\n",
       "```\n",
       "\n",
       "Compute the dot product between two vectors. For complex vectors, the first vector is conjugated.\n",
       "\n",
       "`dot` also works on arbitrary iterable objects, including arrays of any dimension, as long as `dot` is defined on the elements.\n",
       "\n",
       "`dot` is semantically equivalent to `sum(dot(vx,vy) for (vx,vy) in zip(x, y))`, with the added restriction that the arguments must have equal lengths.\n",
       "\n",
       "`x ⋅ y` (where `⋅` can be typed by tab-completing `\\cdot` in the REPL) is a synonym for `dot(x, y)`.\n",
       "\n",
       "# Examples\n",
       "\n",
       "```jldoctest\n",
       "julia> dot([1; 1], [2; 3])\n",
       "5\n",
       "\n",
       "julia> dot([im; im], [1; 1])\n",
       "0 - 2im\n",
       "\n",
       "julia> dot(1:5, 2:6)\n",
       "70\n",
       "\n",
       "julia> x = fill(2., (5,5));\n",
       "\n",
       "julia> y = fill(3., (5,5));\n",
       "\n",
       "julia> dot(x, y)\n",
       "150.0\n",
       "```\n",
       "\n",
       "---\n",
       "\n",
       "```\n",
       "dot(x, A, y)\n",
       "```\n",
       "\n",
       "Compute the generalized dot product `dot(x, A*y)` between two vectors `x` and `y`, without storing the intermediate result of `A*y`. As for the two-argument [`dot(_,_)`](@ref), this acts recursively. Moreover, for complex vectors, the first vector is conjugated.\n",
       "\n",
       "!!! compat \"Julia 1.4\"\n",
       "    Three-argument `dot` requires at least Julia 1.4.\n",
       "\n",
       "\n",
       "# Examples\n",
       "\n",
       "```jldoctest\n",
       "julia> dot([1; 1], [1 2; 3 4], [2; 3])\n",
       "26\n",
       "\n",
       "julia> dot(1:5, reshape(1:25, 5, 5), 2:6)\n",
       "4850\n",
       "\n",
       "julia> ⋅(1:5, reshape(1:25, 5, 5), 2:6) == dot(1:5, reshape(1:25, 5, 5), 2:6)\n",
       "true\n",
       "```\n"
      ],
      "text/plain": [
       "\u001b[36m  dot(x, y)\u001b[39m\n",
       "\u001b[36m  x ⋅ y\u001b[39m\n",
       "\n",
       "  Compute the dot product between two vectors. For complex vectors, the first\n",
       "  vector is conjugated.\n",
       "\n",
       "  \u001b[36mdot\u001b[39m also works on arbitrary iterable objects, including arrays of any\n",
       "  dimension, as long as \u001b[36mdot\u001b[39m is defined on the elements.\n",
       "\n",
       "  \u001b[36mdot\u001b[39m is semantically equivalent to \u001b[36msum(dot(vx,vy) for (vx,vy) in zip(x, y))\u001b[39m,\n",
       "  with the added restriction that the arguments must have equal lengths.\n",
       "\n",
       "  \u001b[36mx ⋅ y\u001b[39m (where \u001b[36m⋅\u001b[39m can be typed by tab-completing \u001b[36m\\cdot\u001b[39m in the REPL) is a\n",
       "  synonym for \u001b[36mdot(x, y)\u001b[39m.\n",
       "\n",
       "\u001b[1m  Examples\u001b[22m\n",
       "\u001b[1m  ≡≡≡≡≡≡≡≡≡≡\u001b[22m\n",
       "\n",
       "\u001b[36m  julia> dot([1; 1], [2; 3])\u001b[39m\n",
       "\u001b[36m  5\u001b[39m\n",
       "\u001b[36m  \u001b[39m\n",
       "\u001b[36m  julia> dot([im; im], [1; 1])\u001b[39m\n",
       "\u001b[36m  0 - 2im\u001b[39m\n",
       "\u001b[36m  \u001b[39m\n",
       "\u001b[36m  julia> dot(1:5, 2:6)\u001b[39m\n",
       "\u001b[36m  70\u001b[39m\n",
       "\u001b[36m  \u001b[39m\n",
       "\u001b[36m  julia> x = fill(2., (5,5));\u001b[39m\n",
       "\u001b[36m  \u001b[39m\n",
       "\u001b[36m  julia> y = fill(3., (5,5));\u001b[39m\n",
       "\u001b[36m  \u001b[39m\n",
       "\u001b[36m  julia> dot(x, y)\u001b[39m\n",
       "\u001b[36m  150.0\u001b[39m\n",
       "\n",
       "  ────────────────────────────────────────────────────────────────────────────\n",
       "\n",
       "\u001b[36m  dot(x, A, y)\u001b[39m\n",
       "\n",
       "  Compute the generalized dot product \u001b[36mdot(x, A*y)\u001b[39m between two vectors \u001b[36mx\u001b[39m and \u001b[36my\u001b[39m,\n",
       "  without storing the intermediate result of \u001b[36mA*y\u001b[39m. As for the two-argument\n",
       "  \u001b[36mdot(_,_)\u001b[39m, this acts recursively. Moreover, for complex vectors, the first\n",
       "  vector is conjugated.\n",
       "\n",
       "\u001b[39m\u001b[1m  │ \u001b[22m\u001b[39m\u001b[1mJulia 1.4\u001b[22m\n",
       "\u001b[39m\u001b[1m  │\u001b[22m\n",
       "\u001b[39m\u001b[1m  │\u001b[22m  Three-argument \u001b[36mdot\u001b[39m requires at least Julia 1.4.\n",
       "\n",
       "\u001b[1m  Examples\u001b[22m\n",
       "\u001b[1m  ≡≡≡≡≡≡≡≡≡≡\u001b[22m\n",
       "\n",
       "\u001b[36m  julia> dot([1; 1], [1 2; 3 4], [2; 3])\u001b[39m\n",
       "\u001b[36m  26\u001b[39m\n",
       "\u001b[36m  \u001b[39m\n",
       "\u001b[36m  julia> dot(1:5, reshape(1:25, 5, 5), 2:6)\u001b[39m\n",
       "\u001b[36m  4850\u001b[39m\n",
       "\u001b[36m  \u001b[39m\n",
       "\u001b[36m  julia> ⋅(1:5, reshape(1:25, 5, 5), 2:6) == dot(1:5, reshape(1:25, 5, 5), 2:6)\u001b[39m\n",
       "\u001b[36m  true\u001b[39m"
      ]
     },
     "execution_count": 34,
     "metadata": {},
     "output_type": "execute_result"
    }
   ],
   "source": [
    "? Crystalline.dot"
   ]
  },
  {
   "cell_type": "code",
   "execution_count": 36,
   "id": "0b5054cf",
   "metadata": {},
   "outputs": [
    {
     "ename": "LoadError",
     "evalue": "DimensionMismatch(\"x and y are of different lengths!\")",
     "output_type": "error",
     "traceback": [
      "DimensionMismatch(\"x and y are of different lengths!\")",
      "",
      "Stacktrace:",
      " [1] dot",
      "   @ /buildworker/worker/package_linux64/build/usr/share/julia/stdlib/v1.6/LinearAlgebra/src/generic.jl:899 [inlined]",
      " [2] dot(x::Vector{Int64}, y::Vector{Vector{Int64}})",
      "   @ LinearAlgebra /buildworker/worker/package_linux64/build/usr/share/julia/stdlib/v1.6/LinearAlgebra/src/generic.jl:914",
      " [3] top-level scope",
      "   @ In[36]:1",
      " [4] eval",
      "   @ ./boot.jl:360 [inlined]",
      " [5] include_string(mapexpr::typeof(REPL.softscope), mod::Module, code::String, filename::String)",
      "   @ Base ./loading.jl:1094"
     ]
    }
   ],
   "source": [
    "Crystalline.dot([1, 2], [[1, 2], [3, 4]])"
   ]
  },
  {
   "cell_type": "code",
   "execution_count": null,
   "id": "7afafefc",
   "metadata": {},
   "outputs": [],
   "source": []
  }
 ],
 "metadata": {
  "kernelspec": {
   "display_name": "Julia MyKernel 1.6.1",
   "language": "julia",
   "name": "julia-mykernel-1.6"
  },
  "language_info": {
   "file_extension": ".jl",
   "mimetype": "application/julia",
   "name": "julia",
   "version": "1.6.1"
  },
  "latex_envs": {
   "LaTeX_envs_menu_present": true,
   "autoclose": false,
   "autocomplete": true,
   "bibliofile": "biblio.bib",
   "cite_by": "apalike",
   "current_citInitial": 1,
   "eqLabelWithNumbers": true,
   "eqNumInitial": 1,
   "hotkeys": {
    "equation": "Ctrl-E",
    "itemize": "Ctrl-I"
   },
   "labels_anchors": false,
   "latex_user_defs": false,
   "report_style_numbering": false,
   "user_envs_cfg": false
  },
  "toc": {
   "base_numbering": 1,
   "nav_menu": {},
   "number_sections": true,
   "sideBar": true,
   "skip_h1_title": false,
   "title_cell": "Table of Contents",
   "title_sidebar": "Contents",
   "toc_cell": false,
   "toc_position": {},
   "toc_section_display": true,
   "toc_window_display": false
  },
  "varInspector": {
   "cols": {
    "lenName": 16,
    "lenType": 16,
    "lenVar": 40
   },
   "kernels_config": {
    "python": {
     "delete_cmd_postfix": "",
     "delete_cmd_prefix": "del ",
     "library": "var_list.py",
     "varRefreshCmd": "print(var_dic_list())"
    },
    "r": {
     "delete_cmd_postfix": ") ",
     "delete_cmd_prefix": "rm(",
     "library": "var_list.r",
     "varRefreshCmd": "cat(var_dic_list()) "
    }
   },
   "types_to_exclude": [
    "module",
    "function",
    "builtin_function_or_method",
    "instance",
    "_Feature"
   ],
   "window_display": false
  }
 },
 "nbformat": 4,
 "nbformat_minor": 5
}
