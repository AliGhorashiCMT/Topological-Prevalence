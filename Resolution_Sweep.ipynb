{
 "cells": [
  {
   "cell_type": "code",
   "execution_count": 4,
   "id": "03bcc480-919c-4002-9945-7baaa1ce9db4",
   "metadata": {},
   "outputs": [],
   "source": [
    "ENV[\"PYTHONPATH\"]=\"/home/gridsan/aligho/.local/lib/python3.8/site-packages/PyNormaliz-2.15-py3.8-linux-x86_64.egg\";\n",
    "using Crystalline, MPBUtils, JLD2, LinearAlgebra, StaticArrays, SymmetryBases, PyPlot, DelimitedFiles, PrettyTables, Brillouin\n",
    "using PyCall\n",
    "include(\"./symeigs/corner_charges.jl\")\n",
    "include(\"./symeigs/wyckoffs_dict.jl\");\n",
    "cm = 1/2.54;"
   ]
  },
  {
   "cell_type": "code",
   "execution_count": 5,
   "id": "3649a57f-76bf-45b3-a2e3-58f0945441d1",
   "metadata": {},
   "outputs": [],
   "source": [
    "atolv = [1e-2, 2e-2, 4e-2, 6e-2, 8e-2, 1e-1] # (1e-2 is the default used in our version of MPBUtils.jl)\n",
    "revisions_dir = \"./Revisions/Resolution_Sweep/\"\n",
    "symeigs_dir = \"./symeigs/\";  # Relative paths to relevant directories\n",
    "sgs = [2, 10, 13, 16]; # Only examine p2, p4, p3, and p6"
   ]
  },
  {
   "cell_type": "code",
   "execution_count": 6,
   "id": "a9dd4984-556e-402a-bd94-70828370c22e",
   "metadata": {},
   "outputs": [],
   "source": [
    "stable_count_atol_sweep = Dict{Tuple{Integer, Integer, Integer, String, Integer}, Vector{Float64}}() # Key is (sg, id_eps=3, resolution, polarization, atol)\n",
    "fragile_count_atol_sweep = Dict{Tuple{Integer, Integer, Integer, String, Integer}, Vector{Float64}}()\n",
    "\n",
    "cum_stable_count_atol_sweep = Dict{Tuple{Integer, Integer, Integer, String, Integer}, Vector{Float64}}()\n",
    "cum_fragile_count_atol_sweep = Dict{Tuple{Integer, Integer, Integer, String, Integer}, Vector{Float64}}()\n",
    "\n",
    "total_sample_count_atol_sweep = Dict{Tuple{Integer, Integer, Integer, String, Integer}, Vector{Float64}}()\n",
    "\n",
    "# We divide by 100 since we have 10000 samples per relevant category, so we divide by 10000 and multiply by 100 (to get a percentage)\n",
    "\n",
    "# Below we sweep through atols 2e-2, 4e-2, 6e-2, 8e-2, 1e-1\n",
    "for sg in sgs\n",
    "    loaded_data = load(revisions_dir*\"sg$sg-data-atolsweep.jld2\")\n",
    "    \n",
    "    stable_count_dict = loaded_data[\"stable_count\"]\n",
    "    trivial_count_dict = loaded_data[\"trivial_count\"]\n",
    "    fragile_count_dict = loaded_data[\"fragile_count\"]\n",
    "    \n",
    "    cum_stable_count_dict = loaded_data[\"cum_stable_count\"]\n",
    "    cum_trivial_count_dict = loaded_data[\"cum_trivial_count\"]\n",
    "    cum_fragile_count_dict = loaded_data[\"cum_fragile_count\"]\n",
    "\n",
    "    merge!(total_sample_count_atol_sweep, Dict(x => (stable_count_dict[x] + trivial_count_dict[x] + fragile_count_dict[x])[1:3] for (x, _) in stable_count_dict     ))\n",
    "    merge!(stable_count_atol_sweep,  Dict(x => y[1:3]./100 for (x, y) in stable_count_dict))\n",
    "    merge!(fragile_count_atol_sweep, Dict(x => y[1:3]./100  for (x, y) in fragile_count_dict))\n",
    "    merge!(cum_stable_count_atol_sweep,  Dict(x => y[1:3]./100  for (x, y) in cum_stable_count_dict))\n",
    "    merge!(cum_fragile_count_atol_sweep, Dict(x => y[1:3]./100 for (x, y) in cum_fragile_count_dict))\n",
    "end\n",
    "\n",
    "#Now have to merge our dictionaries with the ones relevant for atol = 1e-2\n",
    "\n",
    "for sg in sgs\n",
    "    loaded_data = load(revisions_dir*\"sg$sg-data.jld2\")\n",
    "    \n",
    "    stable_count_dict = loaded_data[\"stable_count\"]\n",
    "    trivial_count_dict = loaded_data[\"trivial_count\"]\n",
    "    fragile_count_dict = loaded_data[\"fragile_count\"]\n",
    "    \n",
    "    cum_stable_count_dict = loaded_data[\"cum_stable_count\"]\n",
    "    cum_trivial_count_dict = loaded_data[\"cum_trivial_count\"]\n",
    "    cum_fragile_count_dict = loaded_data[\"cum_fragile_count\"]\n",
    "\n",
    "    merge!(total_sample_count_atol_sweep , Dict((x[1], x[2], x[3], x[4], 0) => (stable_count_dict[x] + trivial_count_dict[x] + fragile_count_dict[x])[1:3] for (x, _) in stable_count_dict     ))\n",
    "    merge!(stable_count_atol_sweep ,  Dict((x[1], x[2], x[3], x[4], 0) => y[1:3]./100 for (x, y) in stable_count_dict))\n",
    "    merge!(fragile_count_atol_sweep , Dict((x[1], x[2], x[3], x[4], 0)=> y[1:3]./100  for (x, y) in fragile_count_dict))\n",
    "    merge!(cum_stable_count_atol_sweep ,  Dict((x[1], x[2], x[3], x[4], 0) => y[1:3]./100  for (x, y) in cum_stable_count_dict))\n",
    "    merge!(cum_fragile_count_atol_sweep , Dict((x[1], x[2], x[3], x[4], 0) => y[1:3]./100 for (x, y) in cum_fragile_count_dict))\n",
    "end\n",
    "\n",
    "for sg in sgs\n",
    "    loaded_data = load(symeigs_dir*\"sg$sg-data.jld2\")\n",
    "    \n",
    "    stable_count_dict = loaded_data[\"stable_count\"]\n",
    "    trivial_count_dict = loaded_data[\"trivial_count\"]\n",
    "    fragile_count_dict = loaded_data[\"fragile_count\"]\n",
    "    \n",
    "    cum_stable_count_dict = loaded_data[\"cum_stable_count\"]\n",
    "    cum_trivial_count_dict = loaded_data[\"cum_trivial_count\"]\n",
    "    cum_fragile_count_dict = loaded_data[\"cum_fragile_count\"]\n",
    "\n",
    "    merge!(total_sample_count_atol_sweep, Dict((x[1], x[2], 9, x[3], 0) => (stable_count_dict[x] + trivial_count_dict[x] + fragile_count_dict[x])[1:3] for (x, _) in stable_count_dict     ))\n",
    "    merge!(stable_count_atol_sweep,  Dict((x[1], x[2], 9, x[3], 0) => y[1:3] ./ 100 for (x, y) in stable_count_dict))\n",
    "    merge!(fragile_count_atol_sweep, Dict((x[1], x[2], 9, x[3], 0) => y[1:3] ./ 100 for (x, y) in fragile_count_dict))\n",
    "    merge!(cum_stable_count_atol_sweep,  Dict((x[1], x[2], 9, x[3], 0) => y[1:3] ./ 100 for (x, y) in cum_stable_count_dict))\n",
    "    merge!(cum_fragile_count_atol_sweep, Dict((x[1], x[2], 9, x[3], 0) => y[1:3] ./ 100 for (x, y) in cum_fragile_count_dict))\n",
    "end\n"
   ]
  },
  {
   "cell_type": "code",
   "execution_count": 7,
   "id": "86862c6f-957b-418e-a7ff-e07d232ff193",
   "metadata": {},
   "outputs": [],
   "source": [
    "corner_data_atol_sweep = Dict{Tuple{Integer, Integer, Integer, String, Integer}, Vector{Float64}}()\n",
    "\n",
    "for atol_idx in 1:5\n",
    "    for mode in [\"te\", \"tm\"]\n",
    "        for sg in [2, 10, 13, 16]\n",
    "            loaded_data = load(revisions_dir*\"/sg$sg-corner-data-atolsweep.jld2\")\n",
    "            cum_corner_charges = loaded_data[\"cum_corner_charges\"]\n",
    "            for res_idx in 6:9\n",
    "                x = (sum([cum_corner_charges[(sg, 3, res_idx, mode, wp, atol_idx)] for wp in sg_wyckoffs_dict[sg]])/length(sg_wyckoffs_dict[sg]))[1:3] ./ 100\n",
    "                merge!(corner_data_atol_sweep, Dict((sg, 3, res_idx, mode, atol_idx) => x) )\n",
    "            end\n",
    "        end\n",
    "    end\n",
    "end\n",
    "\n",
    "for mode in [\"te\", \"tm\"]\n",
    "    for sg in [2, 10, 13, 16]\n",
    "        loaded_data = load(revisions_dir*\"/sg$sg-corner-data.jld2\")\n",
    "        cum_corner_charges = loaded_data[\"cum_corner_charges\"]\n",
    "        for res_idx in 1:8\n",
    "            x = (sum([cum_corner_charges[(sg, 3, res_idx, mode, wp)] for wp in sg_wyckoffs_dict[sg]])/length(sg_wyckoffs_dict[sg]))[1:3] ./ 100\n",
    "            merge!(corner_data_atol_sweep, Dict((sg, 3, res_idx, mode, 0) => x) )\n",
    "        end\n",
    "    end\n",
    "end\n",
    "\n",
    "for mode in [\"te\", \"tm\"]\n",
    "    for sg in [2, 10, 13, 16]\n",
    "        loaded_data = load(symeigs_dir*\"/sg$sg-corner-data.jld2\")\n",
    "        cum_corner_charges = loaded_data[\"cum_corner_charges\"]\n",
    "        x = (sum([cum_corner_charges[(sg, 3, mode, wp)] for wp in sg_wyckoffs_dict[sg]])/length(sg_wyckoffs_dict[sg]))[1:3] ./ 100\n",
    "        merge!(corner_data_atol_sweep, Dict((sg, 3, 9, mode, 0) => x) )\n",
    "    end\n",
    "end\n"
   ]
  },
  {
   "cell_type": "code",
   "execution_count": 5,
   "id": "060a1710-4c0b-4c6f-8ad1-88e974fbcb3f",
   "metadata": {},
   "outputs": [],
   "source": [
    "# First analyze fragile topology"
   ]
  },
  {
   "cell_type": "code",
   "execution_count": 8,
   "id": "2d5f4d95-ec2f-40f7-ad59-4f90fb655495",
   "metadata": {},
   "outputs": [],
   "source": [
    "diffs_dict = Dict{Tuple{String, Integer, String}, Vector{Matrix{Float64}}}()\n",
    "\n",
    "for (stat_type, data) in zip([\"stable\", \"fragile\", \"corner\"], [stable_count_atol_sweep, fragile_count_atol_sweep, corner_data_atol_sweep])\n",
    "    for sg in sgs\n",
    "        for mode in [\"te\", \"tm\"]\n",
    "            atol_res_matv = Vector{Matrix{Float64}}(undef, 3)\n",
    "            for mult_idx in eachindex(atol_res_matv)\n",
    "                diffs = zeros(6, 4)\n",
    "                compare_against_key = (sg, 3, 9, mode, 0) # id_eps = 3, resolution of 64, atol = 1e-2\n",
    "                compare_against = data[compare_against_key] \n",
    "                for atol_idx in 0:5\n",
    "                    for res_idx in 6:9\n",
    "                        diffs[atol_idx+1, res_idx-5] = round(data[(sg, 3, res_idx, mode, atol_idx)][mult_idx]  - compare_against[mult_idx], digits=2)\n",
    "                    end\n",
    "                end\n",
    "                atol_res_matv[mult_idx] = abs.(diffs)\n",
    "            end\n",
    "            diffs_dict[(stat_type, sg, mode)] = atol_res_matv\n",
    "        end\n",
    "    end\n",
    "end"
   ]
  },
  {
   "cell_type": "code",
   "execution_count": 10,
   "id": "ea8995ae-7582-4d00-97cd-aab966e2ce58",
   "metadata": {},
   "outputs": [
    {
     "data": {
      "text/plain": [
       "6×4 Matrix{Float64}:\n",
       " 0.24  0.0   0.2   0.16\n",
       " 0.17  0.1   0.27  0.19\n",
       " 0.07  0.22  0.35  0.15\n",
       " 0.06  0.32  0.33  0.16\n",
       " 0.21  0.29  0.31  0.18\n",
       " 0.19  0.38  0.28  0.17"
      ]
     },
     "execution_count": 10,
     "metadata": {},
     "output_type": "execute_result"
    }
   ],
   "source": [
    "# Corner charge statistical differences for p6, multiplet 3\n",
    "mult_idx = 3\n",
    "sgnum = 16\n",
    "diffs_dict[(\"corner\", sgnum, \"te\")][mult_idx][:, [1, 4, 2, 3]]"
   ]
  },
  {
   "cell_type": "code",
   "execution_count": 15,
   "id": "17a033ab-5daf-4679-91fe-3a3a6be3cf6b",
   "metadata": {},
   "outputs": [
    {
     "data": {
      "text/plain": [
       "6×4 Matrix{Float64}:\n",
       " 0.36  0.0   0.67  0.89\n",
       " 0.04  0.53  0.88  0.9\n",
       " 0.47  0.71  0.95  0.98\n",
       " 0.63  0.68  0.98  1.04\n",
       " 0.78  0.72  0.99  1.04\n",
       " 0.81  0.76  0.98  1.06"
      ]
     },
     "execution_count": 15,
     "metadata": {},
     "output_type": "execute_result"
    }
   ],
   "source": [
    "# Stable statistical differences for p6, multiplet 3\n",
    "mult_idx = 3\n",
    "sgnum = 16\n",
    "diffs_dict[(\"stable\", sgnum, \"te\")][mult_idx][:, [1, 4, 2, 3]]"
   ]
  },
  {
   "cell_type": "code",
   "execution_count": 16,
   "id": "3a1f0c1a-32f8-49d2-844a-58b083e34695",
   "metadata": {},
   "outputs": [
    {
     "data": {
      "text/plain": [
       "6×4 Matrix{Float64}:\n",
       " 0.12  0.0   0.31  0.38\n",
       " 0.06  0.19  0.33  0.39\n",
       " 0.14  0.17  0.37  0.37\n",
       " 0.21  0.25  0.39  0.41\n",
       " 0.22  0.31  0.38  0.41\n",
       " 0.25  0.33  0.39  0.44"
      ]
     },
     "execution_count": 16,
     "metadata": {},
     "output_type": "execute_result"
    }
   ],
   "source": [
    "# Fragile statistical differences for p6, multiplet 3\n",
    "mult_idx = 3\n",
    "sgnum = 16\n",
    "diffs_dict[(\"fragile\", sgnum, \"te\")][mult_idx][:, [1, 4, 2, 3]]"
   ]
  },
  {
   "cell_type": "code",
   "execution_count": 13,
   "id": "8ddc328d-ab5e-4cb9-9413-2307125278eb",
   "metadata": {},
   "outputs": [
    {
     "data": {
      "text/plain": [
       "6×4 Matrix{Float64}:\n",
       " 0.63  0.0   0.68  0.9\n",
       " 0.2   0.37  0.9   0.98\n",
       " 0.01  0.46  0.94  0.97\n",
       " 0.13  0.7   0.99  1.03\n",
       " 0.2   0.76  1.01  1.04\n",
       " 0.25  0.8   1.04  1.07"
      ]
     },
     "execution_count": 13,
     "metadata": {},
     "output_type": "execute_result"
    }
   ],
   "source": [
    "# Corner charge statistical differences for p6, multiplet 2\n",
    "mult_idx = 2\n",
    "sgnum = 16\n",
    "diffs_dict[(\"corner\", sgnum, \"te\")][mult_idx][:, [1, 4, 2, 3]]"
   ]
  },
  {
   "cell_type": "code",
   "execution_count": 17,
   "id": "23846806-141b-42f6-a9b1-4439f74780c4",
   "metadata": {},
   "outputs": [
    {
     "data": {
      "text/plain": [
       "6×4 Matrix{Float64}:\n",
       " 0.65  0.0   0.47  0.78\n",
       " 0.13  0.27  0.55  0.79\n",
       " 0.14  0.38  0.69  0.87\n",
       " 0.37  0.49  0.72  0.92\n",
       " 0.5   0.54  0.75  0.93\n",
       " 0.54  0.52  0.79  0.91"
      ]
     },
     "execution_count": 17,
     "metadata": {},
     "output_type": "execute_result"
    }
   ],
   "source": [
    "# Stable charge statistical differences for p6, multiplet 2\n",
    "mult_idx = 2\n",
    "sgnum = 16\n",
    "diffs_dict[(\"stable\", sgnum, \"te\")][mult_idx][:, [1, 4, 2, 3]]"
   ]
  },
  {
   "cell_type": "code",
   "execution_count": 18,
   "id": "75c3e29c-f999-40f8-a0e8-d4d74c136423",
   "metadata": {},
   "outputs": [
    {
     "data": {
      "text/plain": [
       "6×4 Matrix{Float64}:\n",
       " 0.07  0.0   0.11  0.06\n",
       " 0.07  0.05  0.13  0.09\n",
       " 0.02  0.09  0.11  0.08\n",
       " 0.01  0.12  0.08  0.09\n",
       " 0.05  0.14  0.07  0.08\n",
       " 0.04  0.14  0.07  0.08"
      ]
     },
     "execution_count": 18,
     "metadata": {},
     "output_type": "execute_result"
    }
   ],
   "source": [
    "# Fragile charge statistical differences for p6, multiplet 2\n",
    "mult_idx = 2\n",
    "sgnum = 16\n",
    "diffs_dict[(\"fragile\", sgnum, \"te\")][mult_idx][:, [1, 4, 2, 3]]"
   ]
  },
  {
   "cell_type": "code",
   "execution_count": 14,
   "id": "b10e4faa-1342-42d1-a01a-5e58b8db352a",
   "metadata": {},
   "outputs": [
    {
     "data": {
      "text/plain": [
       "6×4 Matrix{Float64}:\n",
       " 0.16  0.0   0.25  0.28\n",
       " 0.03  0.13  0.24  0.29\n",
       " 0.11  0.15  0.31  0.32\n",
       " 0.18  0.21  0.31  0.31\n",
       " 0.24  0.25  0.33  0.31\n",
       " 0.28  0.25  0.33  0.33"
      ]
     },
     "execution_count": 14,
     "metadata": {},
     "output_type": "execute_result"
    }
   ],
   "source": [
    "# Corner charge statistical differences for p6, multiplet 1\n",
    "mult_idx = 1\n",
    "sgnum = 16\n",
    "diffs_dict[(\"corner\", sgnum, \"te\")][mult_idx][:, [1, 4, 2, 3]]"
   ]
  },
  {
   "cell_type": "code",
   "execution_count": 19,
   "id": "89939eff-8c39-4d16-9984-2a426a57c10a",
   "metadata": {},
   "outputs": [
    {
     "data": {
      "text/plain": [
       "6×4 Matrix{Float64}:\n",
       " 0.06  0.0   0.14  0.2\n",
       " 0.14  0.11  0.14  0.22\n",
       " 0.2   0.23  0.21  0.27\n",
       " 0.3   0.27  0.26  0.28\n",
       " 0.37  0.33  0.28  0.28\n",
       " 0.36  0.33  0.3   0.29"
      ]
     },
     "execution_count": 19,
     "metadata": {},
     "output_type": "execute_result"
    }
   ],
   "source": [
    "# Corner charge statistical differences for p6, multiplet 1\n",
    "mult_idx = 1\n",
    "sgnum = 16\n",
    "diffs_dict[(\"stable\", sgnum, \"te\")][mult_idx][:, [1, 4, 2, 3]]"
   ]
  },
  {
   "cell_type": "code",
   "execution_count": 20,
   "id": "17b6b442-ab86-4031-a65d-02113ecef0bf",
   "metadata": {},
   "outputs": [
    {
     "data": {
      "text/plain": [
       "6×4 Matrix{Float64}:\n",
       " 0.0  0.0  0.0  0.0\n",
       " 0.0  0.0  0.0  0.0\n",
       " 0.0  0.0  0.0  0.0\n",
       " 0.0  0.0  0.0  0.0\n",
       " 0.0  0.0  0.0  0.0\n",
       " 0.0  0.0  0.0  0.0"
      ]
     },
     "execution_count": 20,
     "metadata": {},
     "output_type": "execute_result"
    }
   ],
   "source": [
    "# Corner charge statistical differences for p6, multiplet 1\n",
    "mult_idx = 1\n",
    "sgnum = 16\n",
    "diffs_dict[(\"fragile\", sgnum, \"te\")][mult_idx][:, [1, 4, 2, 3]]"
   ]
  },
  {
   "cell_type": "code",
   "execution_count": 21,
   "id": "ba04ff52-2acf-43ea-8c1a-05dfad5e8568",
   "metadata": {},
   "outputs": [
    {
     "data": {
      "text/plain": [
       "6×4 Matrix{Float64}:\n",
       " 0.15  0.0   0.27  0.34\n",
       " 0.02  0.14  0.32  0.35\n",
       " 0.09  0.23  0.34  0.36\n",
       " 0.16  0.27  0.35  0.37\n",
       " 0.21  0.29  0.36  0.38\n",
       " 0.23  0.31  0.36  0.38"
      ]
     },
     "execution_count": 21,
     "metadata": {},
     "output_type": "execute_result"
    }
   ],
   "source": [
    "mult_idx = 1\n",
    "sgnum = 13\n",
    "diffs_dict[(\"corner\", sgnum, \"te\")][mult_idx][:, [1, 4, 2, 3]]"
   ]
  },
  {
   "cell_type": "code",
   "execution_count": 24,
   "id": "3a1803f6-c0f9-4140-b781-a69bb3c6a70b",
   "metadata": {},
   "outputs": [
    {
     "data": {
      "text/plain": [
       "6×4 Matrix{Float64}:\n",
       " 0.32  0.0   0.44  0.55\n",
       " 0.07  0.2   0.5   0.6\n",
       " 0.05  0.38  0.57  0.65\n",
       " 0.16  0.45  0.59  0.67\n",
       " 0.25  0.49  0.61  0.68\n",
       " 0.28  0.54  0.61  0.68"
      ]
     },
     "execution_count": 24,
     "metadata": {},
     "output_type": "execute_result"
    }
   ],
   "source": [
    "mult_idx = 2\n",
    "sgnum = 13\n",
    "diffs_dict[(\"corner\", sgnum, \"te\")][mult_idx][:, [1, 4, 2, 3]]"
   ]
  },
  {
   "cell_type": "code",
   "execution_count": 25,
   "id": "02ac4d4d-e7c5-415a-b392-e61a975fd4ba",
   "metadata": {},
   "outputs": [
    {
     "data": {
      "text/plain": [
       "6×4 Matrix{Float64}:\n",
       " 0.12  0.0   0.17  0.2\n",
       " 0.02  0.09  0.2   0.24\n",
       " 0.11  0.22  0.25  0.28\n",
       " 0.16  0.28  0.28  0.3\n",
       " 0.21  0.31  0.29  0.3\n",
       " 0.23  0.32  0.31  0.3"
      ]
     },
     "execution_count": 25,
     "metadata": {},
     "output_type": "execute_result"
    }
   ],
   "source": [
    "mult_idx = 3\n",
    "sgnum = 13\n",
    "diffs_dict[(\"corner\", sgnum, \"te\")][mult_idx][:, [1, 4, 2, 3]]"
   ]
  },
  {
   "cell_type": "code",
   "execution_count": 26,
   "id": "6eaaa0c6-6c51-4f64-9148-79bf144d4721",
   "metadata": {},
   "outputs": [
    {
     "data": {
      "text/plain": [
       "6×4 Matrix{Float64}:\n",
       " 0.0  0.0  0.0  0.0\n",
       " 0.0  0.0  0.0  0.0\n",
       " 0.0  0.0  0.0  0.0\n",
       " 0.0  0.0  0.0  0.0\n",
       " 0.0  0.0  0.0  0.0\n",
       " 0.0  0.0  0.0  0.0"
      ]
     },
     "execution_count": 26,
     "metadata": {},
     "output_type": "execute_result"
    }
   ],
   "source": [
    "# Corner charge statistical differences for p6, multiplet 1\n",
    "mult_idx = 1\n",
    "sgnum = 16\n",
    "diffs_dict[(\"fragile\", sgnum, \"te\")][mult_idx][:, [1, 4, 2, 3]]"
   ]
  },
  {
   "cell_type": "code",
   "execution_count": 30,
   "id": "df382e99-e3f0-4a44-ba95-7eb74e80f86b",
   "metadata": {},
   "outputs": [
    {
     "data": {
      "text/plain": [
       "6×4 Matrix{Float64}:\n",
       " 0.12  0.0   0.14  0.18\n",
       " 0.05  0.08  0.18  0.18\n",
       " 0.05  0.14  0.19  0.2\n",
       " 0.07  0.17  0.2   0.21\n",
       " 0.09  0.17  0.2   0.22\n",
       " 0.12  0.18  0.2   0.22"
      ]
     },
     "execution_count": 30,
     "metadata": {},
     "output_type": "execute_result"
    }
   ],
   "source": [
    "# Corner charge statistical differences for p6, multiplet 1\n",
    "mult_idx = 2\n",
    "sgnum = 13\n",
    "diffs_dict[(\"fragile\", sgnum, \"te\")][mult_idx][:, [1, 4, 2, 3]]"
   ]
  },
  {
   "cell_type": "code",
   "execution_count": 29,
   "id": "203abd29-8da7-4bf3-a392-8fbafe4e84e0",
   "metadata": {},
   "outputs": [
    {
     "data": {
      "text/plain": [
       "6×4 Matrix{Float64}:\n",
       " 0.92  0.0   1.18  1.49\n",
       " 0.25  0.5   1.35  1.55\n",
       " 0.3   0.92  1.48  1.64\n",
       " 0.59  1.1   1.57  1.71\n",
       " 0.79  1.14  1.58  1.74\n",
       " 0.89  1.21  1.6   1.77"
      ]
     },
     "execution_count": 29,
     "metadata": {},
     "output_type": "execute_result"
    }
   ],
   "source": [
    "# Corner charge statistical differences for p6, multiplet 1\n",
    "mult_idx = 3\n",
    "sgnum = 13\n",
    "diffs_dict[(\"fragile\", sgnum, \"te\")][mult_idx][:, [1, 4, 2, 3]]"
   ]
  },
  {
   "cell_type": "code",
   "execution_count": null,
   "id": "2e633056-94b0-43d0-a7d0-154981d85096",
   "metadata": {},
   "outputs": [],
   "source": []
  }
 ],
 "metadata": {
  "kernelspec": {
   "display_name": "Julia 1.7 Kernel 1.7.2",
   "language": "julia",
   "name": "julia-1.7-kernel-1.7"
  },
  "language_info": {
   "file_extension": ".jl",
   "mimetype": "application/julia",
   "name": "julia",
   "version": "1.7.2"
  }
 },
 "nbformat": 4,
 "nbformat_minor": 5
}
