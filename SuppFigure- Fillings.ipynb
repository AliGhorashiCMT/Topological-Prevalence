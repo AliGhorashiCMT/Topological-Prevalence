{
 "cells": [
  {
   "cell_type": "code",
   "execution_count": 1,
   "metadata": {},
   "outputs": [],
   "source": [
    "using Crystalline, MPBUtils, JLD2, LinearAlgebra, StaticArrays, SymmetryBases, PyPlot, DelimitedFiles, PrettyTables, Brillouin\n",
    "using PyCall\n",
    "np = pyimport(\"numpy\")\n",
    "include(\"plotting_utilities.jl\")\n",
    "cm = 1/2.54;"
   ]
  },
  {
   "cell_type": "code",
   "execution_count": 2,
   "metadata": {},
   "outputs": [],
   "source": [
    "loaded_data_sg16 = load(\"./symeigs/sg16-fillings-data.jld2\")\n",
    "loaded_data_sg10 = load(\"./symeigs/sg10-fillings-data.jld2\")\n",
    "loaded_data_sg2 = load(\"./symeigs/sg2-fillings-data.jld2\");"
   ]
  },
  {
   "cell_type": "code",
   "execution_count": 14,
   "metadata": {},
   "outputs": [],
   "source": [
    "# Test making more coarse-grained data"
   ]
  },
  {
   "cell_type": "code",
   "execution_count": 3,
   "metadata": {},
   "outputs": [],
   "source": [
    "#coarse_grained_filling_range = [(2n-1):(2n) for n in 1:6]\n",
    "coarse_grained_filling_range = [1:4, 5:8, 9:13];\n",
    "#coarse_grained_filling_range = [n:n for n in 1:13] #Sanity check\n",
    "num_fillings = length(coarse_grained_filling_range);"
   ]
  },
  {
   "cell_type": "code",
   "execution_count": 4,
   "metadata": {},
   "outputs": [
    {
     "data": {
      "text/plain": [
       "3-element Vector{Vector{Float64}}:\n",
       " [0.2, 0.25, 0.3, 0.35]\n",
       " [0.4, 0.45, 0.5, 0.55]\n",
       " [0.6, 0.65, 0.7, 0.75, 0.8]"
      ]
     },
     "execution_count": 4,
     "metadata": {},
     "output_type": "execute_result"
    }
   ],
   "source": [
    "fillings = collect(0.2:0.05:0.8)\n",
    "[fillings[x] for x in coarse_grained_filling_range]"
   ]
  },
  {
   "cell_type": "code",
   "execution_count": 5,
   "metadata": {},
   "outputs": [
    {
     "data": {
      "image/png": "[encoded data removed]",
      "text/plain": [
       "Figure(PyObject <Figure size 669.291x118.11 with 3 Axes>)"
      ]
     },
     "metadata": {},
     "output_type": "display_data"
    }
   ],
   "source": [
    "figure(figsize=(17cm, 3cm))\n",
    "subplot(1, 3, 1)\n",
    "\n",
    "fig_dir = \"./Fillings_Figs/\"\n",
    "\n",
    "mode=\"tm\"\n",
    "\n",
    "stable_data = loaded_data_sg2[\"stable_count\"]\n",
    "total_data = loaded_data_sg2[\"total_count\"]\n",
    "y = [sum([stable_data[(mode, id)][1] for id in coarse_grained_filling_range[i]]) for i in 1:num_fillings] \n",
    "x = [sum([total_data[(mode, id)][1] for id in coarse_grained_filling_range[i]]) for i in 1:num_fillings] \n",
    "bar(1:num_fillings, 100*y ./ x)\n",
    "ylim(0, 50)\n",
    "yticks([0, 50])\n",
    "@assert sum(x) == 10000\n",
    "\n",
    "\n",
    "subplot(1, 3, 2)\n",
    "stable_data = loaded_data_sg10[\"stable_count\"]\n",
    "total_data = loaded_data_sg10[\"total_count\"]\n",
    "y = [sum([stable_data[(mode, id)][1] for id in coarse_grained_filling_range[i]]) for i in 1:num_fillings] \n",
    "x = [sum([total_data[(mode, id)][1] for id in coarse_grained_filling_range[i]]) for i in 1:num_fillings] \n",
    "bar(1:num_fillings, 100*y ./ x)\n",
    "#ylim(0, 0.6)\n",
    "#yticks([0, 0.6])\n",
    "@assert sum(x) == 10000\n",
    "\n",
    "\n",
    "subplot(1, 3, 3)\n",
    "stable_data = loaded_data_sg16[\"stable_count\"]\n",
    "total_data = loaded_data_sg16[\"total_count\"]\n",
    "y = [sum([stable_data[(mode, id)][1] for id in coarse_grained_filling_range[i]]) for i in 1:num_fillings] \n",
    "x = [sum([total_data[(mode, id)][1] for id in coarse_grained_filling_range[i]]) for i in 1:num_fillings] \n",
    "bar(1:num_fillings, 100*y ./ x)\n",
    "ylim(0, 3)\n",
    "yticks([0,3])\n",
    "@assert sum(x) == 10000\n",
    "\n",
    "#savefig(fig_dir*\"stable_wrt_fillings_tm.pdf\")"
   ]
  },
  {
   "cell_type": "code",
   "execution_count": 6,
   "metadata": {},
   "outputs": [
    {
     "data": {
      "image/png": "[encoded data removed]",
      "text/plain": [
       "Figure(PyObject <Figure size 669.291x118.11 with 3 Axes>)"
      ]
     },
     "metadata": {},
     "output_type": "display_data"
    }
   ],
   "source": [
    "figure(figsize=(17cm, 3cm))\n",
    "subplot(1, 3, 1)\n",
    "\n",
    "mode = \"te\"\n",
    "\n",
    "stable_data = loaded_data_sg2[\"stable_count\"]\n",
    "total_data = loaded_data_sg2[\"total_count\"]\n",
    "y = [sum([stable_data[(mode, id)][1] for id in coarse_grained_filling_range[i]]) for i in 1:num_fillings] \n",
    "x = [sum([total_data[(mode, id)][1] for id in coarse_grained_filling_range[i]]) for i in 1:num_fillings] \n",
    "bar(1:num_fillings, 100*y ./ x)\n",
    "ylim(0, 60)\n",
    "yticks([0, 60])\n",
    "@assert sum(x) == 10000\n",
    "\n",
    "\n",
    "subplot(1, 3, 2)\n",
    "stable_data = loaded_data_sg10[\"stable_count\"]\n",
    "total_data = loaded_data_sg10[\"total_count\"]\n",
    "y = [sum([stable_data[(mode, id)][1] for id in coarse_grained_filling_range[i]]) for i in 1:num_fillings] \n",
    "x = [sum([total_data[(mode, id)][1] for id in coarse_grained_filling_range[i]]) for i in 1:num_fillings] \n",
    "bar(1:num_fillings, 100*y ./ x)\n",
    "ylim(0, 60)\n",
    "yticks([0, 60])\n",
    "@assert sum(x) == 10000\n",
    "\n",
    "\n",
    "subplot(1, 3, 3)\n",
    "stable_data = loaded_data_sg16[\"stable_count\"]\n",
    "total_data = loaded_data_sg16[\"total_count\"]\n",
    "y = [sum([stable_data[(mode, id)][1] for id in coarse_grained_filling_range[i]]) for i in 1:num_fillings] \n",
    "x = [sum([total_data[(mode, id)][1] for id in coarse_grained_filling_range[i]]) for i in 1:num_fillings] \n",
    "bar(1:num_fillings, 100*y ./ x)\n",
    "ylim(0, 30)\n",
    "yticks([0, 30])\n",
    "@assert sum(x) == 10000\n",
    "#savefig(fig_dir*\"stable_wrt_fillings_te.pdf\")"
   ]
  },
  {
   "cell_type": "code",
   "execution_count": null,
   "metadata": {},
   "outputs": [],
   "source": []
  }
 ],
 "metadata": {
  "kernelspec": {
   "display_name": "Julia 1.7 Kernel 1.7.2",
   "language": "julia",
   "name": "julia-1.7-kernel-1.7"
  },
  "language_info": {
   "file_extension": ".jl",
   "mimetype": "application/julia",
   "name": "julia",
   "version": "1.7.2"
  },
  "latex_envs": {
   "LaTeX_envs_menu_present": true,
   "autoclose": false,
   "autocomplete": true,
   "bibliofile": "biblio.bib",
   "cite_by": "apalike",
   "current_citInitial": 1,
   "eqLabelWithNumbers": true,
   "eqNumInitial": 1,
   "hotkeys": {
    "equation": "Ctrl-E",
    "itemize": "Ctrl-I"
   },
   "labels_anchors": false,
   "latex_user_defs": false,
   "report_style_numbering": false,
   "user_envs_cfg": false
  },
  "toc": {
   "base_numbering": 1,
   "nav_menu": {},
   "number_sections": true,
   "sideBar": true,
   "skip_h1_title": false,
   "title_cell": "Table of Contents",
   "title_sidebar": "Contents",
   "toc_cell": false,
   "toc_position": {},
   "toc_section_display": true,
   "toc_window_display": false
  },
  "varInspector": {
   "cols": {
    "lenName": 16,
    "lenType": 16,
    "lenVar": 40
   },
   "kernels_config": {
    "python": {
     "delete_cmd_postfix": "",
     "delete_cmd_prefix": "del ",
     "library": "var_list.py",
     "varRefreshCmd": "print(var_dic_list())"
    },
    "r": {
     "delete_cmd_postfix": ") ",
     "delete_cmd_prefix": "rm(",
     "library": "var_list.r",
     "varRefreshCmd": "cat(var_dic_list()) "
    }
   },
   "types_to_exclude": [
    "module",
    "function",
    "builtin_function_or_method",
    "instance",
    "_Feature"
   ],
   "window_display": false
  }
 },
 "nbformat": 4,
 "nbformat_minor": 2
}
