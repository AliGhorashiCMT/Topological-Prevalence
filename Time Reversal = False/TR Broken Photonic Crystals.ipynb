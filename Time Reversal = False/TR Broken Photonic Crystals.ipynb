{
 "cells": [
  {
   "cell_type": "code",
   "execution_count": 1,
   "metadata": {},
   "outputs": [],
   "source": [
    "using Crystalline, MPBUtils, SymmetryBases, JLD2, PyPlot"
   ]
  },
  {
   "cell_type": "code",
   "execution_count": 2,
   "metadata": {},
   "outputs": [],
   "source": [
    "sg = 2\n",
    "mode = \"te\"\n",
    "loaded_data = load(\"sg$sg-data.jld2\")[\"stable_count\"]\n",
    "sg2_data = [sum([x[1] for x in loaded_data[(sg, idx, \"te\")]* 100 ./ 10000][2:end]) for idx in [4, 1, 2, 3]]\n",
    "sg = 10\n",
    "mode = \"te\"\n",
    "loaded_data = load(\"sg$sg-data.jld2\")[\"stable_count\"]\n",
    "sg10_data = [sum([x[1] for x in loaded_data[(sg, idx, \"te\")]* 100 ./ 10000][2:end]) for idx in [4, 1, 2, 3]]\n",
    "sg = 13\n",
    "mode = \"te\"\n",
    "loaded_data = load(\"sg$sg-data.jld2\")[\"stable_count\"]\n",
    "sg13_data = [sum([x[1] for x in loaded_data[(sg, idx, \"te\")]* 100 ./ 10000][2:end]) for idx in [4, 1, 2, 3]]\n",
    "sg = 16\n",
    "mode = \"te\"\n",
    "loaded_data = load(\"sg$sg-data.jld2\")[\"stable_count\"]\n",
    "sg16_data = [sum([x[1] for x in loaded_data[(sg, idx, \"te\")]* 100 ./ 10000][2:end]) for idx in [4, 1, 2, 3]];\n",
    "g_data = [sg2_data..., sg10_data..., sg13_data..., sg16_data...];"
   ]
  },
  {
   "cell_type": "code",
   "execution_count": 4,
   "metadata": {},
   "outputs": [
    {
     "data": {
      "image/png": "[encoded data removed]",
      "text/plain": [
       "Figure(PyObject <Figure size 640x480 with 1 Axes>)"
      ]
     },
     "metadata": {},
     "output_type": "display_data"
    }
   ],
   "source": [
    "bar(1:16, g_data);\n",
    "ylim(0, 60);\n",
    "#savefig(\"TRBroken.pdf\");"
   ]
  },
  {
   "cell_type": "code",
   "execution_count": 8,
   "metadata": {},
   "outputs": [
    {
     "name": "stdout",
     "output_type": "stream",
     "text": [
      "1.596\n",
      "1.594\n",
      "1.57\n",
      "1.528\n",
      "1.755\n",
      "1.948\n",
      "2.029\n",
      "2.125\n",
      "0.0\n",
      "0.0\n",
      "0.027\n",
      "0.083\n",
      "0.982\n",
      "1.01\n",
      "1.176\n",
      "1.365\n"
     ]
    }
   ],
   "source": [
    "# For posterity, we save how high the bars should be in figure 4: \n",
    "\n",
    "bar_height = 2.347 # Total bar height (on lhs of figure)\n",
    "bar_top_percentage = 60 # Highest percentage marked on the figure\n",
    "for data in g_data\n",
    "    println(round((data/bar_top_percentage)*bar_height, digits=3))\n",
    "end"
   ]
  },
  {
   "cell_type": "code",
   "execution_count": 10,
   "metadata": {},
   "outputs": [],
   "source": [
    "sg = 2\n",
    "mode = \"te\"\n",
    "loaded_data = load(\"sg$sg-data.jld2\")[\"stable_count\"]\n",
    "sg2_data = vec(sum(hcat([x[1:3] for x in loaded_data[(sg, 2, \"te\")]* 100 ./ 10000][2:end]...), dims=2))\n",
    "sg = 10\n",
    "mode = \"te\"\n",
    "loaded_data = load(\"sg$sg-data.jld2\")[\"stable_count\"]\n",
    "sg10_data = vec(sum(hcat([x[1:3] for x in loaded_data[(sg, 2, \"te\")]* 100 ./ 10000][2:end]...), dims=2))\n",
    "sg = 13\n",
    "mode = \"te\"\n",
    "loaded_data = load(\"sg$sg-data.jld2\")[\"stable_count\"]\n",
    "sg13_data = vec(sum(hcat([x[1:3] for x in loaded_data[(sg, 2, \"te\")]* 100 ./ 10000][2:end]...), dims=2))\n",
    "sg = 16\n",
    "mode = \"te\"\n",
    "loaded_data = load(\"sg$sg-data.jld2\")[\"stable_count\"]\n",
    "sg16_data = vec(sum(hcat([x[1:3] for x in loaded_data[(sg, 2, \"te\")]* 100 ./ 10000][2:end]...), dims=2))\n",
    "b_data = [sg2_data..., sg10_data..., sg13_data..., sg16_data...];"
   ]
  },
  {
   "cell_type": "code",
   "execution_count": 11,
   "metadata": {},
   "outputs": [
    {
     "data": {
      "image/png": "[encoded data removed]",
      "text/plain": [
       "Figure(PyObject <Figure size 640x480 with 1 Axes>)"
      ]
     },
     "metadata": {},
     "output_type": "display_data"
    }
   ],
   "source": [
    "bar(1:12, b_data)\n",
    "ylim(0, 80);\n",
    "#savefig(\"TRBrokenBands.pdf\");"
   ]
  },
  {
   "cell_type": "code",
   "execution_count": 162,
   "metadata": {},
   "outputs": [],
   "source": [
    "@assert b_data[[1, 4, 7, 10]] == g_data[3:4:end]"
   ]
  },
  {
   "cell_type": "code",
   "execution_count": 12,
   "metadata": {},
   "outputs": [
    {
     "name": "stdout",
     "output_type": "stream",
     "text": [
      "1.178\n",
      "1.314\n",
      "1.446\n",
      "1.522\n",
      "2.078\n",
      "1.958\n",
      "0.02\n",
      "0.213\n",
      "1.139\n",
      "0.882\n",
      "2.199\n",
      "2.078\n"
     ]
    }
   ],
   "source": [
    "bar_height = 2.347 # Total bar height (on lhs of figure)\n",
    "bar_top_percentage = 80 # Highest percentage marked on the figure\n",
    "for data in b_data\n",
    "    println(round((data/bar_top_percentage)*bar_height, digits=3))\n",
    "end"
   ]
  }
 ],
 "metadata": {
  "kernelspec": {
   "display_name": "Julia 1.7 Kernel 1.7.2",
   "language": "julia",
   "name": "julia-1.7-kernel-1.7"
  },
  "language_info": {
   "file_extension": ".jl",
   "mimetype": "application/julia",
   "name": "julia",
   "version": "1.7.2"
  },
  "latex_envs": {
   "LaTeX_envs_menu_present": true,
   "autoclose": false,
   "autocomplete": true,
   "bibliofile": "biblio.bib",
   "cite_by": "apalike",
   "current_citInitial": 1,
   "eqLabelWithNumbers": true,
   "eqNumInitial": 1,
   "hotkeys": {
    "equation": "Ctrl-E",
    "itemize": "Ctrl-I"
   },
   "labels_anchors": false,
   "latex_user_defs": false,
   "report_style_numbering": false,
   "user_envs_cfg": false
  },
  "toc": {
   "base_numbering": 1,
   "nav_menu": {},
   "number_sections": true,
   "sideBar": true,
   "skip_h1_title": false,
   "title_cell": "Table of Contents",
   "title_sidebar": "Contents",
   "toc_cell": false,
   "toc_position": {},
   "toc_section_display": true,
   "toc_window_display": false
  },
  "varInspector": {
   "cols": {
    "lenName": 16,
    "lenType": 16,
    "lenVar": 40
   },
   "kernels_config": {
    "python": {
     "delete_cmd_postfix": "",
     "delete_cmd_prefix": "del ",
     "library": "var_list.py",
     "varRefreshCmd": "print(var_dic_list())"
    },
    "r": {
     "delete_cmd_postfix": ") ",
     "delete_cmd_prefix": "rm(",
     "library": "var_list.r",
     "varRefreshCmd": "cat(var_dic_list()) "
    }
   },
   "types_to_exclude": [
    "module",
    "function",
    "builtin_function_or_method",
    "instance",
    "_Feature"
   ],
   "window_display": false
  }
 },
 "nbformat": 4,
 "nbformat_minor": 2
}
