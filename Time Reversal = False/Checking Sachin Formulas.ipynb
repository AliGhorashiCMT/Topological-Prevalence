{
 "cells": [
  {
   "cell_type": "code",
   "execution_count": 2,
   "metadata": {},
   "outputs": [],
   "source": [
    "using Crystalline, MPBUtils, SymmetryBases"
   ]
  },
  {
   "cell_type": "code",
   "execution_count": 83,
   "metadata": {},
   "outputs": [
    {
     "data": {
      "text/plain": [
       "find_diff"
      ]
     },
     "execution_count": 83,
     "metadata": {},
     "output_type": "execute_result"
    }
   ],
   "source": [
    "\"\"\"\n",
    "Returns the difference in the number of bands in a certain representation at one k point and the number of bands in a certain representation \n",
    "at another k point.\n",
    "\"\"\"\n",
    "function find_diff(n::Vector{<:Integer}, irlabs::Vector{<:AbstractString}, k1labs::Vector{<:AbstractString},\n",
    "    k2labs::Vector{<:AbstractString})\n",
    "    \n",
    "    k1_idxs = findall(x-> ∈(x, k1labs), irlabs)\n",
    "    k2_idxs = findall(x-> ∈(x, k2labs), irlabs)\n",
    " \n",
    "    return sum(n[k1_idxs]) - sum(n[k2_idxs])\n",
    "end"
   ]
  },
  {
   "cell_type": "code",
   "execution_count": 85,
   "metadata": {},
   "outputs": [
    {
     "data": {
      "text/plain": [
       "corner_c6_tr (generic function with 1 method)"
      ]
     },
     "execution_count": 85,
     "metadata": {},
     "output_type": "execute_result"
    }
   ],
   "source": [
    "corner_c3(x::Real, y::Real, z::Real) =  mod(1/3*(x+y-z), 1)\n",
    "corner_c4(x::Real, y::Real, z::Real, w::Real) =  mod(1/4*(x+2y+3/2*z+3/2*w), 1)\n",
    "corner_c6(x::Real, y::Real) =  mod(1/4*x+2/3*y, 1)\n",
    "corner_c6_tr(x1::Real, x2::Real) =  mod(1/4*x1 + 2/3*x2, 1)"
   ]
  },
  {
   "cell_type": "code",
   "execution_count": 86,
   "metadata": {},
   "outputs": [
    {
     "data": {
      "text/plain": [
       "corner_sg16_tr (generic function with 2 methods)"
      ]
     },
     "execution_count": 86,
     "metadata": {},
     "output_type": "execute_result"
    }
   ],
   "source": [
    "function corner_sg13(n::Vector{<:Integer}, irlabs::Vector{<:AbstractString}, wyckoff::WyckoffPosition{2}=WyckoffPosition(1, 'a', RVec([0, 0])))\n",
    "    diffK1 = find_diff(n, irlabs, [\"K₁\"],  [\"Γ₁\"])\n",
    "    diffK2 = find_diff(n, irlabs, [\"K₂\"],  [\"Γ₂\"])\n",
    "    diffKA1 = find_diff(n, irlabs, [\"KA₁\"],  [\"Γ₁\"])\n",
    "    corner_c3(diffK1, diffK2, diffKA1)\n",
    "end\n",
    "\n",
    "function corner_sg10(n::Vector{<:Integer}, irlabs::Vector{<:AbstractString}, wyckoff::WyckoffPosition{2}=WyckoffPosition(1, 'a', RVec([0, 0])))\n",
    "    diffX = find_diff(n, irlabs, [\"X₁\"],  [\"Γ₁\", \"Γ₂\"])\n",
    "    diffM1 = find_diff(n, irlabs, [\"M₁\"],  [\"Γ₁\"])\n",
    "    diffM2 = find_diff(n, irlabs, [\"M₃\"],  [\"Γ₃\"])\n",
    "    diffM4 = find_diff(n, irlabs, [\"M₄\"],  [\"Γ₄\"])\n",
    "    corner_c4(diffX, diffM1, diffM2, diffM4)\n",
    "end\n",
    "\n",
    "function corner_sg16(n::Vector{<:Integer}, irlabs::Vector{<:AbstractString}, wyckoff::WyckoffPosition{2}=WyckoffPosition(1, 'a', RVec([0, 0])))\n",
    "    diffM = find_diff(n, irlabs, [\"M₁\"],  [\"Γ₁\", \"Γ₃\", \"Γ₅\"])\n",
    "    diffK = find_diff(n, irlabs, [\"K₁\"],  [\"Γ₁\", \"Γ₂\"])\n",
    "    corner_c6(diffM, diffK)\n",
    "end\n",
    "\n",
    "function corner_sg16_tr(n::Vector{<:Integer}, irlabs::Vector{<:AbstractString}, wyckoff::WyckoffPosition{2}=WyckoffPosition(1, 'a', RVec([0, 0])))\n",
    "    diff2 = find_diff(n, irlabs, [\"K₁\"],  [\"Γ₁\",  \"Γ₂\"])\n",
    "    diff1 = find_diff(n, irlabs, [\"M₁\"],  [\"Γ₁\"])\n",
    "    diff11 = 2*find_diff(n, irlabs, [\"\"],  [\"Γ₃Γ₅\"])\n",
    "    return corner_c6_tr(diff1+diff11, diff2)\n",
    "end"
   ]
  },
  {
   "cell_type": "code",
   "execution_count": 119,
   "metadata": {},
   "outputs": [
    {
     "name": "stdout",
     "output_type": "stream",
     "text": [
      "Wyckoff position: 3c with 3 bands and charge: 0.5\n",
      "Wyckoff position: 3c with 3 bands and charge: 0.5\n",
      "Wyckoff position: 2b with 2 bands and charge: 0.6666666666666667\n",
      "Wyckoff position: 2b with 2 bands and charge: 0.6666666666666666\n",
      "Wyckoff position: 2b with 2 bands and charge: 0.6666666666666666\n",
      "Wyckoff position: 1a with 1 bands and charge: 0.0\n",
      "Wyckoff position: 1a with 1 bands and charge: 0.0\n",
      "Wyckoff position: 1a with 1 bands and charge: 0.0\n",
      "Wyckoff position: 1a with 1 bands and charge: 0.0\n",
      "Wyckoff position: 1a with 1 bands and charge: 0.0\n",
      "Wyckoff position: 1a with 1 bands and charge: 0.0\n"
     ]
    }
   ],
   "source": [
    "#Six fold symmetry \n",
    "brs = bandreps(16, 2, timereversal=false);\n",
    "brs_tr = bandreps(16, 2);\n",
    "for br in brs\n",
    "    println(\"Wyckoff position: \", br.wyckpos, \" \", \"with \", dim(br), \" bands and charge: \",  corner_sg16(br.irvec, brs.irlabs))\n",
    "end"
   ]
  },
  {
   "cell_type": "code",
   "execution_count": 121,
   "metadata": {},
   "outputs": [
    {
     "name": "stdout",
     "output_type": "stream",
     "text": [
      "Wyckoff position: 3c with 3 bands and charge: 0.5\n",
      "Wyckoff position: 3c with 3 bands and charge: 0.5\n",
      "Wyckoff position: 2b with 2 bands and charge: 0.6666666666666667\n",
      "Wyckoff position: 2b with 4 bands and charge: 0.33333333333333326\n",
      "Wyckoff position: 1a with 1 bands and charge: 0.0\n",
      "Wyckoff position: 1a with 1 bands and charge: 0.0\n",
      "Wyckoff position: 1a with 2 bands and charge: 0.0\n",
      "Wyckoff position: 1a with 2 bands and charge: 0.0\n"
     ]
    }
   ],
   "source": [
    "#Six fold symmetry \n",
    "for br in brs_tr\n",
    "    println(\"Wyckoff position: \", br.wyckpos, \" \", \"with \", dim(br), \" bands and charge: \",  corner_sg16_tr(br.irvec, brs_tr.irlabs))\n",
    "end"
   ]
  },
  {
   "cell_type": "code",
   "execution_count": 124,
   "metadata": {},
   "outputs": [
    {
     "name": "stdout",
     "output_type": "stream",
     "text": [
      "Wyckoff position: 2c with 2 bands and charge: 0.0\n",
      "Wyckoff position: 2c with 2 bands and charge: 0.0\n",
      "Wyckoff position: 1b with 1 bands and charge: 0.25\n",
      "Wyckoff position: 1b with 1 bands and charge: 0.25\n",
      "Wyckoff position: 1b with 1 bands and charge: 0.25\n",
      "Wyckoff position: 1b with 1 bands and charge: 0.25\n",
      "Wyckoff position: 1a with 1 bands and charge: 0.0\n",
      "Wyckoff position: 1a with 1 bands and charge: 0.0\n",
      "Wyckoff position: 1a with 1 bands and charge: 0.0\n",
      "Wyckoff position: 1a with 1 bands and charge: 0.0\n"
     ]
    }
   ],
   "source": [
    "brs = bandreps(10, 2, timereversal=false);\n",
    "for br in brs\n",
    "    println(\"Wyckoff position: \", br.wyckpos, \" \", \"with \", dim(br), \" bands and charge: \",  corner_sg10(br.irvec, brs.irlabs))\n",
    "end"
   ]
  },
  {
   "cell_type": "code",
   "execution_count": 127,
   "metadata": {},
   "outputs": [
    {
     "name": "stdout",
     "output_type": "stream",
     "text": [
      "Wyckoff position: 1c with 1 bands and charge: 0.0\n",
      "Wyckoff position: 1c with 1 bands and charge: 0.0\n",
      "Wyckoff position: 1c with 1 bands and charge: 0.0\n",
      "Wyckoff position: 1b with 1 bands and charge: 0.3333333333333333\n",
      "Wyckoff position: 1b with 1 bands and charge: 0.33333333333333337\n",
      "Wyckoff position: 1b with 1 bands and charge: 0.3333333333333333\n",
      "Wyckoff position: 1a with 1 bands and charge: 0.0\n",
      "Wyckoff position: 1a with 1 bands and charge: 0.0\n",
      "Wyckoff position: 1a with 1 bands and charge: 0.0\n"
     ]
    }
   ],
   "source": [
    "brs = bandreps(13, 2, timereversal=false);\n",
    "for br in brs\n",
    "    println(\"Wyckoff position: \", br.wyckpos, \" \", \"with \", dim(br), \" bands and charge: \",  corner_sg13(br.irvec, brs.irlabs))\n",
    "end"
   ]
  }
 ],
 "metadata": {
  "kernelspec": {
   "display_name": "Julia 1.7 Kernel 1.7.2",
   "language": "julia",
   "name": "julia-1.7-kernel-1.7"
  },
  "language_info": {
   "file_extension": ".jl",
   "mimetype": "application/julia",
   "name": "julia",
   "version": "1.7.2"
  },
  "latex_envs": {
   "LaTeX_envs_menu_present": true,
   "autoclose": false,
   "autocomplete": true,
   "bibliofile": "biblio.bib",
   "cite_by": "apalike",
   "current_citInitial": 1,
   "eqLabelWithNumbers": true,
   "eqNumInitial": 1,
   "hotkeys": {
    "equation": "Ctrl-E",
    "itemize": "Ctrl-I"
   },
   "labels_anchors": false,
   "latex_user_defs": false,
   "report_style_numbering": false,
   "user_envs_cfg": false
  },
  "toc": {
   "base_numbering": 1,
   "nav_menu": {},
   "number_sections": true,
   "sideBar": true,
   "skip_h1_title": false,
   "title_cell": "Table of Contents",
   "title_sidebar": "Contents",
   "toc_cell": false,
   "toc_position": {},
   "toc_section_display": true,
   "toc_window_display": false
  },
  "varInspector": {
   "cols": {
    "lenName": 16,
    "lenType": 16,
    "lenVar": 40
   },
   "kernels_config": {
    "python": {
     "delete_cmd_postfix": "",
     "delete_cmd_prefix": "del ",
     "library": "var_list.py",
     "varRefreshCmd": "print(var_dic_list())"
    },
    "r": {
     "delete_cmd_postfix": ") ",
     "delete_cmd_prefix": "rm(",
     "library": "var_list.r",
     "varRefreshCmd": "cat(var_dic_list()) "
    }
   },
   "types_to_exclude": [
    "module",
    "function",
    "builtin_function_or_method",
    "instance",
    "_Feature"
   ],
   "window_display": false
  }
 },
 "nbformat": 4,
 "nbformat_minor": 2
}
